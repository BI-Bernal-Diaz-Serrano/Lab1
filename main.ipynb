{
 "cells": [
  {
   "cell_type": "markdown",
   "metadata": {},
   "source": [
    "## 1. Carga de librerías necesarias para implementación"
   ]
  },
  {
   "cell_type": "code",
   "execution_count": 356,
   "metadata": {},
   "outputs": [
    {
     "name": "stdout",
     "output_type": "stream",
     "text": [
      "c:\\Users\\User\\Lab1\n"
     ]
    }
   ],
   "source": [
    "import sklearn\n",
    "import pandas as pd\n",
    "import numpy as np\n",
    "import matplotlib.pyplot as plt\n",
    "import seaborn as sns; sns.set()  # for plot styling\n",
    "from sklearn.preprocessing import LabelEncoder\n",
    "\n",
    "from sklearn.cluster import KMeans\n",
    "from sklearn.metrics import silhouette_samples, silhouette_score\n",
    "from sklearn.preprocessing import MinMaxScaler\n",
    "from sklearn.preprocessing import StandardScaler\n",
    "from sklearn.preprocessing import OneHotEncoder\n",
    "\n",
    "from matplotlib import cm\n",
    "from mpl_toolkits.mplot3d import Axes3D # for 3D plots\n",
    "\n",
    "import numpy as np\n",
    "from sklearn.cluster import DBSCAN\n",
    "from sklearn.preprocessing import StandardScaler\n",
    "import matplotlib.pyplot as plt\n",
    "import os\n",
    "print(os.getcwd()) # dice donde cree que es el repositorio donde esta trabajando para hacer el path relativo funcional"
   ]
  },
  {
   "cell_type": "markdown",
   "metadata": {},
   "source": [
    "## 2. Cargar los datos"
   ]
  },
  {
   "cell_type": "code",
   "execution_count": 357,
   "metadata": {},
   "outputs": [],
   "source": [
    "df_movies = pd.read_csv('data/MovieAlpes_data.csv', sep=';', encoding='utf-8')\n",
    "df_algoritmo2=pd.read_csv('data/MovieAlpes_data.csv', sep=';', encoding='utf-8')"
   ]
  },
  {
   "cell_type": "markdown",
   "metadata": {},
   "source": [
    "## 3. Entendimiento de los datos "
   ]
  },
  {
   "cell_type": "markdown",
   "metadata": {},
   "source": [
    "### 3.1. Perfilamiento de datos"
   ]
  },
  {
   "cell_type": "code",
   "execution_count": 358,
   "metadata": {},
   "outputs": [
    {
     "data": {
      "text/plain": [
       "(7471, 18)"
      ]
     },
     "execution_count": 358,
     "metadata": {},
     "output_type": "execute_result"
    }
   ],
   "source": [
    "df_movies.shape"
   ]
  },
  {
   "cell_type": "code",
   "execution_count": 359,
   "metadata": {},
   "outputs": [
    {
     "data": {
      "text/html": [
       "<div>\n",
       "<style scoped>\n",
       "    .dataframe tbody tr th:only-of-type {\n",
       "        vertical-align: middle;\n",
       "    }\n",
       "\n",
       "    .dataframe tbody tr th {\n",
       "        vertical-align: top;\n",
       "    }\n",
       "\n",
       "    .dataframe thead th {\n",
       "        text-align: right;\n",
       "    }\n",
       "</style>\n",
       "<table border=\"1\" class=\"dataframe\">\n",
       "  <thead>\n",
       "    <tr style=\"text-align: right;\">\n",
       "      <th></th>\n",
       "      <th>#</th>\n",
       "      <th>index</th>\n",
       "      <th>tconst</th>\n",
       "      <th>titleType</th>\n",
       "      <th>originalTitle</th>\n",
       "      <th>isAdult</th>\n",
       "      <th>startYear</th>\n",
       "      <th>runtimeMinutes</th>\n",
       "      <th>averageRating</th>\n",
       "      <th>numVotes</th>\n",
       "      <th>ordering</th>\n",
       "      <th>region</th>\n",
       "      <th>language</th>\n",
       "      <th>types</th>\n",
       "      <th>attributes</th>\n",
       "      <th>isOriginalTitle</th>\n",
       "      <th>main_genre</th>\n",
       "      <th>secondary_genre</th>\n",
       "    </tr>\n",
       "  </thead>\n",
       "  <tbody>\n",
       "    <tr>\n",
       "      <th>0</th>\n",
       "      <td>1</td>\n",
       "      <td>1</td>\n",
       "      <td>tt0103064</td>\n",
       "      <td>movie</td>\n",
       "      <td>Terminator 2: Judgment Day</td>\n",
       "      <td>0.0</td>\n",
       "      <td>1991.0</td>\n",
       "      <td>137</td>\n",
       "      <td>8.6</td>\n",
       "      <td>1128166.0</td>\n",
       "      <td>17.0</td>\n",
       "      <td>US</td>\n",
       "      <td>en</td>\n",
       "      <td>dvd</td>\n",
       "      <td>\\N</td>\n",
       "      <td>0.0</td>\n",
       "      <td>Action</td>\n",
       "      <td>Sci-Fi</td>\n",
       "    </tr>\n",
       "    <tr>\n",
       "      <th>1</th>\n",
       "      <td>10</td>\n",
       "      <td>17</td>\n",
       "      <td>tt0231050</td>\n",
       "      <td>tvSeries</td>\n",
       "      <td>ToransufÃ´mÃ¢: KÃ¢robotto</td>\n",
       "      <td>0.0</td>\n",
       "      <td>2000.0</td>\n",
       "      <td>22</td>\n",
       "      <td>6.6</td>\n",
       "      <td>577.0</td>\n",
       "      <td>16.0</td>\n",
       "      <td>US</td>\n",
       "      <td>en</td>\n",
       "      <td>alternative</td>\n",
       "      <td>\\N</td>\n",
       "      <td>0.0</td>\n",
       "      <td>Action</td>\n",
       "      <td>Adventure</td>\n",
       "    </tr>\n",
       "    <tr>\n",
       "      <th>2</th>\n",
       "      <td>13</td>\n",
       "      <td>23</td>\n",
       "      <td>tt0253474</td>\n",
       "      <td>movie</td>\n",
       "      <td>The Pianist</td>\n",
       "      <td>0.0</td>\n",
       "      <td>2002.0</td>\n",
       "      <td>150</td>\n",
       "      <td>8.5</td>\n",
       "      <td>860569.0</td>\n",
       "      <td>7.0</td>\n",
       "      <td>US</td>\n",
       "      <td>en</td>\n",
       "      <td>imdbDisplay</td>\n",
       "      <td>\\N</td>\n",
       "      <td>0.0</td>\n",
       "      <td>Biography</td>\n",
       "      <td>Drama</td>\n",
       "    </tr>\n",
       "    <tr>\n",
       "      <th>3</th>\n",
       "      <td>21</td>\n",
       "      <td>55</td>\n",
       "      <td>tt0369339</td>\n",
       "      <td>movie</td>\n",
       "      <td>Collateral</td>\n",
       "      <td>0.0</td>\n",
       "      <td>2004.0</td>\n",
       "      <td>120</td>\n",
       "      <td>7.5</td>\n",
       "      <td>417391.0</td>\n",
       "      <td>6.0</td>\n",
       "      <td>US</td>\n",
       "      <td>en</td>\n",
       "      <td>imdbDisplay</td>\n",
       "      <td>\\N</td>\n",
       "      <td>0.0</td>\n",
       "      <td>Action</td>\n",
       "      <td>Crime</td>\n",
       "    </tr>\n",
       "    <tr>\n",
       "      <th>4</th>\n",
       "      <td>28</td>\n",
       "      <td>87</td>\n",
       "      <td>tt0439547</td>\n",
       "      <td>movie</td>\n",
       "      <td>2 Filhos de Francisco: A HistÃ³ria de ZezÃ© di...</td>\n",
       "      <td>0.0</td>\n",
       "      <td>2005.0</td>\n",
       "      <td>132</td>\n",
       "      <td>6.9</td>\n",
       "      <td>5946.0</td>\n",
       "      <td>5.0</td>\n",
       "      <td>US</td>\n",
       "      <td>en</td>\n",
       "      <td>imdbDisplay</td>\n",
       "      <td>\\N</td>\n",
       "      <td>0.0</td>\n",
       "      <td>Biography</td>\n",
       "      <td>Drama</td>\n",
       "    </tr>\n",
       "  </tbody>\n",
       "</table>\n",
       "</div>"
      ],
      "text/plain": [
       "    #  index     tconst titleType  \\\n",
       "0   1      1  tt0103064     movie   \n",
       "1  10     17  tt0231050  tvSeries   \n",
       "2  13     23  tt0253474     movie   \n",
       "3  21     55  tt0369339     movie   \n",
       "4  28     87  tt0439547     movie   \n",
       "\n",
       "                                       originalTitle  isAdult  startYear  \\\n",
       "0                         Terminator 2: Judgment Day      0.0     1991.0   \n",
       "1                          ToransufÃ´mÃ¢: KÃ¢robotto      0.0     2000.0   \n",
       "2                                        The Pianist      0.0     2002.0   \n",
       "3                                         Collateral      0.0     2004.0   \n",
       "4  2 Filhos de Francisco: A HistÃ³ria de ZezÃ© di...      0.0     2005.0   \n",
       "\n",
       "  runtimeMinutes  averageRating   numVotes  ordering region language  \\\n",
       "0            137            8.6  1128166.0      17.0     US       en   \n",
       "1             22            6.6      577.0      16.0     US       en   \n",
       "2            150            8.5   860569.0       7.0     US       en   \n",
       "3            120            7.5   417391.0       6.0     US       en   \n",
       "4            132            6.9     5946.0       5.0     US       en   \n",
       "\n",
       "         types attributes  isOriginalTitle main_genre secondary_genre  \n",
       "0          dvd         \\N              0.0     Action          Sci-Fi  \n",
       "1  alternative         \\N              0.0     Action       Adventure  \n",
       "2  imdbDisplay         \\N              0.0  Biography           Drama  \n",
       "3  imdbDisplay         \\N              0.0     Action           Crime  \n",
       "4  imdbDisplay         \\N              0.0  Biography           Drama  "
      ]
     },
     "execution_count": 359,
     "metadata": {},
     "output_type": "execute_result"
    }
   ],
   "source": [
    "df_movies.head()"
   ]
  },
  {
   "cell_type": "code",
   "execution_count": 360,
   "metadata": {},
   "outputs": [
    {
     "name": "stdout",
     "output_type": "stream",
     "text": [
      "<class 'pandas.core.frame.DataFrame'>\n",
      "RangeIndex: 7471 entries, 0 to 7470\n",
      "Data columns (total 18 columns):\n",
      " #   Column           Non-Null Count  Dtype  \n",
      "---  ------           --------------  -----  \n",
      " 0   #                7471 non-null   int64  \n",
      " 1   index            7471 non-null   int64  \n",
      " 2   tconst           7471 non-null   object \n",
      " 3   titleType        7471 non-null   object \n",
      " 4   originalTitle    7471 non-null   object \n",
      " 5   isAdult          7470 non-null   float64\n",
      " 6   startYear        7470 non-null   float64\n",
      " 7   runtimeMinutes   7470 non-null   object \n",
      " 8   averageRating    7470 non-null   float64\n",
      " 9   numVotes         7470 non-null   float64\n",
      " 10  ordering         7470 non-null   float64\n",
      " 11  region           7470 non-null   object \n",
      " 12  language         7470 non-null   object \n",
      " 13  types            7470 non-null   object \n",
      " 14  attributes       7470 non-null   object \n",
      " 15  isOriginalTitle  7470 non-null   float64\n",
      " 16  main_genre       7470 non-null   object \n",
      " 17  secondary_genre  7470 non-null   object \n",
      "dtypes: float64(6), int64(2), object(10)\n",
      "memory usage: 1.0+ MB\n"
     ]
    }
   ],
   "source": [
    "# Revisar las características de los datos: completitud y tipo de dat\n",
    "df_movies.info()"
   ]
  },
  {
   "cell_type": "code",
   "execution_count": 361,
   "metadata": {},
   "outputs": [
    {
     "data": {
      "text/html": [
       "<div>\n",
       "<style scoped>\n",
       "    .dataframe tbody tr th:only-of-type {\n",
       "        vertical-align: middle;\n",
       "    }\n",
       "\n",
       "    .dataframe tbody tr th {\n",
       "        vertical-align: top;\n",
       "    }\n",
       "\n",
       "    .dataframe thead th {\n",
       "        text-align: right;\n",
       "    }\n",
       "</style>\n",
       "<table border=\"1\" class=\"dataframe\">\n",
       "  <thead>\n",
       "    <tr style=\"text-align: right;\">\n",
       "      <th></th>\n",
       "      <th>#</th>\n",
       "      <th>index</th>\n",
       "      <th>isAdult</th>\n",
       "      <th>startYear</th>\n",
       "      <th>averageRating</th>\n",
       "      <th>numVotes</th>\n",
       "      <th>ordering</th>\n",
       "      <th>isOriginalTitle</th>\n",
       "    </tr>\n",
       "  </thead>\n",
       "  <tbody>\n",
       "    <tr>\n",
       "      <th>count</th>\n",
       "      <td>7471.000000</td>\n",
       "      <td>7471.000000</td>\n",
       "      <td>7470.0</td>\n",
       "      <td>7470.000000</td>\n",
       "      <td>7470.000000</td>\n",
       "      <td>7.470000e+03</td>\n",
       "      <td>7470.000000</td>\n",
       "      <td>7470.0</td>\n",
       "    </tr>\n",
       "    <tr>\n",
       "      <th>mean</th>\n",
       "      <td>4043.482666</td>\n",
       "      <td>5440.458439</td>\n",
       "      <td>0.0</td>\n",
       "      <td>2013.157296</td>\n",
       "      <td>7.475676</td>\n",
       "      <td>7.282830e+04</td>\n",
       "      <td>16.567604</td>\n",
       "      <td>0.0</td>\n",
       "    </tr>\n",
       "    <tr>\n",
       "      <th>std</th>\n",
       "      <td>2192.753689</td>\n",
       "      <td>2752.820924</td>\n",
       "      <td>0.0</td>\n",
       "      <td>6.979151</td>\n",
       "      <td>2.771444</td>\n",
       "      <td>1.640233e+05</td>\n",
       "      <td>12.761147</td>\n",
       "      <td>0.0</td>\n",
       "    </tr>\n",
       "    <tr>\n",
       "      <th>min</th>\n",
       "      <td>1.000000</td>\n",
       "      <td>1.000000</td>\n",
       "      <td>0.0</td>\n",
       "      <td>1990.000000</td>\n",
       "      <td>6.500000</td>\n",
       "      <td>1.000000e+01</td>\n",
       "      <td>1.000000</td>\n",
       "      <td>0.0</td>\n",
       "    </tr>\n",
       "    <tr>\n",
       "      <th>25%</th>\n",
       "      <td>2152.500000</td>\n",
       "      <td>3073.500000</td>\n",
       "      <td>0.0</td>\n",
       "      <td>2008.000000</td>\n",
       "      <td>6.900000</td>\n",
       "      <td>6.265250e+03</td>\n",
       "      <td>6.000000</td>\n",
       "      <td>0.0</td>\n",
       "    </tr>\n",
       "    <tr>\n",
       "      <th>50%</th>\n",
       "      <td>4033.000000</td>\n",
       "      <td>5421.000000</td>\n",
       "      <td>0.0</td>\n",
       "      <td>2015.000000</td>\n",
       "      <td>7.300000</td>\n",
       "      <td>1.527900e+04</td>\n",
       "      <td>14.000000</td>\n",
       "      <td>0.0</td>\n",
       "    </tr>\n",
       "    <tr>\n",
       "      <th>75%</th>\n",
       "      <td>5914.500000</td>\n",
       "      <td>7641.500000</td>\n",
       "      <td>0.0</td>\n",
       "      <td>2019.000000</td>\n",
       "      <td>7.800000</td>\n",
       "      <td>5.641975e+04</td>\n",
       "      <td>24.000000</td>\n",
       "      <td>0.0</td>\n",
       "    </tr>\n",
       "    <tr>\n",
       "      <th>max</th>\n",
       "      <td>7849.000000</td>\n",
       "      <td>10274.000000</td>\n",
       "      <td>0.0</td>\n",
       "      <td>2023.000000</td>\n",
       "      <td>92.000000</td>\n",
       "      <td>2.197234e+06</td>\n",
       "      <td>119.000000</td>\n",
       "      <td>0.0</td>\n",
       "    </tr>\n",
       "  </tbody>\n",
       "</table>\n",
       "</div>"
      ],
      "text/plain": [
       "                 #         index  isAdult    startYear  averageRating  \\\n",
       "count  7471.000000   7471.000000   7470.0  7470.000000    7470.000000   \n",
       "mean   4043.482666   5440.458439      0.0  2013.157296       7.475676   \n",
       "std    2192.753689   2752.820924      0.0     6.979151       2.771444   \n",
       "min       1.000000      1.000000      0.0  1990.000000       6.500000   \n",
       "25%    2152.500000   3073.500000      0.0  2008.000000       6.900000   \n",
       "50%    4033.000000   5421.000000      0.0  2015.000000       7.300000   \n",
       "75%    5914.500000   7641.500000      0.0  2019.000000       7.800000   \n",
       "max    7849.000000  10274.000000      0.0  2023.000000      92.000000   \n",
       "\n",
       "           numVotes     ordering  isOriginalTitle  \n",
       "count  7.470000e+03  7470.000000           7470.0  \n",
       "mean   7.282830e+04    16.567604              0.0  \n",
       "std    1.640233e+05    12.761147              0.0  \n",
       "min    1.000000e+01     1.000000              0.0  \n",
       "25%    6.265250e+03     6.000000              0.0  \n",
       "50%    1.527900e+04    14.000000              0.0  \n",
       "75%    5.641975e+04    24.000000              0.0  \n",
       "max    2.197234e+06   119.000000              0.0  "
      ]
     },
     "execution_count": 361,
     "metadata": {},
     "output_type": "execute_result"
    }
   ],
   "source": [
    "# Resumen de los estadisticos de las variables numéricas\n",
    "df_movies.describe()"
   ]
  },
  {
   "cell_type": "code",
   "execution_count": 362,
   "metadata": {},
   "outputs": [
    {
     "data": {
      "image/png": "[encoded data removed]",
      "text/plain": [
       "<Figure size 1440x576 with 1 Axes>"
      ]
     },
     "metadata": {},
     "output_type": "display_data"
    }
   ],
   "source": [
    "#Visualización de todas las variables numéricas\n",
    "fig=plt.figure(figsize=(20,8))\n",
    "ax = sns.boxplot(data=df_movies, orient=\"v\")"
   ]
  },
  {
   "cell_type": "code",
   "execution_count": 363,
   "metadata": {},
   "outputs": [
    {
     "name": "stdout",
     "output_type": "stream",
     "text": [
      "Columnas con tipo de dato 'float': Index(['isAdult', 'startYear', 'averageRating', 'numVotes', 'ordering',\n",
      "       'isOriginalTitle'],\n",
      "      dtype='object')\n",
      "Columnas con tipo de dato 'int64': Index(['#', 'index'], dtype='object')\n"
     ]
    }
   ],
   "source": [
    "#Separación de las variables float de las int\n",
    "name_cols_float = df_movies.select_dtypes(include = ['float']).columns\n",
    "print(\"Columnas con tipo de dato 'float':\", name_cols_float)\n",
    "\n",
    "name_cols_int = df_movies.select_dtypes(include = ['int64']).columns\n",
    "print(\"Columnas con tipo de dato 'int64':\", name_cols_int)\n"
   ]
  },
  {
   "cell_type": "code",
   "execution_count": 364,
   "metadata": {},
   "outputs": [
    {
     "data": {
      "image/png": "[encoded data removed]",
      "text/plain": [
       "<Figure size 1440x576 with 1 Axes>"
      ]
     },
     "metadata": {},
     "output_type": "display_data"
    }
   ],
   "source": [
    "#Visualización de todas las variables numéricas de tipo Float\n",
    "fig=plt.figure(figsize=(20,8))\n",
    "ax = sns.boxplot(data=df_movies[name_cols_float], orient=\"v\")"
   ]
  },
  {
   "cell_type": "code",
   "execution_count": 365,
   "metadata": {},
   "outputs": [
    {
     "data": {
      "image/png": "[encoded data removed]",
      "text/plain": [
       "<Figure size 1440x576 with 1 Axes>"
      ]
     },
     "metadata": {},
     "output_type": "display_data"
    }
   ],
   "source": [
    "#Visualización de todas las variables numéricas de tipo int\n",
    "fig=plt.figure(figsize=(20,8))\n",
    "ax = sns.boxplot(data=df_movies[name_cols_int], orient=\"v\")"
   ]
  },
  {
   "cell_type": "code",
   "execution_count": 366,
   "metadata": {},
   "outputs": [
    {
     "name": "stdout",
     "output_type": "stream",
     "text": [
      "Columnas con tipo de dato 'object' (generalmente textuales): Index(['tconst', 'titleType', 'originalTitle', 'runtimeMinutes', 'region',\n",
      "       'language', 'types', 'attributes', 'main_genre', 'secondary_genre'],\n",
      "      dtype='object')\n"
     ]
    }
   ],
   "source": [
    "# Explorar las variables que no son numéricas\n",
    "name_cols_non_number = df_movies.select_dtypes(include = ['object']).columns\n",
    "print(\"Columnas con tipo de dato 'object' (generalmente textuales):\", name_cols_non_number)"
   ]
  },
  {
   "cell_type": "code",
   "execution_count": 367,
   "metadata": {},
   "outputs": [
    {
     "data": {
      "text/html": [
       "<div>\n",
       "<style scoped>\n",
       "    .dataframe tbody tr th:only-of-type {\n",
       "        vertical-align: middle;\n",
       "    }\n",
       "\n",
       "    .dataframe tbody tr th {\n",
       "        vertical-align: top;\n",
       "    }\n",
       "\n",
       "    .dataframe thead th {\n",
       "        text-align: right;\n",
       "    }\n",
       "</style>\n",
       "<table border=\"1\" class=\"dataframe\">\n",
       "  <thead>\n",
       "    <tr style=\"text-align: right;\">\n",
       "      <th></th>\n",
       "      <th>tconst</th>\n",
       "      <th>titleType</th>\n",
       "      <th>originalTitle</th>\n",
       "      <th>runtimeMinutes</th>\n",
       "      <th>region</th>\n",
       "      <th>language</th>\n",
       "      <th>types</th>\n",
       "      <th>attributes</th>\n",
       "      <th>main_genre</th>\n",
       "      <th>secondary_genre</th>\n",
       "    </tr>\n",
       "  </thead>\n",
       "  <tbody>\n",
       "    <tr>\n",
       "      <th>count</th>\n",
       "      <td>7471</td>\n",
       "      <td>7471</td>\n",
       "      <td>7471</td>\n",
       "      <td>7470</td>\n",
       "      <td>7470</td>\n",
       "      <td>7470</td>\n",
       "      <td>7470</td>\n",
       "      <td>7470</td>\n",
       "      <td>7470</td>\n",
       "      <td>7470</td>\n",
       "    </tr>\n",
       "    <tr>\n",
       "      <th>unique</th>\n",
       "      <td>7466</td>\n",
       "      <td>7</td>\n",
       "      <td>7290</td>\n",
       "      <td>362</td>\n",
       "      <td>4</td>\n",
       "      <td>1</td>\n",
       "      <td>5</td>\n",
       "      <td>1</td>\n",
       "      <td>22</td>\n",
       "      <td>26</td>\n",
       "    </tr>\n",
       "    <tr>\n",
       "      <th>top</th>\n",
       "      <td>tt0386741</td>\n",
       "      <td>movie</td>\n",
       "      <td>Wanted</td>\n",
       "      <td>60</td>\n",
       "      <td>IN</td>\n",
       "      <td>en</td>\n",
       "      <td>imdbDisplay</td>\n",
       "      <td>\\N</td>\n",
       "      <td>Drama</td>\n",
       "      <td>Drama</td>\n",
       "    </tr>\n",
       "    <tr>\n",
       "      <th>freq</th>\n",
       "      <td>2</td>\n",
       "      <td>4673</td>\n",
       "      <td>3</td>\n",
       "      <td>534</td>\n",
       "      <td>5590</td>\n",
       "      <td>7470</td>\n",
       "      <td>7395</td>\n",
       "      <td>7470</td>\n",
       "      <td>1767</td>\n",
       "      <td>2428</td>\n",
       "    </tr>\n",
       "  </tbody>\n",
       "</table>\n",
       "</div>"
      ],
      "text/plain": [
       "           tconst titleType originalTitle runtimeMinutes region language  \\\n",
       "count        7471      7471          7471           7470   7470     7470   \n",
       "unique       7466         7          7290            362      4        1   \n",
       "top     tt0386741     movie        Wanted             60     IN       en   \n",
       "freq            2      4673             3            534   5590     7470   \n",
       "\n",
       "              types attributes main_genre secondary_genre  \n",
       "count          7470       7470       7470            7470  \n",
       "unique            5          1         22              26  \n",
       "top     imdbDisplay         \\N      Drama           Drama  \n",
       "freq           7395       7470       1767            2428  "
      ]
     },
     "execution_count": 367,
     "metadata": {},
     "output_type": "execute_result"
    }
   ],
   "source": [
    "#Revisar el contenido de las variables que no son numéricas, en este caso son categóricas\n",
    "df_movies[name_cols_non_number].describe()"
   ]
  },
  {
   "cell_type": "code",
   "execution_count": 368,
   "metadata": {},
   "outputs": [
    {
     "name": "stdout",
     "output_type": "stream",
     "text": [
      "Distribución de valores para 'tconst':\n",
      "tt0386741     2\n",
      "tt12443930    2\n",
      "tt1535109     2\n",
      "tt0395843     2\n",
      "tt0390538     2\n",
      "Name: tconst, dtype: int64\n",
      "\n",
      "\n",
      "Distribución de valores para 'titleType':\n",
      "movie           4673\n",
      "tvSeries        2340\n",
      "tvMiniSeries     379\n",
      "tvMovie           70\n",
      "MOVIE              5\n",
      "Name: titleType, dtype: int64\n"
     ]
    },
    {
     "data": {
      "image/png": "[encoded data removed]",
      "text/plain": [
       "<Figure size 432x288 with 1 Axes>"
      ]
     },
     "metadata": {},
     "output_type": "display_data"
    },
    {
     "name": "stdout",
     "output_type": "stream",
     "text": [
      "\n",
      "\n",
      "Distribución de valores para 'originalTitle':\n",
      "Wanted                  3\n",
      "Beauty and the Beast    3\n",
      "Taken                   3\n",
      "Candy                   3\n",
      "Monster                 3\n",
      "Name: originalTitle, dtype: int64\n",
      "\n",
      "\n",
      "Distribución de valores para 'runtimeMinutes':\n",
      "60    534\n",
      "30    340\n",
      "45    184\n",
      "22    138\n",
      "43    114\n",
      "Name: runtimeMinutes, dtype: int64\n",
      "\n",
      "\n",
      "Distribución de valores para 'region':\n",
      "IN    5590\n",
      "CA    1782\n",
      "US      94\n",
      "GB       4\n",
      "Name: region, dtype: int64\n"
     ]
    },
    {
     "data": {
      "image/png": "[encoded data removed]",
      "text/plain": [
       "<Figure size 432x288 with 1 Axes>"
      ]
     },
     "metadata": {},
     "output_type": "display_data"
    },
    {
     "name": "stdout",
     "output_type": "stream",
     "text": [
      "\n",
      "\n",
      "Distribución de valores para 'language':\n",
      "en    7470\n",
      "Name: language, dtype: int64\n"
     ]
    },
    {
     "data": {
      "image/png": "[encoded data removed]",
      "text/plain": [
       "<Figure size 432x288 with 1 Axes>"
      ]
     },
     "metadata": {},
     "output_type": "display_data"
    },
    {
     "name": "stdout",
     "output_type": "stream",
     "text": [
      "\n",
      "\n",
      "Distribución de valores para 'types':\n",
      "imdbDisplay    7395\n",
      "working          38\n",
      "alternative      24\n",
      "festival         11\n",
      "dvd               2\n",
      "Name: types, dtype: int64\n"
     ]
    },
    {
     "data": {
      "image/png": "[encoded data removed]",
      "text/plain": [
       "<Figure size 432x288 with 1 Axes>"
      ]
     },
     "metadata": {},
     "output_type": "display_data"
    },
    {
     "name": "stdout",
     "output_type": "stream",
     "text": [
      "\n",
      "\n",
      "Distribución de valores para 'attributes':\n",
      "\\N    7470\n",
      "Name: attributes, dtype: int64\n"
     ]
    },
    {
     "data": {
      "image/png": "[encoded data removed]",
      "text/plain": [
       "<Figure size 432x288 with 1 Axes>"
      ]
     },
     "metadata": {},
     "output_type": "display_data"
    },
    {
     "name": "stdout",
     "output_type": "stream",
     "text": [
      "\n",
      "\n",
      "Distribución de valores para 'main_genre':\n",
      "Drama        1767\n",
      "Comedy       1615\n",
      "Action       1571\n",
      "Crime         867\n",
      "Biography     597\n",
      "Name: main_genre, dtype: int64\n"
     ]
    },
    {
     "data": {
      "image/png": "[encoded data removed]",
      "text/plain": [
       "<Figure size 432x288 with 1 Axes>"
      ]
     },
     "metadata": {},
     "output_type": "display_data"
    },
    {
     "name": "stdout",
     "output_type": "stream",
     "text": [
      "\n",
      "\n",
      "Distribución de valores para 'secondary_genre':\n",
      "Drama        2428\n",
      "No tiene     1052\n",
      "Crime         634\n",
      "Adventure     574\n",
      "Romance       453\n",
      "Name: secondary_genre, dtype: int64\n"
     ]
    },
    {
     "data": {
      "image/png": "[encoded data removed]",
      "text/plain": [
       "<Figure size 432x288 with 1 Axes>"
      ]
     },
     "metadata": {},
     "output_type": "display_data"
    },
    {
     "name": "stdout",
     "output_type": "stream",
     "text": [
      "\n",
      "\n"
     ]
    }
   ],
   "source": [
    "# Lista de columnas a analizar\n",
    "cols_to_analyze = ['tconst', 'titleType', 'originalTitle', 'runtimeMinutes', 'region', 'language', 'types', 'attributes', 'main_genre', 'secondary_genre']\n",
    "\n",
    "for col in cols_to_analyze:\n",
    "    print(f\"Distribución de valores para '{col}':\")\n",
    "    value_counts = df_movies[col].value_counts()\n",
    "    print(value_counts.head())  # Mostrar los 5 valores más comunes\n",
    "    \n",
    "    # Graficar si la columna tiene menos de 30 valores únicos para mejor visualización\n",
    "    if len(value_counts) < 30:\n",
    "        value_counts.plot(kind='bar')\n",
    "        plt.title(f\"Distribución de '{col}'\")\n",
    "        plt.ylabel('Número de películas')\n",
    "        plt.show()\n",
    "    \n",
    "    print(\"\\n\")  # Separación entre análisis\n"
   ]
  },
  {
   "cell_type": "code",
   "execution_count": 369,
   "metadata": {},
   "outputs": [
    {
     "data": {
      "image/png": "[encoded data removed]",
      "text/plain": [
       "<Figure size 1185.35x1080 with 8 Axes>"
      ]
     },
     "metadata": {},
     "output_type": "display_data"
    }
   ],
   "source": [
    "# Reemplaza '\\\\N' por NaN\n",
    "df_movies['runtimeMinutes'].replace('\\\\N', np.nan, inplace=True)\n",
    "\n",
    "# Convierte a float\n",
    "df_movies['runtimeMinutes'] = df_movies['runtimeMinutes'].astype(float)\n",
    "\n",
    "# Contamos cuántas películas hay por cada género\n",
    "genre_counts = df_movies['main_genre'].value_counts()\n",
    "\n",
    "# Filtramos los géneros que tienen, por ejemplo, más de 100 películas\n",
    "selected_genres = genre_counts[genre_counts > 100].index\n",
    "\n",
    "# Filtra el DataFrame para incluir solo los géneros seleccionados\n",
    "filtered_movies = df_movies[df_movies['main_genre'].isin(selected_genres)]\n",
    "\n",
    "# Grafica las distribuciones para estos géneros\n",
    "sns.displot(data=filtered_movies, x=\"runtimeMinutes\", hue=\"main_genre\", col=\"main_genre\", col_wrap=3, bins=30)\n",
    "plt.show()\n"
   ]
  },
  {
   "cell_type": "code",
   "execution_count": 370,
   "metadata": {},
   "outputs": [
    {
     "data": {
      "text/html": [
       "<div>\n",
       "<style scoped>\n",
       "    .dataframe tbody tr th:only-of-type {\n",
       "        vertical-align: middle;\n",
       "    }\n",
       "\n",
       "    .dataframe tbody tr th {\n",
       "        vertical-align: top;\n",
       "    }\n",
       "\n",
       "    .dataframe thead th {\n",
       "        text-align: right;\n",
       "    }\n",
       "</style>\n",
       "<table border=\"1\" class=\"dataframe\">\n",
       "  <thead>\n",
       "    <tr style=\"text-align: right;\">\n",
       "      <th></th>\n",
       "      <th>tconst</th>\n",
       "      <th>titleType</th>\n",
       "      <th>originalTitle</th>\n",
       "      <th>region</th>\n",
       "      <th>language</th>\n",
       "      <th>types</th>\n",
       "      <th>attributes</th>\n",
       "      <th>main_genre</th>\n",
       "      <th>secondary_genre</th>\n",
       "    </tr>\n",
       "  </thead>\n",
       "  <tbody>\n",
       "    <tr>\n",
       "      <th>154</th>\n",
       "      <td>tt0112471</td>\n",
       "      <td>movie</td>\n",
       "      <td>Before Sunrise</td>\n",
       "      <td>IN</td>\n",
       "      <td>en</td>\n",
       "      <td>imdbDisplay</td>\n",
       "      <td>\\N</td>\n",
       "      <td>Drama</td>\n",
       "      <td>Romance</td>\n",
       "    </tr>\n",
       "    <tr>\n",
       "      <th>1475</th>\n",
       "      <td>tt10482560</td>\n",
       "      <td>tvSeries</td>\n",
       "      <td>Kipo and the Age of Wonderbeasts</td>\n",
       "      <td>IN</td>\n",
       "      <td>en</td>\n",
       "      <td>imdbDisplay</td>\n",
       "      <td>\\N</td>\n",
       "      <td>Action</td>\n",
       "      <td>Adventure</td>\n",
       "    </tr>\n",
       "    <tr>\n",
       "      <th>1771</th>\n",
       "      <td>tt11600174</td>\n",
       "      <td>tvMiniSeries</td>\n",
       "      <td>The Pharmacist</td>\n",
       "      <td>IN</td>\n",
       "      <td>en</td>\n",
       "      <td>imdbDisplay</td>\n",
       "      <td>\\N</td>\n",
       "      <td>Crime</td>\n",
       "      <td>Documentary</td>\n",
       "    </tr>\n",
       "    <tr>\n",
       "      <th>6757</th>\n",
       "      <td>tt2006848</td>\n",
       "      <td>tvSeries</td>\n",
       "      <td>Bunheads</td>\n",
       "      <td>CA</td>\n",
       "      <td>en</td>\n",
       "      <td>imdbDisplay</td>\n",
       "      <td>\\N</td>\n",
       "      <td>Comedy</td>\n",
       "      <td>Drama</td>\n",
       "    </tr>\n",
       "    <tr>\n",
       "      <th>4178</th>\n",
       "      <td>tt4530422</td>\n",
       "      <td>movie</td>\n",
       "      <td>Overlord</td>\n",
       "      <td>IN</td>\n",
       "      <td>en</td>\n",
       "      <td>imdbDisplay</td>\n",
       "      <td>\\N</td>\n",
       "      <td>Action</td>\n",
       "      <td>Horror</td>\n",
       "    </tr>\n",
       "    <tr>\n",
       "      <th>74</th>\n",
       "      <td>tt7161312</td>\n",
       "      <td>tvSeries</td>\n",
       "      <td>Informer</td>\n",
       "      <td>US</td>\n",
       "      <td>en</td>\n",
       "      <td>imdbDisplay</td>\n",
       "      <td>\\N</td>\n",
       "      <td>Crime</td>\n",
       "      <td>Drama</td>\n",
       "    </tr>\n",
       "    <tr>\n",
       "      <th>6337</th>\n",
       "      <td>tt1029235</td>\n",
       "      <td>movie</td>\n",
       "      <td>Max Manus</td>\n",
       "      <td>CA</td>\n",
       "      <td>en</td>\n",
       "      <td>imdbDisplay</td>\n",
       "      <td>\\N</td>\n",
       "      <td>Action</td>\n",
       "      <td>Biography</td>\n",
       "    </tr>\n",
       "    <tr>\n",
       "      <th>3475</th>\n",
       "      <td>tt2402137</td>\n",
       "      <td>tvSeries</td>\n",
       "      <td>Legends</td>\n",
       "      <td>IN</td>\n",
       "      <td>en</td>\n",
       "      <td>imdbDisplay</td>\n",
       "      <td>\\N</td>\n",
       "      <td>Action</td>\n",
       "      <td>Crime</td>\n",
       "    </tr>\n",
       "    <tr>\n",
       "      <th>3510</th>\n",
       "      <td>tt2486678</td>\n",
       "      <td>movie</td>\n",
       "      <td>5 to 7</td>\n",
       "      <td>IN</td>\n",
       "      <td>en</td>\n",
       "      <td>imdbDisplay</td>\n",
       "      <td>\\N</td>\n",
       "      <td>Comedy</td>\n",
       "      <td>Drama</td>\n",
       "    </tr>\n",
       "    <tr>\n",
       "      <th>6087</th>\n",
       "      <td>tt0424430</td>\n",
       "      <td>movie</td>\n",
       "      <td>Sekai no chÃ»shin de, ai o sakebu</td>\n",
       "      <td>CA</td>\n",
       "      <td>en</td>\n",
       "      <td>imdbDisplay</td>\n",
       "      <td>\\N</td>\n",
       "      <td>Drama</td>\n",
       "      <td>Romance</td>\n",
       "    </tr>\n",
       "    <tr>\n",
       "      <th>2648</th>\n",
       "      <td>tt15565872</td>\n",
       "      <td>tvMiniSeries</td>\n",
       "      <td>A Spy Among Friends</td>\n",
       "      <td>IN</td>\n",
       "      <td>en</td>\n",
       "      <td>imdbDisplay</td>\n",
       "      <td>\\N</td>\n",
       "      <td>Drama</td>\n",
       "      <td>Thriller</td>\n",
       "    </tr>\n",
       "    <tr>\n",
       "      <th>5623</th>\n",
       "      <td>tt9660502</td>\n",
       "      <td>movie</td>\n",
       "      <td>Close</td>\n",
       "      <td>IN</td>\n",
       "      <td>en</td>\n",
       "      <td>imdbDisplay</td>\n",
       "      <td>\\N</td>\n",
       "      <td>Drama</td>\n",
       "      <td>No tiene</td>\n",
       "    </tr>\n",
       "    <tr>\n",
       "      <th>5371</th>\n",
       "      <td>tt8665634</td>\n",
       "      <td>movie</td>\n",
       "      <td>Qismat</td>\n",
       "      <td>IN</td>\n",
       "      <td>en</td>\n",
       "      <td>imdbDisplay</td>\n",
       "      <td>\\N</td>\n",
       "      <td>Drama</td>\n",
       "      <td>Romance</td>\n",
       "    </tr>\n",
       "    <tr>\n",
       "      <th>3009</th>\n",
       "      <td>tt1843287</td>\n",
       "      <td>movie</td>\n",
       "      <td>Like Someone in Love</td>\n",
       "      <td>IN</td>\n",
       "      <td>en</td>\n",
       "      <td>imdbDisplay</td>\n",
       "      <td>\\N</td>\n",
       "      <td>Drama</td>\n",
       "      <td>No tiene</td>\n",
       "    </tr>\n",
       "    <tr>\n",
       "      <th>6439</th>\n",
       "      <td>tt1190536</td>\n",
       "      <td>movie</td>\n",
       "      <td>Black Dynamite</td>\n",
       "      <td>CA</td>\n",
       "      <td>en</td>\n",
       "      <td>imdbDisplay</td>\n",
       "      <td>\\N</td>\n",
       "      <td>Action</td>\n",
       "      <td>Comedy</td>\n",
       "    </tr>\n",
       "  </tbody>\n",
       "</table>\n",
       "</div>"
      ],
      "text/plain": [
       "          tconst     titleType                      originalTitle region  \\\n",
       "154    tt0112471         movie                     Before Sunrise     IN   \n",
       "1475  tt10482560      tvSeries   Kipo and the Age of Wonderbeasts     IN   \n",
       "1771  tt11600174  tvMiniSeries                     The Pharmacist     IN   \n",
       "6757   tt2006848      tvSeries                           Bunheads     CA   \n",
       "4178   tt4530422         movie                           Overlord     IN   \n",
       "74     tt7161312      tvSeries                           Informer     US   \n",
       "6337   tt1029235         movie                          Max Manus     CA   \n",
       "3475   tt2402137      tvSeries                            Legends     IN   \n",
       "3510   tt2486678         movie                             5 to 7     IN   \n",
       "6087   tt0424430         movie  Sekai no chÃ»shin de, ai o sakebu     CA   \n",
       "2648  tt15565872  tvMiniSeries                A Spy Among Friends     IN   \n",
       "5623   tt9660502         movie                              Close     IN   \n",
       "5371   tt8665634         movie                             Qismat     IN   \n",
       "3009   tt1843287         movie               Like Someone in Love     IN   \n",
       "6439   tt1190536         movie                     Black Dynamite     CA   \n",
       "\n",
       "     language        types attributes main_genre secondary_genre  \n",
       "154        en  imdbDisplay         \\N      Drama         Romance  \n",
       "1475       en  imdbDisplay         \\N     Action       Adventure  \n",
       "1771       en  imdbDisplay         \\N      Crime     Documentary  \n",
       "6757       en  imdbDisplay         \\N     Comedy           Drama  \n",
       "4178       en  imdbDisplay         \\N     Action          Horror  \n",
       "74         en  imdbDisplay         \\N      Crime           Drama  \n",
       "6337       en  imdbDisplay         \\N     Action       Biography  \n",
       "3475       en  imdbDisplay         \\N     Action           Crime  \n",
       "3510       en  imdbDisplay         \\N     Comedy           Drama  \n",
       "6087       en  imdbDisplay         \\N      Drama         Romance  \n",
       "2648       en  imdbDisplay         \\N      Drama        Thriller  \n",
       "5623       en  imdbDisplay         \\N      Drama        No tiene  \n",
       "5371       en  imdbDisplay         \\N      Drama         Romance  \n",
       "3009       en  imdbDisplay         \\N      Drama        No tiene  \n",
       "6439       en  imdbDisplay         \\N     Action          Comedy  "
      ]
     },
     "execution_count": 370,
     "metadata": {},
     "output_type": "execute_result"
    }
   ],
   "source": [
    "# Selecciona las columnas de tipo 'object'\n",
    "name_cols_object = df_movies.select_dtypes(include=['object']).columns\n",
    "\n",
    "# Consulta una muestra de 15 registros de esas columnas\n",
    "df_movies[name_cols_object].sample(15)\n"
   ]
  },
  {
   "cell_type": "markdown",
   "metadata": {},
   "source": [
    "### 3.2. Análisis de calidad de datos\n"
   ]
  },
  {
   "cell_type": "markdown",
   "metadata": {},
   "source": [
    "### 3.2.1 Completitud - Análisis de valores nulos o vacíos\n"
   ]
  },
  {
   "cell_type": "code",
   "execution_count": 371,
   "metadata": {},
   "outputs": [
    {
     "data": {
      "text/plain": [
       "runtimeMinutes     1.325124\n",
       "secondary_genre    0.013385\n",
       "ordering           0.013385\n",
       "isAdult            0.013385\n",
       "startYear          0.013385\n",
       "main_genre         0.013385\n",
       "numVotes           0.013385\n",
       "averageRating      0.013385\n",
       "region             0.013385\n",
       "language           0.013385\n",
       "types              0.013385\n",
       "attributes         0.013385\n",
       "isOriginalTitle    0.013385\n",
       "originalTitle      0.000000\n",
       "titleType          0.000000\n",
       "tconst             0.000000\n",
       "index              0.000000\n",
       "#                  0.000000\n",
       "dtype: float64"
      ]
     },
     "execution_count": 371,
     "metadata": {},
     "output_type": "execute_result"
    }
   ],
   "source": [
    "# Cálculo de porcentaje de valores nulos por columna en df_movies\n",
    "((df_movies.isnull().sum() / df_movies.shape[0]) * 100).sort_values(ascending=False)\n"
   ]
  },
  {
   "cell_type": "markdown",
   "metadata": {},
   "source": [
    "En el DataFrame df_movies, la columna runtimeMinutes presenta un 1.325124% de valores nulos, lo que sugiere que hay algunas películas o series sin información sobre su duración. Por otro lado, las columnas numVotes, ordering, main_genre, isOriginalTitle, attributes, types, language, region, secondary_genre, averageRating, startYear y isAdult muestran un 0.013385% de valores nulos, indicando que raramente se carece de esta información en estas columnas. Las columnas index, originalTitle, titleType, tconst y # están completamente llenas sin ningún valor faltante. Con esto podemos concluir que en cuanto a completitud los datos tienen una muy buena calidad."
   ]
  },
  {
   "cell_type": "markdown",
   "metadata": {},
   "source": [
    "### 3.2.2 Unicidad"
   ]
  },
  {
   "cell_type": "code",
   "execution_count": 372,
   "metadata": {},
   "outputs": [
    {
     "name": "stdout",
     "output_type": "stream",
     "text": [
      "El número de registros duplicados en df_movies es: 6\n"
     ]
    }
   ],
   "source": [
    "duplicated_movies = df_movies.duplicated(keep=False).sum()\n",
    "print(f\"El número de registros duplicados en df_movies es: {duplicated_movies}\")"
   ]
  },
  {
   "cell_type": "markdown",
   "metadata": {},
   "source": [
    "A comparacion con el tamano total de los datos se puede ver que tienen muy pocos registros duplicados por lo que, aunque es importante eliminarlos para mejorar la calidad de los analisis, se podrian calificar los datos como muy buenos en cuanto a unicidad."
   ]
  },
  {
   "cell_type": "markdown",
   "metadata": {},
   "source": [
    "### 3.2.3 Consistencia\n"
   ]
  },
  {
   "cell_type": "code",
   "execution_count": 373,
   "metadata": {},
   "outputs": [
    {
     "name": "stdout",
     "output_type": "stream",
     "text": [
      "Valores para la columna 'tconst':\n",
      "tt0386741     2\n",
      "tt12443930    2\n",
      "tt1535109     2\n",
      "tt0395843     2\n",
      "tt0390538     2\n",
      "tt1258120     1\n",
      "tt15479704    1\n",
      "tt10075318    1\n",
      "tt13109952    1\n",
      "tt4655480     1\n",
      "Name: tconst, dtype: int64\n",
      "--------------------------------------------------\n"
     ]
    }
   ],
   "source": [
    "# Columna: tconst\n",
    "print(\"Valores para la columna 'tconst':\")\n",
    "print(df_movies['tconst'].value_counts().head(10))\n",
    "print(\"-\" * 50)\n"
   ]
  },
  {
   "cell_type": "code",
   "execution_count": 374,
   "metadata": {},
   "outputs": [
    {
     "name": "stdout",
     "output_type": "stream",
     "text": [
      "Valores para la columna 'titleType':\n",
      "movie           4673\n",
      "tvSeries        2340\n",
      "tvMiniSeries     379\n",
      "tvMovie           70\n",
      "MOVIE              5\n",
      "MOvie              3\n",
      "Movie              1\n",
      "Name: titleType, dtype: int64\n",
      "--------------------------------------------------\n"
     ]
    }
   ],
   "source": [
    "# Columna: titleType\n",
    "print(\"Valores para la columna 'titleType':\")\n",
    "print(df_movies['titleType'].value_counts().head(10))\n",
    "print(\"-\" * 50)"
   ]
  },
  {
   "cell_type": "code",
   "execution_count": 375,
   "metadata": {},
   "outputs": [
    {
     "name": "stdout",
     "output_type": "stream",
     "text": [
      "Valores para la columna 'originalTitle':\n",
      "Wanted                       3\n",
      "Beauty and the Beast         3\n",
      "Taken                        3\n",
      "Candy                        3\n",
      "Monster                      3\n",
      "Life                         3\n",
      "Limitless                    3\n",
      "Home                         3\n",
      "What We Do in the Shadows    2\n",
      "Don                          2\n",
      "Name: originalTitle, dtype: int64\n",
      "--------------------------------------------------\n"
     ]
    }
   ],
   "source": [
    "# Columna: originalTitle\n",
    "print(\"Valores para la columna 'originalTitle':\")\n",
    "print(df_movies['originalTitle'].value_counts().head(10))\n",
    "print(\"-\" * 50)"
   ]
  },
  {
   "cell_type": "code",
   "execution_count": 376,
   "metadata": {},
   "outputs": [
    {
     "name": "stdout",
     "output_type": "stream",
     "text": [
      "Valores para la columna 'runtimeMinutes':\n",
      "60.0     534\n",
      "30.0     340\n",
      "45.0     184\n",
      "22.0     138\n",
      "43.0     114\n",
      "90.0     112\n",
      "105.0    110\n",
      "42.0     108\n",
      "100.0    100\n",
      "106.0     99\n",
      "Name: runtimeMinutes, dtype: int64\n",
      "--------------------------------------------------\n"
     ]
    }
   ],
   "source": [
    "# Columna: runtimeMinutes\n",
    "print(\"Valores para la columna 'runtimeMinutes':\")\n",
    "print(df_movies['runtimeMinutes'].value_counts().head(10))\n",
    "print(\"-\" * 50)"
   ]
  },
  {
   "cell_type": "code",
   "execution_count": 377,
   "metadata": {},
   "outputs": [
    {
     "name": "stdout",
     "output_type": "stream",
     "text": [
      "Valores para la columna 'region':\n",
      "IN    5590\n",
      "CA    1782\n",
      "US      94\n",
      "GB       4\n",
      "Name: region, dtype: int64\n",
      "--------------------------------------------------\n"
     ]
    }
   ],
   "source": [
    "# Columna: region\n",
    "print(\"Valores para la columna 'region':\")\n",
    "print(df_movies['region'].value_counts().head(10))\n",
    "print(\"-\" * 50)"
   ]
  },
  {
   "cell_type": "code",
   "execution_count": 378,
   "metadata": {},
   "outputs": [
    {
     "name": "stdout",
     "output_type": "stream",
     "text": [
      "Valores para la columna 'language':\n",
      "en    7470\n",
      "Name: language, dtype: int64\n",
      "--------------------------------------------------\n"
     ]
    }
   ],
   "source": [
    "# Columna: language\n",
    "print(\"Valores para la columna 'language':\")\n",
    "print(df_movies['language'].value_counts().head(10))\n",
    "print(\"-\" * 50)"
   ]
  },
  {
   "cell_type": "code",
   "execution_count": 379,
   "metadata": {},
   "outputs": [
    {
     "name": "stdout",
     "output_type": "stream",
     "text": [
      "Valores para la columna 'types':\n",
      "imdbDisplay    7395\n",
      "working          38\n",
      "alternative      24\n",
      "festival         11\n",
      "dvd               2\n",
      "Name: types, dtype: int64\n",
      "--------------------------------------------------\n"
     ]
    }
   ],
   "source": [
    "# Columna: types\n",
    "print(\"Valores para la columna 'types':\")\n",
    "print(df_movies['types'].value_counts().head(10))\n",
    "print(\"-\" * 50)"
   ]
  },
  {
   "cell_type": "code",
   "execution_count": 380,
   "metadata": {},
   "outputs": [
    {
     "name": "stdout",
     "output_type": "stream",
     "text": [
      "Valores para la columna 'attributes':\n",
      "\\N    7470\n",
      "Name: attributes, dtype: int64\n",
      "--------------------------------------------------\n"
     ]
    }
   ],
   "source": [
    "# Columna: attributes\n",
    "print(\"Valores para la columna 'attributes':\")\n",
    "print(df_movies['attributes'].value_counts().head(10))\n",
    "print(\"-\" * 50)"
   ]
  },
  {
   "cell_type": "code",
   "execution_count": 381,
   "metadata": {},
   "outputs": [
    {
     "name": "stdout",
     "output_type": "stream",
     "text": [
      "Valores para la columna 'main_genre':\n",
      "Drama          1767\n",
      "Comedy         1615\n",
      "Action         1571\n",
      "Crime           867\n",
      "Biography       597\n",
      "Adventure       440\n",
      "Documentary     297\n",
      "Animation       144\n",
      "Horror           63\n",
      "Reality-TV       24\n",
      "Name: main_genre, dtype: int64\n",
      "--------------------------------------------------\n"
     ]
    }
   ],
   "source": [
    "# Columna: main_genre\n",
    "print(\"Valores para la columna 'main_genre':\")\n",
    "print(df_movies['main_genre'].value_counts().head(10))\n",
    "print(\"-\" * 50)"
   ]
  },
  {
   "cell_type": "code",
   "execution_count": 382,
   "metadata": {},
   "outputs": [
    {
     "name": "stdout",
     "output_type": "stream",
     "text": [
      "Valores para la columna 'secondary_genre':\n",
      "Drama          2428\n",
      "No tiene       1052\n",
      "Crime           634\n",
      "Adventure       574\n",
      "Romance         453\n",
      "Comedy          383\n",
      "Mystery         259\n",
      "Animation       224\n",
      "Thriller        209\n",
      "Documentary     200\n",
      "Name: secondary_genre, dtype: int64\n",
      "--------------------------------------------------\n"
     ]
    }
   ],
   "source": [
    "# Columna: secondary_genre\n",
    "print(\"Valores para la columna 'secondary_genre':\")\n",
    "print(df_movies['secondary_genre'].value_counts().head(10))\n",
    "print(\"-\" * 50)"
   ]
  },
  {
   "cell_type": "markdown",
   "metadata": {},
   "source": [
    "La columna tconst parece tener muy pocas repeticiones por lo que probablemente sea alguna referencia especial. Ahora bien, referiendonos a los datos podemos ver que la columna titleType sufre de problemas de consistencia con el nombramiento de movie. El resto de columnas parecen tener buena consistencia, sin embargo arreglar la columna de titleType mejorara los resultados de analisis al evitar problemas."
   ]
  },
  {
   "cell_type": "markdown",
   "metadata": {},
   "source": [
    "### 3.2.4 Validez\n"
   ]
  },
  {
   "cell_type": "markdown",
   "metadata": {},
   "source": [
    "Se verifica el valor de cada uno de los atributos del dataset."
   ]
  },
  {
   "cell_type": "code",
   "execution_count": 383,
   "metadata": {},
   "outputs": [
    {
     "data": {
      "text/html": [
       "<div>\n",
       "<style scoped>\n",
       "    .dataframe tbody tr th:only-of-type {\n",
       "        vertical-align: middle;\n",
       "    }\n",
       "\n",
       "    .dataframe tbody tr th {\n",
       "        vertical-align: top;\n",
       "    }\n",
       "\n",
       "    .dataframe thead th {\n",
       "        text-align: right;\n",
       "    }\n",
       "</style>\n",
       "<table border=\"1\" class=\"dataframe\">\n",
       "  <thead>\n",
       "    <tr style=\"text-align: right;\">\n",
       "      <th></th>\n",
       "      <th>#</th>\n",
       "      <th>index</th>\n",
       "      <th>isAdult</th>\n",
       "      <th>startYear</th>\n",
       "      <th>runtimeMinutes</th>\n",
       "      <th>averageRating</th>\n",
       "      <th>numVotes</th>\n",
       "      <th>ordering</th>\n",
       "      <th>isOriginalTitle</th>\n",
       "    </tr>\n",
       "  </thead>\n",
       "  <tbody>\n",
       "    <tr>\n",
       "      <th>count</th>\n",
       "      <td>7471.000000</td>\n",
       "      <td>7471.000000</td>\n",
       "      <td>7470.0</td>\n",
       "      <td>7470.000000</td>\n",
       "      <td>7372.000000</td>\n",
       "      <td>7470.000000</td>\n",
       "      <td>7.470000e+03</td>\n",
       "      <td>7470.000000</td>\n",
       "      <td>7470.0</td>\n",
       "    </tr>\n",
       "    <tr>\n",
       "      <th>mean</th>\n",
       "      <td>4043.482666</td>\n",
       "      <td>5440.458439</td>\n",
       "      <td>0.0</td>\n",
       "      <td>2013.157296</td>\n",
       "      <td>100.777130</td>\n",
       "      <td>7.475676</td>\n",
       "      <td>7.282830e+04</td>\n",
       "      <td>16.567604</td>\n",
       "      <td>0.0</td>\n",
       "    </tr>\n",
       "    <tr>\n",
       "      <th>std</th>\n",
       "      <td>2192.753689</td>\n",
       "      <td>2752.820924</td>\n",
       "      <td>0.0</td>\n",
       "      <td>6.979151</td>\n",
       "      <td>65.016795</td>\n",
       "      <td>2.771444</td>\n",
       "      <td>1.640233e+05</td>\n",
       "      <td>12.761147</td>\n",
       "      <td>0.0</td>\n",
       "    </tr>\n",
       "    <tr>\n",
       "      <th>min</th>\n",
       "      <td>1.000000</td>\n",
       "      <td>1.000000</td>\n",
       "      <td>0.0</td>\n",
       "      <td>1990.000000</td>\n",
       "      <td>3.000000</td>\n",
       "      <td>6.500000</td>\n",
       "      <td>1.000000e+01</td>\n",
       "      <td>1.000000</td>\n",
       "      <td>0.0</td>\n",
       "    </tr>\n",
       "    <tr>\n",
       "      <th>25%</th>\n",
       "      <td>2152.500000</td>\n",
       "      <td>3073.500000</td>\n",
       "      <td>0.0</td>\n",
       "      <td>2008.000000</td>\n",
       "      <td>60.000000</td>\n",
       "      <td>6.900000</td>\n",
       "      <td>6.265250e+03</td>\n",
       "      <td>6.000000</td>\n",
       "      <td>0.0</td>\n",
       "    </tr>\n",
       "    <tr>\n",
       "      <th>50%</th>\n",
       "      <td>4033.000000</td>\n",
       "      <td>5421.000000</td>\n",
       "      <td>0.0</td>\n",
       "      <td>2015.000000</td>\n",
       "      <td>101.000000</td>\n",
       "      <td>7.300000</td>\n",
       "      <td>1.527900e+04</td>\n",
       "      <td>14.000000</td>\n",
       "      <td>0.0</td>\n",
       "    </tr>\n",
       "    <tr>\n",
       "      <th>75%</th>\n",
       "      <td>5914.500000</td>\n",
       "      <td>7641.500000</td>\n",
       "      <td>0.0</td>\n",
       "      <td>2019.000000</td>\n",
       "      <td>122.000000</td>\n",
       "      <td>7.800000</td>\n",
       "      <td>5.641975e+04</td>\n",
       "      <td>24.000000</td>\n",
       "      <td>0.0</td>\n",
       "    </tr>\n",
       "    <tr>\n",
       "      <th>max</th>\n",
       "      <td>7849.000000</td>\n",
       "      <td>10274.000000</td>\n",
       "      <td>0.0</td>\n",
       "      <td>2023.000000</td>\n",
       "      <td>990.000000</td>\n",
       "      <td>92.000000</td>\n",
       "      <td>2.197234e+06</td>\n",
       "      <td>119.000000</td>\n",
       "      <td>0.0</td>\n",
       "    </tr>\n",
       "  </tbody>\n",
       "</table>\n",
       "</div>"
      ],
      "text/plain": [
       "                 #         index  isAdult    startYear  runtimeMinutes  \\\n",
       "count  7471.000000   7471.000000   7470.0  7470.000000     7372.000000   \n",
       "mean   4043.482666   5440.458439      0.0  2013.157296      100.777130   \n",
       "std    2192.753689   2752.820924      0.0     6.979151       65.016795   \n",
       "min       1.000000      1.000000      0.0  1990.000000        3.000000   \n",
       "25%    2152.500000   3073.500000      0.0  2008.000000       60.000000   \n",
       "50%    4033.000000   5421.000000      0.0  2015.000000      101.000000   \n",
       "75%    5914.500000   7641.500000      0.0  2019.000000      122.000000   \n",
       "max    7849.000000  10274.000000      0.0  2023.000000      990.000000   \n",
       "\n",
       "       averageRating      numVotes     ordering  isOriginalTitle  \n",
       "count    7470.000000  7.470000e+03  7470.000000           7470.0  \n",
       "mean        7.475676  7.282830e+04    16.567604              0.0  \n",
       "std         2.771444  1.640233e+05    12.761147              0.0  \n",
       "min         6.500000  1.000000e+01     1.000000              0.0  \n",
       "25%         6.900000  6.265250e+03     6.000000              0.0  \n",
       "50%         7.300000  1.527900e+04    14.000000              0.0  \n",
       "75%         7.800000  5.641975e+04    24.000000              0.0  \n",
       "max        92.000000  2.197234e+06   119.000000              0.0  "
      ]
     },
     "execution_count": 383,
     "metadata": {},
     "output_type": "execute_result"
    }
   ],
   "source": [
    "df_movies.describe()"
   ]
  },
  {
   "cell_type": "code",
   "execution_count": 384,
   "metadata": {},
   "outputs": [
    {
     "data": {
      "text/plain": [
       "<bound method Series.unique of 0       0.0\n",
       "1       0.0\n",
       "2       0.0\n",
       "3       0.0\n",
       "4       0.0\n",
       "       ... \n",
       "7466    0.0\n",
       "7467    0.0\n",
       "7468    0.0\n",
       "7469    0.0\n",
       "7470    0.0\n",
       "Name: isAdult, Length: 7471, dtype: float64>"
      ]
     },
     "execution_count": 384,
     "metadata": {},
     "output_type": "execute_result"
    }
   ],
   "source": [
    "df_movies['isAdult'].unique"
   ]
  },
  {
   "cell_type": "markdown",
   "metadata": {},
   "source": [
    "Se evidencia que la columna isAdult() no posee valores unicos, y todos los registros tienen un valor de 0.0"
   ]
  },
  {
   "cell_type": "code",
   "execution_count": 385,
   "metadata": {},
   "outputs": [
    {
     "data": {
      "text/plain": [
       "0       0.0\n",
       "1       0.0\n",
       "2       0.0\n",
       "3       0.0\n",
       "4       0.0\n",
       "       ... \n",
       "7466    0.0\n",
       "7467    0.0\n",
       "7468    0.0\n",
       "7469    0.0\n",
       "7470    0.0\n",
       "Name: isAdult, Length: 7471, dtype: float64"
      ]
     },
     "execution_count": 385,
     "metadata": {},
     "output_type": "execute_result"
    }
   ],
   "source": [
    "df_movies['isAdult']"
   ]
  },
  {
   "cell_type": "markdown",
   "metadata": {},
   "source": [
    "Verificar que los valores de averageRating se encuentren en el debido rango: [0,10], y contar los valores que no se encuentren en el rango"
   ]
  },
  {
   "cell_type": "code",
   "execution_count": 386,
   "metadata": {},
   "outputs": [
    {
     "data": {
      "text/plain": [
       "14"
      ]
     },
     "execution_count": 386,
     "metadata": {},
     "output_type": "execute_result"
    }
   ],
   "source": [
    "conteo_averageRating = (~((df_movies['averageRating'] >= 0) & (df_movies['averageRating'] <= 10))).sum()\n",
    "conteo_averageRating\n",
    "\n"
   ]
  },
  {
   "cell_type": "markdown",
   "metadata": {},
   "source": [
    "Estudiar valores de atributes."
   ]
  },
  {
   "cell_type": "code",
   "execution_count": 387,
   "metadata": {},
   "outputs": [
    {
     "data": {
      "text/plain": [
       "array(['\\\\N', nan], dtype=object)"
      ]
     },
     "execution_count": 387,
     "metadata": {},
     "output_type": "execute_result"
    }
   ],
   "source": [
    "df_movies['attributes'].unique()"
   ]
  },
  {
   "cell_type": "markdown",
   "metadata": {},
   "source": [
    "Verificar que el language los datos, sea ingles para todos los casos"
   ]
  },
  {
   "cell_type": "code",
   "execution_count": 388,
   "metadata": {},
   "outputs": [
    {
     "data": {
      "text/plain": [
       "0       en\n",
       "1       en\n",
       "2       en\n",
       "3       en\n",
       "4       en\n",
       "        ..\n",
       "7466    en\n",
       "7467    en\n",
       "7468    en\n",
       "7469    en\n",
       "7470    en\n",
       "Name: language, Length: 7471, dtype: object"
      ]
     },
     "execution_count": 388,
     "metadata": {},
     "output_type": "execute_result"
    }
   ],
   "source": [
    "df_movies['language']"
   ]
  },
  {
   "cell_type": "markdown",
   "metadata": {},
   "source": [
    "Verificar que la region se encuentre en las mencionadas"
   ]
  },
  {
   "cell_type": "code",
   "execution_count": 389,
   "metadata": {},
   "outputs": [
    {
     "data": {
      "text/plain": [
       "1"
      ]
     },
     "execution_count": 389,
     "metadata": {},
     "output_type": "execute_result"
    }
   ],
   "source": [
    "regionesInvalidas = (~df_movies['region'].isin(['IN', 'US', 'CA', 'GB'])).sum()\n",
    "regionesInvalidas"
   ]
  },
  {
   "cell_type": "markdown",
   "metadata": {},
   "source": [
    "Contar las filas que no cumplen con el formato enunciado (Movie, tvSeries,tvMiniSeries,tvMovie )"
   ]
  },
  {
   "cell_type": "code",
   "execution_count": 390,
   "metadata": {},
   "outputs": [
    {
     "data": {
      "text/html": [
       "<div>\n",
       "<style scoped>\n",
       "    .dataframe tbody tr th:only-of-type {\n",
       "        vertical-align: middle;\n",
       "    }\n",
       "\n",
       "    .dataframe tbody tr th {\n",
       "        vertical-align: top;\n",
       "    }\n",
       "\n",
       "    .dataframe thead th {\n",
       "        text-align: right;\n",
       "    }\n",
       "</style>\n",
       "<table border=\"1\" class=\"dataframe\">\n",
       "  <thead>\n",
       "    <tr style=\"text-align: right;\">\n",
       "      <th></th>\n",
       "      <th>#</th>\n",
       "      <th>index</th>\n",
       "      <th>tconst</th>\n",
       "      <th>titleType</th>\n",
       "      <th>originalTitle</th>\n",
       "      <th>isAdult</th>\n",
       "      <th>startYear</th>\n",
       "      <th>runtimeMinutes</th>\n",
       "      <th>averageRating</th>\n",
       "      <th>numVotes</th>\n",
       "      <th>ordering</th>\n",
       "      <th>region</th>\n",
       "      <th>language</th>\n",
       "      <th>types</th>\n",
       "      <th>attributes</th>\n",
       "      <th>isOriginalTitle</th>\n",
       "      <th>main_genre</th>\n",
       "      <th>secondary_genre</th>\n",
       "    </tr>\n",
       "  </thead>\n",
       "  <tbody>\n",
       "  </tbody>\n",
       "</table>\n",
       "</div>"
      ],
      "text/plain": [
       "Empty DataFrame\n",
       "Columns: [#, index, tconst, titleType, originalTitle, isAdult, startYear, runtimeMinutes, averageRating, numVotes, ordering, region, language, types, attributes, isOriginalTitle, main_genre, secondary_genre]\n",
       "Index: []"
      ]
     },
     "execution_count": 390,
     "metadata": {},
     "output_type": "execute_result"
    }
   ],
   "source": [
    "#Convertir los valores a minusculas\n",
    "df_movies['titleType'] = df_movies['titleType'].str.lower()\n",
    "\n",
    "invalidoTitleType = df_movies[~df_movies['titleType'].isin(['movie', 'tvseries', 'tvminiseries', 'tvmovie'])]\n",
    "invalidoTitleType\n",
    "#Todos cumplen con ello"
   ]
  },
  {
   "cell_type": "markdown",
   "metadata": {},
   "source": [
    "## 4. Iteración 1. Primer modelo"
   ]
  },
  {
   "cell_type": "markdown",
   "metadata": {},
   "source": [
    "### 4.1 Preparar los datos\n",
    "A nivel de preparación de datos debemos fijarnos en:\n",
    "- A. Correcciones relacionadas con problemas de calidad de dato: nulos, duplicados, inconsistencia, diferencia de formatos, etc.\n",
    "- B. Preparación relacionada con la tarea de aprendizaje\n",
    "    - Selección de columnas a incluir de acuerdo con la tarea de aprendizaje a realizar y el conocimiento del contexto del negocio\n",
    "    - ...\n",
    "- C. Preparación de acuerdo con el algoritmo a utilizar, en este caso K-means\n",
    "    Al revisar k-means vemos que el algoritmo trabaja únicamente con datos numéricos, y no nulos así que si vamos a incluir datos categóricos debemos transformarlos a numéricos y si tenemos datos nulos debemos transformalos y en el peor escenario retirarlos del modelo ya sea la fila que los incluye o toda la columna si el porcentaje de estos valores es alto."
   ]
  },
  {
   "cell_type": "markdown",
   "metadata": {},
   "source": [
    "## 5. Iteración 1. Segundo Modelo (DBScan)"
   ]
  },
  {
   "cell_type": "markdown",
   "metadata": {},
   "source": [
    "### 5.1 Preparar los datos\n",
    "A nivel de preparación de datos debemos fijarnos en:\n",
    "- A. Correcciones relacionadas con problemas de calidad de dato: nulos, duplicados, inconsistencia, diferencia de formatos, etc.\n",
    "- B. Preparación relacionada con la tarea de aprendizaje\n",
    "    - Selección de columnas a incluir de acuerdo con la tarea de aprendizaje a realizar y el conocimiento del contexto del negocio\n",
    "    - ...\n",
    "- C. Preparación de acuerdo con el algoritmo a utilizar, en este caso K-means\n",
    "    Al revisar k-means vemos que el algoritmo trabaja únicamente con datos numéricos, y no nulos así que si vamos a incluir datos categóricos debemos transformarlos a numéricos y si tenemos datos nulos debemos transformalos y en el peor escenario retirarlos del modelo ya sea la fila que los incluye o toda la columna si el porcentaje de estos valores es alto."
   ]
  },
  {
   "cell_type": "markdown",
   "metadata": {},
   "source": [
    "Se eliminan las filas, las cuales se evidencia que poseen un alto nivel de apariciones por alguna variable tales como atributes o isAdult, o language o indices"
   ]
  },
  {
   "cell_type": "code",
   "execution_count": 391,
   "metadata": {},
   "outputs": [
    {
     "ename": "KeyError",
     "evalue": "\"['#'] not found in axis\"",
     "output_type": "error",
     "traceback": [
      "\u001b[1;31m---------------------------------------------------------------------------\u001b[0m",
      "\u001b[1;31mKeyError\u001b[0m                                  Traceback (most recent call last)",
      "\u001b[1;32m<ipython-input-391-272276191934>\u001b[0m in \u001b[0;36m<module>\u001b[1;34m\u001b[0m\n\u001b[1;32m----> 1\u001b[1;33m \u001b[0mdf_moviesAlgoritmo2\u001b[0m \u001b[1;33m=\u001b[0m \u001b[0mdf_moviesAlgoritmo2\u001b[0m\u001b[1;33m.\u001b[0m\u001b[0mdrop\u001b[0m\u001b[1;33m(\u001b[0m\u001b[1;34m'#'\u001b[0m\u001b[1;33m,\u001b[0m \u001b[0maxis\u001b[0m\u001b[1;33m=\u001b[0m\u001b[1;36m1\u001b[0m\u001b[1;33m)\u001b[0m\u001b[1;33m\u001b[0m\u001b[1;33m\u001b[0m\u001b[0m\n\u001b[0m\u001b[0;32m      2\u001b[0m \u001b[0mdf_moviesAlgoritmo2\u001b[0m \u001b[1;33m=\u001b[0m \u001b[0mdf_moviesAlgoritmo2\u001b[0m\u001b[1;33m.\u001b[0m\u001b[0mdrop\u001b[0m\u001b[1;33m(\u001b[0m\u001b[1;34m'tconst'\u001b[0m\u001b[1;33m,\u001b[0m \u001b[0maxis\u001b[0m\u001b[1;33m=\u001b[0m\u001b[1;36m1\u001b[0m\u001b[1;33m)\u001b[0m\u001b[1;33m\u001b[0m\u001b[1;33m\u001b[0m\u001b[0m\n\u001b[0;32m      3\u001b[0m \u001b[0mdf_moviesAlgoritmo2\u001b[0m \u001b[1;33m=\u001b[0m \u001b[0mdf_moviesAlgoritmo2\u001b[0m\u001b[1;33m.\u001b[0m\u001b[0mdrop\u001b[0m\u001b[1;33m(\u001b[0m\u001b[1;34m'isAdult'\u001b[0m\u001b[1;33m,\u001b[0m \u001b[0maxis\u001b[0m\u001b[1;33m=\u001b[0m\u001b[1;36m1\u001b[0m\u001b[1;33m)\u001b[0m\u001b[1;33m\u001b[0m\u001b[1;33m\u001b[0m\u001b[0m\n\u001b[0;32m      4\u001b[0m \u001b[0mdf_moviesAlgoritmo2\u001b[0m \u001b[1;33m=\u001b[0m \u001b[0mdf_moviesAlgoritmo2\u001b[0m\u001b[1;33m.\u001b[0m\u001b[0mdrop\u001b[0m\u001b[1;33m(\u001b[0m\u001b[1;34m'language'\u001b[0m\u001b[1;33m,\u001b[0m \u001b[0maxis\u001b[0m\u001b[1;33m=\u001b[0m\u001b[1;36m1\u001b[0m\u001b[1;33m)\u001b[0m\u001b[1;33m\u001b[0m\u001b[1;33m\u001b[0m\u001b[0m\n\u001b[0;32m      5\u001b[0m \u001b[0mdf_moviesAlgoritmo2\u001b[0m \u001b[1;33m=\u001b[0m \u001b[0mdf_moviesAlgoritmo2\u001b[0m\u001b[1;33m.\u001b[0m\u001b[0mdrop\u001b[0m\u001b[1;33m(\u001b[0m\u001b[1;34m'attributes'\u001b[0m\u001b[1;33m,\u001b[0m \u001b[0maxis\u001b[0m\u001b[1;33m=\u001b[0m\u001b[1;36m1\u001b[0m\u001b[1;33m)\u001b[0m\u001b[1;33m\u001b[0m\u001b[1;33m\u001b[0m\u001b[0m\n",
      "\u001b[1;32mc:\\Users\\User\\anaconda3\\lib\\site-packages\\pandas\\core\\frame.py\u001b[0m in \u001b[0;36mdrop\u001b[1;34m(self, labels, axis, index, columns, level, inplace, errors)\u001b[0m\n\u001b[0;32m   4161\u001b[0m                 \u001b[0mweight\u001b[0m  \u001b[1;36m1.0\u001b[0m     \u001b[1;36m0.8\u001b[0m\u001b[1;33m\u001b[0m\u001b[1;33m\u001b[0m\u001b[0m\n\u001b[0;32m   4162\u001b[0m         \"\"\"\n\u001b[1;32m-> 4163\u001b[1;33m         return super().drop(\n\u001b[0m\u001b[0;32m   4164\u001b[0m             \u001b[0mlabels\u001b[0m\u001b[1;33m=\u001b[0m\u001b[0mlabels\u001b[0m\u001b[1;33m,\u001b[0m\u001b[1;33m\u001b[0m\u001b[1;33m\u001b[0m\u001b[0m\n\u001b[0;32m   4165\u001b[0m             \u001b[0maxis\u001b[0m\u001b[1;33m=\u001b[0m\u001b[0maxis\u001b[0m\u001b[1;33m,\u001b[0m\u001b[1;33m\u001b[0m\u001b[1;33m\u001b[0m\u001b[0m\n",
      "\u001b[1;32mc:\\Users\\User\\anaconda3\\lib\\site-packages\\pandas\\core\\generic.py\u001b[0m in \u001b[0;36mdrop\u001b[1;34m(self, labels, axis, index, columns, level, inplace, errors)\u001b[0m\n\u001b[0;32m   3885\u001b[0m         \u001b[1;32mfor\u001b[0m \u001b[0maxis\u001b[0m\u001b[1;33m,\u001b[0m \u001b[0mlabels\u001b[0m \u001b[1;32min\u001b[0m \u001b[0maxes\u001b[0m\u001b[1;33m.\u001b[0m\u001b[0mitems\u001b[0m\u001b[1;33m(\u001b[0m\u001b[1;33m)\u001b[0m\u001b[1;33m:\u001b[0m\u001b[1;33m\u001b[0m\u001b[1;33m\u001b[0m\u001b[0m\n\u001b[0;32m   3886\u001b[0m             \u001b[1;32mif\u001b[0m \u001b[0mlabels\u001b[0m \u001b[1;32mis\u001b[0m \u001b[1;32mnot\u001b[0m \u001b[1;32mNone\u001b[0m\u001b[1;33m:\u001b[0m\u001b[1;33m\u001b[0m\u001b[1;33m\u001b[0m\u001b[0m\n\u001b[1;32m-> 3887\u001b[1;33m                 \u001b[0mobj\u001b[0m \u001b[1;33m=\u001b[0m \u001b[0mobj\u001b[0m\u001b[1;33m.\u001b[0m\u001b[0m_drop_axis\u001b[0m\u001b[1;33m(\u001b[0m\u001b[0mlabels\u001b[0m\u001b[1;33m,\u001b[0m \u001b[0maxis\u001b[0m\u001b[1;33m,\u001b[0m \u001b[0mlevel\u001b[0m\u001b[1;33m=\u001b[0m\u001b[0mlevel\u001b[0m\u001b[1;33m,\u001b[0m \u001b[0merrors\u001b[0m\u001b[1;33m=\u001b[0m\u001b[0merrors\u001b[0m\u001b[1;33m)\u001b[0m\u001b[1;33m\u001b[0m\u001b[1;33m\u001b[0m\u001b[0m\n\u001b[0m\u001b[0;32m   3888\u001b[0m \u001b[1;33m\u001b[0m\u001b[0m\n\u001b[0;32m   3889\u001b[0m         \u001b[1;32mif\u001b[0m \u001b[0minplace\u001b[0m\u001b[1;33m:\u001b[0m\u001b[1;33m\u001b[0m\u001b[1;33m\u001b[0m\u001b[0m\n",
      "\u001b[1;32mc:\\Users\\User\\anaconda3\\lib\\site-packages\\pandas\\core\\generic.py\u001b[0m in \u001b[0;36m_drop_axis\u001b[1;34m(self, labels, axis, level, errors)\u001b[0m\n\u001b[0;32m   3919\u001b[0m                 \u001b[0mnew_axis\u001b[0m \u001b[1;33m=\u001b[0m \u001b[0maxis\u001b[0m\u001b[1;33m.\u001b[0m\u001b[0mdrop\u001b[0m\u001b[1;33m(\u001b[0m\u001b[0mlabels\u001b[0m\u001b[1;33m,\u001b[0m \u001b[0mlevel\u001b[0m\u001b[1;33m=\u001b[0m\u001b[0mlevel\u001b[0m\u001b[1;33m,\u001b[0m \u001b[0merrors\u001b[0m\u001b[1;33m=\u001b[0m\u001b[0merrors\u001b[0m\u001b[1;33m)\u001b[0m\u001b[1;33m\u001b[0m\u001b[1;33m\u001b[0m\u001b[0m\n\u001b[0;32m   3920\u001b[0m             \u001b[1;32melse\u001b[0m\u001b[1;33m:\u001b[0m\u001b[1;33m\u001b[0m\u001b[1;33m\u001b[0m\u001b[0m\n\u001b[1;32m-> 3921\u001b[1;33m                 \u001b[0mnew_axis\u001b[0m \u001b[1;33m=\u001b[0m \u001b[0maxis\u001b[0m\u001b[1;33m.\u001b[0m\u001b[0mdrop\u001b[0m\u001b[1;33m(\u001b[0m\u001b[0mlabels\u001b[0m\u001b[1;33m,\u001b[0m \u001b[0merrors\u001b[0m\u001b[1;33m=\u001b[0m\u001b[0merrors\u001b[0m\u001b[1;33m)\u001b[0m\u001b[1;33m\u001b[0m\u001b[1;33m\u001b[0m\u001b[0m\n\u001b[0m\u001b[0;32m   3922\u001b[0m             \u001b[0mresult\u001b[0m \u001b[1;33m=\u001b[0m \u001b[0mself\u001b[0m\u001b[1;33m.\u001b[0m\u001b[0mreindex\u001b[0m\u001b[1;33m(\u001b[0m\u001b[1;33m**\u001b[0m\u001b[1;33m{\u001b[0m\u001b[0maxis_name\u001b[0m\u001b[1;33m:\u001b[0m \u001b[0mnew_axis\u001b[0m\u001b[1;33m}\u001b[0m\u001b[1;33m)\u001b[0m\u001b[1;33m\u001b[0m\u001b[1;33m\u001b[0m\u001b[0m\n\u001b[0;32m   3923\u001b[0m \u001b[1;33m\u001b[0m\u001b[0m\n",
      "\u001b[1;32mc:\\Users\\User\\anaconda3\\lib\\site-packages\\pandas\\core\\indexes\\base.py\u001b[0m in \u001b[0;36mdrop\u001b[1;34m(self, labels, errors)\u001b[0m\n\u001b[0;32m   5280\u001b[0m         \u001b[1;32mif\u001b[0m \u001b[0mmask\u001b[0m\u001b[1;33m.\u001b[0m\u001b[0many\u001b[0m\u001b[1;33m(\u001b[0m\u001b[1;33m)\u001b[0m\u001b[1;33m:\u001b[0m\u001b[1;33m\u001b[0m\u001b[1;33m\u001b[0m\u001b[0m\n\u001b[0;32m   5281\u001b[0m             \u001b[1;32mif\u001b[0m \u001b[0merrors\u001b[0m \u001b[1;33m!=\u001b[0m \u001b[1;34m\"ignore\"\u001b[0m\u001b[1;33m:\u001b[0m\u001b[1;33m\u001b[0m\u001b[1;33m\u001b[0m\u001b[0m\n\u001b[1;32m-> 5282\u001b[1;33m                 \u001b[1;32mraise\u001b[0m \u001b[0mKeyError\u001b[0m\u001b[1;33m(\u001b[0m\u001b[1;34mf\"{labels[mask]} not found in axis\"\u001b[0m\u001b[1;33m)\u001b[0m\u001b[1;33m\u001b[0m\u001b[1;33m\u001b[0m\u001b[0m\n\u001b[0m\u001b[0;32m   5283\u001b[0m             \u001b[0mindexer\u001b[0m \u001b[1;33m=\u001b[0m \u001b[0mindexer\u001b[0m\u001b[1;33m[\u001b[0m\u001b[1;33m~\u001b[0m\u001b[0mmask\u001b[0m\u001b[1;33m]\u001b[0m\u001b[1;33m\u001b[0m\u001b[1;33m\u001b[0m\u001b[0m\n\u001b[0;32m   5284\u001b[0m         \u001b[1;32mreturn\u001b[0m \u001b[0mself\u001b[0m\u001b[1;33m.\u001b[0m\u001b[0mdelete\u001b[0m\u001b[1;33m(\u001b[0m\u001b[0mindexer\u001b[0m\u001b[1;33m)\u001b[0m\u001b[1;33m\u001b[0m\u001b[1;33m\u001b[0m\u001b[0m\n",
      "\u001b[1;31mKeyError\u001b[0m: \"['#'] not found in axis\""
     ]
    }
   ],
   "source": [
    "\n",
    "df_moviesAlgoritmo2 = df_moviesAlgoritmo2.drop('#', axis=1)\n",
    "df_moviesAlgoritmo2 = df_moviesAlgoritmo2.drop('tconst', axis=1)\n",
    "df_moviesAlgoritmo2 = df_moviesAlgoritmo2.drop('isAdult', axis=1)\n",
    "df_moviesAlgoritmo2 = df_moviesAlgoritmo2.drop('language', axis=1)\n",
    "df_moviesAlgoritmo2 = df_moviesAlgoritmo2.drop('attributes', axis=1)\n",
    "df_moviesAlgoritmo2 = df_moviesAlgoritmo2.drop('originalTitle', axis=1)\n",
    "\n",
    "\n",
    "\n",
    "\n",
    "\n",
    "\n"
   ]
  },
  {
   "cell_type": "code",
   "execution_count": null,
   "metadata": {},
   "outputs": [
    {
     "name": "stdout",
     "output_type": "stream",
     "text": [
      "Index(['titleType', 'originalTitle', 'startYear', 'runtimeMinutes',\n",
      "       'averageRating', 'numVotes', 'ordering', 'region', 'types',\n",
      "       'main_genre', 'secondary_genre'],\n",
      "      dtype='object')\n"
     ]
    }
   ],
   "source": [
    "print(df_moviesAlgoritmo2.columns)\n"
   ]
  },
  {
   "cell_type": "markdown",
   "metadata": {},
   "source": [
    "Convertir columna titleType a minuscula"
   ]
  },
  {
   "cell_type": "code",
   "execution_count": null,
   "metadata": {},
   "outputs": [],
   "source": [
    "df_movies['titleType'] = df_movies['titleType'].str.lower()\n"
   ]
  },
  {
   "cell_type": "markdown",
   "metadata": {},
   "source": [
    "Convertir a minusculas las columnas main y secondaryGenre y types"
   ]
  },
  {
   "cell_type": "code",
   "execution_count": null,
   "metadata": {},
   "outputs": [],
   "source": [
    "df_movies['main_genre'] = df_movies['main_genre'].str.lower()\n",
    "df_movies['secondary_genre'] = df_movies['secondary_genre'].str.lower()\n",
    "df_movies['types'] = df_movies['types'].str.lower()\n",
    "\n"
   ]
  },
  {
   "cell_type": "markdown",
   "metadata": {},
   "source": [
    "Eliminar valores nulos"
   ]
  },
  {
   "cell_type": "code",
   "execution_count": null,
   "metadata": {},
   "outputs": [],
   "source": [
    "df_moviesAlgoritmo2.dropna(inplace=True)\n"
   ]
  },
  {
   "cell_type": "markdown",
   "metadata": {},
   "source": [
    "Cumplir con la metrica propuesta de averageRating"
   ]
  },
  {
   "cell_type": "code",
   "execution_count": null,
   "metadata": {},
   "outputs": [],
   "source": [
    "df_moviesAlgoritmo2 = df_moviesAlgoritmo2.drop(df_moviesAlgoritmo2[(df_moviesAlgoritmo2['averageRating'] < 0) | (df_moviesAlgoritmo2['averageRating'] > 10)].index)\n"
   ]
  },
  {
   "cell_type": "markdown",
   "metadata": {},
   "source": [
    "Conversion de variables categoricas a numericas por medio de labelEnconding"
   ]
  },
  {
   "cell_type": "code",
   "execution_count": null,
   "metadata": {},
   "outputs": [
    {
     "ename": "KeyError",
     "evalue": "\"['originalTitle'] not found in axis\"",
     "output_type": "error",
     "traceback": [
      "\u001b[1;31m---------------------------------------------------------------------------\u001b[0m",
      "\u001b[1;31mKeyError\u001b[0m                                  Traceback (most recent call last)",
      "\u001b[1;32m<ipython-input-348-09a670fb7f20>\u001b[0m in \u001b[0;36m<module>\u001b[1;34m\u001b[0m\n\u001b[1;32m----> 1\u001b[1;33m \u001b[0mdf_moviesAlgoritmo2\u001b[0m \u001b[1;33m=\u001b[0m \u001b[0mdf_moviesAlgoritmo2\u001b[0m\u001b[1;33m.\u001b[0m\u001b[0mdrop\u001b[0m\u001b[1;33m(\u001b[0m\u001b[1;34m'originalTitle'\u001b[0m\u001b[1;33m,\u001b[0m \u001b[0maxis\u001b[0m\u001b[1;33m=\u001b[0m\u001b[1;36m1\u001b[0m\u001b[1;33m)\u001b[0m\u001b[1;33m\u001b[0m\u001b[1;33m\u001b[0m\u001b[0m\n\u001b[0m\u001b[0;32m      2\u001b[0m \u001b[1;33m\u001b[0m\u001b[0m\n\u001b[0;32m      3\u001b[0m \u001b[0mdf_moviesAlgoritmo2\u001b[0m\u001b[1;33m.\u001b[0m\u001b[0mdtypes\u001b[0m\u001b[1;33m\u001b[0m\u001b[1;33m\u001b[0m\u001b[0m\n",
      "\u001b[1;32mc:\\Users\\User\\anaconda3\\lib\\site-packages\\pandas\\core\\frame.py\u001b[0m in \u001b[0;36mdrop\u001b[1;34m(self, labels, axis, index, columns, level, inplace, errors)\u001b[0m\n\u001b[0;32m   4161\u001b[0m                 \u001b[0mweight\u001b[0m  \u001b[1;36m1.0\u001b[0m     \u001b[1;36m0.8\u001b[0m\u001b[1;33m\u001b[0m\u001b[1;33m\u001b[0m\u001b[0m\n\u001b[0;32m   4162\u001b[0m         \"\"\"\n\u001b[1;32m-> 4163\u001b[1;33m         return super().drop(\n\u001b[0m\u001b[0;32m   4164\u001b[0m             \u001b[0mlabels\u001b[0m\u001b[1;33m=\u001b[0m\u001b[0mlabels\u001b[0m\u001b[1;33m,\u001b[0m\u001b[1;33m\u001b[0m\u001b[1;33m\u001b[0m\u001b[0m\n\u001b[0;32m   4165\u001b[0m             \u001b[0maxis\u001b[0m\u001b[1;33m=\u001b[0m\u001b[0maxis\u001b[0m\u001b[1;33m,\u001b[0m\u001b[1;33m\u001b[0m\u001b[1;33m\u001b[0m\u001b[0m\n",
      "\u001b[1;32mc:\\Users\\User\\anaconda3\\lib\\site-packages\\pandas\\core\\generic.py\u001b[0m in \u001b[0;36mdrop\u001b[1;34m(self, labels, axis, index, columns, level, inplace, errors)\u001b[0m\n\u001b[0;32m   3885\u001b[0m         \u001b[1;32mfor\u001b[0m \u001b[0maxis\u001b[0m\u001b[1;33m,\u001b[0m \u001b[0mlabels\u001b[0m \u001b[1;32min\u001b[0m \u001b[0maxes\u001b[0m\u001b[1;33m.\u001b[0m\u001b[0mitems\u001b[0m\u001b[1;33m(\u001b[0m\u001b[1;33m)\u001b[0m\u001b[1;33m:\u001b[0m\u001b[1;33m\u001b[0m\u001b[1;33m\u001b[0m\u001b[0m\n\u001b[0;32m   3886\u001b[0m             \u001b[1;32mif\u001b[0m \u001b[0mlabels\u001b[0m \u001b[1;32mis\u001b[0m \u001b[1;32mnot\u001b[0m \u001b[1;32mNone\u001b[0m\u001b[1;33m:\u001b[0m\u001b[1;33m\u001b[0m\u001b[1;33m\u001b[0m\u001b[0m\n\u001b[1;32m-> 3887\u001b[1;33m                 \u001b[0mobj\u001b[0m \u001b[1;33m=\u001b[0m \u001b[0mobj\u001b[0m\u001b[1;33m.\u001b[0m\u001b[0m_drop_axis\u001b[0m\u001b[1;33m(\u001b[0m\u001b[0mlabels\u001b[0m\u001b[1;33m,\u001b[0m \u001b[0maxis\u001b[0m\u001b[1;33m,\u001b[0m \u001b[0mlevel\u001b[0m\u001b[1;33m=\u001b[0m\u001b[0mlevel\u001b[0m\u001b[1;33m,\u001b[0m \u001b[0merrors\u001b[0m\u001b[1;33m=\u001b[0m\u001b[0merrors\u001b[0m\u001b[1;33m)\u001b[0m\u001b[1;33m\u001b[0m\u001b[1;33m\u001b[0m\u001b[0m\n\u001b[0m\u001b[0;32m   3888\u001b[0m \u001b[1;33m\u001b[0m\u001b[0m\n\u001b[0;32m   3889\u001b[0m         \u001b[1;32mif\u001b[0m \u001b[0minplace\u001b[0m\u001b[1;33m:\u001b[0m\u001b[1;33m\u001b[0m\u001b[1;33m\u001b[0m\u001b[0m\n",
      "\u001b[1;32mc:\\Users\\User\\anaconda3\\lib\\site-packages\\pandas\\core\\generic.py\u001b[0m in \u001b[0;36m_drop_axis\u001b[1;34m(self, labels, axis, level, errors)\u001b[0m\n\u001b[0;32m   3919\u001b[0m                 \u001b[0mnew_axis\u001b[0m \u001b[1;33m=\u001b[0m \u001b[0maxis\u001b[0m\u001b[1;33m.\u001b[0m\u001b[0mdrop\u001b[0m\u001b[1;33m(\u001b[0m\u001b[0mlabels\u001b[0m\u001b[1;33m,\u001b[0m \u001b[0mlevel\u001b[0m\u001b[1;33m=\u001b[0m\u001b[0mlevel\u001b[0m\u001b[1;33m,\u001b[0m \u001b[0merrors\u001b[0m\u001b[1;33m=\u001b[0m\u001b[0merrors\u001b[0m\u001b[1;33m)\u001b[0m\u001b[1;33m\u001b[0m\u001b[1;33m\u001b[0m\u001b[0m\n\u001b[0;32m   3920\u001b[0m             \u001b[1;32melse\u001b[0m\u001b[1;33m:\u001b[0m\u001b[1;33m\u001b[0m\u001b[1;33m\u001b[0m\u001b[0m\n\u001b[1;32m-> 3921\u001b[1;33m                 \u001b[0mnew_axis\u001b[0m \u001b[1;33m=\u001b[0m \u001b[0maxis\u001b[0m\u001b[1;33m.\u001b[0m\u001b[0mdrop\u001b[0m\u001b[1;33m(\u001b[0m\u001b[0mlabels\u001b[0m\u001b[1;33m,\u001b[0m \u001b[0merrors\u001b[0m\u001b[1;33m=\u001b[0m\u001b[0merrors\u001b[0m\u001b[1;33m)\u001b[0m\u001b[1;33m\u001b[0m\u001b[1;33m\u001b[0m\u001b[0m\n\u001b[0m\u001b[0;32m   3922\u001b[0m             \u001b[0mresult\u001b[0m \u001b[1;33m=\u001b[0m \u001b[0mself\u001b[0m\u001b[1;33m.\u001b[0m\u001b[0mreindex\u001b[0m\u001b[1;33m(\u001b[0m\u001b[1;33m**\u001b[0m\u001b[1;33m{\u001b[0m\u001b[0maxis_name\u001b[0m\u001b[1;33m:\u001b[0m \u001b[0mnew_axis\u001b[0m\u001b[1;33m}\u001b[0m\u001b[1;33m)\u001b[0m\u001b[1;33m\u001b[0m\u001b[1;33m\u001b[0m\u001b[0m\n\u001b[0;32m   3923\u001b[0m \u001b[1;33m\u001b[0m\u001b[0m\n",
      "\u001b[1;32mc:\\Users\\User\\anaconda3\\lib\\site-packages\\pandas\\core\\indexes\\base.py\u001b[0m in \u001b[0;36mdrop\u001b[1;34m(self, labels, errors)\u001b[0m\n\u001b[0;32m   5280\u001b[0m         \u001b[1;32mif\u001b[0m \u001b[0mmask\u001b[0m\u001b[1;33m.\u001b[0m\u001b[0many\u001b[0m\u001b[1;33m(\u001b[0m\u001b[1;33m)\u001b[0m\u001b[1;33m:\u001b[0m\u001b[1;33m\u001b[0m\u001b[1;33m\u001b[0m\u001b[0m\n\u001b[0;32m   5281\u001b[0m             \u001b[1;32mif\u001b[0m \u001b[0merrors\u001b[0m \u001b[1;33m!=\u001b[0m \u001b[1;34m\"ignore\"\u001b[0m\u001b[1;33m:\u001b[0m\u001b[1;33m\u001b[0m\u001b[1;33m\u001b[0m\u001b[0m\n\u001b[1;32m-> 5282\u001b[1;33m                 \u001b[1;32mraise\u001b[0m \u001b[0mKeyError\u001b[0m\u001b[1;33m(\u001b[0m\u001b[1;34mf\"{labels[mask]} not found in axis\"\u001b[0m\u001b[1;33m)\u001b[0m\u001b[1;33m\u001b[0m\u001b[1;33m\u001b[0m\u001b[0m\n\u001b[0m\u001b[0;32m   5283\u001b[0m             \u001b[0mindexer\u001b[0m \u001b[1;33m=\u001b[0m \u001b[0mindexer\u001b[0m\u001b[1;33m[\u001b[0m\u001b[1;33m~\u001b[0m\u001b[0mmask\u001b[0m\u001b[1;33m]\u001b[0m\u001b[1;33m\u001b[0m\u001b[1;33m\u001b[0m\u001b[0m\n\u001b[0;32m   5284\u001b[0m         \u001b[1;32mreturn\u001b[0m \u001b[0mself\u001b[0m\u001b[1;33m.\u001b[0m\u001b[0mdelete\u001b[0m\u001b[1;33m(\u001b[0m\u001b[0mindexer\u001b[0m\u001b[1;33m)\u001b[0m\u001b[1;33m\u001b[0m\u001b[1;33m\u001b[0m\u001b[0m\n",
      "\u001b[1;31mKeyError\u001b[0m: \"['originalTitle'] not found in axis\""
     ]
    }
   ],
   "source": [
    "df_moviesAlgoritmo2 = df_moviesAlgoritmo2.drop('originalTitle', axis=1)\n",
    "\n",
    "df_moviesAlgoritmo2.dtypes"
   ]
  },
  {
   "cell_type": "code",
   "execution_count": null,
   "metadata": {},
   "outputs": [
    {
     "name": "stdout",
     "output_type": "stream",
     "text": [
      "titleType            int32\n",
      "startYear          float64\n",
      "runtimeMinutes     float64\n",
      "averageRating      float64\n",
      "numVotes           float64\n",
      "ordering           float64\n",
      "region               int32\n",
      "types                int32\n",
      "main_genre           int32\n",
      "secondary_genre      int32\n",
      "dtype: object\n"
     ]
    }
   ],
   "source": [
    "le = LabelEncoder()\n",
    "cols_to_encode = ['titleType', 'region', 'types', 'main_genre', 'secondary_genre']\n",
    "\n",
    "# Aplicar la codificación para cada columna\n",
    "for col in cols_to_encode:\n",
    "    df_moviesAlgoritmo2[col] = le.fit_transform(df_moviesAlgoritmo2[col].astype(str))\n",
    "\n",
    "# Verificar los cambios\n",
    "print(df_moviesAlgoritmo2.dtypes)"
   ]
  },
  {
   "cell_type": "markdown",
   "metadata": {},
   "source": [
    "Descripcion de modelo con valores numericos"
   ]
  },
  {
   "cell_type": "code",
   "execution_count": null,
   "metadata": {},
   "outputs": [
    {
     "data": {
      "text/html": [
       "<div>\n",
       "<style scoped>\n",
       "    .dataframe tbody tr th:only-of-type {\n",
       "        vertical-align: middle;\n",
       "    }\n",
       "\n",
       "    .dataframe tbody tr th {\n",
       "        vertical-align: top;\n",
       "    }\n",
       "\n",
       "    .dataframe thead th {\n",
       "        text-align: right;\n",
       "    }\n",
       "</style>\n",
       "<table border=\"1\" class=\"dataframe\">\n",
       "  <thead>\n",
       "    <tr style=\"text-align: right;\">\n",
       "      <th></th>\n",
       "      <th>titleType</th>\n",
       "      <th>startYear</th>\n",
       "      <th>runtimeMinutes</th>\n",
       "      <th>averageRating</th>\n",
       "      <th>numVotes</th>\n",
       "      <th>ordering</th>\n",
       "      <th>region</th>\n",
       "      <th>types</th>\n",
       "      <th>main_genre</th>\n",
       "      <th>secondary_genre</th>\n",
       "    </tr>\n",
       "  </thead>\n",
       "  <tbody>\n",
       "    <tr>\n",
       "      <th>count</th>\n",
       "      <td>7458.000000</td>\n",
       "      <td>7457.000000</td>\n",
       "      <td>7359.000000</td>\n",
       "      <td>7457.000000</td>\n",
       "      <td>7.457000e+03</td>\n",
       "      <td>7457.000000</td>\n",
       "      <td>7458.000000</td>\n",
       "      <td>7458.000000</td>\n",
       "      <td>7458.000000</td>\n",
       "      <td>7458.000000</td>\n",
       "    </tr>\n",
       "    <tr>\n",
       "      <th>mean</th>\n",
       "      <td>1.009654</td>\n",
       "      <td>2013.157570</td>\n",
       "      <td>100.777144</td>\n",
       "      <td>7.363725</td>\n",
       "      <td>7.261476e+04</td>\n",
       "      <td>16.567923</td>\n",
       "      <td>1.534057</td>\n",
       "      <td>2.999061</td>\n",
       "      <td>3.991419</td>\n",
       "      <td>8.756771</td>\n",
       "    </tr>\n",
       "    <tr>\n",
       "      <th>std</th>\n",
       "      <td>1.374557</td>\n",
       "      <td>6.976007</td>\n",
       "      <td>65.052391</td>\n",
       "      <td>0.600802</td>\n",
       "      <td>1.623115e+05</td>\n",
       "      <td>12.755489</td>\n",
       "      <td>0.867194</td>\n",
       "      <td>0.225441</td>\n",
       "      <td>2.967787</td>\n",
       "      <td>6.271545</td>\n",
       "    </tr>\n",
       "    <tr>\n",
       "      <th>min</th>\n",
       "      <td>0.000000</td>\n",
       "      <td>1990.000000</td>\n",
       "      <td>3.000000</td>\n",
       "      <td>6.500000</td>\n",
       "      <td>1.000000e+01</td>\n",
       "      <td>1.000000</td>\n",
       "      <td>0.000000</td>\n",
       "      <td>0.000000</td>\n",
       "      <td>0.000000</td>\n",
       "      <td>0.000000</td>\n",
       "    </tr>\n",
       "    <tr>\n",
       "      <th>25%</th>\n",
       "      <td>0.000000</td>\n",
       "      <td>2008.000000</td>\n",
       "      <td>60.000000</td>\n",
       "      <td>6.900000</td>\n",
       "      <td>6.290000e+03</td>\n",
       "      <td>6.000000</td>\n",
       "      <td>2.000000</td>\n",
       "      <td>3.000000</td>\n",
       "      <td>1.000000</td>\n",
       "      <td>4.000000</td>\n",
       "    </tr>\n",
       "    <tr>\n",
       "      <th>50%</th>\n",
       "      <td>0.000000</td>\n",
       "      <td>2015.000000</td>\n",
       "      <td>101.000000</td>\n",
       "      <td>7.300000</td>\n",
       "      <td>1.529200e+04</td>\n",
       "      <td>14.000000</td>\n",
       "      <td>2.000000</td>\n",
       "      <td>3.000000</td>\n",
       "      <td>4.000000</td>\n",
       "      <td>6.000000</td>\n",
       "    </tr>\n",
       "    <tr>\n",
       "      <th>75%</th>\n",
       "      <td>3.000000</td>\n",
       "      <td>2019.000000</td>\n",
       "      <td>122.000000</td>\n",
       "      <td>7.800000</td>\n",
       "      <td>5.646600e+04</td>\n",
       "      <td>24.000000</td>\n",
       "      <td>2.000000</td>\n",
       "      <td>3.000000</td>\n",
       "      <td>7.000000</td>\n",
       "      <td>16.000000</td>\n",
       "    </tr>\n",
       "    <tr>\n",
       "      <th>max</th>\n",
       "      <td>3.000000</td>\n",
       "      <td>2023.000000</td>\n",
       "      <td>990.000000</td>\n",
       "      <td>9.500000</td>\n",
       "      <td>2.197234e+06</td>\n",
       "      <td>119.000000</td>\n",
       "      <td>4.000000</td>\n",
       "      <td>5.000000</td>\n",
       "      <td>22.000000</td>\n",
       "      <td>26.000000</td>\n",
       "    </tr>\n",
       "  </tbody>\n",
       "</table>\n",
       "</div>"
      ],
      "text/plain": [
       "         titleType    startYear  runtimeMinutes  averageRating      numVotes  \\\n",
       "count  7458.000000  7457.000000     7359.000000    7457.000000  7.457000e+03   \n",
       "mean      1.009654  2013.157570      100.777144       7.363725  7.261476e+04   \n",
       "std       1.374557     6.976007       65.052391       0.600802  1.623115e+05   \n",
       "min       0.000000  1990.000000        3.000000       6.500000  1.000000e+01   \n",
       "25%       0.000000  2008.000000       60.000000       6.900000  6.290000e+03   \n",
       "50%       0.000000  2015.000000      101.000000       7.300000  1.529200e+04   \n",
       "75%       3.000000  2019.000000      122.000000       7.800000  5.646600e+04   \n",
       "max       3.000000  2023.000000      990.000000       9.500000  2.197234e+06   \n",
       "\n",
       "          ordering       region        types   main_genre  secondary_genre  \n",
       "count  7457.000000  7458.000000  7458.000000  7458.000000      7458.000000  \n",
       "mean     16.567923     1.534057     2.999061     3.991419         8.756771  \n",
       "std      12.755489     0.867194     0.225441     2.967787         6.271545  \n",
       "min       1.000000     0.000000     0.000000     0.000000         0.000000  \n",
       "25%       6.000000     2.000000     3.000000     1.000000         4.000000  \n",
       "50%      14.000000     2.000000     3.000000     4.000000         6.000000  \n",
       "75%      24.000000     2.000000     3.000000     7.000000        16.000000  \n",
       "max     119.000000     4.000000     5.000000    22.000000        26.000000  "
      ]
     },
     "execution_count": 344,
     "metadata": {},
     "output_type": "execute_result"
    }
   ],
   "source": [
    "df_moviesAlgoritmo2.describe()"
   ]
  },
  {
   "cell_type": "markdown",
   "metadata": {},
   "source": [
    "Sample de los datos"
   ]
  },
  {
   "cell_type": "code",
   "execution_count": null,
   "metadata": {},
   "outputs": [
    {
     "data": {
      "text/html": [
       "<div>\n",
       "<style scoped>\n",
       "    .dataframe tbody tr th:only-of-type {\n",
       "        vertical-align: middle;\n",
       "    }\n",
       "\n",
       "    .dataframe tbody tr th {\n",
       "        vertical-align: top;\n",
       "    }\n",
       "\n",
       "    .dataframe thead th {\n",
       "        text-align: right;\n",
       "    }\n",
       "</style>\n",
       "<table border=\"1\" class=\"dataframe\">\n",
       "  <thead>\n",
       "    <tr style=\"text-align: right;\">\n",
       "      <th></th>\n",
       "      <th>titleType</th>\n",
       "      <th>startYear</th>\n",
       "      <th>runtimeMinutes</th>\n",
       "      <th>averageRating</th>\n",
       "      <th>numVotes</th>\n",
       "      <th>ordering</th>\n",
       "      <th>region</th>\n",
       "      <th>types</th>\n",
       "      <th>main_genre</th>\n",
       "      <th>secondary_genre</th>\n",
       "    </tr>\n",
       "  </thead>\n",
       "  <tbody>\n",
       "    <tr>\n",
       "      <th>6927</th>\n",
       "      <td>0</td>\n",
       "      <td>2015.0</td>\n",
       "      <td>104.0</td>\n",
       "      <td>7.1</td>\n",
       "      <td>4611.0</td>\n",
       "      <td>3.0</td>\n",
       "      <td>0</td>\n",
       "      <td>3</td>\n",
       "      <td>6</td>\n",
       "      <td>19</td>\n",
       "    </tr>\n",
       "    <tr>\n",
       "      <th>7197</th>\n",
       "      <td>0</td>\n",
       "      <td>2017.0</td>\n",
       "      <td>95.0</td>\n",
       "      <td>6.7</td>\n",
       "      <td>3128.0</td>\n",
       "      <td>12.0</td>\n",
       "      <td>0</td>\n",
       "      <td>3</td>\n",
       "      <td>3</td>\n",
       "      <td>3</td>\n",
       "    </tr>\n",
       "    <tr>\n",
       "      <th>821</th>\n",
       "      <td>3</td>\n",
       "      <td>2004.0</td>\n",
       "      <td>45.0</td>\n",
       "      <td>7.6</td>\n",
       "      <td>133589.0</td>\n",
       "      <td>1.0</td>\n",
       "      <td>2</td>\n",
       "      <td>3</td>\n",
       "      <td>4</td>\n",
       "      <td>6</td>\n",
       "    </tr>\n",
       "    <tr>\n",
       "      <th>2946</th>\n",
       "      <td>3</td>\n",
       "      <td>2012.0</td>\n",
       "      <td>28.0</td>\n",
       "      <td>7.4</td>\n",
       "      <td>25894.0</td>\n",
       "      <td>18.0</td>\n",
       "      <td>2</td>\n",
       "      <td>3</td>\n",
       "      <td>4</td>\n",
       "      <td>6</td>\n",
       "    </tr>\n",
       "    <tr>\n",
       "      <th>4671</th>\n",
       "      <td>0</td>\n",
       "      <td>2018.0</td>\n",
       "      <td>121.0</td>\n",
       "      <td>6.9</td>\n",
       "      <td>27878.0</td>\n",
       "      <td>18.0</td>\n",
       "      <td>2</td>\n",
       "      <td>3</td>\n",
       "      <td>0</td>\n",
       "      <td>4</td>\n",
       "    </tr>\n",
       "    <tr>\n",
       "      <th>2202</th>\n",
       "      <td>3</td>\n",
       "      <td>2022.0</td>\n",
       "      <td>60.0</td>\n",
       "      <td>6.5</td>\n",
       "      <td>28509.0</td>\n",
       "      <td>25.0</td>\n",
       "      <td>2</td>\n",
       "      <td>3</td>\n",
       "      <td>7</td>\n",
       "      <td>11</td>\n",
       "    </tr>\n",
       "    <tr>\n",
       "      <th>2100</th>\n",
       "      <td>3</td>\n",
       "      <td>2010.0</td>\n",
       "      <td>11.0</td>\n",
       "      <td>8.6</td>\n",
       "      <td>102411.0</td>\n",
       "      <td>58.0</td>\n",
       "      <td>2</td>\n",
       "      <td>3</td>\n",
       "      <td>0</td>\n",
       "      <td>0</td>\n",
       "    </tr>\n",
       "    <tr>\n",
       "      <th>3262</th>\n",
       "      <td>0</td>\n",
       "      <td>2022.0</td>\n",
       "      <td>89.0</td>\n",
       "      <td>7.2</td>\n",
       "      <td>3011.0</td>\n",
       "      <td>15.0</td>\n",
       "      <td>2</td>\n",
       "      <td>3</td>\n",
       "      <td>3</td>\n",
       "      <td>5</td>\n",
       "    </tr>\n",
       "    <tr>\n",
       "      <th>4527</th>\n",
       "      <td>3</td>\n",
       "      <td>2016.0</td>\n",
       "      <td>43.0</td>\n",
       "      <td>7.6</td>\n",
       "      <td>3291.0</td>\n",
       "      <td>7.0</td>\n",
       "      <td>2</td>\n",
       "      <td>3</td>\n",
       "      <td>16</td>\n",
       "      <td>16</td>\n",
       "    </tr>\n",
       "    <tr>\n",
       "      <th>5782</th>\n",
       "      <td>3</td>\n",
       "      <td>2001.0</td>\n",
       "      <td>24.0</td>\n",
       "      <td>8.4</td>\n",
       "      <td>22050.0</td>\n",
       "      <td>1.0</td>\n",
       "      <td>0</td>\n",
       "      <td>3</td>\n",
       "      <td>0</td>\n",
       "      <td>0</td>\n",
       "    </tr>\n",
       "    <tr>\n",
       "      <th>6405</th>\n",
       "      <td>0</td>\n",
       "      <td>2009.0</td>\n",
       "      <td>106.0</td>\n",
       "      <td>6.9</td>\n",
       "      <td>8161.0</td>\n",
       "      <td>13.0</td>\n",
       "      <td>0</td>\n",
       "      <td>3</td>\n",
       "      <td>7</td>\n",
       "      <td>24</td>\n",
       "    </tr>\n",
       "    <tr>\n",
       "      <th>1534</th>\n",
       "      <td>0</td>\n",
       "      <td>2020.0</td>\n",
       "      <td>85.0</td>\n",
       "      <td>6.9</td>\n",
       "      <td>4783.0</td>\n",
       "      <td>1.0</td>\n",
       "      <td>2</td>\n",
       "      <td>3</td>\n",
       "      <td>7</td>\n",
       "      <td>16</td>\n",
       "    </tr>\n",
       "    <tr>\n",
       "      <th>4672</th>\n",
       "      <td>1</td>\n",
       "      <td>2018.0</td>\n",
       "      <td>60.0</td>\n",
       "      <td>7.2</td>\n",
       "      <td>10595.0</td>\n",
       "      <td>33.0</td>\n",
       "      <td>2</td>\n",
       "      <td>3</td>\n",
       "      <td>5</td>\n",
       "      <td>6</td>\n",
       "    </tr>\n",
       "    <tr>\n",
       "      <th>7357</th>\n",
       "      <td>0</td>\n",
       "      <td>2018.0</td>\n",
       "      <td>95.0</td>\n",
       "      <td>7.4</td>\n",
       "      <td>31861.0</td>\n",
       "      <td>29.0</td>\n",
       "      <td>0</td>\n",
       "      <td>3</td>\n",
       "      <td>4</td>\n",
       "      <td>4</td>\n",
       "    </tr>\n",
       "    <tr>\n",
       "      <th>4374</th>\n",
       "      <td>3</td>\n",
       "      <td>2016.0</td>\n",
       "      <td>43.0</td>\n",
       "      <td>6.9</td>\n",
       "      <td>7360.0</td>\n",
       "      <td>3.0</td>\n",
       "      <td>2</td>\n",
       "      <td>3</td>\n",
       "      <td>7</td>\n",
       "      <td>8</td>\n",
       "    </tr>\n",
       "    <tr>\n",
       "      <th>2794</th>\n",
       "      <td>0</td>\n",
       "      <td>2015.0</td>\n",
       "      <td>116.0</td>\n",
       "      <td>7.2</td>\n",
       "      <td>321015.0</td>\n",
       "      <td>16.0</td>\n",
       "      <td>2</td>\n",
       "      <td>3</td>\n",
       "      <td>0</td>\n",
       "      <td>0</td>\n",
       "    </tr>\n",
       "    <tr>\n",
       "      <th>2607</th>\n",
       "      <td>3</td>\n",
       "      <td>2009.0</td>\n",
       "      <td>90.0</td>\n",
       "      <td>8.7</td>\n",
       "      <td>34770.0</td>\n",
       "      <td>18.0</td>\n",
       "      <td>2</td>\n",
       "      <td>3</td>\n",
       "      <td>5</td>\n",
       "      <td>6</td>\n",
       "    </tr>\n",
       "    <tr>\n",
       "      <th>6033</th>\n",
       "      <td>0</td>\n",
       "      <td>2004.0</td>\n",
       "      <td>100.0</td>\n",
       "      <td>7.2</td>\n",
       "      <td>111227.0</td>\n",
       "      <td>34.0</td>\n",
       "      <td>0</td>\n",
       "      <td>3</td>\n",
       "      <td>6</td>\n",
       "      <td>16</td>\n",
       "    </tr>\n",
       "    <tr>\n",
       "      <th>6904</th>\n",
       "      <td>0</td>\n",
       "      <td>2014.0</td>\n",
       "      <td>83.0</td>\n",
       "      <td>7.1</td>\n",
       "      <td>6457.0</td>\n",
       "      <td>6.0</td>\n",
       "      <td>0</td>\n",
       "      <td>3</td>\n",
       "      <td>7</td>\n",
       "      <td>18</td>\n",
       "    </tr>\n",
       "    <tr>\n",
       "      <th>5703</th>\n",
       "      <td>0</td>\n",
       "      <td>1992.0</td>\n",
       "      <td>167.0</td>\n",
       "      <td>8.1</td>\n",
       "      <td>4832.0</td>\n",
       "      <td>8.0</td>\n",
       "      <td>0</td>\n",
       "      <td>3</td>\n",
       "      <td>3</td>\n",
       "      <td>5</td>\n",
       "    </tr>\n",
       "  </tbody>\n",
       "</table>\n",
       "</div>"
      ],
      "text/plain": [
       "      titleType  startYear  runtimeMinutes  averageRating  numVotes  ordering  \\\n",
       "6927          0     2015.0           104.0            7.1    4611.0       3.0   \n",
       "7197          0     2017.0            95.0            6.7    3128.0      12.0   \n",
       "821           3     2004.0            45.0            7.6  133589.0       1.0   \n",
       "2946          3     2012.0            28.0            7.4   25894.0      18.0   \n",
       "4671          0     2018.0           121.0            6.9   27878.0      18.0   \n",
       "2202          3     2022.0            60.0            6.5   28509.0      25.0   \n",
       "2100          3     2010.0            11.0            8.6  102411.0      58.0   \n",
       "3262          0     2022.0            89.0            7.2    3011.0      15.0   \n",
       "4527          3     2016.0            43.0            7.6    3291.0       7.0   \n",
       "5782          3     2001.0            24.0            8.4   22050.0       1.0   \n",
       "6405          0     2009.0           106.0            6.9    8161.0      13.0   \n",
       "1534          0     2020.0            85.0            6.9    4783.0       1.0   \n",
       "4672          1     2018.0            60.0            7.2   10595.0      33.0   \n",
       "7357          0     2018.0            95.0            7.4   31861.0      29.0   \n",
       "4374          3     2016.0            43.0            6.9    7360.0       3.0   \n",
       "2794          0     2015.0           116.0            7.2  321015.0      16.0   \n",
       "2607          3     2009.0            90.0            8.7   34770.0      18.0   \n",
       "6033          0     2004.0           100.0            7.2  111227.0      34.0   \n",
       "6904          0     2014.0            83.0            7.1    6457.0       6.0   \n",
       "5703          0     1992.0           167.0            8.1    4832.0       8.0   \n",
       "\n",
       "      region  types  main_genre  secondary_genre  \n",
       "6927       0      3           6               19  \n",
       "7197       0      3           3                3  \n",
       "821        2      3           4                6  \n",
       "2946       2      3           4                6  \n",
       "4671       2      3           0                4  \n",
       "2202       2      3           7               11  \n",
       "2100       2      3           0                0  \n",
       "3262       2      3           3                5  \n",
       "4527       2      3          16               16  \n",
       "5782       0      3           0                0  \n",
       "6405       0      3           7               24  \n",
       "1534       2      3           7               16  \n",
       "4672       2      3           5                6  \n",
       "7357       0      3           4                4  \n",
       "4374       2      3           7                8  \n",
       "2794       2      3           0                0  \n",
       "2607       2      3           5                6  \n",
       "6033       0      3           6               16  \n",
       "6904       0      3           7               18  \n",
       "5703       0      3           3                5  "
      ]
     },
     "execution_count": 355,
     "metadata": {},
     "output_type": "execute_result"
    }
   ],
   "source": [
    "sample_df = df_moviesAlgoritmo2.sample(n=20)\n",
    "sample_df"
   ]
  },
  {
   "cell_type": "markdown",
   "metadata": {},
   "source": [
    "Creacion del algoritmo,m primero: Escalar datos para el mejor rendimiento posible"
   ]
  },
  {
   "cell_type": "code",
   "execution_count": 392,
   "metadata": {},
   "outputs": [],
   "source": [
    "datosEscalados = StandardScaler().fit_transform(df_moviesAlgoritmo2)\n"
   ]
  },
  {
   "cell_type": "markdown",
   "metadata": {},
   "source": [
    "## 6. Iteración 1. Tercer Modelo"
   ]
  },
  {
   "cell_type": "markdown",
   "metadata": {},
   "source": [
    "### 6.1 Preparar los datos\n",
    "A nivel de preparación de datos debemos fijarnos en:\n",
    "- A. Correcciones relacionadas con problemas de calidad de dato: nulos, duplicados, inconsistencia, diferencia de formatos, etc.\n",
    "- B. Preparación relacionada con la tarea de aprendizaje\n",
    "    - Selección de columnas a incluir de acuerdo con la tarea de aprendizaje a realizar y el conocimiento del contexto del negocio\n",
    "    - ...\n",
    "- C. Preparación de acuerdo con el algoritmo a utilizar, en este caso K-means\n",
    "    Al revisar k-means vemos que el algoritmo trabaja únicamente con datos numéricos, y no nulos así que si vamos a incluir datos categóricos debemos transformarlos a numéricos y si tenemos datos nulos debemos transformalos y en el peor escenario retirarlos del modelo ya sea la fila que los incluye o toda la columna si el porcentaje de estos valores es alto."
   ]
  },
  {
   "cell_type": "markdown",
   "metadata": {},
   "source": [
    "### 7 Analizar y concluir"
   ]
  }
 ],
 "metadata": {
  "kernelspec": {
   "display_name": "base",
   "language": "python",
   "name": "python3"
  },
  "language_info": {
   "codemirror_mode": {
    "name": "ipython",
    "version": 3
   },
   "file_extension": ".py",
   "mimetype": "text/x-python",
   "name": "python",
   "nbconvert_exporter": "python",
   "pygments_lexer": "ipython3",
   "version": "3.8.5"
  },
  "orig_nbformat": 4
 },
 "nbformat": 4,
 "nbformat_minor": 2
}
