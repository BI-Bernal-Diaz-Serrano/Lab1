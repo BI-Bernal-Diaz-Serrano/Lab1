{
 "cells": [
  {
   "cell_type": "markdown",
   "metadata": {},
   "source": [
    "## 1. Carga de librerías necesarias para implementación"
   ]
  },
  {
   "cell_type": "code",
   "execution_count": 342,
   "metadata": {},
   "outputs": [
    {
     "name": "stdout",
     "output_type": "stream",
     "text": [
      "c:\\Users\\User\\Lab1\n"
     ]
    }
   ],
   "source": [
    "import sklearn\n",
    "import pandas as pd\n",
    "import numpy as np\n",
    "import matplotlib.pyplot as plt\n",
    "import seaborn as sns; sns.set()  # for plot styling\n",
    "from sklearn.preprocessing import LabelEncoder\n",
    "\n",
    "from sklearn.cluster import KMeans\n",
    "from sklearn.metrics import silhouette_samples, silhouette_score\n",
    "from sklearn.preprocessing import MinMaxScaler\n",
    "from sklearn.preprocessing import StandardScaler\n",
    "from sklearn.preprocessing import OneHotEncoder\n",
    "\n",
    "from matplotlib import cm\n",
    "from mpl_toolkits.mplot3d import Axes3D # for 3D plots\n",
    "from sklearn.decomposition import PCA\n",
    "\n",
    "from sklearn.datasets import make_moons\n",
    "import matplotlib.pyplot as plt\n",
    "import numpy as np\n",
    "from sklearn.cluster import DBSCAN\n",
    "from sklearn.preprocessing import StandardScaler\n",
    "import matplotlib.pyplot as plt\n",
    "import os\n",
    "print(os.getcwd()) # dice donde cree que es el repositorio donde esta trabajando para hacer el path relativo funcional"
   ]
  },
  {
   "cell_type": "markdown",
   "metadata": {},
   "source": [
    "## 2. Cargar los datos"
   ]
  },
  {
   "cell_type": "code",
   "execution_count": 343,
   "metadata": {},
   "outputs": [],
   "source": [
    "df_movies = pd.read_csv('data/MovieAlpes_data.csv', sep=';', encoding='utf-8')\n",
    "df_algoritmo2=pd.read_csv('data/MovieAlpes_data.csv', sep=';', encoding='utf-8')"
   ]
  },
  {
   "cell_type": "markdown",
   "metadata": {},
   "source": [
    "## 3. Entendimiento de los datos "
   ]
  },
  {
   "cell_type": "markdown",
   "metadata": {},
   "source": [
    "### 3.1. Perfilamiento de datos"
   ]
  },
  {
   "cell_type": "code",
   "execution_count": 344,
   "metadata": {},
   "outputs": [
    {
     "data": {
      "text/plain": [
       "(7471, 18)"
      ]
     },
     "execution_count": 344,
     "metadata": {},
     "output_type": "execute_result"
    }
   ],
   "source": [
    "df_movies.shape"
   ]
  },
  {
   "cell_type": "code",
   "execution_count": 345,
   "metadata": {},
   "outputs": [
    {
     "data": {
      "text/html": [
       "<div>\n",
       "<style scoped>\n",
       "    .dataframe tbody tr th:only-of-type {\n",
       "        vertical-align: middle;\n",
       "    }\n",
       "\n",
       "    .dataframe tbody tr th {\n",
       "        vertical-align: top;\n",
       "    }\n",
       "\n",
       "    .dataframe thead th {\n",
       "        text-align: right;\n",
       "    }\n",
       "</style>\n",
       "<table border=\"1\" class=\"dataframe\">\n",
       "  <thead>\n",
       "    <tr style=\"text-align: right;\">\n",
       "      <th></th>\n",
       "      <th>#</th>\n",
       "      <th>index</th>\n",
       "      <th>tconst</th>\n",
       "      <th>titleType</th>\n",
       "      <th>originalTitle</th>\n",
       "      <th>isAdult</th>\n",
       "      <th>startYear</th>\n",
       "      <th>runtimeMinutes</th>\n",
       "      <th>averageRating</th>\n",
       "      <th>numVotes</th>\n",
       "      <th>ordering</th>\n",
       "      <th>region</th>\n",
       "      <th>language</th>\n",
       "      <th>types</th>\n",
       "      <th>attributes</th>\n",
       "      <th>isOriginalTitle</th>\n",
       "      <th>main_genre</th>\n",
       "      <th>secondary_genre</th>\n",
       "    </tr>\n",
       "  </thead>\n",
       "  <tbody>\n",
       "    <tr>\n",
       "      <th>0</th>\n",
       "      <td>1</td>\n",
       "      <td>1</td>\n",
       "      <td>tt0103064</td>\n",
       "      <td>movie</td>\n",
       "      <td>Terminator 2: Judgment Day</td>\n",
       "      <td>0.0</td>\n",
       "      <td>1991.0</td>\n",
       "      <td>137</td>\n",
       "      <td>8.6</td>\n",
       "      <td>1128166.0</td>\n",
       "      <td>17.0</td>\n",
       "      <td>US</td>\n",
       "      <td>en</td>\n",
       "      <td>dvd</td>\n",
       "      <td>\\N</td>\n",
       "      <td>0.0</td>\n",
       "      <td>Action</td>\n",
       "      <td>Sci-Fi</td>\n",
       "    </tr>\n",
       "    <tr>\n",
       "      <th>1</th>\n",
       "      <td>10</td>\n",
       "      <td>17</td>\n",
       "      <td>tt0231050</td>\n",
       "      <td>tvSeries</td>\n",
       "      <td>ToransufÃ´mÃ¢: KÃ¢robotto</td>\n",
       "      <td>0.0</td>\n",
       "      <td>2000.0</td>\n",
       "      <td>22</td>\n",
       "      <td>6.6</td>\n",
       "      <td>577.0</td>\n",
       "      <td>16.0</td>\n",
       "      <td>US</td>\n",
       "      <td>en</td>\n",
       "      <td>alternative</td>\n",
       "      <td>\\N</td>\n",
       "      <td>0.0</td>\n",
       "      <td>Action</td>\n",
       "      <td>Adventure</td>\n",
       "    </tr>\n",
       "    <tr>\n",
       "      <th>2</th>\n",
       "      <td>13</td>\n",
       "      <td>23</td>\n",
       "      <td>tt0253474</td>\n",
       "      <td>movie</td>\n",
       "      <td>The Pianist</td>\n",
       "      <td>0.0</td>\n",
       "      <td>2002.0</td>\n",
       "      <td>150</td>\n",
       "      <td>8.5</td>\n",
       "      <td>860569.0</td>\n",
       "      <td>7.0</td>\n",
       "      <td>US</td>\n",
       "      <td>en</td>\n",
       "      <td>imdbDisplay</td>\n",
       "      <td>\\N</td>\n",
       "      <td>0.0</td>\n",
       "      <td>Biography</td>\n",
       "      <td>Drama</td>\n",
       "    </tr>\n",
       "    <tr>\n",
       "      <th>3</th>\n",
       "      <td>21</td>\n",
       "      <td>55</td>\n",
       "      <td>tt0369339</td>\n",
       "      <td>movie</td>\n",
       "      <td>Collateral</td>\n",
       "      <td>0.0</td>\n",
       "      <td>2004.0</td>\n",
       "      <td>120</td>\n",
       "      <td>7.5</td>\n",
       "      <td>417391.0</td>\n",
       "      <td>6.0</td>\n",
       "      <td>US</td>\n",
       "      <td>en</td>\n",
       "      <td>imdbDisplay</td>\n",
       "      <td>\\N</td>\n",
       "      <td>0.0</td>\n",
       "      <td>Action</td>\n",
       "      <td>Crime</td>\n",
       "    </tr>\n",
       "    <tr>\n",
       "      <th>4</th>\n",
       "      <td>28</td>\n",
       "      <td>87</td>\n",
       "      <td>tt0439547</td>\n",
       "      <td>movie</td>\n",
       "      <td>2 Filhos de Francisco: A HistÃ³ria de ZezÃ© di...</td>\n",
       "      <td>0.0</td>\n",
       "      <td>2005.0</td>\n",
       "      <td>132</td>\n",
       "      <td>6.9</td>\n",
       "      <td>5946.0</td>\n",
       "      <td>5.0</td>\n",
       "      <td>US</td>\n",
       "      <td>en</td>\n",
       "      <td>imdbDisplay</td>\n",
       "      <td>\\N</td>\n",
       "      <td>0.0</td>\n",
       "      <td>Biography</td>\n",
       "      <td>Drama</td>\n",
       "    </tr>\n",
       "  </tbody>\n",
       "</table>\n",
       "</div>"
      ],
      "text/plain": [
       "    #  index     tconst titleType  \\\n",
       "0   1      1  tt0103064     movie   \n",
       "1  10     17  tt0231050  tvSeries   \n",
       "2  13     23  tt0253474     movie   \n",
       "3  21     55  tt0369339     movie   \n",
       "4  28     87  tt0439547     movie   \n",
       "\n",
       "                                       originalTitle  isAdult  startYear  \\\n",
       "0                         Terminator 2: Judgment Day      0.0     1991.0   \n",
       "1                          ToransufÃ´mÃ¢: KÃ¢robotto      0.0     2000.0   \n",
       "2                                        The Pianist      0.0     2002.0   \n",
       "3                                         Collateral      0.0     2004.0   \n",
       "4  2 Filhos de Francisco: A HistÃ³ria de ZezÃ© di...      0.0     2005.0   \n",
       "\n",
       "  runtimeMinutes  averageRating   numVotes  ordering region language  \\\n",
       "0            137            8.6  1128166.0      17.0     US       en   \n",
       "1             22            6.6      577.0      16.0     US       en   \n",
       "2            150            8.5   860569.0       7.0     US       en   \n",
       "3            120            7.5   417391.0       6.0     US       en   \n",
       "4            132            6.9     5946.0       5.0     US       en   \n",
       "\n",
       "         types attributes  isOriginalTitle main_genre secondary_genre  \n",
       "0          dvd         \\N              0.0     Action          Sci-Fi  \n",
       "1  alternative         \\N              0.0     Action       Adventure  \n",
       "2  imdbDisplay         \\N              0.0  Biography           Drama  \n",
       "3  imdbDisplay         \\N              0.0     Action           Crime  \n",
       "4  imdbDisplay         \\N              0.0  Biography           Drama  "
      ]
     },
     "execution_count": 345,
     "metadata": {},
     "output_type": "execute_result"
    }
   ],
   "source": [
    "df_movies.head()"
   ]
  },
  {
   "cell_type": "code",
   "execution_count": 346,
   "metadata": {},
   "outputs": [
    {
     "name": "stdout",
     "output_type": "stream",
     "text": [
      "<class 'pandas.core.frame.DataFrame'>\n",
      "RangeIndex: 7471 entries, 0 to 7470\n",
      "Data columns (total 18 columns):\n",
      " #   Column           Non-Null Count  Dtype  \n",
      "---  ------           --------------  -----  \n",
      " 0   #                7471 non-null   int64  \n",
      " 1   index            7471 non-null   int64  \n",
      " 2   tconst           7471 non-null   object \n",
      " 3   titleType        7471 non-null   object \n",
      " 4   originalTitle    7471 non-null   object \n",
      " 5   isAdult          7470 non-null   float64\n",
      " 6   startYear        7470 non-null   float64\n",
      " 7   runtimeMinutes   7470 non-null   object \n",
      " 8   averageRating    7470 non-null   float64\n",
      " 9   numVotes         7470 non-null   float64\n",
      " 10  ordering         7470 non-null   float64\n",
      " 11  region           7470 non-null   object \n",
      " 12  language         7470 non-null   object \n",
      " 13  types            7470 non-null   object \n",
      " 14  attributes       7470 non-null   object \n",
      " 15  isOriginalTitle  7470 non-null   float64\n",
      " 16  main_genre       7470 non-null   object \n",
      " 17  secondary_genre  7470 non-null   object \n",
      "dtypes: float64(6), int64(2), object(10)\n",
      "memory usage: 1.0+ MB\n"
     ]
    }
   ],
   "source": [
    "# Revisar las características de los datos: completitud y tipo de dat\n",
    "df_movies.info()"
   ]
  },
  {
   "cell_type": "code",
   "execution_count": 347,
   "metadata": {},
   "outputs": [
    {
     "data": {
      "text/html": [
       "<div>\n",
       "<style scoped>\n",
       "    .dataframe tbody tr th:only-of-type {\n",
       "        vertical-align: middle;\n",
       "    }\n",
       "\n",
       "    .dataframe tbody tr th {\n",
       "        vertical-align: top;\n",
       "    }\n",
       "\n",
       "    .dataframe thead th {\n",
       "        text-align: right;\n",
       "    }\n",
       "</style>\n",
       "<table border=\"1\" class=\"dataframe\">\n",
       "  <thead>\n",
       "    <tr style=\"text-align: right;\">\n",
       "      <th></th>\n",
       "      <th>#</th>\n",
       "      <th>index</th>\n",
       "      <th>isAdult</th>\n",
       "      <th>startYear</th>\n",
       "      <th>averageRating</th>\n",
       "      <th>numVotes</th>\n",
       "      <th>ordering</th>\n",
       "      <th>isOriginalTitle</th>\n",
       "    </tr>\n",
       "  </thead>\n",
       "  <tbody>\n",
       "    <tr>\n",
       "      <th>count</th>\n",
       "      <td>7471.000000</td>\n",
       "      <td>7471.000000</td>\n",
       "      <td>7470.0</td>\n",
       "      <td>7470.000000</td>\n",
       "      <td>7470.000000</td>\n",
       "      <td>7.470000e+03</td>\n",
       "      <td>7470.000000</td>\n",
       "      <td>7470.0</td>\n",
       "    </tr>\n",
       "    <tr>\n",
       "      <th>mean</th>\n",
       "      <td>4043.482666</td>\n",
       "      <td>5440.458439</td>\n",
       "      <td>0.0</td>\n",
       "      <td>2013.157296</td>\n",
       "      <td>7.475676</td>\n",
       "      <td>7.282830e+04</td>\n",
       "      <td>16.567604</td>\n",
       "      <td>0.0</td>\n",
       "    </tr>\n",
       "    <tr>\n",
       "      <th>std</th>\n",
       "      <td>2192.753689</td>\n",
       "      <td>2752.820924</td>\n",
       "      <td>0.0</td>\n",
       "      <td>6.979151</td>\n",
       "      <td>2.771444</td>\n",
       "      <td>1.640233e+05</td>\n",
       "      <td>12.761147</td>\n",
       "      <td>0.0</td>\n",
       "    </tr>\n",
       "    <tr>\n",
       "      <th>min</th>\n",
       "      <td>1.000000</td>\n",
       "      <td>1.000000</td>\n",
       "      <td>0.0</td>\n",
       "      <td>1990.000000</td>\n",
       "      <td>6.500000</td>\n",
       "      <td>1.000000e+01</td>\n",
       "      <td>1.000000</td>\n",
       "      <td>0.0</td>\n",
       "    </tr>\n",
       "    <tr>\n",
       "      <th>25%</th>\n",
       "      <td>2152.500000</td>\n",
       "      <td>3073.500000</td>\n",
       "      <td>0.0</td>\n",
       "      <td>2008.000000</td>\n",
       "      <td>6.900000</td>\n",
       "      <td>6.265250e+03</td>\n",
       "      <td>6.000000</td>\n",
       "      <td>0.0</td>\n",
       "    </tr>\n",
       "    <tr>\n",
       "      <th>50%</th>\n",
       "      <td>4033.000000</td>\n",
       "      <td>5421.000000</td>\n",
       "      <td>0.0</td>\n",
       "      <td>2015.000000</td>\n",
       "      <td>7.300000</td>\n",
       "      <td>1.527900e+04</td>\n",
       "      <td>14.000000</td>\n",
       "      <td>0.0</td>\n",
       "    </tr>\n",
       "    <tr>\n",
       "      <th>75%</th>\n",
       "      <td>5914.500000</td>\n",
       "      <td>7641.500000</td>\n",
       "      <td>0.0</td>\n",
       "      <td>2019.000000</td>\n",
       "      <td>7.800000</td>\n",
       "      <td>5.641975e+04</td>\n",
       "      <td>24.000000</td>\n",
       "      <td>0.0</td>\n",
       "    </tr>\n",
       "    <tr>\n",
       "      <th>max</th>\n",
       "      <td>7849.000000</td>\n",
       "      <td>10274.000000</td>\n",
       "      <td>0.0</td>\n",
       "      <td>2023.000000</td>\n",
       "      <td>92.000000</td>\n",
       "      <td>2.197234e+06</td>\n",
       "      <td>119.000000</td>\n",
       "      <td>0.0</td>\n",
       "    </tr>\n",
       "  </tbody>\n",
       "</table>\n",
       "</div>"
      ],
      "text/plain": [
       "                 #         index  isAdult    startYear  averageRating  \\\n",
       "count  7471.000000   7471.000000   7470.0  7470.000000    7470.000000   \n",
       "mean   4043.482666   5440.458439      0.0  2013.157296       7.475676   \n",
       "std    2192.753689   2752.820924      0.0     6.979151       2.771444   \n",
       "min       1.000000      1.000000      0.0  1990.000000       6.500000   \n",
       "25%    2152.500000   3073.500000      0.0  2008.000000       6.900000   \n",
       "50%    4033.000000   5421.000000      0.0  2015.000000       7.300000   \n",
       "75%    5914.500000   7641.500000      0.0  2019.000000       7.800000   \n",
       "max    7849.000000  10274.000000      0.0  2023.000000      92.000000   \n",
       "\n",
       "           numVotes     ordering  isOriginalTitle  \n",
       "count  7.470000e+03  7470.000000           7470.0  \n",
       "mean   7.282830e+04    16.567604              0.0  \n",
       "std    1.640233e+05    12.761147              0.0  \n",
       "min    1.000000e+01     1.000000              0.0  \n",
       "25%    6.265250e+03     6.000000              0.0  \n",
       "50%    1.527900e+04    14.000000              0.0  \n",
       "75%    5.641975e+04    24.000000              0.0  \n",
       "max    2.197234e+06   119.000000              0.0  "
      ]
     },
     "execution_count": 347,
     "metadata": {},
     "output_type": "execute_result"
    }
   ],
   "source": [
    "# Resumen de los estadisticos de las variables numéricas\n",
    "df_movies.describe()"
   ]
  },
  {
   "cell_type": "code",
   "execution_count": 348,
   "metadata": {},
   "outputs": [
    {
     "data": {
      "image/png": "[encoded data removed]",
      "text/plain": [
       "<Figure size 1440x576 with 1 Axes>"
      ]
     },
     "metadata": {},
     "output_type": "display_data"
    }
   ],
   "source": [
    "#Visualización de todas las variables numéricas\n",
    "fig=plt.figure(figsize=(20,8))\n",
    "ax = sns.boxplot(data=df_movies, orient=\"v\")"
   ]
  },
  {
   "cell_type": "code",
   "execution_count": 349,
   "metadata": {},
   "outputs": [
    {
     "name": "stdout",
     "output_type": "stream",
     "text": [
      "Columnas con tipo de dato 'float': Index(['isAdult', 'startYear', 'averageRating', 'numVotes', 'ordering',\n",
      "       'isOriginalTitle'],\n",
      "      dtype='object')\n",
      "Columnas con tipo de dato 'int64': Index(['#', 'index'], dtype='object')\n"
     ]
    }
   ],
   "source": [
    "#Separación de las variables float de las int\n",
    "name_cols_float = df_movies.select_dtypes(include = ['float']).columns\n",
    "print(\"Columnas con tipo de dato 'float':\", name_cols_float)\n",
    "\n",
    "name_cols_int = df_movies.select_dtypes(include = ['int64']).columns\n",
    "print(\"Columnas con tipo de dato 'int64':\", name_cols_int)\n"
   ]
  },
  {
   "cell_type": "code",
   "execution_count": 350,
   "metadata": {},
   "outputs": [
    {
     "data": {
      "image/png": "[encoded data removed]",
      "text/plain": [
       "<Figure size 1440x576 with 1 Axes>"
      ]
     },
     "metadata": {},
     "output_type": "display_data"
    }
   ],
   "source": [
    "#Visualización de todas las variables numéricas de tipo Float\n",
    "fig=plt.figure(figsize=(20,8))\n",
    "ax = sns.boxplot(data=df_movies[name_cols_float], orient=\"v\")"
   ]
  },
  {
   "cell_type": "code",
   "execution_count": 351,
   "metadata": {},
   "outputs": [
    {
     "data": {
      "image/png": "[encoded data removed]",
      "text/plain": [
       "<Figure size 1440x576 with 1 Axes>"
      ]
     },
     "metadata": {},
     "output_type": "display_data"
    }
   ],
   "source": [
    "#Visualización de todas las variables numéricas de tipo int\n",
    "fig=plt.figure(figsize=(20,8))\n",
    "ax = sns.boxplot(data=df_movies[name_cols_int], orient=\"v\")"
   ]
  },
  {
   "cell_type": "code",
   "execution_count": 352,
   "metadata": {},
   "outputs": [
    {
     "name": "stdout",
     "output_type": "stream",
     "text": [
      "Columnas con tipo de dato 'object' (generalmente textuales): Index(['tconst', 'titleType', 'originalTitle', 'runtimeMinutes', 'region',\n",
      "       'language', 'types', 'attributes', 'main_genre', 'secondary_genre'],\n",
      "      dtype='object')\n"
     ]
    }
   ],
   "source": [
    "# Explorar las variables que no son numéricas\n",
    "name_cols_non_number = df_movies.select_dtypes(include = ['object']).columns\n",
    "print(\"Columnas con tipo de dato 'object' (generalmente textuales):\", name_cols_non_number)"
   ]
  },
  {
   "cell_type": "code",
   "execution_count": 353,
   "metadata": {},
   "outputs": [
    {
     "data": {
      "text/html": [
       "<div>\n",
       "<style scoped>\n",
       "    .dataframe tbody tr th:only-of-type {\n",
       "        vertical-align: middle;\n",
       "    }\n",
       "\n",
       "    .dataframe tbody tr th {\n",
       "        vertical-align: top;\n",
       "    }\n",
       "\n",
       "    .dataframe thead th {\n",
       "        text-align: right;\n",
       "    }\n",
       "</style>\n",
       "<table border=\"1\" class=\"dataframe\">\n",
       "  <thead>\n",
       "    <tr style=\"text-align: right;\">\n",
       "      <th></th>\n",
       "      <th>tconst</th>\n",
       "      <th>titleType</th>\n",
       "      <th>originalTitle</th>\n",
       "      <th>runtimeMinutes</th>\n",
       "      <th>region</th>\n",
       "      <th>language</th>\n",
       "      <th>types</th>\n",
       "      <th>attributes</th>\n",
       "      <th>main_genre</th>\n",
       "      <th>secondary_genre</th>\n",
       "    </tr>\n",
       "  </thead>\n",
       "  <tbody>\n",
       "    <tr>\n",
       "      <th>count</th>\n",
       "      <td>7471</td>\n",
       "      <td>7471</td>\n",
       "      <td>7471</td>\n",
       "      <td>7470</td>\n",
       "      <td>7470</td>\n",
       "      <td>7470</td>\n",
       "      <td>7470</td>\n",
       "      <td>7470</td>\n",
       "      <td>7470</td>\n",
       "      <td>7470</td>\n",
       "    </tr>\n",
       "    <tr>\n",
       "      <th>unique</th>\n",
       "      <td>7466</td>\n",
       "      <td>7</td>\n",
       "      <td>7290</td>\n",
       "      <td>362</td>\n",
       "      <td>4</td>\n",
       "      <td>1</td>\n",
       "      <td>5</td>\n",
       "      <td>1</td>\n",
       "      <td>22</td>\n",
       "      <td>26</td>\n",
       "    </tr>\n",
       "    <tr>\n",
       "      <th>top</th>\n",
       "      <td>tt0386741</td>\n",
       "      <td>movie</td>\n",
       "      <td>Candy</td>\n",
       "      <td>60</td>\n",
       "      <td>IN</td>\n",
       "      <td>en</td>\n",
       "      <td>imdbDisplay</td>\n",
       "      <td>\\N</td>\n",
       "      <td>Drama</td>\n",
       "      <td>Drama</td>\n",
       "    </tr>\n",
       "    <tr>\n",
       "      <th>freq</th>\n",
       "      <td>2</td>\n",
       "      <td>4673</td>\n",
       "      <td>3</td>\n",
       "      <td>534</td>\n",
       "      <td>5590</td>\n",
       "      <td>7470</td>\n",
       "      <td>7395</td>\n",
       "      <td>7470</td>\n",
       "      <td>1767</td>\n",
       "      <td>2428</td>\n",
       "    </tr>\n",
       "  </tbody>\n",
       "</table>\n",
       "</div>"
      ],
      "text/plain": [
       "           tconst titleType originalTitle runtimeMinutes region language  \\\n",
       "count        7471      7471          7471           7470   7470     7470   \n",
       "unique       7466         7          7290            362      4        1   \n",
       "top     tt0386741     movie         Candy             60     IN       en   \n",
       "freq            2      4673             3            534   5590     7470   \n",
       "\n",
       "              types attributes main_genre secondary_genre  \n",
       "count          7470       7470       7470            7470  \n",
       "unique            5          1         22              26  \n",
       "top     imdbDisplay         \\N      Drama           Drama  \n",
       "freq           7395       7470       1767            2428  "
      ]
     },
     "execution_count": 353,
     "metadata": {},
     "output_type": "execute_result"
    }
   ],
   "source": [
    "#Revisar el contenido de las variables que no son numéricas, en este caso son categóricas\n",
    "df_movies[name_cols_non_number].describe()"
   ]
  },
  {
   "cell_type": "code",
   "execution_count": 354,
   "metadata": {},
   "outputs": [
    {
     "name": "stdout",
     "output_type": "stream",
     "text": [
      "Distribución de valores para 'tconst':\n",
      "tt0386741     2\n",
      "tt0395843     2\n",
      "tt12443930    2\n",
      "tt1535109     2\n",
      "tt0390538     2\n",
      "Name: tconst, dtype: int64\n",
      "\n",
      "\n",
      "Distribución de valores para 'titleType':\n",
      "movie           4673\n",
      "tvSeries        2340\n",
      "tvMiniSeries     379\n",
      "tvMovie           70\n",
      "MOVIE              5\n",
      "Name: titleType, dtype: int64\n"
     ]
    },
    {
     "data": {
      "image/png": "[encoded data removed]",
      "text/plain": [
       "<Figure size 432x288 with 1 Axes>"
      ]
     },
     "metadata": {},
     "output_type": "display_data"
    },
    {
     "name": "stdout",
     "output_type": "stream",
     "text": [
      "\n",
      "\n",
      "Distribución de valores para 'originalTitle':\n",
      "Candy        3\n",
      "Life         3\n",
      "Monster      3\n",
      "Limitless    3\n",
      "Taken        3\n",
      "Name: originalTitle, dtype: int64\n",
      "\n",
      "\n",
      "Distribución de valores para 'runtimeMinutes':\n",
      "60    534\n",
      "30    340\n",
      "45    184\n",
      "22    138\n",
      "43    114\n",
      "Name: runtimeMinutes, dtype: int64\n",
      "\n",
      "\n",
      "Distribución de valores para 'region':\n",
      "IN    5590\n",
      "CA    1782\n",
      "US      94\n",
      "GB       4\n",
      "Name: region, dtype: int64\n"
     ]
    },
    {
     "data": {
      "image/png": "[encoded data removed]",
      "text/plain": [
       "<Figure size 432x288 with 1 Axes>"
      ]
     },
     "metadata": {},
     "output_type": "display_data"
    },
    {
     "name": "stdout",
     "output_type": "stream",
     "text": [
      "\n",
      "\n",
      "Distribución de valores para 'language':\n",
      "en    7470\n",
      "Name: language, dtype: int64\n"
     ]
    },
    {
     "data": {
      "image/png": "[encoded data removed]",
      "text/plain": [
       "<Figure size 432x288 with 1 Axes>"
      ]
     },
     "metadata": {},
     "output_type": "display_data"
    },
    {
     "name": "stdout",
     "output_type": "stream",
     "text": [
      "\n",
      "\n",
      "Distribución de valores para 'types':\n",
      "imdbDisplay    7395\n",
      "working          38\n",
      "alternative      24\n",
      "festival         11\n",
      "dvd               2\n",
      "Name: types, dtype: int64\n"
     ]
    },
    {
     "data": {
      "image/png": "[encoded data removed]",
      "text/plain": [
       "<Figure size 432x288 with 1 Axes>"
      ]
     },
     "metadata": {},
     "output_type": "display_data"
    },
    {
     "name": "stdout",
     "output_type": "stream",
     "text": [
      "\n",
      "\n",
      "Distribución de valores para 'attributes':\n",
      "\\N    7470\n",
      "Name: attributes, dtype: int64\n"
     ]
    },
    {
     "data": {
      "image/png": "[encoded data removed]",
      "text/plain": [
       "<Figure size 432x288 with 1 Axes>"
      ]
     },
     "metadata": {},
     "output_type": "display_data"
    },
    {
     "name": "stdout",
     "output_type": "stream",
     "text": [
      "\n",
      "\n",
      "Distribución de valores para 'main_genre':\n",
      "Drama        1767\n",
      "Comedy       1615\n",
      "Action       1571\n",
      "Crime         867\n",
      "Biography     597\n",
      "Name: main_genre, dtype: int64\n"
     ]
    },
    {
     "data": {
      "image/png": "[encoded data removed]",
      "text/plain": [
       "<Figure size 432x288 with 1 Axes>"
      ]
     },
     "metadata": {},
     "output_type": "display_data"
    },
    {
     "name": "stdout",
     "output_type": "stream",
     "text": [
      "\n",
      "\n",
      "Distribución de valores para 'secondary_genre':\n",
      "Drama        2428\n",
      "No tiene     1052\n",
      "Crime         634\n",
      "Adventure     574\n",
      "Romance       453\n",
      "Name: secondary_genre, dtype: int64\n"
     ]
    },
    {
     "data": {
      "image/png": "[encoded data removed]",
      "text/plain": [
       "<Figure size 432x288 with 1 Axes>"
      ]
     },
     "metadata": {},
     "output_type": "display_data"
    },
    {
     "name": "stdout",
     "output_type": "stream",
     "text": [
      "\n",
      "\n"
     ]
    }
   ],
   "source": [
    "# Lista de columnas a analizar\n",
    "cols_to_analyze = ['tconst', 'titleType', 'originalTitle', 'runtimeMinutes', 'region', 'language', 'types', 'attributes', 'main_genre', 'secondary_genre']\n",
    "\n",
    "for col in cols_to_analyze:\n",
    "    print(f\"Distribución de valores para '{col}':\")\n",
    "    value_counts = df_movies[col].value_counts()\n",
    "    print(value_counts.head())  # Mostrar los 5 valores más comunes\n",
    "    \n",
    "    # Graficar si la columna tiene menos de 30 valores únicos para mejor visualización\n",
    "    if len(value_counts) < 30:\n",
    "        value_counts.plot(kind='bar')\n",
    "        plt.title(f\"Distribución de '{col}'\")\n",
    "        plt.ylabel('Número de películas')\n",
    "        plt.show()\n",
    "    \n",
    "    print(\"\\n\")  # Separación entre análisis\n"
   ]
  },
  {
   "cell_type": "code",
   "execution_count": 355,
   "metadata": {},
   "outputs": [
    {
     "data": {
      "image/png": "[encoded data removed]",
      "text/plain": [
       "<Figure size 1185.35x1080 with 8 Axes>"
      ]
     },
     "metadata": {},
     "output_type": "display_data"
    }
   ],
   "source": [
    "# Reemplaza '\\\\N' por NaN\n",
    "df_movies['runtimeMinutes'].replace('\\\\N', np.nan, inplace=True)\n",
    "\n",
    "# Convierte a float\n",
    "df_movies['runtimeMinutes'] = df_movies['runtimeMinutes'].astype(float)\n",
    "\n",
    "# Contamos cuántas películas hay por cada género\n",
    "genre_counts = df_movies['main_genre'].value_counts()\n",
    "\n",
    "# Filtramos los géneros que tienen, por ejemplo, más de 100 películas\n",
    "selected_genres = genre_counts[genre_counts > 100].index\n",
    "\n",
    "# Filtra el DataFrame para incluir solo los géneros seleccionados\n",
    "filtered_movies = df_movies[df_movies['main_genre'].isin(selected_genres)]\n",
    "\n",
    "# Grafica las distribuciones para estos géneros\n",
    "sns.displot(data=filtered_movies, x=\"runtimeMinutes\", hue=\"main_genre\", col=\"main_genre\", col_wrap=3, bins=30)\n",
    "plt.show()\n"
   ]
  },
  {
   "cell_type": "code",
   "execution_count": 356,
   "metadata": {},
   "outputs": [
    {
     "data": {
      "text/html": [
       "<div>\n",
       "<style scoped>\n",
       "    .dataframe tbody tr th:only-of-type {\n",
       "        vertical-align: middle;\n",
       "    }\n",
       "\n",
       "    .dataframe tbody tr th {\n",
       "        vertical-align: top;\n",
       "    }\n",
       "\n",
       "    .dataframe thead th {\n",
       "        text-align: right;\n",
       "    }\n",
       "</style>\n",
       "<table border=\"1\" class=\"dataframe\">\n",
       "  <thead>\n",
       "    <tr style=\"text-align: right;\">\n",
       "      <th></th>\n",
       "      <th>tconst</th>\n",
       "      <th>titleType</th>\n",
       "      <th>originalTitle</th>\n",
       "      <th>region</th>\n",
       "      <th>language</th>\n",
       "      <th>types</th>\n",
       "      <th>attributes</th>\n",
       "      <th>main_genre</th>\n",
       "      <th>secondary_genre</th>\n",
       "    </tr>\n",
       "  </thead>\n",
       "  <tbody>\n",
       "    <tr>\n",
       "      <th>5489</th>\n",
       "      <td>tt9113406</td>\n",
       "      <td>tvSeries</td>\n",
       "      <td>Wu-Tang: An American Saga</td>\n",
       "      <td>IN</td>\n",
       "      <td>en</td>\n",
       "      <td>imdbDisplay</td>\n",
       "      <td>\\N</td>\n",
       "      <td>Biography</td>\n",
       "      <td>Drama</td>\n",
       "    </tr>\n",
       "    <tr>\n",
       "      <th>1024</th>\n",
       "      <td>tt0469623</td>\n",
       "      <td>movie</td>\n",
       "      <td>Things We Lost in the Fire</td>\n",
       "      <td>IN</td>\n",
       "      <td>en</td>\n",
       "      <td>imdbDisplay</td>\n",
       "      <td>\\N</td>\n",
       "      <td>Drama</td>\n",
       "      <td>No tiene</td>\n",
       "    </tr>\n",
       "    <tr>\n",
       "      <th>6608</th>\n",
       "      <td>tt1582456</td>\n",
       "      <td>tvSeries</td>\n",
       "      <td>Prime Suspect</td>\n",
       "      <td>CA</td>\n",
       "      <td>en</td>\n",
       "      <td>imdbDisplay</td>\n",
       "      <td>\\N</td>\n",
       "      <td>Crime</td>\n",
       "      <td>Drama</td>\n",
       "    </tr>\n",
       "    <tr>\n",
       "      <th>667</th>\n",
       "      <td>tt0364647</td>\n",
       "      <td>movie</td>\n",
       "      <td>Virumandi</td>\n",
       "      <td>IN</td>\n",
       "      <td>en</td>\n",
       "      <td>imdbDisplay</td>\n",
       "      <td>\\N</td>\n",
       "      <td>Action</td>\n",
       "      <td>Crime</td>\n",
       "    </tr>\n",
       "    <tr>\n",
       "      <th>7076</th>\n",
       "      <td>tt3863484</td>\n",
       "      <td>movie</td>\n",
       "      <td>King Jack</td>\n",
       "      <td>CA</td>\n",
       "      <td>en</td>\n",
       "      <td>imdbDisplay</td>\n",
       "      <td>\\N</td>\n",
       "      <td>Adventure</td>\n",
       "      <td>Drama</td>\n",
       "    </tr>\n",
       "    <tr>\n",
       "      <th>3828</th>\n",
       "      <td>tt3404158</td>\n",
       "      <td>movie</td>\n",
       "      <td>Yong-eui-ja</td>\n",
       "      <td>IN</td>\n",
       "      <td>en</td>\n",
       "      <td>imdbDisplay</td>\n",
       "      <td>\\N</td>\n",
       "      <td>Action</td>\n",
       "      <td>Thriller</td>\n",
       "    </tr>\n",
       "    <tr>\n",
       "      <th>4686</th>\n",
       "      <td>tt6172460</td>\n",
       "      <td>tvMovie</td>\n",
       "      <td>Rocko's Modern Life: Static Cling</td>\n",
       "      <td>IN</td>\n",
       "      <td>en</td>\n",
       "      <td>imdbDisplay</td>\n",
       "      <td>\\N</td>\n",
       "      <td>Action</td>\n",
       "      <td>Adventure</td>\n",
       "    </tr>\n",
       "    <tr>\n",
       "      <th>6498</th>\n",
       "      <td>tt1315981</td>\n",
       "      <td>movie</td>\n",
       "      <td>A Single Man</td>\n",
       "      <td>CA</td>\n",
       "      <td>en</td>\n",
       "      <td>imdbDisplay</td>\n",
       "      <td>\\N</td>\n",
       "      <td>Crime</td>\n",
       "      <td>Drama</td>\n",
       "    </tr>\n",
       "    <tr>\n",
       "      <th>1396</th>\n",
       "      <td>tt10243678</td>\n",
       "      <td>movie</td>\n",
       "      <td>Chopsticks</td>\n",
       "      <td>IN</td>\n",
       "      <td>en</td>\n",
       "      <td>imdbDisplay</td>\n",
       "      <td>\\N</td>\n",
       "      <td>Comedy</td>\n",
       "      <td>Drama</td>\n",
       "    </tr>\n",
       "    <tr>\n",
       "      <th>3282</th>\n",
       "      <td>tt21908550</td>\n",
       "      <td>tvSeries</td>\n",
       "      <td>Vadhandhi: The Fable of Velonie</td>\n",
       "      <td>IN</td>\n",
       "      <td>en</td>\n",
       "      <td>imdbDisplay</td>\n",
       "      <td>\\N</td>\n",
       "      <td>Crime</td>\n",
       "      <td>Drama</td>\n",
       "    </tr>\n",
       "    <tr>\n",
       "      <th>2613</th>\n",
       "      <td>tt1536537</td>\n",
       "      <td>movie</td>\n",
       "      <td>What Happened to Monday</td>\n",
       "      <td>IN</td>\n",
       "      <td>en</td>\n",
       "      <td>imdbDisplay</td>\n",
       "      <td>\\N</td>\n",
       "      <td>Action</td>\n",
       "      <td>Crime</td>\n",
       "    </tr>\n",
       "    <tr>\n",
       "      <th>3064</th>\n",
       "      <td>tt18970454</td>\n",
       "      <td>tvMiniSeries</td>\n",
       "      <td>Jimmy Savile: A British Horror Story</td>\n",
       "      <td>IN</td>\n",
       "      <td>en</td>\n",
       "      <td>imdbDisplay</td>\n",
       "      <td>\\N</td>\n",
       "      <td>Biography</td>\n",
       "      <td>Crime</td>\n",
       "    </tr>\n",
       "    <tr>\n",
       "      <th>1320</th>\n",
       "      <td>tt0990404</td>\n",
       "      <td>movie</td>\n",
       "      <td>Chop Shop</td>\n",
       "      <td>IN</td>\n",
       "      <td>en</td>\n",
       "      <td>imdbDisplay</td>\n",
       "      <td>\\N</td>\n",
       "      <td>Drama</td>\n",
       "      <td>No tiene</td>\n",
       "    </tr>\n",
       "    <tr>\n",
       "      <th>1637</th>\n",
       "      <td>tt11127680</td>\n",
       "      <td>movie</td>\n",
       "      <td>Boiling Point</td>\n",
       "      <td>IN</td>\n",
       "      <td>en</td>\n",
       "      <td>imdbDisplay</td>\n",
       "      <td>\\N</td>\n",
       "      <td>Drama</td>\n",
       "      <td>Thriller</td>\n",
       "    </tr>\n",
       "    <tr>\n",
       "      <th>421</th>\n",
       "      <td>tt0273855</td>\n",
       "      <td>tvSeries</td>\n",
       "      <td>My Wife and Kids</td>\n",
       "      <td>IN</td>\n",
       "      <td>en</td>\n",
       "      <td>imdbDisplay</td>\n",
       "      <td>\\N</td>\n",
       "      <td>Comedy</td>\n",
       "      <td>Family</td>\n",
       "    </tr>\n",
       "  </tbody>\n",
       "</table>\n",
       "</div>"
      ],
      "text/plain": [
       "          tconst     titleType                         originalTitle region  \\\n",
       "5489   tt9113406      tvSeries             Wu-Tang: An American Saga     IN   \n",
       "1024   tt0469623         movie            Things We Lost in the Fire     IN   \n",
       "6608   tt1582456      tvSeries                         Prime Suspect     CA   \n",
       "667    tt0364647         movie                             Virumandi     IN   \n",
       "7076   tt3863484         movie                             King Jack     CA   \n",
       "3828   tt3404158         movie                           Yong-eui-ja     IN   \n",
       "4686   tt6172460       tvMovie     Rocko's Modern Life: Static Cling     IN   \n",
       "6498   tt1315981         movie                          A Single Man     CA   \n",
       "1396  tt10243678         movie                            Chopsticks     IN   \n",
       "3282  tt21908550      tvSeries       Vadhandhi: The Fable of Velonie     IN   \n",
       "2613   tt1536537         movie               What Happened to Monday     IN   \n",
       "3064  tt18970454  tvMiniSeries  Jimmy Savile: A British Horror Story     IN   \n",
       "1320   tt0990404         movie                             Chop Shop     IN   \n",
       "1637  tt11127680         movie                         Boiling Point     IN   \n",
       "421    tt0273855      tvSeries                      My Wife and Kids     IN   \n",
       "\n",
       "     language        types attributes main_genre secondary_genre  \n",
       "5489       en  imdbDisplay         \\N  Biography           Drama  \n",
       "1024       en  imdbDisplay         \\N      Drama        No tiene  \n",
       "6608       en  imdbDisplay         \\N      Crime           Drama  \n",
       "667        en  imdbDisplay         \\N     Action           Crime  \n",
       "7076       en  imdbDisplay         \\N  Adventure           Drama  \n",
       "3828       en  imdbDisplay         \\N     Action        Thriller  \n",
       "4686       en  imdbDisplay         \\N     Action       Adventure  \n",
       "6498       en  imdbDisplay         \\N      Crime           Drama  \n",
       "1396       en  imdbDisplay         \\N     Comedy           Drama  \n",
       "3282       en  imdbDisplay         \\N      Crime           Drama  \n",
       "2613       en  imdbDisplay         \\N     Action           Crime  \n",
       "3064       en  imdbDisplay         \\N  Biography           Crime  \n",
       "1320       en  imdbDisplay         \\N      Drama        No tiene  \n",
       "1637       en  imdbDisplay         \\N      Drama        Thriller  \n",
       "421        en  imdbDisplay         \\N     Comedy          Family  "
      ]
     },
     "execution_count": 356,
     "metadata": {},
     "output_type": "execute_result"
    }
   ],
   "source": [
    "# Selecciona las columnas de tipo 'object'\n",
    "name_cols_object = df_movies.select_dtypes(include=['object']).columns\n",
    "\n",
    "# Consulta una muestra de 15 registros de esas columnas\n",
    "df_movies[name_cols_object].sample(15)\n"
   ]
  },
  {
   "cell_type": "markdown",
   "metadata": {},
   "source": [
    "### 3.2. Análisis de calidad de datos\n"
   ]
  },
  {
   "cell_type": "markdown",
   "metadata": {},
   "source": [
    "### 3.2.1 Completitud - Análisis de valores nulos o vacíos\n"
   ]
  },
  {
   "cell_type": "code",
   "execution_count": 357,
   "metadata": {},
   "outputs": [
    {
     "data": {
      "text/plain": [
       "runtimeMinutes     1.325124\n",
       "secondary_genre    0.013385\n",
       "ordering           0.013385\n",
       "isAdult            0.013385\n",
       "startYear          0.013385\n",
       "main_genre         0.013385\n",
       "numVotes           0.013385\n",
       "averageRating      0.013385\n",
       "region             0.013385\n",
       "language           0.013385\n",
       "types              0.013385\n",
       "attributes         0.013385\n",
       "isOriginalTitle    0.013385\n",
       "originalTitle      0.000000\n",
       "titleType          0.000000\n",
       "tconst             0.000000\n",
       "index              0.000000\n",
       "#                  0.000000\n",
       "dtype: float64"
      ]
     },
     "execution_count": 357,
     "metadata": {},
     "output_type": "execute_result"
    }
   ],
   "source": [
    "# Cálculo de porcentaje de valores nulos por columna en df_movies\n",
    "((df_movies.isnull().sum() / df_movies.shape[0]) * 100).sort_values(ascending=False)\n"
   ]
  },
  {
   "cell_type": "markdown",
   "metadata": {},
   "source": [
    "En el DataFrame df_movies, la columna runtimeMinutes presenta un 1.325124% de valores nulos, lo que sugiere que hay algunas películas o series sin información sobre su duración. Por otro lado, las columnas numVotes, ordering, main_genre, isOriginalTitle, attributes, types, language, region, secondary_genre, averageRating, startYear y isAdult muestran un 0.013385% de valores nulos, indicando que raramente se carece de esta información en estas columnas. Las columnas index, originalTitle, titleType, tconst y # están completamente llenas sin ningún valor faltante. Con esto podemos concluir que en cuanto a completitud los datos tienen una muy buena calidad."
   ]
  },
  {
   "cell_type": "markdown",
   "metadata": {},
   "source": [
    "### 3.2.2 Unicidad"
   ]
  },
  {
   "cell_type": "code",
   "execution_count": 358,
   "metadata": {},
   "outputs": [
    {
     "name": "stdout",
     "output_type": "stream",
     "text": [
      "El número de registros duplicados en df_movies es: 6\n"
     ]
    }
   ],
   "source": [
    "duplicated_movies = df_movies.duplicated(keep=False).sum()\n",
    "print(f\"El número de registros duplicados en df_movies es: {duplicated_movies}\")"
   ]
  },
  {
   "cell_type": "markdown",
   "metadata": {},
   "source": [
    "A comparacion con el tamano total de los datos se puede ver que tienen muy pocos registros duplicados por lo que, aunque es importante eliminarlos para mejorar la calidad de los analisis, se podrian calificar los datos como muy buenos en cuanto a unicidad."
   ]
  },
  {
   "cell_type": "markdown",
   "metadata": {},
   "source": [
    "### 3.2.3 Consistencia\n"
   ]
  },
  {
   "cell_type": "code",
   "execution_count": 359,
   "metadata": {},
   "outputs": [
    {
     "name": "stdout",
     "output_type": "stream",
     "text": [
      "Valores para la columna 'tconst':\n",
      "tt0386741     2\n",
      "tt0395843     2\n",
      "tt12443930    2\n",
      "tt1535109     2\n",
      "tt0390538     2\n",
      "tt14479480    1\n",
      "tt5962210     1\n",
      "tt0835434     1\n",
      "tt2432604     1\n",
      "tt17513352    1\n",
      "Name: tconst, dtype: int64\n",
      "--------------------------------------------------\n"
     ]
    }
   ],
   "source": [
    "# Columna: tconst\n",
    "print(\"Valores para la columna 'tconst':\")\n",
    "print(df_movies['tconst'].value_counts().head(10))\n",
    "print(\"-\" * 50)\n"
   ]
  },
  {
   "cell_type": "code",
   "execution_count": 360,
   "metadata": {},
   "outputs": [
    {
     "name": "stdout",
     "output_type": "stream",
     "text": [
      "Valores para la columna 'titleType':\n",
      "movie           4673\n",
      "tvSeries        2340\n",
      "tvMiniSeries     379\n",
      "tvMovie           70\n",
      "MOVIE              5\n",
      "MOvie              3\n",
      "Movie              1\n",
      "Name: titleType, dtype: int64\n",
      "--------------------------------------------------\n"
     ]
    }
   ],
   "source": [
    "# Columna: titleType\n",
    "print(\"Valores para la columna 'titleType':\")\n",
    "print(df_movies['titleType'].value_counts().head(10))\n",
    "print(\"-\" * 50)"
   ]
  },
  {
   "cell_type": "code",
   "execution_count": 361,
   "metadata": {},
   "outputs": [
    {
     "name": "stdout",
     "output_type": "stream",
     "text": [
      "Valores para la columna 'originalTitle':\n",
      "Candy                   3\n",
      "Life                    3\n",
      "Monster                 3\n",
      "Limitless               3\n",
      "Taken                   3\n",
      "Beauty and the Beast    3\n",
      "Home                    3\n",
      "Wanted                  3\n",
      "In the Dark             2\n",
      "The Missing             2\n",
      "Name: originalTitle, dtype: int64\n",
      "--------------------------------------------------\n"
     ]
    }
   ],
   "source": [
    "# Columna: originalTitle\n",
    "print(\"Valores para la columna 'originalTitle':\")\n",
    "print(df_movies['originalTitle'].value_counts().head(10))\n",
    "print(\"-\" * 50)"
   ]
  },
  {
   "cell_type": "code",
   "execution_count": 362,
   "metadata": {},
   "outputs": [
    {
     "name": "stdout",
     "output_type": "stream",
     "text": [
      "Valores para la columna 'runtimeMinutes':\n",
      "60.0     534\n",
      "30.0     340\n",
      "45.0     184\n",
      "22.0     138\n",
      "43.0     114\n",
      "90.0     112\n",
      "105.0    110\n",
      "42.0     108\n",
      "100.0    100\n",
      "106.0     99\n",
      "Name: runtimeMinutes, dtype: int64\n",
      "--------------------------------------------------\n"
     ]
    }
   ],
   "source": [
    "# Columna: runtimeMinutes\n",
    "print(\"Valores para la columna 'runtimeMinutes':\")\n",
    "print(df_movies['runtimeMinutes'].value_counts().head(10))\n",
    "print(\"-\" * 50)"
   ]
  },
  {
   "cell_type": "code",
   "execution_count": 363,
   "metadata": {},
   "outputs": [
    {
     "name": "stdout",
     "output_type": "stream",
     "text": [
      "Valores para la columna 'region':\n",
      "IN    5590\n",
      "CA    1782\n",
      "US      94\n",
      "GB       4\n",
      "Name: region, dtype: int64\n",
      "--------------------------------------------------\n"
     ]
    }
   ],
   "source": [
    "# Columna: region\n",
    "print(\"Valores para la columna 'region':\")\n",
    "print(df_movies['region'].value_counts().head(10))\n",
    "print(\"-\" * 50)"
   ]
  },
  {
   "cell_type": "code",
   "execution_count": 364,
   "metadata": {},
   "outputs": [
    {
     "name": "stdout",
     "output_type": "stream",
     "text": [
      "Valores para la columna 'language':\n",
      "en    7470\n",
      "Name: language, dtype: int64\n",
      "--------------------------------------------------\n"
     ]
    }
   ],
   "source": [
    "# Columna: language\n",
    "print(\"Valores para la columna 'language':\")\n",
    "print(df_movies['language'].value_counts().head(10))\n",
    "print(\"-\" * 50)"
   ]
  },
  {
   "cell_type": "code",
   "execution_count": 365,
   "metadata": {},
   "outputs": [
    {
     "name": "stdout",
     "output_type": "stream",
     "text": [
      "Valores para la columna 'types':\n",
      "imdbDisplay    7395\n",
      "working          38\n",
      "alternative      24\n",
      "festival         11\n",
      "dvd               2\n",
      "Name: types, dtype: int64\n",
      "--------------------------------------------------\n"
     ]
    }
   ],
   "source": [
    "# Columna: types\n",
    "print(\"Valores para la columna 'types':\")\n",
    "print(df_movies['types'].value_counts().head(10))\n",
    "print(\"-\" * 50)"
   ]
  },
  {
   "cell_type": "code",
   "execution_count": 366,
   "metadata": {},
   "outputs": [
    {
     "name": "stdout",
     "output_type": "stream",
     "text": [
      "Valores para la columna 'attributes':\n",
      "\\N    7470\n",
      "Name: attributes, dtype: int64\n",
      "--------------------------------------------------\n"
     ]
    }
   ],
   "source": [
    "# Columna: attributes\n",
    "print(\"Valores para la columna 'attributes':\")\n",
    "print(df_movies['attributes'].value_counts().head(10))\n",
    "print(\"-\" * 50)"
   ]
  },
  {
   "cell_type": "code",
   "execution_count": 367,
   "metadata": {},
   "outputs": [
    {
     "name": "stdout",
     "output_type": "stream",
     "text": [
      "Valores para la columna 'main_genre':\n",
      "Drama          1767\n",
      "Comedy         1615\n",
      "Action         1571\n",
      "Crime           867\n",
      "Biography       597\n",
      "Adventure       440\n",
      "Documentary     297\n",
      "Animation       144\n",
      "Horror           63\n",
      "Reality-TV       24\n",
      "Name: main_genre, dtype: int64\n",
      "--------------------------------------------------\n"
     ]
    }
   ],
   "source": [
    "# Columna: main_genre\n",
    "print(\"Valores para la columna 'main_genre':\")\n",
    "print(df_movies['main_genre'].value_counts().head(10))\n",
    "print(\"-\" * 50)"
   ]
  },
  {
   "cell_type": "code",
   "execution_count": 368,
   "metadata": {},
   "outputs": [
    {
     "name": "stdout",
     "output_type": "stream",
     "text": [
      "Valores para la columna 'secondary_genre':\n",
      "Drama          2428\n",
      "No tiene       1052\n",
      "Crime           634\n",
      "Adventure       574\n",
      "Romance         453\n",
      "Comedy          383\n",
      "Mystery         259\n",
      "Animation       224\n",
      "Thriller        209\n",
      "Documentary     200\n",
      "Name: secondary_genre, dtype: int64\n",
      "--------------------------------------------------\n"
     ]
    }
   ],
   "source": [
    "# Columna: secondary_genre\n",
    "print(\"Valores para la columna 'secondary_genre':\")\n",
    "print(df_movies['secondary_genre'].value_counts().head(10))\n",
    "print(\"-\" * 50)"
   ]
  },
  {
   "cell_type": "markdown",
   "metadata": {},
   "source": [
    "La columna tconst parece tener muy pocas repeticiones por lo que probablemente sea alguna referencia especial. Ahora bien, referiendonos a los datos podemos ver que la columna titleType sufre de problemas de consistencia con el nombramiento de movie. El resto de columnas parecen tener buena consistencia, sin embargo arreglar la columna de titleType mejorara los resultados de analisis al evitar problemas."
   ]
  },
  {
   "cell_type": "markdown",
   "metadata": {},
   "source": [
    "### 3.2.4 Validez\n"
   ]
  },
  {
   "cell_type": "markdown",
   "metadata": {},
   "source": [
    "Se verifica el valor de cada uno de los atributos del dataset."
   ]
  },
  {
   "cell_type": "code",
   "execution_count": 369,
   "metadata": {},
   "outputs": [
    {
     "data": {
      "text/html": [
       "<div>\n",
       "<style scoped>\n",
       "    .dataframe tbody tr th:only-of-type {\n",
       "        vertical-align: middle;\n",
       "    }\n",
       "\n",
       "    .dataframe tbody tr th {\n",
       "        vertical-align: top;\n",
       "    }\n",
       "\n",
       "    .dataframe thead th {\n",
       "        text-align: right;\n",
       "    }\n",
       "</style>\n",
       "<table border=\"1\" class=\"dataframe\">\n",
       "  <thead>\n",
       "    <tr style=\"text-align: right;\">\n",
       "      <th></th>\n",
       "      <th>#</th>\n",
       "      <th>index</th>\n",
       "      <th>isAdult</th>\n",
       "      <th>startYear</th>\n",
       "      <th>runtimeMinutes</th>\n",
       "      <th>averageRating</th>\n",
       "      <th>numVotes</th>\n",
       "      <th>ordering</th>\n",
       "      <th>isOriginalTitle</th>\n",
       "    </tr>\n",
       "  </thead>\n",
       "  <tbody>\n",
       "    <tr>\n",
       "      <th>count</th>\n",
       "      <td>7471.000000</td>\n",
       "      <td>7471.000000</td>\n",
       "      <td>7470.0</td>\n",
       "      <td>7470.000000</td>\n",
       "      <td>7372.000000</td>\n",
       "      <td>7470.000000</td>\n",
       "      <td>7.470000e+03</td>\n",
       "      <td>7470.000000</td>\n",
       "      <td>7470.0</td>\n",
       "    </tr>\n",
       "    <tr>\n",
       "      <th>mean</th>\n",
       "      <td>4043.482666</td>\n",
       "      <td>5440.458439</td>\n",
       "      <td>0.0</td>\n",
       "      <td>2013.157296</td>\n",
       "      <td>100.777130</td>\n",
       "      <td>7.475676</td>\n",
       "      <td>7.282830e+04</td>\n",
       "      <td>16.567604</td>\n",
       "      <td>0.0</td>\n",
       "    </tr>\n",
       "    <tr>\n",
       "      <th>std</th>\n",
       "      <td>2192.753689</td>\n",
       "      <td>2752.820924</td>\n",
       "      <td>0.0</td>\n",
       "      <td>6.979151</td>\n",
       "      <td>65.016795</td>\n",
       "      <td>2.771444</td>\n",
       "      <td>1.640233e+05</td>\n",
       "      <td>12.761147</td>\n",
       "      <td>0.0</td>\n",
       "    </tr>\n",
       "    <tr>\n",
       "      <th>min</th>\n",
       "      <td>1.000000</td>\n",
       "      <td>1.000000</td>\n",
       "      <td>0.0</td>\n",
       "      <td>1990.000000</td>\n",
       "      <td>3.000000</td>\n",
       "      <td>6.500000</td>\n",
       "      <td>1.000000e+01</td>\n",
       "      <td>1.000000</td>\n",
       "      <td>0.0</td>\n",
       "    </tr>\n",
       "    <tr>\n",
       "      <th>25%</th>\n",
       "      <td>2152.500000</td>\n",
       "      <td>3073.500000</td>\n",
       "      <td>0.0</td>\n",
       "      <td>2008.000000</td>\n",
       "      <td>60.000000</td>\n",
       "      <td>6.900000</td>\n",
       "      <td>6.265250e+03</td>\n",
       "      <td>6.000000</td>\n",
       "      <td>0.0</td>\n",
       "    </tr>\n",
       "    <tr>\n",
       "      <th>50%</th>\n",
       "      <td>4033.000000</td>\n",
       "      <td>5421.000000</td>\n",
       "      <td>0.0</td>\n",
       "      <td>2015.000000</td>\n",
       "      <td>101.000000</td>\n",
       "      <td>7.300000</td>\n",
       "      <td>1.527900e+04</td>\n",
       "      <td>14.000000</td>\n",
       "      <td>0.0</td>\n",
       "    </tr>\n",
       "    <tr>\n",
       "      <th>75%</th>\n",
       "      <td>5914.500000</td>\n",
       "      <td>7641.500000</td>\n",
       "      <td>0.0</td>\n",
       "      <td>2019.000000</td>\n",
       "      <td>122.000000</td>\n",
       "      <td>7.800000</td>\n",
       "      <td>5.641975e+04</td>\n",
       "      <td>24.000000</td>\n",
       "      <td>0.0</td>\n",
       "    </tr>\n",
       "    <tr>\n",
       "      <th>max</th>\n",
       "      <td>7849.000000</td>\n",
       "      <td>10274.000000</td>\n",
       "      <td>0.0</td>\n",
       "      <td>2023.000000</td>\n",
       "      <td>990.000000</td>\n",
       "      <td>92.000000</td>\n",
       "      <td>2.197234e+06</td>\n",
       "      <td>119.000000</td>\n",
       "      <td>0.0</td>\n",
       "    </tr>\n",
       "  </tbody>\n",
       "</table>\n",
       "</div>"
      ],
      "text/plain": [
       "                 #         index  isAdult    startYear  runtimeMinutes  \\\n",
       "count  7471.000000   7471.000000   7470.0  7470.000000     7372.000000   \n",
       "mean   4043.482666   5440.458439      0.0  2013.157296      100.777130   \n",
       "std    2192.753689   2752.820924      0.0     6.979151       65.016795   \n",
       "min       1.000000      1.000000      0.0  1990.000000        3.000000   \n",
       "25%    2152.500000   3073.500000      0.0  2008.000000       60.000000   \n",
       "50%    4033.000000   5421.000000      0.0  2015.000000      101.000000   \n",
       "75%    5914.500000   7641.500000      0.0  2019.000000      122.000000   \n",
       "max    7849.000000  10274.000000      0.0  2023.000000      990.000000   \n",
       "\n",
       "       averageRating      numVotes     ordering  isOriginalTitle  \n",
       "count    7470.000000  7.470000e+03  7470.000000           7470.0  \n",
       "mean        7.475676  7.282830e+04    16.567604              0.0  \n",
       "std         2.771444  1.640233e+05    12.761147              0.0  \n",
       "min         6.500000  1.000000e+01     1.000000              0.0  \n",
       "25%         6.900000  6.265250e+03     6.000000              0.0  \n",
       "50%         7.300000  1.527900e+04    14.000000              0.0  \n",
       "75%         7.800000  5.641975e+04    24.000000              0.0  \n",
       "max        92.000000  2.197234e+06   119.000000              0.0  "
      ]
     },
     "execution_count": 369,
     "metadata": {},
     "output_type": "execute_result"
    }
   ],
   "source": [
    "df_movies.describe()"
   ]
  },
  {
   "cell_type": "code",
   "execution_count": 370,
   "metadata": {},
   "outputs": [
    {
     "data": {
      "text/plain": [
       "<bound method Series.unique of 0       0.0\n",
       "1       0.0\n",
       "2       0.0\n",
       "3       0.0\n",
       "4       0.0\n",
       "       ... \n",
       "7466    0.0\n",
       "7467    0.0\n",
       "7468    0.0\n",
       "7469    0.0\n",
       "7470    0.0\n",
       "Name: isAdult, Length: 7471, dtype: float64>"
      ]
     },
     "execution_count": 370,
     "metadata": {},
     "output_type": "execute_result"
    }
   ],
   "source": [
    "df_movies['isAdult'].unique"
   ]
  },
  {
   "cell_type": "markdown",
   "metadata": {},
   "source": [
    "Se evidencia que la columna isAdult() no posee valores unicos, y todos los registros tienen un valor de 0.0"
   ]
  },
  {
   "cell_type": "code",
   "execution_count": 371,
   "metadata": {},
   "outputs": [
    {
     "data": {
      "text/plain": [
       "0       0.0\n",
       "1       0.0\n",
       "2       0.0\n",
       "3       0.0\n",
       "4       0.0\n",
       "       ... \n",
       "7466    0.0\n",
       "7467    0.0\n",
       "7468    0.0\n",
       "7469    0.0\n",
       "7470    0.0\n",
       "Name: isAdult, Length: 7471, dtype: float64"
      ]
     },
     "execution_count": 371,
     "metadata": {},
     "output_type": "execute_result"
    }
   ],
   "source": [
    "df_movies['isAdult']"
   ]
  },
  {
   "cell_type": "markdown",
   "metadata": {},
   "source": [
    "Verificar que los valores de averageRating se encuentren en el debido rango: [0,10], y contar los valores que no se encuentren en el rango"
   ]
  },
  {
   "cell_type": "code",
   "execution_count": 372,
   "metadata": {},
   "outputs": [
    {
     "data": {
      "text/plain": [
       "14"
      ]
     },
     "execution_count": 372,
     "metadata": {},
     "output_type": "execute_result"
    }
   ],
   "source": [
    "conteo_averageRating = (~((df_movies['averageRating'] >= 0) & (df_movies['averageRating'] <= 10))).sum()\n",
    "conteo_averageRating\n",
    "\n"
   ]
  },
  {
   "cell_type": "markdown",
   "metadata": {},
   "source": [
    "Estudiar valores de atributes."
   ]
  },
  {
   "cell_type": "code",
   "execution_count": 373,
   "metadata": {},
   "outputs": [
    {
     "data": {
      "text/plain": [
       "array(['\\\\N', nan], dtype=object)"
      ]
     },
     "execution_count": 373,
     "metadata": {},
     "output_type": "execute_result"
    }
   ],
   "source": [
    "df_movies['attributes'].unique()"
   ]
  },
  {
   "cell_type": "markdown",
   "metadata": {},
   "source": [
    "Verificar que el language los datos, sea ingles para todos los casos"
   ]
  },
  {
   "cell_type": "code",
   "execution_count": 374,
   "metadata": {},
   "outputs": [
    {
     "data": {
      "text/plain": [
       "0       en\n",
       "1       en\n",
       "2       en\n",
       "3       en\n",
       "4       en\n",
       "        ..\n",
       "7466    en\n",
       "7467    en\n",
       "7468    en\n",
       "7469    en\n",
       "7470    en\n",
       "Name: language, Length: 7471, dtype: object"
      ]
     },
     "execution_count": 374,
     "metadata": {},
     "output_type": "execute_result"
    }
   ],
   "source": [
    "df_movies['language']"
   ]
  },
  {
   "cell_type": "markdown",
   "metadata": {},
   "source": [
    "Verificar que la region se encuentre en las mencionadas"
   ]
  },
  {
   "cell_type": "code",
   "execution_count": 375,
   "metadata": {},
   "outputs": [
    {
     "data": {
      "text/plain": [
       "1"
      ]
     },
     "execution_count": 375,
     "metadata": {},
     "output_type": "execute_result"
    }
   ],
   "source": [
    "regionesInvalidas = (~df_movies['region'].isin(['IN', 'US', 'CA', 'GB'])).sum()\n",
    "regionesInvalidas"
   ]
  },
  {
   "cell_type": "markdown",
   "metadata": {},
   "source": [
    "Contar las filas que no cumplen con el formato enunciado (Movie, tvSeries,tvMiniSeries,tvMovie )"
   ]
  },
  {
   "cell_type": "code",
   "execution_count": 376,
   "metadata": {},
   "outputs": [
    {
     "data": {
      "text/html": [
       "<div>\n",
       "<style scoped>\n",
       "    .dataframe tbody tr th:only-of-type {\n",
       "        vertical-align: middle;\n",
       "    }\n",
       "\n",
       "    .dataframe tbody tr th {\n",
       "        vertical-align: top;\n",
       "    }\n",
       "\n",
       "    .dataframe thead th {\n",
       "        text-align: right;\n",
       "    }\n",
       "</style>\n",
       "<table border=\"1\" class=\"dataframe\">\n",
       "  <thead>\n",
       "    <tr style=\"text-align: right;\">\n",
       "      <th></th>\n",
       "      <th>#</th>\n",
       "      <th>index</th>\n",
       "      <th>tconst</th>\n",
       "      <th>titleType</th>\n",
       "      <th>originalTitle</th>\n",
       "      <th>isAdult</th>\n",
       "      <th>startYear</th>\n",
       "      <th>runtimeMinutes</th>\n",
       "      <th>averageRating</th>\n",
       "      <th>numVotes</th>\n",
       "      <th>ordering</th>\n",
       "      <th>region</th>\n",
       "      <th>language</th>\n",
       "      <th>types</th>\n",
       "      <th>attributes</th>\n",
       "      <th>isOriginalTitle</th>\n",
       "      <th>main_genre</th>\n",
       "      <th>secondary_genre</th>\n",
       "    </tr>\n",
       "  </thead>\n",
       "  <tbody>\n",
       "  </tbody>\n",
       "</table>\n",
       "</div>"
      ],
      "text/plain": [
       "Empty DataFrame\n",
       "Columns: [#, index, tconst, titleType, originalTitle, isAdult, startYear, runtimeMinutes, averageRating, numVotes, ordering, region, language, types, attributes, isOriginalTitle, main_genre, secondary_genre]\n",
       "Index: []"
      ]
     },
     "execution_count": 376,
     "metadata": {},
     "output_type": "execute_result"
    }
   ],
   "source": [
    "#Convertir los valores a minusculas\n",
    "df_movies['titleType'] = df_movies['titleType'].str.lower()\n",
    "\n",
    "invalidoTitleType = df_movies[~df_movies['titleType'].isin(['movie', 'tvseries', 'tvminiseries', 'tvmovie'])]\n",
    "invalidoTitleType\n",
    "#Todos cumplen con ello"
   ]
  },
  {
   "cell_type": "markdown",
   "metadata": {},
   "source": [
    "## 4. Iteración 1. Primer modelo"
   ]
  },
  {
   "cell_type": "markdown",
   "metadata": {},
   "source": [
    "### 4.1 Preparar los datos\n",
    "A nivel de preparación de datos debemos fijarnos en:\n",
    "- A. Correcciones relacionadas con problemas de calidad de dato: nulos, duplicados, inconsistencia, diferencia de formatos, etc.\n",
    "- B. Preparación relacionada con la tarea de aprendizaje\n",
    "    - Selección de columnas a incluir de acuerdo con la tarea de aprendizaje a realizar y el conocimiento del contexto del negocio\n",
    "    - ...\n",
    "- C. Preparación de acuerdo con el algoritmo a utilizar, en este caso K-means\n",
    "    Al revisar k-means vemos que el algoritmo trabaja únicamente con datos numéricos, y no nulos así que si vamos a incluir datos categóricos debemos transformarlos a numéricos y si tenemos datos nulos debemos transformalos y en el peor escenario retirarlos del modelo ya sea la fila que los incluye o toda la columna si el porcentaje de estos valores es alto."
   ]
  },
  {
   "cell_type": "markdown",
   "metadata": {},
   "source": [
    "## 5. Iteración 1. Segundo Modelo (DBScan)"
   ]
  },
  {
   "cell_type": "markdown",
   "metadata": {},
   "source": [
    "### 5.1 Preparar los datos\n",
    "A nivel de preparación de datos debemos fijarnos en:\n",
    "- A. Correcciones relacionadas con problemas de calidad de dato: nulos, duplicados, inconsistencia, diferencia de formatos, etc.\n",
    "- B. Preparación relacionada con la tarea de aprendizaje\n",
    "    - Selección de columnas a incluir de acuerdo con la tarea de aprendizaje a realizar y el conocimiento del contexto del negocio\n",
    "    - ...\n",
    "- C. Preparación de acuerdo con el algoritmo a utilizar, en este caso K-means\n",
    "    Al revisar k-means vemos que el algoritmo trabaja únicamente con datos numéricos, y no nulos así que si vamos a incluir datos categóricos debemos transformarlos a numéricos y si tenemos datos nulos debemos transformalos y en el peor escenario retirarlos del modelo ya sea la fila que los incluye o toda la columna si el porcentaje de estos valores es alto."
   ]
  },
  {
   "cell_type": "markdown",
   "metadata": {},
   "source": [
    "Se eliminan las filas, las cuales se evidencia que poseen un alto nivel de apariciones por alguna variable tales como atributes o isAdult, o language o indices"
   ]
  },
  {
   "cell_type": "code",
   "execution_count": 452,
   "metadata": {},
   "outputs": [
    {
     "name": "stdout",
     "output_type": "stream",
     "text": [
      "     titleType  startYear  runtimeMinutes  averageRating   numVotes  ordering  \\\n",
      "0        movie     1991.0           137.0            8.6  1128166.0      17.0   \n",
      "1     tvseries     2000.0            22.0            6.6      577.0      16.0   \n",
      "2        movie     2002.0           150.0            8.5   860569.0       7.0   \n",
      "3        movie     2004.0           120.0            7.5   417391.0       6.0   \n",
      "4        movie     2005.0           132.0            6.9     5946.0       5.0   \n",
      "...        ...        ...             ...            ...        ...       ...   \n",
      "7466     movie     2019.0           108.0            7.3     3779.0      11.0   \n",
      "7467  tvseries     2019.0            25.0            7.5     3318.0       4.0   \n",
      "7468     movie     2019.0            99.0            7.2     3346.0      29.0   \n",
      "7469     movie     2019.0            84.0            6.9     3646.0       6.0   \n",
      "7470  tvseries     2019.0            23.0            7.2     3577.0      27.0   \n",
      "\n",
      "     region        types  main_genre secondary_genre  \n",
      "0        US          dvd      Action          Sci-Fi  \n",
      "1        US  alternative      Action       Adventure  \n",
      "2        US  imdbDisplay   Biography           Drama  \n",
      "3        US  imdbDisplay      Action           Crime  \n",
      "4        US  imdbDisplay   Biography           Drama  \n",
      "...     ...          ...         ...             ...  \n",
      "7466     CA  imdbDisplay       Drama         Romance  \n",
      "7467     CA  imdbDisplay   Animation          Comedy  \n",
      "7468     CA  imdbDisplay       Drama         Romance  \n",
      "7469     CA  imdbDisplay       Drama        No tiene  \n",
      "7470     CA  imdbDisplay  Reality-TV        No tiene  \n",
      "\n",
      "[7471 rows x 10 columns]\n"
     ]
    }
   ],
   "source": [
    "columnasEliminar = ['#', 'index', 'originalTitle', 'isAdult', 'language', 'attributes', 'isOriginalTitle','tconst']\n",
    "df_movies2 = df_movies.drop(columns=columnasEliminar)\n",
    "\n",
    "# Mostrar el nuevo DataFrame df_movies2\n",
    "print(df_movies2)\n",
    "\n"
   ]
  },
  {
   "cell_type": "code",
   "execution_count": 453,
   "metadata": {},
   "outputs": [
    {
     "data": {
      "text/html": [
       "<div>\n",
       "<style scoped>\n",
       "    .dataframe tbody tr th:only-of-type {\n",
       "        vertical-align: middle;\n",
       "    }\n",
       "\n",
       "    .dataframe tbody tr th {\n",
       "        vertical-align: top;\n",
       "    }\n",
       "\n",
       "    .dataframe thead th {\n",
       "        text-align: right;\n",
       "    }\n",
       "</style>\n",
       "<table border=\"1\" class=\"dataframe\">\n",
       "  <thead>\n",
       "    <tr style=\"text-align: right;\">\n",
       "      <th></th>\n",
       "      <th>titleType</th>\n",
       "      <th>startYear</th>\n",
       "      <th>runtimeMinutes</th>\n",
       "      <th>averageRating</th>\n",
       "      <th>numVotes</th>\n",
       "      <th>ordering</th>\n",
       "      <th>region</th>\n",
       "      <th>types</th>\n",
       "      <th>main_genre</th>\n",
       "      <th>secondary_genre</th>\n",
       "    </tr>\n",
       "  </thead>\n",
       "  <tbody>\n",
       "    <tr>\n",
       "      <th>0</th>\n",
       "      <td>movie</td>\n",
       "      <td>1991.0</td>\n",
       "      <td>137.0</td>\n",
       "      <td>8.6</td>\n",
       "      <td>1128166.0</td>\n",
       "      <td>17.0</td>\n",
       "      <td>US</td>\n",
       "      <td>dvd</td>\n",
       "      <td>Action</td>\n",
       "      <td>Sci-Fi</td>\n",
       "    </tr>\n",
       "    <tr>\n",
       "      <th>1</th>\n",
       "      <td>tvseries</td>\n",
       "      <td>2000.0</td>\n",
       "      <td>22.0</td>\n",
       "      <td>6.6</td>\n",
       "      <td>577.0</td>\n",
       "      <td>16.0</td>\n",
       "      <td>US</td>\n",
       "      <td>alternative</td>\n",
       "      <td>Action</td>\n",
       "      <td>Adventure</td>\n",
       "    </tr>\n",
       "    <tr>\n",
       "      <th>2</th>\n",
       "      <td>movie</td>\n",
       "      <td>2002.0</td>\n",
       "      <td>150.0</td>\n",
       "      <td>8.5</td>\n",
       "      <td>860569.0</td>\n",
       "      <td>7.0</td>\n",
       "      <td>US</td>\n",
       "      <td>imdbDisplay</td>\n",
       "      <td>Biography</td>\n",
       "      <td>Drama</td>\n",
       "    </tr>\n",
       "    <tr>\n",
       "      <th>3</th>\n",
       "      <td>movie</td>\n",
       "      <td>2004.0</td>\n",
       "      <td>120.0</td>\n",
       "      <td>7.5</td>\n",
       "      <td>417391.0</td>\n",
       "      <td>6.0</td>\n",
       "      <td>US</td>\n",
       "      <td>imdbDisplay</td>\n",
       "      <td>Action</td>\n",
       "      <td>Crime</td>\n",
       "    </tr>\n",
       "    <tr>\n",
       "      <th>4</th>\n",
       "      <td>movie</td>\n",
       "      <td>2005.0</td>\n",
       "      <td>132.0</td>\n",
       "      <td>6.9</td>\n",
       "      <td>5946.0</td>\n",
       "      <td>5.0</td>\n",
       "      <td>US</td>\n",
       "      <td>imdbDisplay</td>\n",
       "      <td>Biography</td>\n",
       "      <td>Drama</td>\n",
       "    </tr>\n",
       "    <tr>\n",
       "      <th>...</th>\n",
       "      <td>...</td>\n",
       "      <td>...</td>\n",
       "      <td>...</td>\n",
       "      <td>...</td>\n",
       "      <td>...</td>\n",
       "      <td>...</td>\n",
       "      <td>...</td>\n",
       "      <td>...</td>\n",
       "      <td>...</td>\n",
       "      <td>...</td>\n",
       "    </tr>\n",
       "    <tr>\n",
       "      <th>7466</th>\n",
       "      <td>movie</td>\n",
       "      <td>2019.0</td>\n",
       "      <td>108.0</td>\n",
       "      <td>7.3</td>\n",
       "      <td>3779.0</td>\n",
       "      <td>11.0</td>\n",
       "      <td>CA</td>\n",
       "      <td>imdbDisplay</td>\n",
       "      <td>Drama</td>\n",
       "      <td>Romance</td>\n",
       "    </tr>\n",
       "    <tr>\n",
       "      <th>7467</th>\n",
       "      <td>tvseries</td>\n",
       "      <td>2019.0</td>\n",
       "      <td>25.0</td>\n",
       "      <td>7.5</td>\n",
       "      <td>3318.0</td>\n",
       "      <td>4.0</td>\n",
       "      <td>CA</td>\n",
       "      <td>imdbDisplay</td>\n",
       "      <td>Animation</td>\n",
       "      <td>Comedy</td>\n",
       "    </tr>\n",
       "    <tr>\n",
       "      <th>7468</th>\n",
       "      <td>movie</td>\n",
       "      <td>2019.0</td>\n",
       "      <td>99.0</td>\n",
       "      <td>7.2</td>\n",
       "      <td>3346.0</td>\n",
       "      <td>29.0</td>\n",
       "      <td>CA</td>\n",
       "      <td>imdbDisplay</td>\n",
       "      <td>Drama</td>\n",
       "      <td>Romance</td>\n",
       "    </tr>\n",
       "    <tr>\n",
       "      <th>7469</th>\n",
       "      <td>movie</td>\n",
       "      <td>2019.0</td>\n",
       "      <td>84.0</td>\n",
       "      <td>6.9</td>\n",
       "      <td>3646.0</td>\n",
       "      <td>6.0</td>\n",
       "      <td>CA</td>\n",
       "      <td>imdbDisplay</td>\n",
       "      <td>Drama</td>\n",
       "      <td>No tiene</td>\n",
       "    </tr>\n",
       "    <tr>\n",
       "      <th>7470</th>\n",
       "      <td>tvseries</td>\n",
       "      <td>2019.0</td>\n",
       "      <td>23.0</td>\n",
       "      <td>7.2</td>\n",
       "      <td>3577.0</td>\n",
       "      <td>27.0</td>\n",
       "      <td>CA</td>\n",
       "      <td>imdbDisplay</td>\n",
       "      <td>Reality-TV</td>\n",
       "      <td>No tiene</td>\n",
       "    </tr>\n",
       "  </tbody>\n",
       "</table>\n",
       "<p>7471 rows × 10 columns</p>\n",
       "</div>"
      ],
      "text/plain": [
       "     titleType  startYear  runtimeMinutes  averageRating   numVotes  ordering  \\\n",
       "0        movie     1991.0           137.0            8.6  1128166.0      17.0   \n",
       "1     tvseries     2000.0            22.0            6.6      577.0      16.0   \n",
       "2        movie     2002.0           150.0            8.5   860569.0       7.0   \n",
       "3        movie     2004.0           120.0            7.5   417391.0       6.0   \n",
       "4        movie     2005.0           132.0            6.9     5946.0       5.0   \n",
       "...        ...        ...             ...            ...        ...       ...   \n",
       "7466     movie     2019.0           108.0            7.3     3779.0      11.0   \n",
       "7467  tvseries     2019.0            25.0            7.5     3318.0       4.0   \n",
       "7468     movie     2019.0            99.0            7.2     3346.0      29.0   \n",
       "7469     movie     2019.0            84.0            6.9     3646.0       6.0   \n",
       "7470  tvseries     2019.0            23.0            7.2     3577.0      27.0   \n",
       "\n",
       "     region        types  main_genre secondary_genre  \n",
       "0        US          dvd      Action          Sci-Fi  \n",
       "1        US  alternative      Action       Adventure  \n",
       "2        US  imdbDisplay   Biography           Drama  \n",
       "3        US  imdbDisplay      Action           Crime  \n",
       "4        US  imdbDisplay   Biography           Drama  \n",
       "...     ...          ...         ...             ...  \n",
       "7466     CA  imdbDisplay       Drama         Romance  \n",
       "7467     CA  imdbDisplay   Animation          Comedy  \n",
       "7468     CA  imdbDisplay       Drama         Romance  \n",
       "7469     CA  imdbDisplay       Drama        No tiene  \n",
       "7470     CA  imdbDisplay  Reality-TV        No tiene  \n",
       "\n",
       "[7471 rows x 10 columns]"
      ]
     },
     "execution_count": 453,
     "metadata": {},
     "output_type": "execute_result"
    }
   ],
   "source": [
    "df_movies2"
   ]
  },
  {
   "cell_type": "markdown",
   "metadata": {},
   "source": [
    "Convertir columna titleType a minuscula"
   ]
  },
  {
   "cell_type": "code",
   "execution_count": 454,
   "metadata": {},
   "outputs": [],
   "source": [
    "df_movies2['titleType'] = df_movies2['titleType'].str.lower()\n"
   ]
  },
  {
   "cell_type": "markdown",
   "metadata": {},
   "source": [
    "Convertir a minusculas las columnas main y secondaryGenre y types"
   ]
  },
  {
   "cell_type": "code",
   "execution_count": 455,
   "metadata": {},
   "outputs": [],
   "source": [
    "df_movies2['main_genre'] = df_movies2['main_genre'].str.lower()\n",
    "df_movies2['types'] = df_movies2['types'].str.lower()\n",
    "\n"
   ]
  },
  {
   "cell_type": "markdown",
   "metadata": {},
   "source": [
    "Eliminar valores nulos"
   ]
  },
  {
   "cell_type": "code",
   "execution_count": 456,
   "metadata": {},
   "outputs": [],
   "source": [
    "df_movies2.dropna(inplace=True)\n"
   ]
  },
  {
   "cell_type": "markdown",
   "metadata": {},
   "source": [
    "Cumplir con la metrica propuesta de averageRating, valor entre 0 y 10"
   ]
  },
  {
   "cell_type": "code",
   "execution_count": 457,
   "metadata": {},
   "outputs": [],
   "source": [
    "df_movies2 = df_movies2.drop(df_movies2[(df_movies2['averageRating'] < 0) | (df_movies2['averageRating'] > 10)].index)\n"
   ]
  },
  {
   "cell_type": "markdown",
   "metadata": {},
   "source": [
    "Conversion de variables categoricas a numericas por medio de labelEnconding"
   ]
  },
  {
   "cell_type": "code",
   "execution_count": 458,
   "metadata": {},
   "outputs": [
    {
     "data": {
      "text/plain": [
       "titleType           object\n",
       "startYear          float64\n",
       "runtimeMinutes     float64\n",
       "averageRating      float64\n",
       "numVotes           float64\n",
       "ordering           float64\n",
       "region              object\n",
       "types               object\n",
       "main_genre          object\n",
       "secondary_genre     object\n",
       "dtype: object"
      ]
     },
     "execution_count": 458,
     "metadata": {},
     "output_type": "execute_result"
    }
   ],
   "source": [
    "df_movies2.dtypes"
   ]
  },
  {
   "cell_type": "markdown",
   "metadata": {},
   "source": [
    "Convertir variables categoricas a numericas, gracias a fit_transform"
   ]
  },
  {
   "cell_type": "code",
   "execution_count": 463,
   "metadata": {},
   "outputs": [
    {
     "name": "stdout",
     "output_type": "stream",
     "text": [
      "titleType            int32\n",
      "startYear          float64\n",
      "runtimeMinutes     float64\n",
      "averageRating      float64\n",
      "numVotes           float64\n",
      "ordering           float64\n",
      "region               int32\n",
      "types                int32\n",
      "main_genre           int32\n",
      "secondary_genre      int32\n",
      "dtype: object\n"
     ]
    }
   ],
   "source": [
    "le = LabelEncoder()\n",
    "cols_to_encode = ['titleType', 'region', 'types', 'main_genre','secondary_genre']\n",
    "\n",
    "# Aplicar la codificación para cada columna\n",
    "for col in cols_to_encode:\n",
    "    df_movies2[col] = le.fit_transform(df_movies2[col].astype(str))\n",
    "\n",
    "# Verificar los cambios\n",
    "print(df_movies2.dtypes)"
   ]
  },
  {
   "cell_type": "markdown",
   "metadata": {},
   "source": [
    "Descripcion de modelo con valores numericos"
   ]
  },
  {
   "cell_type": "code",
   "execution_count": 464,
   "metadata": {},
   "outputs": [
    {
     "data": {
      "text/html": [
       "<div>\n",
       "<style scoped>\n",
       "    .dataframe tbody tr th:only-of-type {\n",
       "        vertical-align: middle;\n",
       "    }\n",
       "\n",
       "    .dataframe tbody tr th {\n",
       "        vertical-align: top;\n",
       "    }\n",
       "\n",
       "    .dataframe thead th {\n",
       "        text-align: right;\n",
       "    }\n",
       "</style>\n",
       "<table border=\"1\" class=\"dataframe\">\n",
       "  <thead>\n",
       "    <tr style=\"text-align: right;\">\n",
       "      <th></th>\n",
       "      <th>titleType</th>\n",
       "      <th>startYear</th>\n",
       "      <th>runtimeMinutes</th>\n",
       "      <th>averageRating</th>\n",
       "      <th>numVotes</th>\n",
       "      <th>ordering</th>\n",
       "      <th>region</th>\n",
       "      <th>types</th>\n",
       "      <th>main_genre</th>\n",
       "      <th>secondary_genre</th>\n",
       "    </tr>\n",
       "  </thead>\n",
       "  <tbody>\n",
       "    <tr>\n",
       "      <th>count</th>\n",
       "      <td>7359.000000</td>\n",
       "      <td>7359.000000</td>\n",
       "      <td>7359.000000</td>\n",
       "      <td>7359.000000</td>\n",
       "      <td>7.359000e+03</td>\n",
       "      <td>7359.000000</td>\n",
       "      <td>7359.000000</td>\n",
       "      <td>7359.000000</td>\n",
       "      <td>7359.000000</td>\n",
       "      <td>7359.000000</td>\n",
       "    </tr>\n",
       "    <tr>\n",
       "      <th>mean</th>\n",
       "      <td>0.986819</td>\n",
       "      <td>2013.074331</td>\n",
       "      <td>100.777144</td>\n",
       "      <td>7.362971</td>\n",
       "      <td>7.328132e+04</td>\n",
       "      <td>16.577932</td>\n",
       "      <td>1.529420</td>\n",
       "      <td>2.993749</td>\n",
       "      <td>12.313494</td>\n",
       "      <td>8.762196</td>\n",
       "    </tr>\n",
       "    <tr>\n",
       "      <th>std</th>\n",
       "      <td>1.366896</td>\n",
       "      <td>6.960245</td>\n",
       "      <td>65.052391</td>\n",
       "      <td>0.601009</td>\n",
       "      <td>1.631769e+05</td>\n",
       "      <td>12.781237</td>\n",
       "      <td>0.869696</td>\n",
       "      <td>0.189315</td>\n",
       "      <td>7.648092</td>\n",
       "      <td>6.268130</td>\n",
       "    </tr>\n",
       "    <tr>\n",
       "      <th>min</th>\n",
       "      <td>0.000000</td>\n",
       "      <td>1990.000000</td>\n",
       "      <td>3.000000</td>\n",
       "      <td>6.500000</td>\n",
       "      <td>1.000000e+01</td>\n",
       "      <td>1.000000</td>\n",
       "      <td>0.000000</td>\n",
       "      <td>0.000000</td>\n",
       "      <td>0.000000</td>\n",
       "      <td>0.000000</td>\n",
       "    </tr>\n",
       "    <tr>\n",
       "      <th>25%</th>\n",
       "      <td>0.000000</td>\n",
       "      <td>2008.000000</td>\n",
       "      <td>60.000000</td>\n",
       "      <td>6.900000</td>\n",
       "      <td>6.356500e+03</td>\n",
       "      <td>6.000000</td>\n",
       "      <td>2.000000</td>\n",
       "      <td>3.000000</td>\n",
       "      <td>1.000000</td>\n",
       "      <td>4.000000</td>\n",
       "    </tr>\n",
       "    <tr>\n",
       "      <th>50%</th>\n",
       "      <td>0.000000</td>\n",
       "      <td>2014.000000</td>\n",
       "      <td>101.000000</td>\n",
       "      <td>7.300000</td>\n",
       "      <td>1.546500e+04</td>\n",
       "      <td>14.000000</td>\n",
       "      <td>2.000000</td>\n",
       "      <td>3.000000</td>\n",
       "      <td>16.000000</td>\n",
       "      <td>6.000000</td>\n",
       "    </tr>\n",
       "    <tr>\n",
       "      <th>75%</th>\n",
       "      <td>3.000000</td>\n",
       "      <td>2019.000000</td>\n",
       "      <td>122.000000</td>\n",
       "      <td>7.800000</td>\n",
       "      <td>5.734950e+04</td>\n",
       "      <td>24.000000</td>\n",
       "      <td>2.000000</td>\n",
       "      <td>3.000000</td>\n",
       "      <td>18.000000</td>\n",
       "      <td>16.000000</td>\n",
       "    </tr>\n",
       "    <tr>\n",
       "      <th>max</th>\n",
       "      <td>3.000000</td>\n",
       "      <td>2023.000000</td>\n",
       "      <td>990.000000</td>\n",
       "      <td>9.500000</td>\n",
       "      <td>2.197234e+06</td>\n",
       "      <td>119.000000</td>\n",
       "      <td>3.000000</td>\n",
       "      <td>4.000000</td>\n",
       "      <td>21.000000</td>\n",
       "      <td>25.000000</td>\n",
       "    </tr>\n",
       "  </tbody>\n",
       "</table>\n",
       "</div>"
      ],
      "text/plain": [
       "         titleType    startYear  runtimeMinutes  averageRating      numVotes  \\\n",
       "count  7359.000000  7359.000000     7359.000000    7359.000000  7.359000e+03   \n",
       "mean      0.986819  2013.074331      100.777144       7.362971  7.328132e+04   \n",
       "std       1.366896     6.960245       65.052391       0.601009  1.631769e+05   \n",
       "min       0.000000  1990.000000        3.000000       6.500000  1.000000e+01   \n",
       "25%       0.000000  2008.000000       60.000000       6.900000  6.356500e+03   \n",
       "50%       0.000000  2014.000000      101.000000       7.300000  1.546500e+04   \n",
       "75%       3.000000  2019.000000      122.000000       7.800000  5.734950e+04   \n",
       "max       3.000000  2023.000000      990.000000       9.500000  2.197234e+06   \n",
       "\n",
       "          ordering       region        types   main_genre  secondary_genre  \n",
       "count  7359.000000  7359.000000  7359.000000  7359.000000      7359.000000  \n",
       "mean     16.577932     1.529420     2.993749    12.313494         8.762196  \n",
       "std      12.781237     0.869696     0.189315     7.648092         6.268130  \n",
       "min       1.000000     0.000000     0.000000     0.000000         0.000000  \n",
       "25%       6.000000     2.000000     3.000000     1.000000         4.000000  \n",
       "50%      14.000000     2.000000     3.000000    16.000000         6.000000  \n",
       "75%      24.000000     2.000000     3.000000    18.000000        16.000000  \n",
       "max     119.000000     3.000000     4.000000    21.000000        25.000000  "
      ]
     },
     "execution_count": 464,
     "metadata": {},
     "output_type": "execute_result"
    }
   ],
   "source": [
    "df_movies2.describe()"
   ]
  },
  {
   "cell_type": "markdown",
   "metadata": {},
   "source": [
    "Sample de los datos"
   ]
  },
  {
   "cell_type": "code",
   "execution_count": 465,
   "metadata": {},
   "outputs": [
    {
     "data": {
      "text/html": [
       "<div>\n",
       "<style scoped>\n",
       "    .dataframe tbody tr th:only-of-type {\n",
       "        vertical-align: middle;\n",
       "    }\n",
       "\n",
       "    .dataframe tbody tr th {\n",
       "        vertical-align: top;\n",
       "    }\n",
       "\n",
       "    .dataframe thead th {\n",
       "        text-align: right;\n",
       "    }\n",
       "</style>\n",
       "<table border=\"1\" class=\"dataframe\">\n",
       "  <thead>\n",
       "    <tr style=\"text-align: right;\">\n",
       "      <th></th>\n",
       "      <th>titleType</th>\n",
       "      <th>startYear</th>\n",
       "      <th>runtimeMinutes</th>\n",
       "      <th>averageRating</th>\n",
       "      <th>numVotes</th>\n",
       "      <th>ordering</th>\n",
       "      <th>region</th>\n",
       "      <th>types</th>\n",
       "      <th>main_genre</th>\n",
       "      <th>secondary_genre</th>\n",
       "    </tr>\n",
       "  </thead>\n",
       "  <tbody>\n",
       "    <tr>\n",
       "      <th>4297</th>\n",
       "      <td>3</td>\n",
       "      <td>2016.0</td>\n",
       "      <td>30.0</td>\n",
       "      <td>7.3</td>\n",
       "      <td>4122.0</td>\n",
       "      <td>4.0</td>\n",
       "      <td>2</td>\n",
       "      <td>3</td>\n",
       "      <td>12</td>\n",
       "      <td>3</td>\n",
       "    </tr>\n",
       "    <tr>\n",
       "      <th>251</th>\n",
       "      <td>3</td>\n",
       "      <td>1999.0</td>\n",
       "      <td>22.0</td>\n",
       "      <td>8.2</td>\n",
       "      <td>351953.0</td>\n",
       "      <td>39.0</td>\n",
       "      <td>2</td>\n",
       "      <td>3</td>\n",
       "      <td>12</td>\n",
       "      <td>3</td>\n",
       "    </tr>\n",
       "    <tr>\n",
       "      <th>1203</th>\n",
       "      <td>3</td>\n",
       "      <td>2007.0</td>\n",
       "      <td>46.0</td>\n",
       "      <td>8.2</td>\n",
       "      <td>88683.0</td>\n",
       "      <td>18.0</td>\n",
       "      <td>2</td>\n",
       "      <td>3</td>\n",
       "      <td>19</td>\n",
       "      <td>16</td>\n",
       "    </tr>\n",
       "    <tr>\n",
       "      <th>2593</th>\n",
       "      <td>0</td>\n",
       "      <td>2012.0</td>\n",
       "      <td>118.0</td>\n",
       "      <td>6.5</td>\n",
       "      <td>44872.0</td>\n",
       "      <td>35.0</td>\n",
       "      <td>2</td>\n",
       "      <td>3</td>\n",
       "      <td>19</td>\n",
       "      <td>8</td>\n",
       "    </tr>\n",
       "    <tr>\n",
       "      <th>3955</th>\n",
       "      <td>0</td>\n",
       "      <td>2016.0</td>\n",
       "      <td>118.0</td>\n",
       "      <td>8.0</td>\n",
       "      <td>243235.0</td>\n",
       "      <td>44.0</td>\n",
       "      <td>2</td>\n",
       "      <td>3</td>\n",
       "      <td>15</td>\n",
       "      <td>6</td>\n",
       "    </tr>\n",
       "    <tr>\n",
       "      <th>7096</th>\n",
       "      <td>1</td>\n",
       "      <td>2015.0</td>\n",
       "      <td>247.0</td>\n",
       "      <td>6.8</td>\n",
       "      <td>12373.0</td>\n",
       "      <td>8.0</td>\n",
       "      <td>0</td>\n",
       "      <td>3</td>\n",
       "      <td>19</td>\n",
       "      <td>19</td>\n",
       "    </tr>\n",
       "    <tr>\n",
       "      <th>2965</th>\n",
       "      <td>3</td>\n",
       "      <td>2011.0</td>\n",
       "      <td>44.0</td>\n",
       "      <td>6.9</td>\n",
       "      <td>20952.0</td>\n",
       "      <td>11.0</td>\n",
       "      <td>2</td>\n",
       "      <td>3</td>\n",
       "      <td>17</td>\n",
       "      <td>6</td>\n",
       "    </tr>\n",
       "    <tr>\n",
       "      <th>4267</th>\n",
       "      <td>0</td>\n",
       "      <td>2018.0</td>\n",
       "      <td>97.0</td>\n",
       "      <td>6.9</td>\n",
       "      <td>13252.0</td>\n",
       "      <td>32.0</td>\n",
       "      <td>2</td>\n",
       "      <td>3</td>\n",
       "      <td>1</td>\n",
       "      <td>3</td>\n",
       "    </tr>\n",
       "    <tr>\n",
       "      <th>2204</th>\n",
       "      <td>0</td>\n",
       "      <td>2021.0</td>\n",
       "      <td>130.0</td>\n",
       "      <td>7.1</td>\n",
       "      <td>28070.0</td>\n",
       "      <td>40.0</td>\n",
       "      <td>2</td>\n",
       "      <td>3</td>\n",
       "      <td>16</td>\n",
       "      <td>6</td>\n",
       "    </tr>\n",
       "    <tr>\n",
       "      <th>6817</th>\n",
       "      <td>3</td>\n",
       "      <td>2013.0</td>\n",
       "      <td>60.0</td>\n",
       "      <td>7.2</td>\n",
       "      <td>3943.0</td>\n",
       "      <td>3.0</td>\n",
       "      <td>0</td>\n",
       "      <td>3</td>\n",
       "      <td>17</td>\n",
       "      <td>6</td>\n",
       "    </tr>\n",
       "    <tr>\n",
       "      <th>6023</th>\n",
       "      <td>0</td>\n",
       "      <td>2004.0</td>\n",
       "      <td>140.0</td>\n",
       "      <td>8.0</td>\n",
       "      <td>40420.0</td>\n",
       "      <td>23.0</td>\n",
       "      <td>0</td>\n",
       "      <td>3</td>\n",
       "      <td>0</td>\n",
       "      <td>6</td>\n",
       "    </tr>\n",
       "    <tr>\n",
       "      <th>2084</th>\n",
       "      <td>3</td>\n",
       "      <td>2010.0</td>\n",
       "      <td>30.0</td>\n",
       "      <td>7.9</td>\n",
       "      <td>15966.0</td>\n",
       "      <td>17.0</td>\n",
       "      <td>2</td>\n",
       "      <td>3</td>\n",
       "      <td>16</td>\n",
       "      <td>6</td>\n",
       "    </tr>\n",
       "    <tr>\n",
       "      <th>7418</th>\n",
       "      <td>0</td>\n",
       "      <td>2019.0</td>\n",
       "      <td>106.0</td>\n",
       "      <td>6.5</td>\n",
       "      <td>7294.0</td>\n",
       "      <td>7.0</td>\n",
       "      <td>0</td>\n",
       "      <td>3</td>\n",
       "      <td>19</td>\n",
       "      <td>16</td>\n",
       "    </tr>\n",
       "    <tr>\n",
       "      <th>2617</th>\n",
       "      <td>3</td>\n",
       "      <td>2022.0</td>\n",
       "      <td>47.0</td>\n",
       "      <td>7.6</td>\n",
       "      <td>8539.0</td>\n",
       "      <td>3.0</td>\n",
       "      <td>2</td>\n",
       "      <td>3</td>\n",
       "      <td>19</td>\n",
       "      <td>16</td>\n",
       "    </tr>\n",
       "    <tr>\n",
       "      <th>4071</th>\n",
       "      <td>0</td>\n",
       "      <td>2014.0</td>\n",
       "      <td>135.0</td>\n",
       "      <td>7.7</td>\n",
       "      <td>7879.0</td>\n",
       "      <td>1.0</td>\n",
       "      <td>2</td>\n",
       "      <td>3</td>\n",
       "      <td>12</td>\n",
       "      <td>10</td>\n",
       "    </tr>\n",
       "    <tr>\n",
       "      <th>2585</th>\n",
       "      <td>3</td>\n",
       "      <td>2009.0</td>\n",
       "      <td>24.0</td>\n",
       "      <td>7.9</td>\n",
       "      <td>26252.0</td>\n",
       "      <td>1.0</td>\n",
       "      <td>2</td>\n",
       "      <td>3</td>\n",
       "      <td>0</td>\n",
       "      <td>0</td>\n",
       "    </tr>\n",
       "    <tr>\n",
       "      <th>7216</th>\n",
       "      <td>0</td>\n",
       "      <td>2021.0</td>\n",
       "      <td>92.0</td>\n",
       "      <td>6.8</td>\n",
       "      <td>3062.0</td>\n",
       "      <td>4.0</td>\n",
       "      <td>0</td>\n",
       "      <td>3</td>\n",
       "      <td>15</td>\n",
       "      <td>5</td>\n",
       "    </tr>\n",
       "    <tr>\n",
       "      <th>5809</th>\n",
       "      <td>0</td>\n",
       "      <td>2002.0</td>\n",
       "      <td>94.0</td>\n",
       "      <td>7.4</td>\n",
       "      <td>29609.0</td>\n",
       "      <td>36.0</td>\n",
       "      <td>0</td>\n",
       "      <td>3</td>\n",
       "      <td>15</td>\n",
       "      <td>6</td>\n",
       "    </tr>\n",
       "    <tr>\n",
       "      <th>7163</th>\n",
       "      <td>0</td>\n",
       "      <td>2017.0</td>\n",
       "      <td>113.0</td>\n",
       "      <td>7.3</td>\n",
       "      <td>4959.0</td>\n",
       "      <td>4.0</td>\n",
       "      <td>0</td>\n",
       "      <td>3</td>\n",
       "      <td>19</td>\n",
       "      <td>18</td>\n",
       "    </tr>\n",
       "    <tr>\n",
       "      <th>4642</th>\n",
       "      <td>0</td>\n",
       "      <td>2016.0</td>\n",
       "      <td>165.0</td>\n",
       "      <td>7.7</td>\n",
       "      <td>7586.0</td>\n",
       "      <td>3.0</td>\n",
       "      <td>2</td>\n",
       "      <td>3</td>\n",
       "      <td>0</td>\n",
       "      <td>4</td>\n",
       "    </tr>\n",
       "  </tbody>\n",
       "</table>\n",
       "</div>"
      ],
      "text/plain": [
       "      titleType  startYear  runtimeMinutes  averageRating  numVotes  ordering  \\\n",
       "4297          3     2016.0            30.0            7.3    4122.0       4.0   \n",
       "251           3     1999.0            22.0            8.2  351953.0      39.0   \n",
       "1203          3     2007.0            46.0            8.2   88683.0      18.0   \n",
       "2593          0     2012.0           118.0            6.5   44872.0      35.0   \n",
       "3955          0     2016.0           118.0            8.0  243235.0      44.0   \n",
       "7096          1     2015.0           247.0            6.8   12373.0       8.0   \n",
       "2965          3     2011.0            44.0            6.9   20952.0      11.0   \n",
       "4267          0     2018.0            97.0            6.9   13252.0      32.0   \n",
       "2204          0     2021.0           130.0            7.1   28070.0      40.0   \n",
       "6817          3     2013.0            60.0            7.2    3943.0       3.0   \n",
       "6023          0     2004.0           140.0            8.0   40420.0      23.0   \n",
       "2084          3     2010.0            30.0            7.9   15966.0      17.0   \n",
       "7418          0     2019.0           106.0            6.5    7294.0       7.0   \n",
       "2617          3     2022.0            47.0            7.6    8539.0       3.0   \n",
       "4071          0     2014.0           135.0            7.7    7879.0       1.0   \n",
       "2585          3     2009.0            24.0            7.9   26252.0       1.0   \n",
       "7216          0     2021.0            92.0            6.8    3062.0       4.0   \n",
       "5809          0     2002.0            94.0            7.4   29609.0      36.0   \n",
       "7163          0     2017.0           113.0            7.3    4959.0       4.0   \n",
       "4642          0     2016.0           165.0            7.7    7586.0       3.0   \n",
       "\n",
       "      region  types  main_genre  secondary_genre  \n",
       "4297       2      3          12                3  \n",
       "251        2      3          12                3  \n",
       "1203       2      3          19               16  \n",
       "2593       2      3          19                8  \n",
       "3955       2      3          15                6  \n",
       "7096       0      3          19               19  \n",
       "2965       2      3          17                6  \n",
       "4267       2      3           1                3  \n",
       "2204       2      3          16                6  \n",
       "6817       0      3          17                6  \n",
       "6023       0      3           0                6  \n",
       "2084       2      3          16                6  \n",
       "7418       0      3          19               16  \n",
       "2617       2      3          19               16  \n",
       "4071       2      3          12               10  \n",
       "2585       2      3           0                0  \n",
       "7216       0      3          15                5  \n",
       "5809       0      3          15                6  \n",
       "7163       0      3          19               18  \n",
       "4642       2      3           0                4  "
      ]
     },
     "execution_count": 465,
     "metadata": {},
     "output_type": "execute_result"
    }
   ],
   "source": [
    "pruebaDf = df_movies2.sample(n=20)\n",
    "pruebaDf"
   ]
  },
  {
   "cell_type": "markdown",
   "metadata": {},
   "source": [
    "Creacion del algoritmo,m primero: Normalizar datos para el mejor rendimiento posible"
   ]
  },
  {
   "cell_type": "code",
   "execution_count": 480,
   "metadata": {},
   "outputs": [
    {
     "name": "stdout",
     "output_type": "stream",
     "text": [
      "[[ 1.05488468e+06  7.77363706e-01]\n",
      " [-7.27043198e+04 -7.64690831e+01]\n",
      " [ 7.87287683e+05  2.28557255e+01]\n",
      " ...\n",
      " [-6.99353172e+04  6.01882384e-01]\n",
      " [-6.96353183e+04 -1.43408158e+01]\n",
      " [-6.97043197e+04 -7.54731555e+01]]\n"
     ]
    }
   ],
   "source": [
    "pca = PCA(n_components=2)  # Reduzca a 2 dimensiones\n",
    "datosReducidos = pca.fit_transform(df_movies2)\n",
    "\n",
    "print(datosReducidos)\n",
    "datosEscalados = StandardScaler().fit_transform(df_movies2)\n"
   ]
  },
  {
   "cell_type": "markdown",
   "metadata": {},
   "source": [
    "Normalizacion de los datos"
   ]
  },
  {
   "cell_type": "markdown",
   "metadata": {},
   "source": [
    "Aplicacion del algoritmo de DBS"
   ]
  },
  {
   "cell_type": "code",
   "execution_count": 481,
   "metadata": {},
   "outputs": [
    {
     "name": "stdout",
     "output_type": "stream",
     "text": [
      "Estimated number of clusters: 0\n",
      "Estimated number of noise points: 7359\n"
     ]
    }
   ],
   "source": [
    "dbscan = DBSCAN(eps=0.5, min_samples=10)\n",
    "dbscan.fit(datosReducidos)\n",
    "\n",
    "labels = dbscan.labels_\n",
    "\n",
    "# Number of clusters in labels, ignoring noise if present.\n",
    "n_clusters_ = len(set(labels)) - (1 if -1 in labels else 0)\n",
    "n_noise_ = list(labels).count(-1)\n",
    "\n",
    "print(\"Estimated number of clusters: %d\" % n_clusters_)\n",
    "print(\"Estimated number of noise points: %d\" % n_noise_)"
   ]
  },
  {
   "cell_type": "markdown",
   "metadata": {},
   "source": [
    "Medicion del coeficiente silueta"
   ]
  },
  {
   "cell_type": "code",
   "execution_count": 482,
   "metadata": {},
   "outputs": [
    {
     "ename": "ValueError",
     "evalue": "Number of labels is 1. Valid values are 2 to n_samples - 1 (inclusive)",
     "output_type": "error",
     "traceback": [
      "\u001b[1;31m---------------------------------------------------------------------------\u001b[0m",
      "\u001b[1;31mValueError\u001b[0m                                Traceback (most recent call last)",
      "\u001b[1;32m<ipython-input-482-0762775eca3e>\u001b[0m in \u001b[0;36m<module>\u001b[1;34m\u001b[0m\n\u001b[1;32m----> 1\u001b[1;33m \u001b[0mcoeficienteSilueta\u001b[0m \u001b[1;33m=\u001b[0m \u001b[0msilhouette_score\u001b[0m\u001b[1;33m(\u001b[0m\u001b[0mdatosReducidos\u001b[0m\u001b[1;33m,\u001b[0m \u001b[0mlabels\u001b[0m\u001b[1;33m)\u001b[0m\u001b[1;33m\u001b[0m\u001b[1;33m\u001b[0m\u001b[0m\n\u001b[0m\u001b[0;32m      2\u001b[0m \u001b[0mprint\u001b[0m\u001b[1;33m(\u001b[0m\u001b[0mcoeficienteSilueta\u001b[0m\u001b[1;33m)\u001b[0m\u001b[1;33m\u001b[0m\u001b[1;33m\u001b[0m\u001b[0m\n",
      "\u001b[1;32mc:\\Users\\User\\anaconda3\\lib\\site-packages\\sklearn\\utils\\validation.py\u001b[0m in \u001b[0;36minner_f\u001b[1;34m(*args, **kwargs)\u001b[0m\n\u001b[0;32m     70\u001b[0m                           FutureWarning)\n\u001b[0;32m     71\u001b[0m         \u001b[0mkwargs\u001b[0m\u001b[1;33m.\u001b[0m\u001b[0mupdate\u001b[0m\u001b[1;33m(\u001b[0m\u001b[1;33m{\u001b[0m\u001b[0mk\u001b[0m\u001b[1;33m:\u001b[0m \u001b[0marg\u001b[0m \u001b[1;32mfor\u001b[0m \u001b[0mk\u001b[0m\u001b[1;33m,\u001b[0m \u001b[0marg\u001b[0m \u001b[1;32min\u001b[0m \u001b[0mzip\u001b[0m\u001b[1;33m(\u001b[0m\u001b[0msig\u001b[0m\u001b[1;33m.\u001b[0m\u001b[0mparameters\u001b[0m\u001b[1;33m,\u001b[0m \u001b[0margs\u001b[0m\u001b[1;33m)\u001b[0m\u001b[1;33m}\u001b[0m\u001b[1;33m)\u001b[0m\u001b[1;33m\u001b[0m\u001b[1;33m\u001b[0m\u001b[0m\n\u001b[1;32m---> 72\u001b[1;33m         \u001b[1;32mreturn\u001b[0m \u001b[0mf\u001b[0m\u001b[1;33m(\u001b[0m\u001b[1;33m**\u001b[0m\u001b[0mkwargs\u001b[0m\u001b[1;33m)\u001b[0m\u001b[1;33m\u001b[0m\u001b[1;33m\u001b[0m\u001b[0m\n\u001b[0m\u001b[0;32m     73\u001b[0m     \u001b[1;32mreturn\u001b[0m \u001b[0minner_f\u001b[0m\u001b[1;33m\u001b[0m\u001b[1;33m\u001b[0m\u001b[0m\n\u001b[0;32m     74\u001b[0m \u001b[1;33m\u001b[0m\u001b[0m\n",
      "\u001b[1;32mc:\\Users\\User\\anaconda3\\lib\\site-packages\\sklearn\\metrics\\cluster\\_unsupervised.py\u001b[0m in \u001b[0;36msilhouette_score\u001b[1;34m(X, labels, metric, sample_size, random_state, **kwds)\u001b[0m\n\u001b[0;32m    115\u001b[0m         \u001b[1;32melse\u001b[0m\u001b[1;33m:\u001b[0m\u001b[1;33m\u001b[0m\u001b[1;33m\u001b[0m\u001b[0m\n\u001b[0;32m    116\u001b[0m             \u001b[0mX\u001b[0m\u001b[1;33m,\u001b[0m \u001b[0mlabels\u001b[0m \u001b[1;33m=\u001b[0m \u001b[0mX\u001b[0m\u001b[1;33m[\u001b[0m\u001b[0mindices\u001b[0m\u001b[1;33m]\u001b[0m\u001b[1;33m,\u001b[0m \u001b[0mlabels\u001b[0m\u001b[1;33m[\u001b[0m\u001b[0mindices\u001b[0m\u001b[1;33m]\u001b[0m\u001b[1;33m\u001b[0m\u001b[1;33m\u001b[0m\u001b[0m\n\u001b[1;32m--> 117\u001b[1;33m     \u001b[1;32mreturn\u001b[0m \u001b[0mnp\u001b[0m\u001b[1;33m.\u001b[0m\u001b[0mmean\u001b[0m\u001b[1;33m(\u001b[0m\u001b[0msilhouette_samples\u001b[0m\u001b[1;33m(\u001b[0m\u001b[0mX\u001b[0m\u001b[1;33m,\u001b[0m \u001b[0mlabels\u001b[0m\u001b[1;33m,\u001b[0m \u001b[0mmetric\u001b[0m\u001b[1;33m=\u001b[0m\u001b[0mmetric\u001b[0m\u001b[1;33m,\u001b[0m \u001b[1;33m**\u001b[0m\u001b[0mkwds\u001b[0m\u001b[1;33m)\u001b[0m\u001b[1;33m)\u001b[0m\u001b[1;33m\u001b[0m\u001b[1;33m\u001b[0m\u001b[0m\n\u001b[0m\u001b[0;32m    118\u001b[0m \u001b[1;33m\u001b[0m\u001b[0m\n\u001b[0;32m    119\u001b[0m \u001b[1;33m\u001b[0m\u001b[0m\n",
      "\u001b[1;32mc:\\Users\\User\\anaconda3\\lib\\site-packages\\sklearn\\utils\\validation.py\u001b[0m in \u001b[0;36minner_f\u001b[1;34m(*args, **kwargs)\u001b[0m\n\u001b[0;32m     70\u001b[0m                           FutureWarning)\n\u001b[0;32m     71\u001b[0m         \u001b[0mkwargs\u001b[0m\u001b[1;33m.\u001b[0m\u001b[0mupdate\u001b[0m\u001b[1;33m(\u001b[0m\u001b[1;33m{\u001b[0m\u001b[0mk\u001b[0m\u001b[1;33m:\u001b[0m \u001b[0marg\u001b[0m \u001b[1;32mfor\u001b[0m \u001b[0mk\u001b[0m\u001b[1;33m,\u001b[0m \u001b[0marg\u001b[0m \u001b[1;32min\u001b[0m \u001b[0mzip\u001b[0m\u001b[1;33m(\u001b[0m\u001b[0msig\u001b[0m\u001b[1;33m.\u001b[0m\u001b[0mparameters\u001b[0m\u001b[1;33m,\u001b[0m \u001b[0margs\u001b[0m\u001b[1;33m)\u001b[0m\u001b[1;33m}\u001b[0m\u001b[1;33m)\u001b[0m\u001b[1;33m\u001b[0m\u001b[1;33m\u001b[0m\u001b[0m\n\u001b[1;32m---> 72\u001b[1;33m         \u001b[1;32mreturn\u001b[0m \u001b[0mf\u001b[0m\u001b[1;33m(\u001b[0m\u001b[1;33m**\u001b[0m\u001b[0mkwargs\u001b[0m\u001b[1;33m)\u001b[0m\u001b[1;33m\u001b[0m\u001b[1;33m\u001b[0m\u001b[0m\n\u001b[0m\u001b[0;32m     73\u001b[0m     \u001b[1;32mreturn\u001b[0m \u001b[0minner_f\u001b[0m\u001b[1;33m\u001b[0m\u001b[1;33m\u001b[0m\u001b[0m\n\u001b[0;32m     74\u001b[0m \u001b[1;33m\u001b[0m\u001b[0m\n",
      "\u001b[1;32mc:\\Users\\User\\anaconda3\\lib\\site-packages\\sklearn\\metrics\\cluster\\_unsupervised.py\u001b[0m in \u001b[0;36msilhouette_samples\u001b[1;34m(X, labels, metric, **kwds)\u001b[0m\n\u001b[0;32m    227\u001b[0m     \u001b[0mn_samples\u001b[0m \u001b[1;33m=\u001b[0m \u001b[0mlen\u001b[0m\u001b[1;33m(\u001b[0m\u001b[0mlabels\u001b[0m\u001b[1;33m)\u001b[0m\u001b[1;33m\u001b[0m\u001b[1;33m\u001b[0m\u001b[0m\n\u001b[0;32m    228\u001b[0m     \u001b[0mlabel_freqs\u001b[0m \u001b[1;33m=\u001b[0m \u001b[0mnp\u001b[0m\u001b[1;33m.\u001b[0m\u001b[0mbincount\u001b[0m\u001b[1;33m(\u001b[0m\u001b[0mlabels\u001b[0m\u001b[1;33m)\u001b[0m\u001b[1;33m\u001b[0m\u001b[1;33m\u001b[0m\u001b[0m\n\u001b[1;32m--> 229\u001b[1;33m     \u001b[0mcheck_number_of_labels\u001b[0m\u001b[1;33m(\u001b[0m\u001b[0mlen\u001b[0m\u001b[1;33m(\u001b[0m\u001b[0mle\u001b[0m\u001b[1;33m.\u001b[0m\u001b[0mclasses_\u001b[0m\u001b[1;33m)\u001b[0m\u001b[1;33m,\u001b[0m \u001b[0mn_samples\u001b[0m\u001b[1;33m)\u001b[0m\u001b[1;33m\u001b[0m\u001b[1;33m\u001b[0m\u001b[0m\n\u001b[0m\u001b[0;32m    230\u001b[0m \u001b[1;33m\u001b[0m\u001b[0m\n\u001b[0;32m    231\u001b[0m     \u001b[0mkwds\u001b[0m\u001b[1;33m[\u001b[0m\u001b[1;34m'metric'\u001b[0m\u001b[1;33m]\u001b[0m \u001b[1;33m=\u001b[0m \u001b[0mmetric\u001b[0m\u001b[1;33m\u001b[0m\u001b[1;33m\u001b[0m\u001b[0m\n",
      "\u001b[1;32mc:\\Users\\User\\anaconda3\\lib\\site-packages\\sklearn\\metrics\\cluster\\_unsupervised.py\u001b[0m in \u001b[0;36mcheck_number_of_labels\u001b[1;34m(n_labels, n_samples)\u001b[0m\n\u001b[0;32m     32\u001b[0m     \"\"\"\n\u001b[0;32m     33\u001b[0m     \u001b[1;32mif\u001b[0m \u001b[1;32mnot\u001b[0m \u001b[1;36m1\u001b[0m \u001b[1;33m<\u001b[0m \u001b[0mn_labels\u001b[0m \u001b[1;33m<\u001b[0m \u001b[0mn_samples\u001b[0m\u001b[1;33m:\u001b[0m\u001b[1;33m\u001b[0m\u001b[1;33m\u001b[0m\u001b[0m\n\u001b[1;32m---> 34\u001b[1;33m         raise ValueError(\"Number of labels is %d. Valid values are 2 \"\n\u001b[0m\u001b[0;32m     35\u001b[0m                          \"to n_samples - 1 (inclusive)\" % n_labels)\n\u001b[0;32m     36\u001b[0m \u001b[1;33m\u001b[0m\u001b[0m\n",
      "\u001b[1;31mValueError\u001b[0m: Number of labels is 1. Valid values are 2 to n_samples - 1 (inclusive)"
     ]
    }
   ],
   "source": [
    "coeficienteSilueta = silhouette_score(datosReducidos, labels)\n",
    "print(coeficienteSilueta)"
   ]
  },
  {
   "cell_type": "code",
   "execution_count": null,
   "metadata": {},
   "outputs": [
    {
     "data": {
      "image/png": "[encoded data removed]",
      "text/plain": [
       "<Figure size 432x288 with 1 Axes>"
      ]
     },
     "metadata": {},
     "output_type": "display_data"
    }
   ],
   "source": [
    "import matplotlib.pyplot as plt\n",
    "from sklearn.decomposition import PCA\n",
    "\n",
    "# Reducción de dimensionalidad a 2D con PCA\n",
    "pca = PCA(n_components=2)\n",
    "X_reduced = pca.fit_transform(datosEscalados)\n",
    "\n",
    "# Graficar los resultados\n",
    "unique_labels = set(labels)\n",
    "colors = [plt.cm.Spectral(each)\n",
    "          for each in np.linspace(0, 1, len(unique_labels))]\n",
    "\n",
    "for k, col in zip(unique_labels, colors):\n",
    "    if k == -1:\n",
    "        # Negro para ruido.\n",
    "        col = [0, 0, 0, 1]\n",
    "\n",
    "    class_member_mask = (labels == k)\n",
    "\n",
    "    # Graficar los puntos de datos que son \"núcleo\"\n",
    "    xy = datosEscalados[class_member_mask]\n",
    "    plt.plot(xy[:, 0], xy[:, 1], 'o', markerfacecolor=tuple(col),\n",
    "             markeredgecolor='k', markersize=6)\n",
    "\n",
    "plt.title('Número estimado de clusters: %d' % len(unique_labels))\n",
    "plt.show()\n"
   ]
  },
  {
   "cell_type": "markdown",
   "metadata": {},
   "source": [
    "### 6.1 Preparar los datos\n",
    "A nivel de preparación de datos debemos fijarnos en:\n",
    "- A. Correcciones relacionadas con problemas de calidad de dato: nulos, duplicados, inconsistencia, diferencia de formatos, etc.\n",
    "- B. Preparación relacionada con la tarea de aprendizaje\n",
    "    - Selección de columnas a incluir de acuerdo con la tarea de aprendizaje a realizar y el conocimiento del contexto del negocio\n",
    "    - ...\n",
    "- C. Preparación de acuerdo con el algoritmo a utilizar, en este caso K-means\n",
    "    Al revisar k-means vemos que el algoritmo trabaja únicamente con datos numéricos, y no nulos así que si vamos a incluir datos categóricos debemos transformarlos a numéricos y si tenemos datos nulos debemos transformalos y en el peor escenario retirarlos del modelo ya sea la fila que los incluye o toda la columna si el porcentaje de estos valores es alto."
   ]
  },
  {
   "cell_type": "markdown",
   "metadata": {},
   "source": [
    "### 7 Analizar y concluir"
   ]
  }
 ],
 "metadata": {
  "kernelspec": {
   "display_name": "base",
   "language": "python",
   "name": "python3"
  },
  "language_info": {
   "codemirror_mode": {
    "name": "ipython",
    "version": 3
   },
   "file_extension": ".py",
   "mimetype": "text/x-python",
   "name": "python",
   "nbconvert_exporter": "python",
   "pygments_lexer": "ipython3",
   "version": "3.8.5"
  },
  "orig_nbformat": 4
 },
 "nbformat": 4,
 "nbformat_minor": 2
}
