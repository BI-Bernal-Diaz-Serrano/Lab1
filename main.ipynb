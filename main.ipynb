{
 "cells": [
  {
   "cell_type": "markdown",
   "metadata": {},
   "source": [
    "## 1. Carga de librerías necesarias para implementación"
   ]
  },
  {
   "cell_type": "code",
   "execution_count": 876,
   "metadata": {},
   "outputs": [
    {
     "name": "stdout",
     "output_type": "stream",
     "text": [
      "c:\\Users\\User\\Lab1\n"
     ]
    }
   ],
   "source": [
    "import sklearn\n",
    "import pandas as pd\n",
    "import numpy as np\n",
    "import matplotlib.pyplot as plt\n",
    "import seaborn as sns; sns.set()  # for plot styling\n",
    "from sklearn.preprocessing import LabelEncoder\n",
    "\n",
    "from sklearn.cluster import KMeans\n",
    "from sklearn.metrics import silhouette_samples, silhouette_score\n",
    "from sklearn.preprocessing import MinMaxScaler\n",
    "from sklearn.preprocessing import StandardScaler\n",
    "from sklearn.preprocessing import OneHotEncoder\n",
    "\n",
    "from matplotlib import cm\n",
    "from mpl_toolkits.mplot3d import Axes3D # for 3D plots\n",
    "from sklearn.decomposition import PCA\n",
    "\n",
    "from sklearn.datasets import make_moons\n",
    "import matplotlib.pyplot as plt\n",
    "import numpy as np\n",
    "from sklearn.cluster import DBSCAN\n",
    "from sklearn.preprocessing import StandardScaler\n",
    "import matplotlib.pyplot as plt\n",
    "import os\n",
    "print(os.getcwd()) # dice donde cree que es el repositorio donde esta trabajando para hacer el path relativo funcional"
   ]
  },
  {
   "cell_type": "markdown",
   "metadata": {},
   "source": [
    "## 2. Cargar los datos"
   ]
  },
  {
   "cell_type": "code",
   "execution_count": 877,
   "metadata": {},
   "outputs": [],
   "source": [
    "df_movies = pd.read_csv('data/MovieAlpes_data.csv', sep=';', encoding='utf-8')\n",
    "df_algoritmo2=pd.read_csv('data/MovieAlpes_data.csv', sep=';', encoding='utf-8')"
   ]
  },
  {
   "cell_type": "markdown",
   "metadata": {},
   "source": [
    "## 3. Entendimiento de los datos "
   ]
  },
  {
   "cell_type": "markdown",
   "metadata": {},
   "source": [
    "### 3.1. Perfilamiento de datos"
   ]
  },
  {
   "cell_type": "code",
   "execution_count": 878,
   "metadata": {},
   "outputs": [
    {
     "data": {
      "text/plain": [
       "(7471, 18)"
      ]
     },
     "execution_count": 878,
     "metadata": {},
     "output_type": "execute_result"
    }
   ],
   "source": [
    "df_movies.shape"
   ]
  },
  {
   "cell_type": "code",
   "execution_count": 879,
   "metadata": {},
   "outputs": [
    {
     "data": {
      "text/html": [
       "<div>\n",
       "<style scoped>\n",
       "    .dataframe tbody tr th:only-of-type {\n",
       "        vertical-align: middle;\n",
       "    }\n",
       "\n",
       "    .dataframe tbody tr th {\n",
       "        vertical-align: top;\n",
       "    }\n",
       "\n",
       "    .dataframe thead th {\n",
       "        text-align: right;\n",
       "    }\n",
       "</style>\n",
       "<table border=\"1\" class=\"dataframe\">\n",
       "  <thead>\n",
       "    <tr style=\"text-align: right;\">\n",
       "      <th></th>\n",
       "      <th>#</th>\n",
       "      <th>index</th>\n",
       "      <th>tconst</th>\n",
       "      <th>titleType</th>\n",
       "      <th>originalTitle</th>\n",
       "      <th>isAdult</th>\n",
       "      <th>startYear</th>\n",
       "      <th>runtimeMinutes</th>\n",
       "      <th>averageRating</th>\n",
       "      <th>numVotes</th>\n",
       "      <th>ordering</th>\n",
       "      <th>region</th>\n",
       "      <th>language</th>\n",
       "      <th>types</th>\n",
       "      <th>attributes</th>\n",
       "      <th>isOriginalTitle</th>\n",
       "      <th>main_genre</th>\n",
       "      <th>secondary_genre</th>\n",
       "    </tr>\n",
       "  </thead>\n",
       "  <tbody>\n",
       "    <tr>\n",
       "      <th>0</th>\n",
       "      <td>1</td>\n",
       "      <td>1</td>\n",
       "      <td>tt0103064</td>\n",
       "      <td>movie</td>\n",
       "      <td>Terminator 2: Judgment Day</td>\n",
       "      <td>0.0</td>\n",
       "      <td>1991.0</td>\n",
       "      <td>137</td>\n",
       "      <td>8.6</td>\n",
       "      <td>1128166.0</td>\n",
       "      <td>17.0</td>\n",
       "      <td>US</td>\n",
       "      <td>en</td>\n",
       "      <td>dvd</td>\n",
       "      <td>\\N</td>\n",
       "      <td>0.0</td>\n",
       "      <td>Action</td>\n",
       "      <td>Sci-Fi</td>\n",
       "    </tr>\n",
       "    <tr>\n",
       "      <th>1</th>\n",
       "      <td>10</td>\n",
       "      <td>17</td>\n",
       "      <td>tt0231050</td>\n",
       "      <td>tvSeries</td>\n",
       "      <td>ToransufÃ´mÃ¢: KÃ¢robotto</td>\n",
       "      <td>0.0</td>\n",
       "      <td>2000.0</td>\n",
       "      <td>22</td>\n",
       "      <td>6.6</td>\n",
       "      <td>577.0</td>\n",
       "      <td>16.0</td>\n",
       "      <td>US</td>\n",
       "      <td>en</td>\n",
       "      <td>alternative</td>\n",
       "      <td>\\N</td>\n",
       "      <td>0.0</td>\n",
       "      <td>Action</td>\n",
       "      <td>Adventure</td>\n",
       "    </tr>\n",
       "    <tr>\n",
       "      <th>2</th>\n",
       "      <td>13</td>\n",
       "      <td>23</td>\n",
       "      <td>tt0253474</td>\n",
       "      <td>movie</td>\n",
       "      <td>The Pianist</td>\n",
       "      <td>0.0</td>\n",
       "      <td>2002.0</td>\n",
       "      <td>150</td>\n",
       "      <td>8.5</td>\n",
       "      <td>860569.0</td>\n",
       "      <td>7.0</td>\n",
       "      <td>US</td>\n",
       "      <td>en</td>\n",
       "      <td>imdbDisplay</td>\n",
       "      <td>\\N</td>\n",
       "      <td>0.0</td>\n",
       "      <td>Biography</td>\n",
       "      <td>Drama</td>\n",
       "    </tr>\n",
       "    <tr>\n",
       "      <th>3</th>\n",
       "      <td>21</td>\n",
       "      <td>55</td>\n",
       "      <td>tt0369339</td>\n",
       "      <td>movie</td>\n",
       "      <td>Collateral</td>\n",
       "      <td>0.0</td>\n",
       "      <td>2004.0</td>\n",
       "      <td>120</td>\n",
       "      <td>7.5</td>\n",
       "      <td>417391.0</td>\n",
       "      <td>6.0</td>\n",
       "      <td>US</td>\n",
       "      <td>en</td>\n",
       "      <td>imdbDisplay</td>\n",
       "      <td>\\N</td>\n",
       "      <td>0.0</td>\n",
       "      <td>Action</td>\n",
       "      <td>Crime</td>\n",
       "    </tr>\n",
       "    <tr>\n",
       "      <th>4</th>\n",
       "      <td>28</td>\n",
       "      <td>87</td>\n",
       "      <td>tt0439547</td>\n",
       "      <td>movie</td>\n",
       "      <td>2 Filhos de Francisco: A HistÃ³ria de ZezÃ© di...</td>\n",
       "      <td>0.0</td>\n",
       "      <td>2005.0</td>\n",
       "      <td>132</td>\n",
       "      <td>6.9</td>\n",
       "      <td>5946.0</td>\n",
       "      <td>5.0</td>\n",
       "      <td>US</td>\n",
       "      <td>en</td>\n",
       "      <td>imdbDisplay</td>\n",
       "      <td>\\N</td>\n",
       "      <td>0.0</td>\n",
       "      <td>Biography</td>\n",
       "      <td>Drama</td>\n",
       "    </tr>\n",
       "  </tbody>\n",
       "</table>\n",
       "</div>"
      ],
      "text/plain": [
       "    #  index     tconst titleType  \\\n",
       "0   1      1  tt0103064     movie   \n",
       "1  10     17  tt0231050  tvSeries   \n",
       "2  13     23  tt0253474     movie   \n",
       "3  21     55  tt0369339     movie   \n",
       "4  28     87  tt0439547     movie   \n",
       "\n",
       "                                       originalTitle  isAdult  startYear  \\\n",
       "0                         Terminator 2: Judgment Day      0.0     1991.0   \n",
       "1                          ToransufÃ´mÃ¢: KÃ¢robotto      0.0     2000.0   \n",
       "2                                        The Pianist      0.0     2002.0   \n",
       "3                                         Collateral      0.0     2004.0   \n",
       "4  2 Filhos de Francisco: A HistÃ³ria de ZezÃ© di...      0.0     2005.0   \n",
       "\n",
       "  runtimeMinutes  averageRating   numVotes  ordering region language  \\\n",
       "0            137            8.6  1128166.0      17.0     US       en   \n",
       "1             22            6.6      577.0      16.0     US       en   \n",
       "2            150            8.5   860569.0       7.0     US       en   \n",
       "3            120            7.5   417391.0       6.0     US       en   \n",
       "4            132            6.9     5946.0       5.0     US       en   \n",
       "\n",
       "         types attributes  isOriginalTitle main_genre secondary_genre  \n",
       "0          dvd         \\N              0.0     Action          Sci-Fi  \n",
       "1  alternative         \\N              0.0     Action       Adventure  \n",
       "2  imdbDisplay         \\N              0.0  Biography           Drama  \n",
       "3  imdbDisplay         \\N              0.0     Action           Crime  \n",
       "4  imdbDisplay         \\N              0.0  Biography           Drama  "
      ]
     },
     "execution_count": 879,
     "metadata": {},
     "output_type": "execute_result"
    }
   ],
   "source": [
    "df_movies.head()"
   ]
  },
  {
   "cell_type": "code",
   "execution_count": 880,
   "metadata": {},
   "outputs": [
    {
     "name": "stdout",
     "output_type": "stream",
     "text": [
      "<class 'pandas.core.frame.DataFrame'>\n",
      "RangeIndex: 7471 entries, 0 to 7470\n",
      "Data columns (total 18 columns):\n",
      " #   Column           Non-Null Count  Dtype  \n",
      "---  ------           --------------  -----  \n",
      " 0   #                7471 non-null   int64  \n",
      " 1   index            7471 non-null   int64  \n",
      " 2   tconst           7471 non-null   object \n",
      " 3   titleType        7471 non-null   object \n",
      " 4   originalTitle    7471 non-null   object \n",
      " 5   isAdult          7470 non-null   float64\n",
      " 6   startYear        7470 non-null   float64\n",
      " 7   runtimeMinutes   7470 non-null   object \n",
      " 8   averageRating    7470 non-null   float64\n",
      " 9   numVotes         7470 non-null   float64\n",
      " 10  ordering         7470 non-null   float64\n",
      " 11  region           7470 non-null   object \n",
      " 12  language         7470 non-null   object \n",
      " 13  types            7470 non-null   object \n",
      " 14  attributes       7470 non-null   object \n",
      " 15  isOriginalTitle  7470 non-null   float64\n",
      " 16  main_genre       7470 non-null   object \n",
      " 17  secondary_genre  7470 non-null   object \n",
      "dtypes: float64(6), int64(2), object(10)\n",
      "memory usage: 1.0+ MB\n"
     ]
    }
   ],
   "source": [
    "# Revisar las características de los datos: completitud y tipo de dat\n",
    "df_movies.info()"
   ]
  },
  {
   "cell_type": "code",
   "execution_count": 881,
   "metadata": {},
   "outputs": [
    {
     "data": {
      "text/html": [
       "<div>\n",
       "<style scoped>\n",
       "    .dataframe tbody tr th:only-of-type {\n",
       "        vertical-align: middle;\n",
       "    }\n",
       "\n",
       "    .dataframe tbody tr th {\n",
       "        vertical-align: top;\n",
       "    }\n",
       "\n",
       "    .dataframe thead th {\n",
       "        text-align: right;\n",
       "    }\n",
       "</style>\n",
       "<table border=\"1\" class=\"dataframe\">\n",
       "  <thead>\n",
       "    <tr style=\"text-align: right;\">\n",
       "      <th></th>\n",
       "      <th>#</th>\n",
       "      <th>index</th>\n",
       "      <th>isAdult</th>\n",
       "      <th>startYear</th>\n",
       "      <th>averageRating</th>\n",
       "      <th>numVotes</th>\n",
       "      <th>ordering</th>\n",
       "      <th>isOriginalTitle</th>\n",
       "    </tr>\n",
       "  </thead>\n",
       "  <tbody>\n",
       "    <tr>\n",
       "      <th>count</th>\n",
       "      <td>7471.000000</td>\n",
       "      <td>7471.000000</td>\n",
       "      <td>7470.0</td>\n",
       "      <td>7470.000000</td>\n",
       "      <td>7470.000000</td>\n",
       "      <td>7.470000e+03</td>\n",
       "      <td>7470.000000</td>\n",
       "      <td>7470.0</td>\n",
       "    </tr>\n",
       "    <tr>\n",
       "      <th>mean</th>\n",
       "      <td>4043.482666</td>\n",
       "      <td>5440.458439</td>\n",
       "      <td>0.0</td>\n",
       "      <td>2013.157296</td>\n",
       "      <td>7.475676</td>\n",
       "      <td>7.282830e+04</td>\n",
       "      <td>16.567604</td>\n",
       "      <td>0.0</td>\n",
       "    </tr>\n",
       "    <tr>\n",
       "      <th>std</th>\n",
       "      <td>2192.753689</td>\n",
       "      <td>2752.820924</td>\n",
       "      <td>0.0</td>\n",
       "      <td>6.979151</td>\n",
       "      <td>2.771444</td>\n",
       "      <td>1.640233e+05</td>\n",
       "      <td>12.761147</td>\n",
       "      <td>0.0</td>\n",
       "    </tr>\n",
       "    <tr>\n",
       "      <th>min</th>\n",
       "      <td>1.000000</td>\n",
       "      <td>1.000000</td>\n",
       "      <td>0.0</td>\n",
       "      <td>1990.000000</td>\n",
       "      <td>6.500000</td>\n",
       "      <td>1.000000e+01</td>\n",
       "      <td>1.000000</td>\n",
       "      <td>0.0</td>\n",
       "    </tr>\n",
       "    <tr>\n",
       "      <th>25%</th>\n",
       "      <td>2152.500000</td>\n",
       "      <td>3073.500000</td>\n",
       "      <td>0.0</td>\n",
       "      <td>2008.000000</td>\n",
       "      <td>6.900000</td>\n",
       "      <td>6.265250e+03</td>\n",
       "      <td>6.000000</td>\n",
       "      <td>0.0</td>\n",
       "    </tr>\n",
       "    <tr>\n",
       "      <th>50%</th>\n",
       "      <td>4033.000000</td>\n",
       "      <td>5421.000000</td>\n",
       "      <td>0.0</td>\n",
       "      <td>2015.000000</td>\n",
       "      <td>7.300000</td>\n",
       "      <td>1.527900e+04</td>\n",
       "      <td>14.000000</td>\n",
       "      <td>0.0</td>\n",
       "    </tr>\n",
       "    <tr>\n",
       "      <th>75%</th>\n",
       "      <td>5914.500000</td>\n",
       "      <td>7641.500000</td>\n",
       "      <td>0.0</td>\n",
       "      <td>2019.000000</td>\n",
       "      <td>7.800000</td>\n",
       "      <td>5.641975e+04</td>\n",
       "      <td>24.000000</td>\n",
       "      <td>0.0</td>\n",
       "    </tr>\n",
       "    <tr>\n",
       "      <th>max</th>\n",
       "      <td>7849.000000</td>\n",
       "      <td>10274.000000</td>\n",
       "      <td>0.0</td>\n",
       "      <td>2023.000000</td>\n",
       "      <td>92.000000</td>\n",
       "      <td>2.197234e+06</td>\n",
       "      <td>119.000000</td>\n",
       "      <td>0.0</td>\n",
       "    </tr>\n",
       "  </tbody>\n",
       "</table>\n",
       "</div>"
      ],
      "text/plain": [
       "                 #         index  isAdult    startYear  averageRating  \\\n",
       "count  7471.000000   7471.000000   7470.0  7470.000000    7470.000000   \n",
       "mean   4043.482666   5440.458439      0.0  2013.157296       7.475676   \n",
       "std    2192.753689   2752.820924      0.0     6.979151       2.771444   \n",
       "min       1.000000      1.000000      0.0  1990.000000       6.500000   \n",
       "25%    2152.500000   3073.500000      0.0  2008.000000       6.900000   \n",
       "50%    4033.000000   5421.000000      0.0  2015.000000       7.300000   \n",
       "75%    5914.500000   7641.500000      0.0  2019.000000       7.800000   \n",
       "max    7849.000000  10274.000000      0.0  2023.000000      92.000000   \n",
       "\n",
       "           numVotes     ordering  isOriginalTitle  \n",
       "count  7.470000e+03  7470.000000           7470.0  \n",
       "mean   7.282830e+04    16.567604              0.0  \n",
       "std    1.640233e+05    12.761147              0.0  \n",
       "min    1.000000e+01     1.000000              0.0  \n",
       "25%    6.265250e+03     6.000000              0.0  \n",
       "50%    1.527900e+04    14.000000              0.0  \n",
       "75%    5.641975e+04    24.000000              0.0  \n",
       "max    2.197234e+06   119.000000              0.0  "
      ]
     },
     "execution_count": 881,
     "metadata": {},
     "output_type": "execute_result"
    }
   ],
   "source": [
    "# Resumen de los estadisticos de las variables numéricas\n",
    "df_movies.describe()"
   ]
  },
  {
   "cell_type": "code",
   "execution_count": 882,
   "metadata": {},
   "outputs": [
    {
     "data": {
      "image/png": "[encoded data removed]",
      "text/plain": [
       "<Figure size 1440x576 with 1 Axes>"
      ]
     },
     "metadata": {},
     "output_type": "display_data"
    }
   ],
   "source": [
    "#Visualización de todas las variables numéricas\n",
    "fig=plt.figure(figsize=(20,8))\n",
    "ax = sns.boxplot(data=df_movies, orient=\"v\")"
   ]
  },
  {
   "cell_type": "code",
   "execution_count": 883,
   "metadata": {},
   "outputs": [
    {
     "name": "stdout",
     "output_type": "stream",
     "text": [
      "Columnas con tipo de dato 'float': Index(['isAdult', 'startYear', 'averageRating', 'numVotes', 'ordering',\n",
      "       'isOriginalTitle'],\n",
      "      dtype='object')\n",
      "Columnas con tipo de dato 'int64': Index(['#', 'index'], dtype='object')\n"
     ]
    }
   ],
   "source": [
    "#Separación de las variables float de las int\n",
    "name_cols_float = df_movies.select_dtypes(include = ['float']).columns\n",
    "print(\"Columnas con tipo de dato 'float':\", name_cols_float)\n",
    "\n",
    "name_cols_int = df_movies.select_dtypes(include = ['int64']).columns\n",
    "print(\"Columnas con tipo de dato 'int64':\", name_cols_int)\n"
   ]
  },
  {
   "cell_type": "code",
   "execution_count": 884,
   "metadata": {},
   "outputs": [
    {
     "data": {
      "image/png": "[encoded data removed]",
      "text/plain": [
       "<Figure size 1440x576 with 1 Axes>"
      ]
     },
     "metadata": {},
     "output_type": "display_data"
    }
   ],
   "source": [
    "#Visualización de todas las variables numéricas de tipo Float\n",
    "fig=plt.figure(figsize=(20,8))\n",
    "ax = sns.boxplot(data=df_movies[name_cols_float], orient=\"v\")"
   ]
  },
  {
   "cell_type": "code",
   "execution_count": 885,
   "metadata": {},
   "outputs": [
    {
     "data": {
      "image/png": "[encoded data removed]",
      "text/plain": [
       "<Figure size 1440x576 with 1 Axes>"
      ]
     },
     "metadata": {},
     "output_type": "display_data"
    }
   ],
   "source": [
    "#Visualización de todas las variables numéricas de tipo int\n",
    "fig=plt.figure(figsize=(20,8))\n",
    "ax = sns.boxplot(data=df_movies[name_cols_int], orient=\"v\")"
   ]
  },
  {
   "cell_type": "code",
   "execution_count": 886,
   "metadata": {},
   "outputs": [
    {
     "name": "stdout",
     "output_type": "stream",
     "text": [
      "Columnas con tipo de dato 'object' (generalmente textuales): Index(['tconst', 'titleType', 'originalTitle', 'runtimeMinutes', 'region',\n",
      "       'language', 'types', 'attributes', 'main_genre', 'secondary_genre'],\n",
      "      dtype='object')\n"
     ]
    }
   ],
   "source": [
    "# Explorar las variables que no son numéricas\n",
    "name_cols_non_number = df_movies.select_dtypes(include = ['object']).columns\n",
    "print(\"Columnas con tipo de dato 'object' (generalmente textuales):\", name_cols_non_number)"
   ]
  },
  {
   "cell_type": "code",
   "execution_count": 887,
   "metadata": {},
   "outputs": [
    {
     "data": {
      "text/html": [
       "<div>\n",
       "<style scoped>\n",
       "    .dataframe tbody tr th:only-of-type {\n",
       "        vertical-align: middle;\n",
       "    }\n",
       "\n",
       "    .dataframe tbody tr th {\n",
       "        vertical-align: top;\n",
       "    }\n",
       "\n",
       "    .dataframe thead th {\n",
       "        text-align: right;\n",
       "    }\n",
       "</style>\n",
       "<table border=\"1\" class=\"dataframe\">\n",
       "  <thead>\n",
       "    <tr style=\"text-align: right;\">\n",
       "      <th></th>\n",
       "      <th>tconst</th>\n",
       "      <th>titleType</th>\n",
       "      <th>originalTitle</th>\n",
       "      <th>runtimeMinutes</th>\n",
       "      <th>region</th>\n",
       "      <th>language</th>\n",
       "      <th>types</th>\n",
       "      <th>attributes</th>\n",
       "      <th>main_genre</th>\n",
       "      <th>secondary_genre</th>\n",
       "    </tr>\n",
       "  </thead>\n",
       "  <tbody>\n",
       "    <tr>\n",
       "      <th>count</th>\n",
       "      <td>7471</td>\n",
       "      <td>7471</td>\n",
       "      <td>7471</td>\n",
       "      <td>7470</td>\n",
       "      <td>7470</td>\n",
       "      <td>7470</td>\n",
       "      <td>7470</td>\n",
       "      <td>7470</td>\n",
       "      <td>7470</td>\n",
       "      <td>7470</td>\n",
       "    </tr>\n",
       "    <tr>\n",
       "      <th>unique</th>\n",
       "      <td>7466</td>\n",
       "      <td>7</td>\n",
       "      <td>7290</td>\n",
       "      <td>362</td>\n",
       "      <td>4</td>\n",
       "      <td>1</td>\n",
       "      <td>5</td>\n",
       "      <td>1</td>\n",
       "      <td>22</td>\n",
       "      <td>26</td>\n",
       "    </tr>\n",
       "    <tr>\n",
       "      <th>top</th>\n",
       "      <td>tt0386741</td>\n",
       "      <td>movie</td>\n",
       "      <td>Candy</td>\n",
       "      <td>60</td>\n",
       "      <td>IN</td>\n",
       "      <td>en</td>\n",
       "      <td>imdbDisplay</td>\n",
       "      <td>\\N</td>\n",
       "      <td>Drama</td>\n",
       "      <td>Drama</td>\n",
       "    </tr>\n",
       "    <tr>\n",
       "      <th>freq</th>\n",
       "      <td>2</td>\n",
       "      <td>4673</td>\n",
       "      <td>3</td>\n",
       "      <td>534</td>\n",
       "      <td>5590</td>\n",
       "      <td>7470</td>\n",
       "      <td>7395</td>\n",
       "      <td>7470</td>\n",
       "      <td>1767</td>\n",
       "      <td>2428</td>\n",
       "    </tr>\n",
       "  </tbody>\n",
       "</table>\n",
       "</div>"
      ],
      "text/plain": [
       "           tconst titleType originalTitle runtimeMinutes region language  \\\n",
       "count        7471      7471          7471           7470   7470     7470   \n",
       "unique       7466         7          7290            362      4        1   \n",
       "top     tt0386741     movie         Candy             60     IN       en   \n",
       "freq            2      4673             3            534   5590     7470   \n",
       "\n",
       "              types attributes main_genre secondary_genre  \n",
       "count          7470       7470       7470            7470  \n",
       "unique            5          1         22              26  \n",
       "top     imdbDisplay         \\N      Drama           Drama  \n",
       "freq           7395       7470       1767            2428  "
      ]
     },
     "execution_count": 887,
     "metadata": {},
     "output_type": "execute_result"
    }
   ],
   "source": [
    "#Revisar el contenido de las variables que no son numéricas, en este caso son categóricas\n",
    "df_movies[name_cols_non_number].describe()"
   ]
  },
  {
   "cell_type": "code",
   "execution_count": 888,
   "metadata": {},
   "outputs": [
    {
     "name": "stdout",
     "output_type": "stream",
     "text": [
      "Distribución de valores para 'tconst':\n",
      "tt0386741     2\n",
      "tt0395843     2\n",
      "tt12443930    2\n",
      "tt1535109     2\n",
      "tt0390538     2\n",
      "Name: tconst, dtype: int64\n",
      "\n",
      "\n",
      "Distribución de valores para 'titleType':\n",
      "movie           4673\n",
      "tvSeries        2340\n",
      "tvMiniSeries     379\n",
      "tvMovie           70\n",
      "MOVIE              5\n",
      "Name: titleType, dtype: int64\n"
     ]
    },
    {
     "data": {
      "image/png": "[encoded data removed]",
      "text/plain": [
       "<Figure size 432x288 with 1 Axes>"
      ]
     },
     "metadata": {},
     "output_type": "display_data"
    },
    {
     "name": "stdout",
     "output_type": "stream",
     "text": [
      "\n",
      "\n",
      "Distribución de valores para 'originalTitle':\n",
      "Candy        3\n",
      "Life         3\n",
      "Monster      3\n",
      "Limitless    3\n",
      "Taken        3\n",
      "Name: originalTitle, dtype: int64\n",
      "\n",
      "\n",
      "Distribución de valores para 'runtimeMinutes':\n",
      "60    534\n",
      "30    340\n",
      "45    184\n",
      "22    138\n",
      "43    114\n",
      "Name: runtimeMinutes, dtype: int64\n",
      "\n",
      "\n",
      "Distribución de valores para 'region':\n",
      "IN    5590\n",
      "CA    1782\n",
      "US      94\n",
      "GB       4\n",
      "Name: region, dtype: int64\n"
     ]
    },
    {
     "data": {
      "image/png": "[encoded data removed]",
      "text/plain": [
       "<Figure size 432x288 with 1 Axes>"
      ]
     },
     "metadata": {},
     "output_type": "display_data"
    },
    {
     "name": "stdout",
     "output_type": "stream",
     "text": [
      "\n",
      "\n",
      "Distribución de valores para 'language':\n",
      "en    7470\n",
      "Name: language, dtype: int64\n"
     ]
    },
    {
     "data": {
      "image/png": "[encoded data removed]",
      "text/plain": [
       "<Figure size 432x288 with 1 Axes>"
      ]
     },
     "metadata": {},
     "output_type": "display_data"
    },
    {
     "name": "stdout",
     "output_type": "stream",
     "text": [
      "\n",
      "\n",
      "Distribución de valores para 'types':\n",
      "imdbDisplay    7395\n",
      "working          38\n",
      "alternative      24\n",
      "festival         11\n",
      "dvd               2\n",
      "Name: types, dtype: int64\n"
     ]
    },
    {
     "data": {
      "image/png": "[encoded data removed]",
      "text/plain": [
       "<Figure size 432x288 with 1 Axes>"
      ]
     },
     "metadata": {},
     "output_type": "display_data"
    },
    {
     "name": "stdout",
     "output_type": "stream",
     "text": [
      "\n",
      "\n",
      "Distribución de valores para 'attributes':\n",
      "\\N    7470\n",
      "Name: attributes, dtype: int64\n"
     ]
    },
    {
     "data": {
      "image/png": "[encoded data removed]",
      "text/plain": [
       "<Figure size 432x288 with 1 Axes>"
      ]
     },
     "metadata": {},
     "output_type": "display_data"
    },
    {
     "name": "stdout",
     "output_type": "stream",
     "text": [
      "\n",
      "\n",
      "Distribución de valores para 'main_genre':\n",
      "Drama        1767\n",
      "Comedy       1615\n",
      "Action       1571\n",
      "Crime         867\n",
      "Biography     597\n",
      "Name: main_genre, dtype: int64\n"
     ]
    },
    {
     "data": {
      "image/png": "[encoded data removed]",
      "text/plain": [
       "<Figure size 432x288 with 1 Axes>"
      ]
     },
     "metadata": {},
     "output_type": "display_data"
    },
    {
     "name": "stdout",
     "output_type": "stream",
     "text": [
      "\n",
      "\n",
      "Distribución de valores para 'secondary_genre':\n",
      "Drama        2428\n",
      "No tiene     1052\n",
      "Crime         634\n",
      "Adventure     574\n",
      "Romance       453\n",
      "Name: secondary_genre, dtype: int64\n"
     ]
    },
    {
     "data": {
      "image/png": "[encoded data removed]",
      "text/plain": [
       "<Figure size 432x288 with 1 Axes>"
      ]
     },
     "metadata": {},
     "output_type": "display_data"
    },
    {
     "name": "stdout",
     "output_type": "stream",
     "text": [
      "\n",
      "\n"
     ]
    }
   ],
   "source": [
    "# Lista de columnas a analizar\n",
    "cols_to_analyze = ['tconst', 'titleType', 'originalTitle', 'runtimeMinutes', 'region', 'language', 'types', 'attributes', 'main_genre', 'secondary_genre']\n",
    "\n",
    "for col in cols_to_analyze:\n",
    "    print(f\"Distribución de valores para '{col}':\")\n",
    "    value_counts = df_movies[col].value_counts()\n",
    "    print(value_counts.head())  # Mostrar los 5 valores más comunes\n",
    "    \n",
    "    # Graficar si la columna tiene menos de 30 valores únicos para mejor visualización\n",
    "    if len(value_counts) < 30:\n",
    "        value_counts.plot(kind='bar')\n",
    "        plt.title(f\"Distribución de '{col}'\")\n",
    "        plt.ylabel('Número de películas')\n",
    "        plt.show()\n",
    "    \n",
    "    print(\"\\n\")  # Separación entre análisis\n"
   ]
  },
  {
   "cell_type": "code",
   "execution_count": 889,
   "metadata": {},
   "outputs": [
    {
     "data": {
      "image/png": "[encoded data removed]",
      "text/plain": [
       "<Figure size 1185.35x1080 with 8 Axes>"
      ]
     },
     "metadata": {},
     "output_type": "display_data"
    }
   ],
   "source": [
    "# Reemplaza '\\\\N' por NaN\n",
    "df_movies['runtimeMinutes'].replace('\\\\N', np.nan, inplace=True)\n",
    "\n",
    "# Convierte a float\n",
    "df_movies['runtimeMinutes'] = df_movies['runtimeMinutes'].astype(float)\n",
    "\n",
    "# Contamos cuántas películas hay por cada género\n",
    "genre_counts = df_movies['main_genre'].value_counts()\n",
    "\n",
    "# Filtramos los géneros que tienen, por ejemplo, más de 100 películas\n",
    "selected_genres = genre_counts[genre_counts > 100].index\n",
    "\n",
    "# Filtra el DataFrame para incluir solo los géneros seleccionados\n",
    "filtered_movies = df_movies[df_movies['main_genre'].isin(selected_genres)]\n",
    "\n",
    "# Grafica las distribuciones para estos géneros\n",
    "sns.displot(data=filtered_movies, x=\"runtimeMinutes\", hue=\"main_genre\", col=\"main_genre\", col_wrap=3, bins=30)\n",
    "plt.show()\n"
   ]
  },
  {
   "cell_type": "code",
   "execution_count": 890,
   "metadata": {},
   "outputs": [
    {
     "data": {
      "text/html": [
       "<div>\n",
       "<style scoped>\n",
       "    .dataframe tbody tr th:only-of-type {\n",
       "        vertical-align: middle;\n",
       "    }\n",
       "\n",
       "    .dataframe tbody tr th {\n",
       "        vertical-align: top;\n",
       "    }\n",
       "\n",
       "    .dataframe thead th {\n",
       "        text-align: right;\n",
       "    }\n",
       "</style>\n",
       "<table border=\"1\" class=\"dataframe\">\n",
       "  <thead>\n",
       "    <tr style=\"text-align: right;\">\n",
       "      <th></th>\n",
       "      <th>tconst</th>\n",
       "      <th>titleType</th>\n",
       "      <th>originalTitle</th>\n",
       "      <th>region</th>\n",
       "      <th>language</th>\n",
       "      <th>types</th>\n",
       "      <th>attributes</th>\n",
       "      <th>main_genre</th>\n",
       "      <th>secondary_genre</th>\n",
       "    </tr>\n",
       "  </thead>\n",
       "  <tbody>\n",
       "    <tr>\n",
       "      <th>6996</th>\n",
       "      <td>tt3205376</td>\n",
       "      <td>movie</td>\n",
       "      <td>Slow West</td>\n",
       "      <td>CA</td>\n",
       "      <td>en</td>\n",
       "      <td>imdbDisplay</td>\n",
       "      <td>\\N</td>\n",
       "      <td>Action</td>\n",
       "      <td>Adventure</td>\n",
       "    </tr>\n",
       "    <tr>\n",
       "      <th>7437</th>\n",
       "      <td>tt8800266</td>\n",
       "      <td>movie</td>\n",
       "      <td>Ema</td>\n",
       "      <td>CA</td>\n",
       "      <td>en</td>\n",
       "      <td>imdbDisplay</td>\n",
       "      <td>\\N</td>\n",
       "      <td>Drama</td>\n",
       "      <td>Music</td>\n",
       "    </tr>\n",
       "    <tr>\n",
       "      <th>6335</th>\n",
       "      <td>tt10228230</td>\n",
       "      <td>tvMiniSeries</td>\n",
       "      <td>Quiz</td>\n",
       "      <td>CA</td>\n",
       "      <td>en</td>\n",
       "      <td>imdbDisplay</td>\n",
       "      <td>\\N</td>\n",
       "      <td>Crime</td>\n",
       "      <td>Drama</td>\n",
       "    </tr>\n",
       "    <tr>\n",
       "      <th>1471</th>\n",
       "      <td>tt1045772</td>\n",
       "      <td>movie</td>\n",
       "      <td>I Love You Phillip Morris</td>\n",
       "      <td>IN</td>\n",
       "      <td>en</td>\n",
       "      <td>imdbDisplay</td>\n",
       "      <td>\\N</td>\n",
       "      <td>Biography</td>\n",
       "      <td>Comedy</td>\n",
       "    </tr>\n",
       "    <tr>\n",
       "      <th>1667</th>\n",
       "      <td>tt11233960</td>\n",
       "      <td>movie</td>\n",
       "      <td>The Unforgivable</td>\n",
       "      <td>IN</td>\n",
       "      <td>en</td>\n",
       "      <td>imdbDisplay</td>\n",
       "      <td>\\N</td>\n",
       "      <td>Crime</td>\n",
       "      <td>Drama</td>\n",
       "    </tr>\n",
       "    <tr>\n",
       "      <th>3471</th>\n",
       "      <td>tt2400463</td>\n",
       "      <td>movie</td>\n",
       "      <td>The Invitation</td>\n",
       "      <td>IN</td>\n",
       "      <td>en</td>\n",
       "      <td>imdbDisplay</td>\n",
       "      <td>\\N</td>\n",
       "      <td>Drama</td>\n",
       "      <td>Horror</td>\n",
       "    </tr>\n",
       "    <tr>\n",
       "      <th>5229</th>\n",
       "      <td>tt8115900</td>\n",
       "      <td>movie</td>\n",
       "      <td>The Bad Guys</td>\n",
       "      <td>IN</td>\n",
       "      <td>en</td>\n",
       "      <td>imdbDisplay</td>\n",
       "      <td>\\N</td>\n",
       "      <td>Adventure</td>\n",
       "      <td>Animation</td>\n",
       "    </tr>\n",
       "    <tr>\n",
       "      <th>246</th>\n",
       "      <td>tt0180073</td>\n",
       "      <td>movie</td>\n",
       "      <td>Quills</td>\n",
       "      <td>IN</td>\n",
       "      <td>en</td>\n",
       "      <td>imdbDisplay</td>\n",
       "      <td>\\N</td>\n",
       "      <td>Biography</td>\n",
       "      <td>Drama</td>\n",
       "    </tr>\n",
       "    <tr>\n",
       "      <th>5937</th>\n",
       "      <td>tt0330243</td>\n",
       "      <td>movie</td>\n",
       "      <td>Dzien swira</td>\n",
       "      <td>CA</td>\n",
       "      <td>en</td>\n",
       "      <td>imdbDisplay</td>\n",
       "      <td>\\N</td>\n",
       "      <td>Comedy</td>\n",
       "      <td>Drama</td>\n",
       "    </tr>\n",
       "    <tr>\n",
       "      <th>1126</th>\n",
       "      <td>tt0772145</td>\n",
       "      <td>tvSeries</td>\n",
       "      <td>Wolverine and the X-Men</td>\n",
       "      <td>IN</td>\n",
       "      <td>en</td>\n",
       "      <td>imdbDisplay</td>\n",
       "      <td>\\N</td>\n",
       "      <td>Action</td>\n",
       "      <td>Adventure</td>\n",
       "    </tr>\n",
       "    <tr>\n",
       "      <th>125</th>\n",
       "      <td>tt0106179</td>\n",
       "      <td>tvSeries</td>\n",
       "      <td>The X Files</td>\n",
       "      <td>IN</td>\n",
       "      <td>en</td>\n",
       "      <td>imdbDisplay</td>\n",
       "      <td>\\N</td>\n",
       "      <td>Crime</td>\n",
       "      <td>Drama</td>\n",
       "    </tr>\n",
       "    <tr>\n",
       "      <th>5072</th>\n",
       "      <td>tt7638348</td>\n",
       "      <td>movie</td>\n",
       "      <td>Boss Level</td>\n",
       "      <td>IN</td>\n",
       "      <td>en</td>\n",
       "      <td>imdbDisplay</td>\n",
       "      <td>\\N</td>\n",
       "      <td>Action</td>\n",
       "      <td>Adventure</td>\n",
       "    </tr>\n",
       "    <tr>\n",
       "      <th>4331</th>\n",
       "      <td>tt5028340</td>\n",
       "      <td>movie</td>\n",
       "      <td>Mary Poppins Returns</td>\n",
       "      <td>IN</td>\n",
       "      <td>en</td>\n",
       "      <td>imdbDisplay</td>\n",
       "      <td>\\N</td>\n",
       "      <td>Adventure</td>\n",
       "      <td>Comedy</td>\n",
       "    </tr>\n",
       "    <tr>\n",
       "      <th>1133</th>\n",
       "      <td>tt0780536</td>\n",
       "      <td>movie</td>\n",
       "      <td>In Bruges</td>\n",
       "      <td>IN</td>\n",
       "      <td>en</td>\n",
       "      <td>imdbDisplay</td>\n",
       "      <td>\\N</td>\n",
       "      <td>Comedy</td>\n",
       "      <td>Crime</td>\n",
       "    </tr>\n",
       "    <tr>\n",
       "      <th>2299</th>\n",
       "      <td>tt13918776</td>\n",
       "      <td>tvSeries</td>\n",
       "      <td>The Night Agent</td>\n",
       "      <td>IN</td>\n",
       "      <td>en</td>\n",
       "      <td>imdbDisplay</td>\n",
       "      <td>\\N</td>\n",
       "      <td>Action</td>\n",
       "      <td>Drama</td>\n",
       "    </tr>\n",
       "  </tbody>\n",
       "</table>\n",
       "</div>"
      ],
      "text/plain": [
       "          tconst     titleType              originalTitle region language  \\\n",
       "6996   tt3205376         movie                  Slow West     CA       en   \n",
       "7437   tt8800266         movie                        Ema     CA       en   \n",
       "6335  tt10228230  tvMiniSeries                       Quiz     CA       en   \n",
       "1471   tt1045772         movie  I Love You Phillip Morris     IN       en   \n",
       "1667  tt11233960         movie           The Unforgivable     IN       en   \n",
       "3471   tt2400463         movie             The Invitation     IN       en   \n",
       "5229   tt8115900         movie               The Bad Guys     IN       en   \n",
       "246    tt0180073         movie                     Quills     IN       en   \n",
       "5937   tt0330243         movie                Dzien swira     CA       en   \n",
       "1126   tt0772145      tvSeries    Wolverine and the X-Men     IN       en   \n",
       "125    tt0106179      tvSeries                The X Files     IN       en   \n",
       "5072   tt7638348         movie                 Boss Level     IN       en   \n",
       "4331   tt5028340         movie       Mary Poppins Returns     IN       en   \n",
       "1133   tt0780536         movie                  In Bruges     IN       en   \n",
       "2299  tt13918776      tvSeries            The Night Agent     IN       en   \n",
       "\n",
       "            types attributes main_genre secondary_genre  \n",
       "6996  imdbDisplay         \\N     Action       Adventure  \n",
       "7437  imdbDisplay         \\N      Drama           Music  \n",
       "6335  imdbDisplay         \\N      Crime           Drama  \n",
       "1471  imdbDisplay         \\N  Biography          Comedy  \n",
       "1667  imdbDisplay         \\N      Crime           Drama  \n",
       "3471  imdbDisplay         \\N      Drama          Horror  \n",
       "5229  imdbDisplay         \\N  Adventure       Animation  \n",
       "246   imdbDisplay         \\N  Biography           Drama  \n",
       "5937  imdbDisplay         \\N     Comedy           Drama  \n",
       "1126  imdbDisplay         \\N     Action       Adventure  \n",
       "125   imdbDisplay         \\N      Crime           Drama  \n",
       "5072  imdbDisplay         \\N     Action       Adventure  \n",
       "4331  imdbDisplay         \\N  Adventure          Comedy  \n",
       "1133  imdbDisplay         \\N     Comedy           Crime  \n",
       "2299  imdbDisplay         \\N     Action           Drama  "
      ]
     },
     "execution_count": 890,
     "metadata": {},
     "output_type": "execute_result"
    }
   ],
   "source": [
    "# Selecciona las columnas de tipo 'object'\n",
    "name_cols_object = df_movies.select_dtypes(include=['object']).columns\n",
    "\n",
    "# Consulta una muestra de 15 registros de esas columnas\n",
    "df_movies[name_cols_object].sample(15)\n"
   ]
  },
  {
   "cell_type": "markdown",
   "metadata": {},
   "source": [
    "### 3.2. Análisis de calidad de datos\n"
   ]
  },
  {
   "cell_type": "markdown",
   "metadata": {},
   "source": [
    "### 3.2.1 Completitud - Análisis de valores nulos o vacíos\n"
   ]
  },
  {
   "cell_type": "code",
   "execution_count": 891,
   "metadata": {},
   "outputs": [
    {
     "data": {
      "text/plain": [
       "runtimeMinutes     1.325124\n",
       "secondary_genre    0.013385\n",
       "ordering           0.013385\n",
       "isAdult            0.013385\n",
       "startYear          0.013385\n",
       "main_genre         0.013385\n",
       "numVotes           0.013385\n",
       "averageRating      0.013385\n",
       "region             0.013385\n",
       "language           0.013385\n",
       "types              0.013385\n",
       "attributes         0.013385\n",
       "isOriginalTitle    0.013385\n",
       "originalTitle      0.000000\n",
       "titleType          0.000000\n",
       "tconst             0.000000\n",
       "index              0.000000\n",
       "#                  0.000000\n",
       "dtype: float64"
      ]
     },
     "execution_count": 891,
     "metadata": {},
     "output_type": "execute_result"
    }
   ],
   "source": [
    "# Cálculo de porcentaje de valores nulos por columna en df_movies\n",
    "((df_movies.isnull().sum() / df_movies.shape[0]) * 100).sort_values(ascending=False)\n"
   ]
  },
  {
   "cell_type": "markdown",
   "metadata": {},
   "source": [
    "En el DataFrame df_movies, la columna runtimeMinutes presenta un 1.325124% de valores nulos, lo que sugiere que hay algunas películas o series sin información sobre su duración. Por otro lado, las columnas numVotes, ordering, main_genre, isOriginalTitle, attributes, types, language, region, secondary_genre, averageRating, startYear y isAdult muestran un 0.013385% de valores nulos, indicando que raramente se carece de esta información en estas columnas. Las columnas index, originalTitle, titleType, tconst y # están completamente llenas sin ningún valor faltante. Con esto podemos concluir que en cuanto a completitud los datos tienen una muy buena calidad."
   ]
  },
  {
   "cell_type": "markdown",
   "metadata": {},
   "source": [
    "### 3.2.2 Unicidad"
   ]
  },
  {
   "cell_type": "code",
   "execution_count": 892,
   "metadata": {},
   "outputs": [
    {
     "name": "stdout",
     "output_type": "stream",
     "text": [
      "El número de registros duplicados en df_movies es: 6\n"
     ]
    }
   ],
   "source": [
    "duplicated_movies = df_movies.duplicated(keep=False).sum()\n",
    "print(f\"El número de registros duplicados en df_movies es: {duplicated_movies}\")"
   ]
  },
  {
   "cell_type": "markdown",
   "metadata": {},
   "source": [
    "A comparacion con el tamano total de los datos se puede ver que tienen muy pocos registros duplicados por lo que, aunque es importante eliminarlos para mejorar la calidad de los analisis, se podrian calificar los datos como muy buenos en cuanto a unicidad."
   ]
  },
  {
   "cell_type": "markdown",
   "metadata": {},
   "source": [
    "### 3.2.3 Consistencia\n"
   ]
  },
  {
   "cell_type": "code",
   "execution_count": 893,
   "metadata": {},
   "outputs": [
    {
     "name": "stdout",
     "output_type": "stream",
     "text": [
      "Valores para la columna 'tconst':\n",
      "tt0386741     2\n",
      "tt0395843     2\n",
      "tt12443930    2\n",
      "tt1535109     2\n",
      "tt0390538     2\n",
      "tt14479480    1\n",
      "tt5962210     1\n",
      "tt0835434     1\n",
      "tt2432604     1\n",
      "tt17513352    1\n",
      "Name: tconst, dtype: int64\n",
      "--------------------------------------------------\n"
     ]
    }
   ],
   "source": [
    "# Columna: tconst\n",
    "print(\"Valores para la columna 'tconst':\")\n",
    "print(df_movies['tconst'].value_counts().head(10))\n",
    "print(\"-\" * 50)\n"
   ]
  },
  {
   "cell_type": "code",
   "execution_count": 894,
   "metadata": {},
   "outputs": [
    {
     "name": "stdout",
     "output_type": "stream",
     "text": [
      "Valores para la columna 'titleType':\n",
      "movie           4673\n",
      "tvSeries        2340\n",
      "tvMiniSeries     379\n",
      "tvMovie           70\n",
      "MOVIE              5\n",
      "MOvie              3\n",
      "Movie              1\n",
      "Name: titleType, dtype: int64\n",
      "--------------------------------------------------\n"
     ]
    }
   ],
   "source": [
    "# Columna: titleType\n",
    "print(\"Valores para la columna 'titleType':\")\n",
    "print(df_movies['titleType'].value_counts().head(10))\n",
    "print(\"-\" * 50)"
   ]
  },
  {
   "cell_type": "code",
   "execution_count": 895,
   "metadata": {},
   "outputs": [
    {
     "name": "stdout",
     "output_type": "stream",
     "text": [
      "Valores para la columna 'originalTitle':\n",
      "Candy                   3\n",
      "Life                    3\n",
      "Monster                 3\n",
      "Limitless               3\n",
      "Taken                   3\n",
      "Beauty and the Beast    3\n",
      "Home                    3\n",
      "Wanted                  3\n",
      "In the Dark             2\n",
      "The Missing             2\n",
      "Name: originalTitle, dtype: int64\n",
      "--------------------------------------------------\n"
     ]
    }
   ],
   "source": [
    "# Columna: originalTitle\n",
    "print(\"Valores para la columna 'originalTitle':\")\n",
    "print(df_movies['originalTitle'].value_counts().head(10))\n",
    "print(\"-\" * 50)"
   ]
  },
  {
   "cell_type": "code",
   "execution_count": 896,
   "metadata": {},
   "outputs": [
    {
     "name": "stdout",
     "output_type": "stream",
     "text": [
      "Valores para la columna 'runtimeMinutes':\n",
      "60.0     534\n",
      "30.0     340\n",
      "45.0     184\n",
      "22.0     138\n",
      "43.0     114\n",
      "90.0     112\n",
      "105.0    110\n",
      "42.0     108\n",
      "100.0    100\n",
      "106.0     99\n",
      "Name: runtimeMinutes, dtype: int64\n",
      "--------------------------------------------------\n"
     ]
    }
   ],
   "source": [
    "# Columna: runtimeMinutes\n",
    "print(\"Valores para la columna 'runtimeMinutes':\")\n",
    "print(df_movies['runtimeMinutes'].value_counts().head(10))\n",
    "print(\"-\" * 50)"
   ]
  },
  {
   "cell_type": "code",
   "execution_count": 897,
   "metadata": {},
   "outputs": [
    {
     "name": "stdout",
     "output_type": "stream",
     "text": [
      "Valores para la columna 'region':\n",
      "IN    5590\n",
      "CA    1782\n",
      "US      94\n",
      "GB       4\n",
      "Name: region, dtype: int64\n",
      "--------------------------------------------------\n"
     ]
    }
   ],
   "source": [
    "# Columna: region\n",
    "print(\"Valores para la columna 'region':\")\n",
    "print(df_movies['region'].value_counts().head(10))\n",
    "print(\"-\" * 50)"
   ]
  },
  {
   "cell_type": "code",
   "execution_count": 898,
   "metadata": {},
   "outputs": [
    {
     "name": "stdout",
     "output_type": "stream",
     "text": [
      "Valores para la columna 'language':\n",
      "en    7470\n",
      "Name: language, dtype: int64\n",
      "--------------------------------------------------\n"
     ]
    }
   ],
   "source": [
    "# Columna: language\n",
    "print(\"Valores para la columna 'language':\")\n",
    "print(df_movies['language'].value_counts().head(10))\n",
    "print(\"-\" * 50)"
   ]
  },
  {
   "cell_type": "code",
   "execution_count": 899,
   "metadata": {},
   "outputs": [
    {
     "name": "stdout",
     "output_type": "stream",
     "text": [
      "Valores para la columna 'types':\n",
      "imdbDisplay    7395\n",
      "working          38\n",
      "alternative      24\n",
      "festival         11\n",
      "dvd               2\n",
      "Name: types, dtype: int64\n",
      "--------------------------------------------------\n"
     ]
    }
   ],
   "source": [
    "# Columna: types\n",
    "print(\"Valores para la columna 'types':\")\n",
    "print(df_movies['types'].value_counts().head(10))\n",
    "print(\"-\" * 50)"
   ]
  },
  {
   "cell_type": "code",
   "execution_count": 900,
   "metadata": {},
   "outputs": [
    {
     "name": "stdout",
     "output_type": "stream",
     "text": [
      "Valores para la columna 'attributes':\n",
      "\\N    7470\n",
      "Name: attributes, dtype: int64\n",
      "--------------------------------------------------\n"
     ]
    }
   ],
   "source": [
    "# Columna: attributes\n",
    "print(\"Valores para la columna 'attributes':\")\n",
    "print(df_movies['attributes'].value_counts().head(10))\n",
    "print(\"-\" * 50)"
   ]
  },
  {
   "cell_type": "code",
   "execution_count": 901,
   "metadata": {},
   "outputs": [
    {
     "name": "stdout",
     "output_type": "stream",
     "text": [
      "Valores para la columna 'main_genre':\n",
      "Drama          1767\n",
      "Comedy         1615\n",
      "Action         1571\n",
      "Crime           867\n",
      "Biography       597\n",
      "Adventure       440\n",
      "Documentary     297\n",
      "Animation       144\n",
      "Horror           63\n",
      "Reality-TV       24\n",
      "Name: main_genre, dtype: int64\n",
      "--------------------------------------------------\n"
     ]
    }
   ],
   "source": [
    "# Columna: main_genre\n",
    "print(\"Valores para la columna 'main_genre':\")\n",
    "print(df_movies['main_genre'].value_counts().head(10))\n",
    "print(\"-\" * 50)"
   ]
  },
  {
   "cell_type": "code",
   "execution_count": 902,
   "metadata": {},
   "outputs": [
    {
     "name": "stdout",
     "output_type": "stream",
     "text": [
      "Valores para la columna 'secondary_genre':\n",
      "Drama          2428\n",
      "No tiene       1052\n",
      "Crime           634\n",
      "Adventure       574\n",
      "Romance         453\n",
      "Comedy          383\n",
      "Mystery         259\n",
      "Animation       224\n",
      "Thriller        209\n",
      "Documentary     200\n",
      "Name: secondary_genre, dtype: int64\n",
      "--------------------------------------------------\n"
     ]
    }
   ],
   "source": [
    "# Columna: secondary_genre\n",
    "print(\"Valores para la columna 'secondary_genre':\")\n",
    "print(df_movies['secondary_genre'].value_counts().head(10))\n",
    "print(\"-\" * 50)"
   ]
  },
  {
   "cell_type": "markdown",
   "metadata": {},
   "source": [
    "La columna tconst parece tener muy pocas repeticiones por lo que probablemente sea alguna referencia especial. Ahora bien, referiendonos a los datos podemos ver que la columna titleType sufre de problemas de consistencia con el nombramiento de movie. El resto de columnas parecen tener buena consistencia, sin embargo arreglar la columna de titleType mejorara los resultados de analisis al evitar problemas."
   ]
  },
  {
   "cell_type": "markdown",
   "metadata": {},
   "source": [
    "### 3.2.4 Validez\n"
   ]
  },
  {
   "cell_type": "markdown",
   "metadata": {},
   "source": [
    "Se verifica el valor de cada uno de los atributos del dataset."
   ]
  },
  {
   "cell_type": "code",
   "execution_count": 903,
   "metadata": {},
   "outputs": [
    {
     "data": {
      "text/html": [
       "<div>\n",
       "<style scoped>\n",
       "    .dataframe tbody tr th:only-of-type {\n",
       "        vertical-align: middle;\n",
       "    }\n",
       "\n",
       "    .dataframe tbody tr th {\n",
       "        vertical-align: top;\n",
       "    }\n",
       "\n",
       "    .dataframe thead th {\n",
       "        text-align: right;\n",
       "    }\n",
       "</style>\n",
       "<table border=\"1\" class=\"dataframe\">\n",
       "  <thead>\n",
       "    <tr style=\"text-align: right;\">\n",
       "      <th></th>\n",
       "      <th>#</th>\n",
       "      <th>index</th>\n",
       "      <th>isAdult</th>\n",
       "      <th>startYear</th>\n",
       "      <th>runtimeMinutes</th>\n",
       "      <th>averageRating</th>\n",
       "      <th>numVotes</th>\n",
       "      <th>ordering</th>\n",
       "      <th>isOriginalTitle</th>\n",
       "    </tr>\n",
       "  </thead>\n",
       "  <tbody>\n",
       "    <tr>\n",
       "      <th>count</th>\n",
       "      <td>7471.000000</td>\n",
       "      <td>7471.000000</td>\n",
       "      <td>7470.0</td>\n",
       "      <td>7470.000000</td>\n",
       "      <td>7372.000000</td>\n",
       "      <td>7470.000000</td>\n",
       "      <td>7.470000e+03</td>\n",
       "      <td>7470.000000</td>\n",
       "      <td>7470.0</td>\n",
       "    </tr>\n",
       "    <tr>\n",
       "      <th>mean</th>\n",
       "      <td>4043.482666</td>\n",
       "      <td>5440.458439</td>\n",
       "      <td>0.0</td>\n",
       "      <td>2013.157296</td>\n",
       "      <td>100.777130</td>\n",
       "      <td>7.475676</td>\n",
       "      <td>7.282830e+04</td>\n",
       "      <td>16.567604</td>\n",
       "      <td>0.0</td>\n",
       "    </tr>\n",
       "    <tr>\n",
       "      <th>std</th>\n",
       "      <td>2192.753689</td>\n",
       "      <td>2752.820924</td>\n",
       "      <td>0.0</td>\n",
       "      <td>6.979151</td>\n",
       "      <td>65.016795</td>\n",
       "      <td>2.771444</td>\n",
       "      <td>1.640233e+05</td>\n",
       "      <td>12.761147</td>\n",
       "      <td>0.0</td>\n",
       "    </tr>\n",
       "    <tr>\n",
       "      <th>min</th>\n",
       "      <td>1.000000</td>\n",
       "      <td>1.000000</td>\n",
       "      <td>0.0</td>\n",
       "      <td>1990.000000</td>\n",
       "      <td>3.000000</td>\n",
       "      <td>6.500000</td>\n",
       "      <td>1.000000e+01</td>\n",
       "      <td>1.000000</td>\n",
       "      <td>0.0</td>\n",
       "    </tr>\n",
       "    <tr>\n",
       "      <th>25%</th>\n",
       "      <td>2152.500000</td>\n",
       "      <td>3073.500000</td>\n",
       "      <td>0.0</td>\n",
       "      <td>2008.000000</td>\n",
       "      <td>60.000000</td>\n",
       "      <td>6.900000</td>\n",
       "      <td>6.265250e+03</td>\n",
       "      <td>6.000000</td>\n",
       "      <td>0.0</td>\n",
       "    </tr>\n",
       "    <tr>\n",
       "      <th>50%</th>\n",
       "      <td>4033.000000</td>\n",
       "      <td>5421.000000</td>\n",
       "      <td>0.0</td>\n",
       "      <td>2015.000000</td>\n",
       "      <td>101.000000</td>\n",
       "      <td>7.300000</td>\n",
       "      <td>1.527900e+04</td>\n",
       "      <td>14.000000</td>\n",
       "      <td>0.0</td>\n",
       "    </tr>\n",
       "    <tr>\n",
       "      <th>75%</th>\n",
       "      <td>5914.500000</td>\n",
       "      <td>7641.500000</td>\n",
       "      <td>0.0</td>\n",
       "      <td>2019.000000</td>\n",
       "      <td>122.000000</td>\n",
       "      <td>7.800000</td>\n",
       "      <td>5.641975e+04</td>\n",
       "      <td>24.000000</td>\n",
       "      <td>0.0</td>\n",
       "    </tr>\n",
       "    <tr>\n",
       "      <th>max</th>\n",
       "      <td>7849.000000</td>\n",
       "      <td>10274.000000</td>\n",
       "      <td>0.0</td>\n",
       "      <td>2023.000000</td>\n",
       "      <td>990.000000</td>\n",
       "      <td>92.000000</td>\n",
       "      <td>2.197234e+06</td>\n",
       "      <td>119.000000</td>\n",
       "      <td>0.0</td>\n",
       "    </tr>\n",
       "  </tbody>\n",
       "</table>\n",
       "</div>"
      ],
      "text/plain": [
       "                 #         index  isAdult    startYear  runtimeMinutes  \\\n",
       "count  7471.000000   7471.000000   7470.0  7470.000000     7372.000000   \n",
       "mean   4043.482666   5440.458439      0.0  2013.157296      100.777130   \n",
       "std    2192.753689   2752.820924      0.0     6.979151       65.016795   \n",
       "min       1.000000      1.000000      0.0  1990.000000        3.000000   \n",
       "25%    2152.500000   3073.500000      0.0  2008.000000       60.000000   \n",
       "50%    4033.000000   5421.000000      0.0  2015.000000      101.000000   \n",
       "75%    5914.500000   7641.500000      0.0  2019.000000      122.000000   \n",
       "max    7849.000000  10274.000000      0.0  2023.000000      990.000000   \n",
       "\n",
       "       averageRating      numVotes     ordering  isOriginalTitle  \n",
       "count    7470.000000  7.470000e+03  7470.000000           7470.0  \n",
       "mean        7.475676  7.282830e+04    16.567604              0.0  \n",
       "std         2.771444  1.640233e+05    12.761147              0.0  \n",
       "min         6.500000  1.000000e+01     1.000000              0.0  \n",
       "25%         6.900000  6.265250e+03     6.000000              0.0  \n",
       "50%         7.300000  1.527900e+04    14.000000              0.0  \n",
       "75%         7.800000  5.641975e+04    24.000000              0.0  \n",
       "max        92.000000  2.197234e+06   119.000000              0.0  "
      ]
     },
     "execution_count": 903,
     "metadata": {},
     "output_type": "execute_result"
    }
   ],
   "source": [
    "df_movies.describe()"
   ]
  },
  {
   "cell_type": "code",
   "execution_count": 904,
   "metadata": {},
   "outputs": [
    {
     "data": {
      "text/plain": [
       "<bound method Series.unique of 0       0.0\n",
       "1       0.0\n",
       "2       0.0\n",
       "3       0.0\n",
       "4       0.0\n",
       "       ... \n",
       "7466    0.0\n",
       "7467    0.0\n",
       "7468    0.0\n",
       "7469    0.0\n",
       "7470    0.0\n",
       "Name: isAdult, Length: 7471, dtype: float64>"
      ]
     },
     "execution_count": 904,
     "metadata": {},
     "output_type": "execute_result"
    }
   ],
   "source": [
    "df_movies['isAdult'].unique"
   ]
  },
  {
   "cell_type": "markdown",
   "metadata": {},
   "source": [
    "Se evidencia que la columna isAdult() no posee valores unicos, y todos los registros tienen un valor de 0.0"
   ]
  },
  {
   "cell_type": "code",
   "execution_count": 905,
   "metadata": {},
   "outputs": [
    {
     "data": {
      "text/plain": [
       "0       0.0\n",
       "1       0.0\n",
       "2       0.0\n",
       "3       0.0\n",
       "4       0.0\n",
       "       ... \n",
       "7466    0.0\n",
       "7467    0.0\n",
       "7468    0.0\n",
       "7469    0.0\n",
       "7470    0.0\n",
       "Name: isAdult, Length: 7471, dtype: float64"
      ]
     },
     "execution_count": 905,
     "metadata": {},
     "output_type": "execute_result"
    }
   ],
   "source": [
    "df_movies['isAdult']"
   ]
  },
  {
   "cell_type": "markdown",
   "metadata": {},
   "source": [
    "Verificar que los valores de averageRating se encuentren en el debido rango: [0,10], y contar los valores que no se encuentren en el rango"
   ]
  },
  {
   "cell_type": "code",
   "execution_count": 906,
   "metadata": {},
   "outputs": [
    {
     "data": {
      "text/plain": [
       "14"
      ]
     },
     "execution_count": 906,
     "metadata": {},
     "output_type": "execute_result"
    }
   ],
   "source": [
    "conteo_averageRating = (~((df_movies['averageRating'] >= 0) & (df_movies['averageRating'] <= 10))).sum()\n",
    "conteo_averageRating\n",
    "\n"
   ]
  },
  {
   "cell_type": "markdown",
   "metadata": {},
   "source": [
    "Estudiar valores de atributes."
   ]
  },
  {
   "cell_type": "code",
   "execution_count": 907,
   "metadata": {},
   "outputs": [
    {
     "data": {
      "text/plain": [
       "array(['\\\\N', nan], dtype=object)"
      ]
     },
     "execution_count": 907,
     "metadata": {},
     "output_type": "execute_result"
    }
   ],
   "source": [
    "df_movies['attributes'].unique()"
   ]
  },
  {
   "cell_type": "markdown",
   "metadata": {},
   "source": [
    "Verificar que el language los datos, sea ingles para todos los casos"
   ]
  },
  {
   "cell_type": "code",
   "execution_count": 908,
   "metadata": {},
   "outputs": [
    {
     "data": {
      "text/plain": [
       "0       en\n",
       "1       en\n",
       "2       en\n",
       "3       en\n",
       "4       en\n",
       "        ..\n",
       "7466    en\n",
       "7467    en\n",
       "7468    en\n",
       "7469    en\n",
       "7470    en\n",
       "Name: language, Length: 7471, dtype: object"
      ]
     },
     "execution_count": 908,
     "metadata": {},
     "output_type": "execute_result"
    }
   ],
   "source": [
    "df_movies['language']"
   ]
  },
  {
   "cell_type": "markdown",
   "metadata": {},
   "source": [
    "Verificar que la region se encuentre en las mencionadas"
   ]
  },
  {
   "cell_type": "code",
   "execution_count": 909,
   "metadata": {},
   "outputs": [
    {
     "data": {
      "text/plain": [
       "1"
      ]
     },
     "execution_count": 909,
     "metadata": {},
     "output_type": "execute_result"
    }
   ],
   "source": [
    "regionesInvalidas = (~df_movies['region'].isin(['IN', 'US', 'CA', 'GB'])).sum()\n",
    "regionesInvalidas"
   ]
  },
  {
   "cell_type": "markdown",
   "metadata": {},
   "source": [
    "Contar las filas que no cumplen con el formato enunciado (Movie, tvSeries,tvMiniSeries,tvMovie )"
   ]
  },
  {
   "cell_type": "code",
   "execution_count": 910,
   "metadata": {},
   "outputs": [
    {
     "data": {
      "text/html": [
       "<div>\n",
       "<style scoped>\n",
       "    .dataframe tbody tr th:only-of-type {\n",
       "        vertical-align: middle;\n",
       "    }\n",
       "\n",
       "    .dataframe tbody tr th {\n",
       "        vertical-align: top;\n",
       "    }\n",
       "\n",
       "    .dataframe thead th {\n",
       "        text-align: right;\n",
       "    }\n",
       "</style>\n",
       "<table border=\"1\" class=\"dataframe\">\n",
       "  <thead>\n",
       "    <tr style=\"text-align: right;\">\n",
       "      <th></th>\n",
       "      <th>#</th>\n",
       "      <th>index</th>\n",
       "      <th>tconst</th>\n",
       "      <th>titleType</th>\n",
       "      <th>originalTitle</th>\n",
       "      <th>isAdult</th>\n",
       "      <th>startYear</th>\n",
       "      <th>runtimeMinutes</th>\n",
       "      <th>averageRating</th>\n",
       "      <th>numVotes</th>\n",
       "      <th>ordering</th>\n",
       "      <th>region</th>\n",
       "      <th>language</th>\n",
       "      <th>types</th>\n",
       "      <th>attributes</th>\n",
       "      <th>isOriginalTitle</th>\n",
       "      <th>main_genre</th>\n",
       "      <th>secondary_genre</th>\n",
       "    </tr>\n",
       "  </thead>\n",
       "  <tbody>\n",
       "  </tbody>\n",
       "</table>\n",
       "</div>"
      ],
      "text/plain": [
       "Empty DataFrame\n",
       "Columns: [#, index, tconst, titleType, originalTitle, isAdult, startYear, runtimeMinutes, averageRating, numVotes, ordering, region, language, types, attributes, isOriginalTitle, main_genre, secondary_genre]\n",
       "Index: []"
      ]
     },
     "execution_count": 910,
     "metadata": {},
     "output_type": "execute_result"
    }
   ],
   "source": [
    "#Convertir los valores a minusculas\n",
    "df_movies['titleType'] = df_movies['titleType'].str.lower()\n",
    "\n",
    "invalidoTitleType = df_movies[~df_movies['titleType'].isin(['movie', 'tvseries', 'tvminiseries', 'tvmovie'])]\n",
    "invalidoTitleType\n",
    "#Todos cumplen con ello"
   ]
  },
  {
   "cell_type": "markdown",
   "metadata": {},
   "source": [
    "## 4. Iteración 1. Primer modelo"
   ]
  },
  {
   "cell_type": "markdown",
   "metadata": {},
   "source": [
    "### 4.1 Preparar los datos\n",
    "A nivel de preparación de datos debemos fijarnos en:\n",
    "- A. Correcciones relacionadas con problemas de calidad de dato: nulos, duplicados, inconsistencia, diferencia de formatos, etc.\n",
    "- B. Preparación relacionada con la tarea de aprendizaje\n",
    "    - Selección de columnas a incluir de acuerdo con la tarea de aprendizaje a realizar y el conocimiento del contexto del negocio\n",
    "    - ...\n",
    "- C. Preparación de acuerdo con el algoritmo a utilizar, en este caso K-means\n",
    "    Al revisar k-means vemos que el algoritmo trabaja únicamente con datos numéricos, y no nulos así que si vamos a incluir datos categóricos debemos transformarlos a numéricos y si tenemos datos nulos debemos transformalos y en el peor escenario retirarlos del modelo ya sea la fila que los incluye o toda la columna si el porcentaje de estos valores es alto."
   ]
  },
  {
   "cell_type": "markdown",
   "metadata": {},
   "source": [
    "## 5. Iteración 1. Segundo Modelo (DBScan)"
   ]
  },
  {
   "cell_type": "markdown",
   "metadata": {},
   "source": [
    "### 5.1 Preparar los datos\n",
    "A nivel de preparación de datos debemos fijarnos en:\n",
    "- A. Correcciones relacionadas con problemas de calidad de dato: nulos, duplicados, inconsistencia, diferencia de formatos, etc.\n",
    "- B. Preparación relacionada con la tarea de aprendizaje\n",
    "    - Selección de columnas a incluir de acuerdo con la tarea de aprendizaje a realizar y el conocimiento del contexto del negocio\n",
    "    - ...\n",
    "- C. Preparación de acuerdo con el algoritmo a utilizar, en este caso K-means\n",
    "    Al revisar k-means vemos que el algoritmo trabaja únicamente con datos numéricos, y no nulos así que si vamos a incluir datos categóricos debemos transformarlos a numéricos y si tenemos datos nulos debemos transformalos y en el peor escenario retirarlos del modelo ya sea la fila que los incluye o toda la columna si el porcentaje de estos valores es alto."
   ]
  },
  {
   "cell_type": "markdown",
   "metadata": {},
   "source": [
    "Se eliminan las filas, las cuales se evidencia que poseen un alto nivel de apariciones por alguna variable tales como atributes o isAdult, o language o indices"
   ]
  },
  {
   "cell_type": "code",
   "execution_count": 911,
   "metadata": {},
   "outputs": [
    {
     "name": "stdout",
     "output_type": "stream",
     "text": [
      "     titleType  startYear  runtimeMinutes  averageRating   numVotes region  \\\n",
      "0        movie     1991.0           137.0            8.6  1128166.0     US   \n",
      "1     tvseries     2000.0            22.0            6.6      577.0     US   \n",
      "2        movie     2002.0           150.0            8.5   860569.0     US   \n",
      "3        movie     2004.0           120.0            7.5   417391.0     US   \n",
      "4        movie     2005.0           132.0            6.9     5946.0     US   \n",
      "...        ...        ...             ...            ...        ...    ...   \n",
      "7466     movie     2019.0           108.0            7.3     3779.0     CA   \n",
      "7467  tvseries     2019.0            25.0            7.5     3318.0     CA   \n",
      "7468     movie     2019.0            99.0            7.2     3346.0     CA   \n",
      "7469     movie     2019.0            84.0            6.9     3646.0     CA   \n",
      "7470  tvseries     2019.0            23.0            7.2     3577.0     CA   \n",
      "\n",
      "            types  main_genre secondary_genre  \n",
      "0             dvd      Action          Sci-Fi  \n",
      "1     alternative      Action       Adventure  \n",
      "2     imdbDisplay   Biography           Drama  \n",
      "3     imdbDisplay      Action           Crime  \n",
      "4     imdbDisplay   Biography           Drama  \n",
      "...           ...         ...             ...  \n",
      "7466  imdbDisplay       Drama         Romance  \n",
      "7467  imdbDisplay   Animation          Comedy  \n",
      "7468  imdbDisplay       Drama         Romance  \n",
      "7469  imdbDisplay       Drama        No tiene  \n",
      "7470  imdbDisplay  Reality-TV        No tiene  \n",
      "\n",
      "[7471 rows x 9 columns]\n"
     ]
    }
   ],
   "source": [
    "columnasEliminar = ['#', 'index', 'originalTitle', 'isAdult', 'language', 'attributes', 'isOriginalTitle','tconst','ordering']\n",
    "df_movies2 = df_movies.drop(columns=columnasEliminar)\n",
    "\n",
    "# Mostrar el nuevo DataFrame df_movies2\n",
    "print(df_movies2)\n",
    "\n"
   ]
  },
  {
   "cell_type": "code",
   "execution_count": 912,
   "metadata": {},
   "outputs": [
    {
     "data": {
      "text/html": [
       "<div>\n",
       "<style scoped>\n",
       "    .dataframe tbody tr th:only-of-type {\n",
       "        vertical-align: middle;\n",
       "    }\n",
       "\n",
       "    .dataframe tbody tr th {\n",
       "        vertical-align: top;\n",
       "    }\n",
       "\n",
       "    .dataframe thead th {\n",
       "        text-align: right;\n",
       "    }\n",
       "</style>\n",
       "<table border=\"1\" class=\"dataframe\">\n",
       "  <thead>\n",
       "    <tr style=\"text-align: right;\">\n",
       "      <th></th>\n",
       "      <th>titleType</th>\n",
       "      <th>startYear</th>\n",
       "      <th>runtimeMinutes</th>\n",
       "      <th>averageRating</th>\n",
       "      <th>numVotes</th>\n",
       "      <th>region</th>\n",
       "      <th>types</th>\n",
       "      <th>main_genre</th>\n",
       "      <th>secondary_genre</th>\n",
       "    </tr>\n",
       "  </thead>\n",
       "  <tbody>\n",
       "    <tr>\n",
       "      <th>0</th>\n",
       "      <td>movie</td>\n",
       "      <td>1991.0</td>\n",
       "      <td>137.0</td>\n",
       "      <td>8.6</td>\n",
       "      <td>1128166.0</td>\n",
       "      <td>US</td>\n",
       "      <td>dvd</td>\n",
       "      <td>Action</td>\n",
       "      <td>Sci-Fi</td>\n",
       "    </tr>\n",
       "    <tr>\n",
       "      <th>1</th>\n",
       "      <td>tvseries</td>\n",
       "      <td>2000.0</td>\n",
       "      <td>22.0</td>\n",
       "      <td>6.6</td>\n",
       "      <td>577.0</td>\n",
       "      <td>US</td>\n",
       "      <td>alternative</td>\n",
       "      <td>Action</td>\n",
       "      <td>Adventure</td>\n",
       "    </tr>\n",
       "    <tr>\n",
       "      <th>2</th>\n",
       "      <td>movie</td>\n",
       "      <td>2002.0</td>\n",
       "      <td>150.0</td>\n",
       "      <td>8.5</td>\n",
       "      <td>860569.0</td>\n",
       "      <td>US</td>\n",
       "      <td>imdbDisplay</td>\n",
       "      <td>Biography</td>\n",
       "      <td>Drama</td>\n",
       "    </tr>\n",
       "    <tr>\n",
       "      <th>3</th>\n",
       "      <td>movie</td>\n",
       "      <td>2004.0</td>\n",
       "      <td>120.0</td>\n",
       "      <td>7.5</td>\n",
       "      <td>417391.0</td>\n",
       "      <td>US</td>\n",
       "      <td>imdbDisplay</td>\n",
       "      <td>Action</td>\n",
       "      <td>Crime</td>\n",
       "    </tr>\n",
       "    <tr>\n",
       "      <th>4</th>\n",
       "      <td>movie</td>\n",
       "      <td>2005.0</td>\n",
       "      <td>132.0</td>\n",
       "      <td>6.9</td>\n",
       "      <td>5946.0</td>\n",
       "      <td>US</td>\n",
       "      <td>imdbDisplay</td>\n",
       "      <td>Biography</td>\n",
       "      <td>Drama</td>\n",
       "    </tr>\n",
       "    <tr>\n",
       "      <th>...</th>\n",
       "      <td>...</td>\n",
       "      <td>...</td>\n",
       "      <td>...</td>\n",
       "      <td>...</td>\n",
       "      <td>...</td>\n",
       "      <td>...</td>\n",
       "      <td>...</td>\n",
       "      <td>...</td>\n",
       "      <td>...</td>\n",
       "    </tr>\n",
       "    <tr>\n",
       "      <th>7466</th>\n",
       "      <td>movie</td>\n",
       "      <td>2019.0</td>\n",
       "      <td>108.0</td>\n",
       "      <td>7.3</td>\n",
       "      <td>3779.0</td>\n",
       "      <td>CA</td>\n",
       "      <td>imdbDisplay</td>\n",
       "      <td>Drama</td>\n",
       "      <td>Romance</td>\n",
       "    </tr>\n",
       "    <tr>\n",
       "      <th>7467</th>\n",
       "      <td>tvseries</td>\n",
       "      <td>2019.0</td>\n",
       "      <td>25.0</td>\n",
       "      <td>7.5</td>\n",
       "      <td>3318.0</td>\n",
       "      <td>CA</td>\n",
       "      <td>imdbDisplay</td>\n",
       "      <td>Animation</td>\n",
       "      <td>Comedy</td>\n",
       "    </tr>\n",
       "    <tr>\n",
       "      <th>7468</th>\n",
       "      <td>movie</td>\n",
       "      <td>2019.0</td>\n",
       "      <td>99.0</td>\n",
       "      <td>7.2</td>\n",
       "      <td>3346.0</td>\n",
       "      <td>CA</td>\n",
       "      <td>imdbDisplay</td>\n",
       "      <td>Drama</td>\n",
       "      <td>Romance</td>\n",
       "    </tr>\n",
       "    <tr>\n",
       "      <th>7469</th>\n",
       "      <td>movie</td>\n",
       "      <td>2019.0</td>\n",
       "      <td>84.0</td>\n",
       "      <td>6.9</td>\n",
       "      <td>3646.0</td>\n",
       "      <td>CA</td>\n",
       "      <td>imdbDisplay</td>\n",
       "      <td>Drama</td>\n",
       "      <td>No tiene</td>\n",
       "    </tr>\n",
       "    <tr>\n",
       "      <th>7470</th>\n",
       "      <td>tvseries</td>\n",
       "      <td>2019.0</td>\n",
       "      <td>23.0</td>\n",
       "      <td>7.2</td>\n",
       "      <td>3577.0</td>\n",
       "      <td>CA</td>\n",
       "      <td>imdbDisplay</td>\n",
       "      <td>Reality-TV</td>\n",
       "      <td>No tiene</td>\n",
       "    </tr>\n",
       "  </tbody>\n",
       "</table>\n",
       "<p>7471 rows × 9 columns</p>\n",
       "</div>"
      ],
      "text/plain": [
       "     titleType  startYear  runtimeMinutes  averageRating   numVotes region  \\\n",
       "0        movie     1991.0           137.0            8.6  1128166.0     US   \n",
       "1     tvseries     2000.0            22.0            6.6      577.0     US   \n",
       "2        movie     2002.0           150.0            8.5   860569.0     US   \n",
       "3        movie     2004.0           120.0            7.5   417391.0     US   \n",
       "4        movie     2005.0           132.0            6.9     5946.0     US   \n",
       "...        ...        ...             ...            ...        ...    ...   \n",
       "7466     movie     2019.0           108.0            7.3     3779.0     CA   \n",
       "7467  tvseries     2019.0            25.0            7.5     3318.0     CA   \n",
       "7468     movie     2019.0            99.0            7.2     3346.0     CA   \n",
       "7469     movie     2019.0            84.0            6.9     3646.0     CA   \n",
       "7470  tvseries     2019.0            23.0            7.2     3577.0     CA   \n",
       "\n",
       "            types  main_genre secondary_genre  \n",
       "0             dvd      Action          Sci-Fi  \n",
       "1     alternative      Action       Adventure  \n",
       "2     imdbDisplay   Biography           Drama  \n",
       "3     imdbDisplay      Action           Crime  \n",
       "4     imdbDisplay   Biography           Drama  \n",
       "...           ...         ...             ...  \n",
       "7466  imdbDisplay       Drama         Romance  \n",
       "7467  imdbDisplay   Animation          Comedy  \n",
       "7468  imdbDisplay       Drama         Romance  \n",
       "7469  imdbDisplay       Drama        No tiene  \n",
       "7470  imdbDisplay  Reality-TV        No tiene  \n",
       "\n",
       "[7471 rows x 9 columns]"
      ]
     },
     "execution_count": 912,
     "metadata": {},
     "output_type": "execute_result"
    }
   ],
   "source": [
    "df_movies2"
   ]
  },
  {
   "cell_type": "markdown",
   "metadata": {},
   "source": [
    "Convertir columna titleType a minuscula"
   ]
  },
  {
   "cell_type": "code",
   "execution_count": 913,
   "metadata": {},
   "outputs": [],
   "source": [
    "df_movies2['titleType'] = df_movies2['titleType'].str.lower()\n"
   ]
  },
  {
   "cell_type": "markdown",
   "metadata": {},
   "source": [
    "Convertir a minusculas las columnas main y secondaryGenre y types"
   ]
  },
  {
   "cell_type": "code",
   "execution_count": 914,
   "metadata": {},
   "outputs": [],
   "source": [
    "df_movies2['main_genre'] = df_movies2['main_genre'].str.lower()\n",
    "df_movies2['types'] = df_movies2['types'].str.lower()\n",
    "\n"
   ]
  },
  {
   "cell_type": "markdown",
   "metadata": {},
   "source": [
    "Eliminar valores nulos"
   ]
  },
  {
   "cell_type": "code",
   "execution_count": 915,
   "metadata": {},
   "outputs": [],
   "source": [
    "df_movies2.dropna(inplace=True)\n"
   ]
  },
  {
   "cell_type": "markdown",
   "metadata": {},
   "source": [
    "Cumplir con la metrica propuesta de averageRating, valor entre 0 y 10"
   ]
  },
  {
   "cell_type": "code",
   "execution_count": 916,
   "metadata": {},
   "outputs": [],
   "source": [
    "df_movies2 = df_movies2.drop(df_movies2[(df_movies2['averageRating'] < 0) | (df_movies2['averageRating'] > 10)].index)\n"
   ]
  },
  {
   "cell_type": "markdown",
   "metadata": {},
   "source": [
    "Creacion de los distintos grupos para comparar la densidad"
   ]
  },
  {
   "cell_type": "code",
   "execution_count": 917,
   "metadata": {},
   "outputs": [
    {
     "name": "stdout",
     "output_type": "stream",
     "text": [
      "      averageRating        types\n",
      "0               8.6          dvd\n",
      "1               6.6  alternative\n",
      "2               8.5  imdbdisplay\n",
      "3               7.5  imdbdisplay\n",
      "4               6.9  imdbdisplay\n",
      "...             ...          ...\n",
      "7466            7.3  imdbdisplay\n",
      "7467            7.5  imdbdisplay\n",
      "7468            7.2  imdbdisplay\n",
      "7469            6.9  imdbdisplay\n",
      "7470            7.2  imdbdisplay\n",
      "\n",
      "[7359 rows x 2 columns]\n"
     ]
    }
   ],
   "source": [
    "df_moviesType_rating=df_movies2[['averageRating', 'types']]\n",
    "print(df_moviesType_rating)"
   ]
  },
  {
   "cell_type": "code",
   "execution_count": 918,
   "metadata": {},
   "outputs": [
    {
     "name": "stdout",
     "output_type": "stream",
     "text": [
      "Mapeo de nombres: {'alternative': 0, 'dvd': 1, 'festival': 2, 'imdbdisplay': 3, 'working': 4}\n"
     ]
    }
   ],
   "source": [
    "le = LabelEncoder()\n",
    "\n",
    "# Ajusta el LabelEncoder usando la columna 'types' del DataFrame df_moviesType_rating\n",
    "le.fit(df_moviesType_rating['types'])\n",
    "\n",
    "# Crea un diccionario que mapea las clases originales a las etiquetas numéricas\n",
    "le_name_mapping = dict(zip(le.classes_, le.transform(le.classes_)))\n",
    "\n",
    "# Imprime el mapeo\n",
    "print(\"Mapeo de nombres:\", le_name_mapping)\n",
    "\n"
   ]
  },
  {
   "cell_type": "code",
   "execution_count": 919,
   "metadata": {},
   "outputs": [
    {
     "name": "stdout",
     "output_type": "stream",
     "text": [
      "      averageRating  types\n",
      "0               8.6      1\n",
      "1               6.6      0\n",
      "2               8.5      3\n",
      "3               7.5      3\n",
      "4               6.9      3\n",
      "...             ...    ...\n",
      "7466            7.3      3\n",
      "7467            7.5      3\n",
      "7468            7.2      3\n",
      "7469            6.9      3\n",
      "7470            7.2      3\n",
      "\n",
      "[7359 rows x 2 columns]\n"
     ]
    }
   ],
   "source": [
    "df_moviesType_rating = df_moviesType_rating.copy()\n",
    "df_moviesType_rating['types'] = labelencoder.fit_transform(df_moviesType_rating['types'])\n",
    "\n",
    "print(df_moviesType_rating)"
   ]
  },
  {
   "cell_type": "markdown",
   "metadata": {},
   "source": [
    "Convertir variables categoricas en numericas"
   ]
  },
  {
   "cell_type": "markdown",
   "metadata": {},
   "source": [
    "Aplicacion del algoritmo de DBS"
   ]
  },
  {
   "cell_type": "code",
   "execution_count": 920,
   "metadata": {},
   "outputs": [
    {
     "name": "stdout",
     "output_type": "stream",
     "text": [
      "      averageRating  types\n",
      "0               8.6      1\n",
      "1               6.6      0\n",
      "2               8.5      3\n",
      "3               7.5      3\n",
      "4               6.9      3\n",
      "...             ...    ...\n",
      "7466            7.3      3\n",
      "7467            7.5      3\n",
      "7468            7.2      3\n",
      "7469            6.9      3\n",
      "7470            7.2      3\n",
      "\n",
      "[7359 rows x 2 columns]\n",
      "Numero de cluster creado: 2\n",
      "Puntos atipicos: 1\n"
     ]
    }
   ],
   "source": [
    "print(df_moviesType_rating)\n",
    "dbscan = DBSCAN(eps=1, min_samples=10)\n",
    "dbscan.fit(df_moviesType_rating)\n",
    "\n",
    "labels = dbscan.labels_\n",
    "\n",
    "# Number of clusters in labels, ignoring noise if present.\n",
    "n_clusters_ = len(set(labels)) - (1 if -1 in labels else 0)\n",
    "n_noise_ = list(labels).count(-1)\n",
    "\n",
    "print(\"Numero de cluster creado: %d\" % n_clusters_)\n",
    "print(\"Puntos atipicos: %d\" % n_noise_)"
   ]
  },
  {
   "cell_type": "markdown",
   "metadata": {},
   "source": [
    "Medicion del coeficiente silueta"
   ]
  },
  {
   "cell_type": "code",
   "execution_count": 921,
   "metadata": {},
   "outputs": [
    {
     "name": "stdout",
     "output_type": "stream",
     "text": [
      "0.7071736123116645\n"
     ]
    }
   ],
   "source": [
    "coeficienteSilueta = silhouette_score(df_moviesType_rating, labels)\n",
    "print(coeficienteSilueta)"
   ]
  },
  {
   "cell_type": "code",
   "execution_count": 922,
   "metadata": {},
   "outputs": [
    {
     "data": {
      "image/png": "[encoded data removed]",
      "text/plain": [
       "<Figure size 432x288 with 1 Axes>"
      ]
     },
     "metadata": {},
     "output_type": "display_data"
    }
   ],
   "source": [
    "# Graficar los resultados\n",
    "unique_labels = set(labels)\n",
    "colors = [plt.cm.Spectral(each)\n",
    "          for each in np.linspace(0, 1, len(unique_labels))]\n",
    "\n",
    "for k, col in zip(unique_labels, colors):\n",
    "    if k == -1:\n",
    "        # Negro para valores atipicos.\n",
    "        col = [0, 0, 0, 1]\n",
    "\n",
    "    class_member_mask = (labels == k)\n",
    "\n",
    "    # Filtrar los puntos en df_moviesType_rating que pertenecen al cluster k\n",
    "    xy = df_moviesType_rating[class_member_mask]\n",
    "\n",
    "    # Graficar los puntos de datos que son \"núcleo\"\n",
    "    plt.plot(xy['averageRating'], xy['types'], 'o', \n",
    "             markerfacecolor=tuple(col), markeredgecolor='k', markersize=6)\n",
    "\n",
    "plt.title('Número estimado de clusters: %d' % len(unique_labels))\n",
    "plt.xlabel('averageRating')\n",
    "plt.ylabel('titleType')\n",
    "plt.show()"
   ]
  },
  {
   "cell_type": "markdown",
   "metadata": {},
   "source": [
    "Se evidencia claramente, que el tipo de la pelicula,influye en el averageRating de la misma, se puede evidenciar que el valor numero 3.0, es decir  que corresponde a imdbdisplay es quien obtiene los mejores resultados en este analisis de densidad"
   ]
  },
  {
   "cell_type": "markdown",
   "metadata": {},
   "source": [
    "Analisis por medio del atributo runTimeMinutes"
   ]
  },
  {
   "cell_type": "code",
   "execution_count": 923,
   "metadata": {},
   "outputs": [
    {
     "name": "stdout",
     "output_type": "stream",
     "text": [
      "      averageRating  runtimeMinutes\n",
      "0               8.6           137.0\n",
      "1               6.6            22.0\n",
      "2               8.5           150.0\n",
      "3               7.5           120.0\n",
      "4               6.9           132.0\n",
      "...             ...             ...\n",
      "7466            7.3           108.0\n",
      "7467            7.5            25.0\n",
      "7468            7.2            99.0\n",
      "7469            6.9            84.0\n",
      "7470            7.2            23.0\n",
      "\n",
      "[7359 rows x 2 columns]\n"
     ]
    }
   ],
   "source": [
    "df_runTimeMinutes=df_movies2[['averageRating', 'runtimeMinutes']]\n",
    "print(df_runTimeMinutes)"
   ]
  },
  {
   "cell_type": "markdown",
   "metadata": {},
   "source": [
    "Normalizar"
   ]
  },
  {
   "cell_type": "code",
   "execution_count": 924,
   "metadata": {},
   "outputs": [
    {
     "name": "stdout",
     "output_type": "stream",
     "text": [
      "      averageRating  runtimeMinutes\n",
      "0          2.058393        0.556864\n",
      "1         -1.269568       -1.211062\n",
      "2          1.891995        0.756716\n",
      "3          0.228014        0.295518\n",
      "4         -0.770374        0.479997\n",
      "...             ...             ...\n",
      "7354      -0.104782        0.111039\n",
      "7355       0.228014       -1.164942\n",
      "7356      -0.271180       -0.027321\n",
      "7357      -0.770374       -0.257920\n",
      "7358      -0.271180       -1.195689\n",
      "\n",
      "[7359 rows x 2 columns]\n"
     ]
    }
   ],
   "source": [
    "scaler = StandardScaler()\n",
    "\n",
    "# Normalizar las columnas y actualizar el sub-DataFrame\n",
    "df_runTimeMinutes = pd.DataFrame(scaler.fit_transform(df_runTimeMinutes), columns=['averageRating', 'runtimeMinutes'])\n",
    "\n",
    "# Mostrar el DataFrame normalizado\n",
    "print(df_runTimeMinutes)"
   ]
  },
  {
   "cell_type": "markdown",
   "metadata": {},
   "source": [
    "Aplicacion algoritmo"
   ]
  },
  {
   "cell_type": "code",
   "execution_count": 947,
   "metadata": {},
   "outputs": [
    {
     "name": "stdout",
     "output_type": "stream",
     "text": [
      "      averageRating  runtimeMinutes\n",
      "0          2.058393        0.556864\n",
      "1         -1.269568       -1.211062\n",
      "2          1.891995        0.756716\n",
      "3          0.228014        0.295518\n",
      "4         -0.770374        0.479997\n",
      "...             ...             ...\n",
      "7354      -0.104782        0.111039\n",
      "7355       0.228014       -1.164942\n",
      "7356      -0.271180       -0.027321\n",
      "7357      -0.770374       -0.257920\n",
      "7358      -0.271180       -1.195689\n",
      "\n",
      "[7359 rows x 2 columns]\n",
      "Numero de cluster creado: 1\n",
      "Puntos atipicos: 9\n"
     ]
    }
   ],
   "source": [
    "print(df_runTimeMinutes)\n",
    "dbscan = DBSCAN(eps=0.8, min_samples=5)\n",
    "dbscan.fit(df_runTimeMinutes)\n",
    "\n",
    "labels = dbscan.labels_\n",
    "\n",
    "# Number of clusters in labels, ignoring noise if present.\n",
    "n_clusters_ = len(set(labels)) - (1 if -1 in labels else 0)\n",
    "n_noise_ = list(labels).count(-1)\n",
    "\n",
    "print(\"Numero de cluster creado: %d\" % n_clusters_)\n",
    "print(\"Puntos atipicos: %d\" % n_noise_)"
   ]
  },
  {
   "cell_type": "code",
   "execution_count": 948,
   "metadata": {},
   "outputs": [
    {
     "name": "stdout",
     "output_type": "stream",
     "text": [
      "0.8212087191496696\n"
     ]
    }
   ],
   "source": [
    "coeficienteSilueta = silhouette_score(df_runTimeMinutes, labels)\n",
    "print(coeficienteSilueta)"
   ]
  },
  {
   "cell_type": "code",
   "execution_count": 949,
   "metadata": {},
   "outputs": [
    {
     "data": {
      "image/png": "[encoded data removed]",
      "text/plain": [
       "<Figure size 432x288 with 1 Axes>"
      ]
     },
     "metadata": {},
     "output_type": "display_data"
    }
   ],
   "source": [
    "# Graficar los resultados\n",
    "unique_labels = set(labels)\n",
    "colors = [plt.cm.Spectral(each)\n",
    "          for each in np.linspace(0, 1, len(unique_labels))]\n",
    "\n",
    "for k, col in zip(unique_labels, colors):\n",
    "    if k == -1:\n",
    "        # Negro para valores atipicos.\n",
    "        col = [0, 0, 0, 1]\n",
    "\n",
    "    class_member_mask = (labels == k)\n",
    "\n",
    "    # Filtrar los puntos en df_moviesType_rating que pertenecen al cluster k\n",
    "    xy = df_runTimeMinutes[class_member_mask]\n",
    "\n",
    "    # Graficar los puntos de datos que son \"núcleo\"\n",
    "    plt.plot(xy['averageRating'], xy['runtimeMinutes'], 'o', \n",
    "             markerfacecolor=tuple(col), markeredgecolor='k', markersize=6)\n",
    "\n",
    "plt.title('Número estimado de clusters: %d' % len(unique_labels))\n",
    "plt.xlabel('averageRating')\n",
    "plt.ylabel('runTimeMinutes')\n",
    "plt.show()"
   ]
  },
  {
   "cell_type": "markdown",
   "metadata": {},
   "source": [
    "Se evidencia que no hay una relacion significativa entre el rating y los minutos que dura la pelicula"
   ]
  },
  {
   "cell_type": "markdown",
   "metadata": {},
   "source": [
    "Verificacion de tipo de filme (titleType)"
   ]
  },
  {
   "cell_type": "code",
   "execution_count": 950,
   "metadata": {},
   "outputs": [
    {
     "name": "stdout",
     "output_type": "stream",
     "text": [
      "      averageRating titleType\n",
      "0               8.6     movie\n",
      "1               6.6  tvseries\n",
      "2               8.5     movie\n",
      "3               7.5     movie\n",
      "4               6.9     movie\n",
      "...             ...       ...\n",
      "7466            7.3     movie\n",
      "7467            7.5  tvseries\n",
      "7468            7.2     movie\n",
      "7469            6.9     movie\n",
      "7470            7.2  tvseries\n",
      "\n",
      "[7359 rows x 2 columns]\n"
     ]
    }
   ],
   "source": [
    "df_titleType=df_movies2[['averageRating', 'titleType']]\n",
    "print(df_titleType)"
   ]
  },
  {
   "cell_type": "code",
   "execution_count": 951,
   "metadata": {},
   "outputs": [
    {
     "name": "stdout",
     "output_type": "stream",
     "text": [
      "Mapeo de nombres: {'movie': 0, 'tvminiseries': 1, 'tvmovie': 2, 'tvseries': 3}\n"
     ]
    }
   ],
   "source": [
    "le = LabelEncoder()\n",
    "\n",
    "# Ajusta el LabelEncoder usando la columna 'types' del DataFrame df_moviesType_rating\n",
    "le.fit(df_titleType['titleType'])\n",
    "\n",
    "# Crea un diccionario que mapea las clases originales a las etiquetas numéricas\n",
    "le_name_mapping = dict(zip(le.classes_, le.transform(le.classes_)))\n",
    "\n",
    "# Imprime el mapeo\n",
    "print(\"Mapeo de nombres:\", le_name_mapping)\n",
    "\n"
   ]
  },
  {
   "cell_type": "code",
   "execution_count": 1005,
   "metadata": {},
   "outputs": [
    {
     "name": "stdout",
     "output_type": "stream",
     "text": [
      "      averageRating  titleType\n",
      "0               8.6          0\n",
      "1               6.6          3\n",
      "2               8.5          0\n",
      "3               7.5          0\n",
      "4               6.9          0\n",
      "...             ...        ...\n",
      "7466            7.3          0\n",
      "7467            7.5          3\n",
      "7468            7.2          0\n",
      "7469            6.9          0\n",
      "7470            7.2          3\n",
      "\n",
      "[7359 rows x 2 columns]\n",
      "Numero de cluster creado: 3\n",
      "Puntos atipicos: 20\n"
     ]
    }
   ],
   "source": [
    "print(df_titleType)\n",
    "dbscan = DBSCAN(eps=0.5, min_samples=10)\n",
    "dbscan.fit(df_moviesType_rating)\n",
    "\n",
    "labels = dbscan.labels_\n",
    "\n",
    "# Number of clusters in labels, ignoring noise if present.\n",
    "n_clusters_ = len(set(labels)) - (1 if -1 in labels else 0)\n",
    "n_noise_ = list(labels).count(-1)\n",
    "\n",
    "print(\"Numero de cluster creado: %d\" % n_clusters_)\n",
    "print(\"Puntos atipicos: %d\" % n_noise_)"
   ]
  },
  {
   "cell_type": "code",
   "execution_count": 1006,
   "metadata": {},
   "outputs": [
    {
     "name": "stdout",
     "output_type": "stream",
     "text": [
      "      averageRating  titleType\n",
      "0               8.6          0\n",
      "1               6.6          3\n",
      "2               8.5          0\n",
      "3               7.5          0\n",
      "4               6.9          0\n",
      "...             ...        ...\n",
      "7466            7.3          0\n",
      "7467            7.5          3\n",
      "7468            7.2          0\n",
      "7469            6.9          0\n",
      "7470            7.2          3\n",
      "\n",
      "[7359 rows x 2 columns]\n"
     ]
    }
   ],
   "source": [
    "df_titleType.columns\n",
    "\n",
    "df_titleType = df_titleType.copy()\n",
    "df_titleType['titleType'] = labelencoder.fit_transform(df_titleType['titleType'])\n",
    "\n",
    "print(df_titleType)"
   ]
  },
  {
   "cell_type": "markdown",
   "metadata": {},
   "source": [
    "Coeficiente silueta"
   ]
  },
  {
   "cell_type": "code",
   "execution_count": 1007,
   "metadata": {},
   "outputs": [
    {
     "name": "stdout",
     "output_type": "stream",
     "text": [
      "-0.2815583335397772\n"
     ]
    }
   ],
   "source": [
    "coeficienteSilueta = silhouette_score(df_titleType, labels)\n",
    "print(coeficienteSilueta)"
   ]
  },
  {
   "cell_type": "code",
   "execution_count": 1008,
   "metadata": {},
   "outputs": [
    {
     "data": {
      "image/png": "[encoded data removed]",
      "text/plain": [
       "<Figure size 432x288 with 1 Axes>"
      ]
     },
     "metadata": {},
     "output_type": "display_data"
    }
   ],
   "source": [
    "# Graficar los resultados\n",
    "unique_labels = set(labels)\n",
    "colors = [plt.cm.Spectral(each)\n",
    "          for each in np.linspace(0, 1, len(unique_labels))]\n",
    "\n",
    "for k, col in zip(unique_labels, colors):\n",
    "    if k == -1:\n",
    "        # Negro para valores atipicos.\n",
    "        col = [0, 0, 0, 1]\n",
    "\n",
    "    class_member_mask = (labels == k)\n",
    "\n",
    "    # Filtrar los puntos en df_moviesType_rating que pertenecen al cluster k\n",
    "    xy = df_titleType[class_member_mask]\n",
    "\n",
    "    # Graficar los puntos de datos que son \"núcleo\"\n",
    "    plt.plot(xy['averageRating'], xy['titleType'], 'o', \n",
    "             markerfacecolor=tuple(col), markeredgecolor='k', markersize=6)\n",
    "\n",
    "plt.title('Número estimado de clusters: %d' % len(unique_labels))\n",
    "plt.xlabel('averageRating')\n",
    "plt.ylabel('titleType')\n",
    "plt.show()"
   ]
  },
  {
   "cell_type": "code",
   "execution_count": 1009,
   "metadata": {},
   "outputs": [
    {
     "data": {
      "text/html": [
       "<div>\n",
       "<style scoped>\n",
       "    .dataframe tbody tr th:only-of-type {\n",
       "        vertical-align: middle;\n",
       "    }\n",
       "\n",
       "    .dataframe tbody tr th {\n",
       "        vertical-align: top;\n",
       "    }\n",
       "\n",
       "    .dataframe thead th {\n",
       "        text-align: right;\n",
       "    }\n",
       "</style>\n",
       "<table border=\"1\" class=\"dataframe\">\n",
       "  <thead>\n",
       "    <tr style=\"text-align: right;\">\n",
       "      <th></th>\n",
       "      <th>titleType</th>\n",
       "      <th>startYear</th>\n",
       "      <th>runtimeMinutes</th>\n",
       "      <th>averageRating</th>\n",
       "      <th>numVotes</th>\n",
       "      <th>region</th>\n",
       "      <th>types</th>\n",
       "      <th>main_genre</th>\n",
       "      <th>secondary_genre</th>\n",
       "    </tr>\n",
       "  </thead>\n",
       "  <tbody>\n",
       "    <tr>\n",
       "      <th>0</th>\n",
       "      <td>movie</td>\n",
       "      <td>1991.0</td>\n",
       "      <td>137.0</td>\n",
       "      <td>8.6</td>\n",
       "      <td>1128166.0</td>\n",
       "      <td>US</td>\n",
       "      <td>dvd</td>\n",
       "      <td>action</td>\n",
       "      <td>Sci-Fi</td>\n",
       "    </tr>\n",
       "    <tr>\n",
       "      <th>1</th>\n",
       "      <td>tvseries</td>\n",
       "      <td>2000.0</td>\n",
       "      <td>22.0</td>\n",
       "      <td>6.6</td>\n",
       "      <td>577.0</td>\n",
       "      <td>US</td>\n",
       "      <td>alternative</td>\n",
       "      <td>action</td>\n",
       "      <td>Adventure</td>\n",
       "    </tr>\n",
       "    <tr>\n",
       "      <th>2</th>\n",
       "      <td>movie</td>\n",
       "      <td>2002.0</td>\n",
       "      <td>150.0</td>\n",
       "      <td>8.5</td>\n",
       "      <td>860569.0</td>\n",
       "      <td>US</td>\n",
       "      <td>imdbdisplay</td>\n",
       "      <td>biography</td>\n",
       "      <td>Drama</td>\n",
       "    </tr>\n",
       "    <tr>\n",
       "      <th>3</th>\n",
       "      <td>movie</td>\n",
       "      <td>2004.0</td>\n",
       "      <td>120.0</td>\n",
       "      <td>7.5</td>\n",
       "      <td>417391.0</td>\n",
       "      <td>US</td>\n",
       "      <td>imdbdisplay</td>\n",
       "      <td>action</td>\n",
       "      <td>Crime</td>\n",
       "    </tr>\n",
       "    <tr>\n",
       "      <th>4</th>\n",
       "      <td>movie</td>\n",
       "      <td>2005.0</td>\n",
       "      <td>132.0</td>\n",
       "      <td>6.9</td>\n",
       "      <td>5946.0</td>\n",
       "      <td>US</td>\n",
       "      <td>imdbdisplay</td>\n",
       "      <td>biography</td>\n",
       "      <td>Drama</td>\n",
       "    </tr>\n",
       "    <tr>\n",
       "      <th>...</th>\n",
       "      <td>...</td>\n",
       "      <td>...</td>\n",
       "      <td>...</td>\n",
       "      <td>...</td>\n",
       "      <td>...</td>\n",
       "      <td>...</td>\n",
       "      <td>...</td>\n",
       "      <td>...</td>\n",
       "      <td>...</td>\n",
       "    </tr>\n",
       "    <tr>\n",
       "      <th>7466</th>\n",
       "      <td>movie</td>\n",
       "      <td>2019.0</td>\n",
       "      <td>108.0</td>\n",
       "      <td>7.3</td>\n",
       "      <td>3779.0</td>\n",
       "      <td>CA</td>\n",
       "      <td>imdbdisplay</td>\n",
       "      <td>drama</td>\n",
       "      <td>Romance</td>\n",
       "    </tr>\n",
       "    <tr>\n",
       "      <th>7467</th>\n",
       "      <td>tvseries</td>\n",
       "      <td>2019.0</td>\n",
       "      <td>25.0</td>\n",
       "      <td>7.5</td>\n",
       "      <td>3318.0</td>\n",
       "      <td>CA</td>\n",
       "      <td>imdbdisplay</td>\n",
       "      <td>animation</td>\n",
       "      <td>Comedy</td>\n",
       "    </tr>\n",
       "    <tr>\n",
       "      <th>7468</th>\n",
       "      <td>movie</td>\n",
       "      <td>2019.0</td>\n",
       "      <td>99.0</td>\n",
       "      <td>7.2</td>\n",
       "      <td>3346.0</td>\n",
       "      <td>CA</td>\n",
       "      <td>imdbdisplay</td>\n",
       "      <td>drama</td>\n",
       "      <td>Romance</td>\n",
       "    </tr>\n",
       "    <tr>\n",
       "      <th>7469</th>\n",
       "      <td>movie</td>\n",
       "      <td>2019.0</td>\n",
       "      <td>84.0</td>\n",
       "      <td>6.9</td>\n",
       "      <td>3646.0</td>\n",
       "      <td>CA</td>\n",
       "      <td>imdbdisplay</td>\n",
       "      <td>drama</td>\n",
       "      <td>No tiene</td>\n",
       "    </tr>\n",
       "    <tr>\n",
       "      <th>7470</th>\n",
       "      <td>tvseries</td>\n",
       "      <td>2019.0</td>\n",
       "      <td>23.0</td>\n",
       "      <td>7.2</td>\n",
       "      <td>3577.0</td>\n",
       "      <td>CA</td>\n",
       "      <td>imdbdisplay</td>\n",
       "      <td>reality-tv</td>\n",
       "      <td>No tiene</td>\n",
       "    </tr>\n",
       "  </tbody>\n",
       "</table>\n",
       "<p>7359 rows × 9 columns</p>\n",
       "</div>"
      ],
      "text/plain": [
       "     titleType  startYear  runtimeMinutes  averageRating   numVotes region  \\\n",
       "0        movie     1991.0           137.0            8.6  1128166.0     US   \n",
       "1     tvseries     2000.0            22.0            6.6      577.0     US   \n",
       "2        movie     2002.0           150.0            8.5   860569.0     US   \n",
       "3        movie     2004.0           120.0            7.5   417391.0     US   \n",
       "4        movie     2005.0           132.0            6.9     5946.0     US   \n",
       "...        ...        ...             ...            ...        ...    ...   \n",
       "7466     movie     2019.0           108.0            7.3     3779.0     CA   \n",
       "7467  tvseries     2019.0            25.0            7.5     3318.0     CA   \n",
       "7468     movie     2019.0            99.0            7.2     3346.0     CA   \n",
       "7469     movie     2019.0            84.0            6.9     3646.0     CA   \n",
       "7470  tvseries     2019.0            23.0            7.2     3577.0     CA   \n",
       "\n",
       "            types  main_genre secondary_genre  \n",
       "0             dvd      action          Sci-Fi  \n",
       "1     alternative      action       Adventure  \n",
       "2     imdbdisplay   biography           Drama  \n",
       "3     imdbdisplay      action           Crime  \n",
       "4     imdbdisplay   biography           Drama  \n",
       "...           ...         ...             ...  \n",
       "7466  imdbdisplay       drama         Romance  \n",
       "7467  imdbdisplay   animation          Comedy  \n",
       "7468  imdbdisplay       drama         Romance  \n",
       "7469  imdbdisplay       drama        No tiene  \n",
       "7470  imdbdisplay  reality-tv        No tiene  \n",
       "\n",
       "[7359 rows x 9 columns]"
      ]
     },
     "execution_count": 1009,
     "metadata": {},
     "output_type": "execute_result"
    }
   ],
   "source": [
    "df_movies2"
   ]
  },
  {
   "cell_type": "markdown",
   "metadata": {},
   "source": [
    "El algoritmo, no obtuvo su mejor rendimiento, dado que los datos se encuentran bastantes dispersos, sin embnargo, evidenciamos que los titleType con mayor rating promedio son aquellos que corresponden a 1.0 y 3.0 que respectivamente son tvminiseries y tvseries"
   ]
  },
  {
   "cell_type": "markdown",
   "metadata": {},
   "source": [
    "Verificacion de la importancia del genero principal en el average rating"
   ]
  },
  {
   "cell_type": "code",
   "execution_count": 1010,
   "metadata": {},
   "outputs": [
    {
     "name": "stdout",
     "output_type": "stream",
     "text": [
      "      averageRating  main_genre\n",
      "0               8.6      action\n",
      "1               6.6      action\n",
      "2               8.5   biography\n",
      "3               7.5      action\n",
      "4               6.9   biography\n",
      "...             ...         ...\n",
      "7466            7.3       drama\n",
      "7467            7.5   animation\n",
      "7468            7.2       drama\n",
      "7469            6.9       drama\n",
      "7470            7.2  reality-tv\n",
      "\n",
      "[7359 rows x 2 columns]\n"
     ]
    }
   ],
   "source": [
    "df_maingenre=df_movies2[['averageRating', 'main_genre']]\n",
    "print(df_maingenre)"
   ]
  },
  {
   "cell_type": "markdown",
   "metadata": {},
   "source": [
    "Mapeo de nombres"
   ]
  },
  {
   "cell_type": "code",
   "execution_count": 1011,
   "metadata": {},
   "outputs": [
    {
     "name": "stdout",
     "output_type": "stream",
     "text": [
      "Mapeo de nombres: {'action': 0, 'adventure': 1, 'animation': 2, 'biography': 3, 'comedy': 4, 'crime': 5, 'documentary': 6, 'drama': 7, 'family': 8, 'fantasy': 9, 'game-show': 10, 'history': 11, 'horror': 12, 'music': 13, 'musical': 14, 'mystery': 15, 'reality-tv': 16, 'romance': 17, 'sci-fi': 18, 'sport': 19, 'talk-show': 20, 'thriller': 21}\n"
     ]
    }
   ],
   "source": [
    "le = LabelEncoder()\n",
    "\n",
    "# Ajusta el LabelEncoder usando la columna 'types' del DataFrame df_moviesType_rating\n",
    "le.fit(df_maingenre['main_genre'])\n",
    "\n",
    "# Crea un diccionario que mapea las clases originales a las etiquetas numéricas\n",
    "le_name_mapping = dict(zip(le.classes_, le.transform(le.classes_)))\n",
    "\n",
    "# Imprime el mapeo\n",
    "print(\"Mapeo de nombres:\", le_name_mapping)"
   ]
  },
  {
   "cell_type": "code",
   "execution_count": 1013,
   "metadata": {},
   "outputs": [
    {
     "name": "stdout",
     "output_type": "stream",
     "text": [
      "      averageRating  main_genre\n",
      "0               8.6           0\n",
      "1               6.6           0\n",
      "2               8.5           3\n",
      "3               7.5           0\n",
      "4               6.9           3\n",
      "...             ...         ...\n",
      "7466            7.3           7\n",
      "7467            7.5           2\n",
      "7468            7.2           7\n",
      "7469            6.9           7\n",
      "7470            7.2          16\n",
      "\n",
      "[7359 rows x 2 columns]\n"
     ]
    }
   ],
   "source": [
    "df_maingenre = df_maingenre.copy()\n",
    "df_maingenre['main_genre'] = labelencoder.fit_transform(df_maingenre['main_genre'])\n",
    "\n",
    "print(df_maingenre)\n"
   ]
  },
  {
   "cell_type": "code",
   "execution_count": 1014,
   "metadata": {},
   "outputs": [
    {
     "name": "stdout",
     "output_type": "stream",
     "text": [
      "Numero de cluster creado: 5\n",
      "Puntos atipicos: 5\n"
     ]
    }
   ],
   "source": [
    "dbscan = DBSCAN(eps=1, min_samples=10)\n",
    "dbscan.fit(df_maingenre)\n",
    "\n",
    "labels = dbscan.labels_\n",
    "\n",
    "# Number of clusters in labels, ignoring noise if present.\n",
    "n_clusters_ = len(set(labels)) - (1 if -1 in labels else 0)\n",
    "n_noise_ = list(labels).count(-1)\n",
    "\n",
    "print(\"Numero de cluster creado: %d\" % n_clusters_)\n",
    "print(\"Puntos atipicos: %d\" % n_noise_)\n"
   ]
  },
  {
   "cell_type": "markdown",
   "metadata": {},
   "source": [
    "Coeficiente silueta:"
   ]
  },
  {
   "cell_type": "code",
   "execution_count": 1015,
   "metadata": {},
   "outputs": [
    {
     "name": "stdout",
     "output_type": "stream",
     "text": [
      "0.419435404221512\n"
     ]
    }
   ],
   "source": [
    "coeficienteSilueta = silhouette_score(df_maingenre, labels)\n",
    "print(coeficienteSilueta)"
   ]
  },
  {
   "cell_type": "markdown",
   "metadata": {},
   "source": [
    "Creacion de visualizacion"
   ]
  },
  {
   "cell_type": "code",
   "execution_count": 1016,
   "metadata": {},
   "outputs": [
    {
     "data": {
      "image/png": "[encoded data removed]",
      "text/plain": [
       "<Figure size 432x288 with 1 Axes>"
      ]
     },
     "metadata": {},
     "output_type": "display_data"
    }
   ],
   "source": [
    "# Graficar los resultados\n",
    "unique_labels = set(labels)\n",
    "colors = [plt.cm.Spectral(each)\n",
    "          for each in np.linspace(0, 1, len(unique_labels))]\n",
    "\n",
    "for k, col in zip(unique_labels, colors):\n",
    "    if k == -1:\n",
    "        # Negro para valores atipicos.\n",
    "        col = [0, 0, 0, 1]\n",
    "\n",
    "    class_member_mask = (labels == k)\n",
    "\n",
    "    # Filtrar los puntos en df_moviesType_rating que pertenecen al cluster k\n",
    "    xy = df_maingenre[class_member_mask]\n",
    "\n",
    "    # Graficar los puntos de datos que son \"núcleo\"\n",
    "    plt.plot(xy['averageRating'], xy['main_genre'], 'o', \n",
    "             markerfacecolor=tuple(col), markeredgecolor='k', markersize=6)\n",
    "\n",
    "plt.title('Número estimado de clusters: %d' % len(unique_labels))\n",
    "plt.xlabel('averageRating')\n",
    "plt.ylabel('main_genre')\n",
    "plt.show()"
   ]
  },
  {
   "cell_type": "markdown",
   "metadata": {},
   "source": [
    "Se evidencia que los principales generos que mas influyen en el rating son los que se encuentran entre los codigos 0 y 10, lo que quiere decir que son: 'action', 'adventure', 'animation', 'biography', 'comedy', 'crime', 'documentary', 'drama', 'family', 'fantasy', 'game-show' a la hora de evaluar en rating\n"
   ]
  },
  {
   "cell_type": "markdown",
   "metadata": {},
   "source": [
    "Evaluacion de generos secundarios"
   ]
  },
  {
   "cell_type": "code",
   "execution_count": 1017,
   "metadata": {},
   "outputs": [
    {
     "name": "stdout",
     "output_type": "stream",
     "text": [
      "      averageRating secondary_genre\n",
      "0               8.6          Sci-Fi\n",
      "1               6.6       Adventure\n",
      "2               8.5           Drama\n",
      "3               7.5           Crime\n",
      "4               6.9           Drama\n",
      "...             ...             ...\n",
      "7466            7.3         Romance\n",
      "7467            7.5          Comedy\n",
      "7468            7.2         Romance\n",
      "7469            6.9        No tiene\n",
      "7470            7.2        No tiene\n",
      "\n",
      "[7359 rows x 2 columns]\n"
     ]
    }
   ],
   "source": [
    "df_secondaryGenre=df_movies2[['averageRating', 'secondary_genre']]\n",
    "print(df_secondaryGenre)\n"
   ]
  },
  {
   "cell_type": "code",
   "execution_count": 1019,
   "metadata": {},
   "outputs": [
    {
     "name": "stdout",
     "output_type": "stream",
     "text": [
      "Mapeo de nombres: {'Adventure': 0, 'Animation': 1, 'Biography': 2, 'Comedy': 3, 'Crime': 4, 'Documentary': 5, 'Drama': 6, 'Family': 7, 'Fantasy': 8, 'Game-Show': 9, 'History': 10, 'Horror': 11, 'Music': 12, 'Musical': 13, 'Mystery': 14, 'News': 15, 'No tiene': 16, 'Reality-TV': 17, 'Romance': 18, 'Sci-Fi': 19, 'Short': 20, 'Sport': 21, 'Talk-Show': 22, 'Thriller': 23, 'War': 24, 'Western': 25}\n"
     ]
    }
   ],
   "source": [
    "le = LabelEncoder()\n",
    "\n",
    "# Ajusta el LabelEncoder usando la columna 'types' del DataFrame df_moviesType_rating\n",
    "le.fit(df_secondaryGenre['secondary_genre'])\n",
    "\n",
    "# Crea un diccionario que mapea las clases originales a las etiquetas numéricas\n",
    "le_name_mapping = dict(zip(le.classes_, le.transform(le.classes_)))\n",
    "\n",
    "# Imprime el mapeo\n",
    "print(\"Mapeo de nombres:\", le_name_mapping)\n"
   ]
  },
  {
   "cell_type": "markdown",
   "metadata": {},
   "source": [
    "Transformacion de variable categorica"
   ]
  },
  {
   "cell_type": "code",
   "execution_count": 1021,
   "metadata": {},
   "outputs": [
    {
     "name": "stdout",
     "output_type": "stream",
     "text": [
      "      averageRating  secondary_genre\n",
      "0               8.6               19\n",
      "1               6.6                0\n",
      "2               8.5                6\n",
      "3               7.5                4\n",
      "4               6.9                6\n",
      "...             ...              ...\n",
      "7466            7.3               18\n",
      "7467            7.5                3\n",
      "7468            7.2               18\n",
      "7469            6.9               16\n",
      "7470            7.2               16\n",
      "\n",
      "[7359 rows x 2 columns]\n"
     ]
    }
   ],
   "source": [
    "df_secondaryGenre = df_secondaryGenre.copy()\n",
    "df_secondaryGenre['secondary_genre'] = labelencoder.fit_transform(df_secondaryGenre['secondary_genre'])\n",
    "\n",
    "print(df_secondaryGenre)\n"
   ]
  },
  {
   "cell_type": "code",
   "execution_count": 1024,
   "metadata": {},
   "outputs": [
    {
     "name": "stdout",
     "output_type": "stream",
     "text": [
      "      averageRating  secondary_genre\n",
      "0               8.6               19\n",
      "1               6.6                0\n",
      "2               8.5                6\n",
      "3               7.5                4\n",
      "4               6.9                6\n",
      "...             ...              ...\n",
      "7466            7.3               18\n",
      "7467            7.5                3\n",
      "7468            7.2               18\n",
      "7469            6.9               16\n",
      "7470            7.2               16\n",
      "\n",
      "[7359 rows x 2 columns]\n",
      "Numero de cluster creado: 1\n",
      "Puntos atipicos: 1\n"
     ]
    }
   ],
   "source": [
    "print(df_secondaryGenre)\n",
    "dbscan = DBSCAN(eps=1, min_samples=10)\n",
    "dbscan.fit(df_secondaryGenre)\n",
    "\n",
    "labels = dbscan.labels_\n",
    "\n",
    "# Number of clusters in labels, ignoring noise if present.\n",
    "n_clusters_ = len(set(labels)) - (1 if -1 in labels else 0)\n",
    "n_noise_ = list(labels).count(-1)\n",
    "\n",
    "print(\"Numero de cluster creado: %d\" % n_clusters_)\n",
    "print(\"Puntos atipicos: %d\" % n_noise_)\n",
    "\n"
   ]
  },
  {
   "cell_type": "markdown",
   "metadata": {},
   "source": [
    "Coeficiente silueta"
   ]
  },
  {
   "cell_type": "code",
   "execution_count": 1025,
   "metadata": {},
   "outputs": [
    {
     "name": "stdout",
     "output_type": "stream",
     "text": [
      "0.25431994036138267\n"
     ]
    }
   ],
   "source": [
    "coeficienteSilueta = silhouette_score(df_secondaryGenre, labels)\n",
    "print(coeficienteSilueta)\n"
   ]
  },
  {
   "cell_type": "markdown",
   "metadata": {},
   "source": [
    "Graficar los resultados"
   ]
  },
  {
   "cell_type": "code",
   "execution_count": 1026,
   "metadata": {},
   "outputs": [
    {
     "data": {
      "image/png": "[encoded data removed]",
      "text/plain": [
       "<Figure size 432x288 with 1 Axes>"
      ]
     },
     "metadata": {},
     "output_type": "display_data"
    }
   ],
   "source": [
    "# Graficar los resultados\n",
    "unique_labels = set(labels)\n",
    "colors = [plt.cm.Spectral(each)\n",
    "          for each in np.linspace(0, 1, len(unique_labels))]\n",
    "\n",
    "for k, col in zip(unique_labels, colors):\n",
    "    if k == -1:\n",
    "        # Negro para valores atipicos.\n",
    "        col = [0, 0, 0, 1]\n",
    "\n",
    "    class_member_mask = (labels == k)\n",
    "\n",
    "    # Filtrar los puntos en df_moviesType_rating que pertenecen al cluster k\n",
    "    xy = df_secondaryGenre[class_member_mask]\n",
    "\n",
    "    # Graficar los puntos de datos que son \"núcleo\"\n",
    "    plt.plot(xy['averageRating'], xy['secondary_genre'], 'o', \n",
    "             markerfacecolor=tuple(col), markeredgecolor='k', markersize=6)\n",
    "\n",
    "plt.title('Número estimado de clusters: %d' % len(unique_labels))\n",
    "plt.xlabel('averageRating')\n",
    "plt.ylabel('secondary_genre')\n",
    "plt.show()"
   ]
  },
  {
   "cell_type": "markdown",
   "metadata": {},
   "source": [
    "Se evidencia quie no hay una tendencia clara a la hora de evaluar el genero secundario del title"
   ]
  },
  {
   "cell_type": "markdown",
   "metadata": {},
   "source": [
    "Estudio de la relacion entre el numero de votos y el averageRating "
   ]
  },
  {
   "cell_type": "code",
   "execution_count": 1027,
   "metadata": {},
   "outputs": [
    {
     "name": "stdout",
     "output_type": "stream",
     "text": [
      "      averageRating   numVotes\n",
      "0               8.6  1128166.0\n",
      "1               6.6      577.0\n",
      "2               8.5   860569.0\n",
      "3               7.5   417391.0\n",
      "4               6.9     5946.0\n",
      "...             ...        ...\n",
      "7466            7.3     3779.0\n",
      "7467            7.5     3318.0\n",
      "7468            7.2     3346.0\n",
      "7469            6.9     3646.0\n",
      "7470            7.2     3577.0\n",
      "\n",
      "[7359 rows x 2 columns]\n"
     ]
    }
   ],
   "source": [
    "df_numVotes=df_movies2[['averageRating', 'numVotes']]\n",
    "print(df_numVotes)\n"
   ]
  },
  {
   "cell_type": "markdown",
   "metadata": {},
   "source": [
    "Estandarizar"
   ]
  },
  {
   "cell_type": "code",
   "execution_count": 1077,
   "metadata": {},
   "outputs": [
    {
     "name": "stdout",
     "output_type": "stream",
     "text": [
      "      averageRating   numVotes\n",
      "0          2.058393  1128166.0\n",
      "1         -1.269568      577.0\n",
      "2          1.891995   860569.0\n",
      "3          0.228014   417391.0\n",
      "4         -0.770374     5946.0\n",
      "...             ...        ...\n",
      "7466      -0.104782     3779.0\n",
      "7467       0.228014     3318.0\n",
      "7468      -0.271180     3346.0\n",
      "7469      -0.770374     3646.0\n",
      "7470      -0.271180     3577.0\n",
      "\n",
      "[7359 rows x 2 columns]\n"
     ]
    }
   ],
   "source": [
    "columnas = df_movies2[['averageRating', 'numVotes']]\n",
    "scaler = StandardScaler()\n",
    "normalized_columns = scaler.fit_transform(columnas)\n",
    "\n",
    "print(columnas)\n",
    "\n",
    "df_numVotes = normalized_columns"
   ]
  },
  {
   "cell_type": "markdown",
   "metadata": {},
   "source": [
    "Implementacion del algoritmo"
   ]
  },
  {
   "cell_type": "code",
   "execution_count": 1071,
   "metadata": {},
   "outputs": [
    {
     "name": "stdout",
     "output_type": "stream",
     "text": [
      "Numero de cluster creado: 16\n",
      "Puntos atipicos: 0\n"
     ]
    }
   ],
   "source": [
    "dbscan = DBSCAN(eps=0.5, min_samples=1)\n",
    "dbscan.fit(df_numVotes)\n",
    "\n",
    "labels = dbscan.labels_\n",
    "\n",
    "# Number of clusters in labels, ignoring noise if present.\n",
    "n_clusters_ = len(set(labels)) - (1 if -1 in labels else 0)\n",
    "n_noise_ = list(labels).count(-1)\n",
    "\n",
    "print(\"Numero de cluster creado: %d\" % n_clusters_)\n",
    "print(\"Puntos atipicos: %d\" % n_noise_)"
   ]
  },
  {
   "cell_type": "markdown",
   "metadata": {},
   "source": [
    "Coeficiente silueta"
   ]
  },
  {
   "cell_type": "code",
   "execution_count": 1069,
   "metadata": {},
   "outputs": [
    {
     "name": "stdout",
     "output_type": "stream",
     "text": [
      "0.5985388845828927\n"
     ]
    }
   ],
   "source": [
    "coeficienteSilueta = silhouette_score(df_numVotes, labels)\n",
    "print(coeficienteSilueta)\n"
   ]
  },
  {
   "cell_type": "code",
   "execution_count": 1076,
   "metadata": {},
   "outputs": [
    {
     "ename": "IndexError",
     "evalue": "only integers, slices (`:`), ellipsis (`...`), numpy.newaxis (`None`) and integer or boolean arrays are valid indices",
     "output_type": "error",
     "traceback": [
      "\u001b[1;31m---------------------------------------------------------------------------\u001b[0m",
      "\u001b[1;31mIndexError\u001b[0m                                Traceback (most recent call last)",
      "\u001b[1;32m<ipython-input-1076-d492394f92b6>\u001b[0m in \u001b[0;36m<module>\u001b[1;34m\u001b[0m\n\u001b[0;32m     15\u001b[0m \u001b[1;33m\u001b[0m\u001b[0m\n\u001b[0;32m     16\u001b[0m     \u001b[1;31m# Graficar los puntos de datos que son \"núcleo\"\u001b[0m\u001b[1;33m\u001b[0m\u001b[1;33m\u001b[0m\u001b[1;33m\u001b[0m\u001b[0m\n\u001b[1;32m---> 17\u001b[1;33m     plt.plot(xy['averageRating'], xy['types'], 'o', \n\u001b[0m\u001b[0;32m     18\u001b[0m              markerfacecolor=tuple(col), markeredgecolor='k', markersize=6)\n\u001b[0;32m     19\u001b[0m \u001b[1;33m\u001b[0m\u001b[0m\n",
      "\u001b[1;31mIndexError\u001b[0m: only integers, slices (`:`), ellipsis (`...`), numpy.newaxis (`None`) and integer or boolean arrays are valid indices"
     ]
    }
   ],
   "source": [
    "# Graficar los resultados\n",
    "unique_labels = set(labels)\n",
    "colors = [plt.cm.Spectral(each)\n",
    "          for each in np.linspace(0, 1, len(unique_labels))]\n",
    "\n",
    "for k, col in zip(unique_labels, colors):\n",
    "    if k == -1:\n",
    "        # Negro para valores atipicos.\n",
    "        col = [0, 0, 0, 1]\n",
    "\n",
    "    class_member_mask = (labels == k)\n",
    "\n",
    "    # Filtrar los puntos en df_moviesType_rating que pertenecen al cluster k\n",
    "    xy = df_numVotes[class_member_mask]\n",
    "\n",
    "    # Graficar los puntos de datos que son \"núcleo\"\n",
    "    plt.plot(xy['averageRating'], xy['numVotes'], 'o', \n",
    "             markerfacecolor=tuple(col), markeredgecolor='k', markersize=6)\n",
    "\n",
    "plt.title('Número estimado de clusters: %d' % len(unique_labels))\n",
    "plt.xlabel('averageRating')\n",
    "plt.ylabel('titleType')\n",
    "plt.show()\n"
   ]
  },
  {
   "cell_type": "markdown",
   "metadata": {},
   "source": [
    "Graficar"
   ]
  },
  {
   "cell_type": "markdown",
   "metadata": {},
   "source": [
    "### 6.1 Preparar los datos\n",
    "A nivel de preparación de datos debemos fijarnos en:\n",
    "- A. Correcciones relacionadas con problemas de calidad de dato: nulos, duplicados, inconsistencia, diferencia de formatos, etc.\n",
    "- B. Preparación relacionada con la tarea de aprendizaje\n",
    "    - Selección de columnas a incluir de acuerdo con la tarea de aprendizaje a realizar y el conocimiento del contexto del negocio\n",
    "    - ...\n",
    "- C. Preparación de acuerdo con el algoritmo a utilizar, en este caso K-means\n",
    "    Al revisar k-means vemos que el algoritmo trabaja únicamente con datos numéricos, y no nulos así que si vamos a incluir datos categóricos debemos transformarlos a numéricos y si tenemos datos nulos debemos transformalos y en el peor escenario retirarlos del modelo ya sea la fila que los incluye o toda la columna si el porcentaje de estos valores es alto."
   ]
  },
  {
   "cell_type": "markdown",
   "metadata": {},
   "source": [
    "### 7 Analizar y concluir"
   ]
  }
 ],
 "metadata": {
  "kernelspec": {
   "display_name": "base",
   "language": "python",
   "name": "python3"
  },
  "language_info": {
   "codemirror_mode": {
    "name": "ipython",
    "version": 3
   },
   "file_extension": ".py",
   "mimetype": "text/x-python",
   "name": "python",
   "nbconvert_exporter": "python",
   "pygments_lexer": "ipython3",
   "version": "3.8.5"
  },
  "orig_nbformat": 4
 },
 "nbformat": 4,
 "nbformat_minor": 2
}
