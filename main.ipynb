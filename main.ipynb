{
 "cells": [
  {
   "cell_type": "markdown",
   "metadata": {},
   "source": [
    "## 1. Carga de librerías necesarias para implementación"
   ]
  },
  {
   "cell_type": "code",
   "execution_count": 876,
   "metadata": {},
   "outputs": [
    {
     "name": "stdout",
     "output_type": "stream",
     "text": [
      "c:\\Users\\User\\Lab1\n"
     ]
    }
   ],
   "source": [
    "import sklearn\n",
    "import pandas as pd\n",
    "import numpy as np\n",
    "import matplotlib.pyplot as plt\n",
    "import seaborn as sns; sns.set()  # for plot styling\n",
    "from sklearn.preprocessing import LabelEncoder\n",
    "\n",
    "from sklearn.cluster import KMeans\n",
    "from sklearn.metrics import silhouette_samples, silhouette_score\n",
    "from sklearn.preprocessing import MinMaxScaler\n",
    "from sklearn.preprocessing import StandardScaler\n",
    "from sklearn.preprocessing import OneHotEncoder\n",
    "\n",
    "from matplotlib import cm\n",
    "from mpl_toolkits.mplot3d import Axes3D # for 3D plots\n",
    "from sklearn.decomposition import PCA\n",
    "\n",
    "from sklearn.datasets import make_moons\n",
    "import matplotlib.pyplot as plt\n",
    "import numpy as np\n",
    "from sklearn.cluster import DBSCAN\n",
    "from sklearn.preprocessing import StandardScaler\n",
    "import matplotlib.pyplot as plt\n",
    "import os\n",
    "import scipy.cluster.hierarchy as sch\n"
    "import fcluster\n"
    "print(os.getcwd()) # dice donde cree que es el repositorio donde esta trabajando para hacer el path relativo funcional"
   ]
  },
  {
   "cell_type": "markdown",
   "metadata": {},
   "source": [
    "## 2. Cargar los datos"
   ]
  },
  {
   "cell_type": "code",
   "execution_count": 877,
   "metadata": {},
   "outputs": [],
   "source": [
    "df_movies = pd.read_csv('data/MovieAlpes_data.csv', sep=';', encoding='utf-8')\n",
    "df_algoritmo2=pd.read_csv('data/MovieAlpes_data.csv', sep=';', encoding='utf-8')"
   ]
  },
  {
   "cell_type": "markdown",
   "metadata": {},
   "source": [
    "## 3. Entendimiento de los datos "
   ]
  },
  {
   "cell_type": "markdown",
   "metadata": {},
   "source": [
    "### 3.1. Perfilamiento de datos"
   ]
  },
  {
   "cell_type": "code",
   "execution_count": 878,
   "metadata": {},
   "outputs": [
    {
     "data": {
      "text/plain": [
       "(7471, 18)"
      ]
     },
     "execution_count": 878,
     "metadata": {},
     "output_type": "execute_result"
    }
   ],
   "source": [
    "df_movies.shape"
   ]
  },
  {
   "cell_type": "code",
   "execution_count": 879,
   "metadata": {},
   "outputs": [
    {
     "data": {
      "text/html": [
       "<div>\n",
       "<style scoped>\n",
       "    .dataframe tbody tr th:only-of-type {\n",
       "        vertical-align: middle;\n",
       "    }\n",
       "\n",
       "    .dataframe tbody tr th {\n",
       "        vertical-align: top;\n",
       "    }\n",
       "\n",
       "    .dataframe thead th {\n",
       "        text-align: right;\n",
       "    }\n",
       "</style>\n",
       "<table border=\"1\" class=\"dataframe\">\n",
       "  <thead>\n",
       "    <tr style=\"text-align: right;\">\n",
       "      <th></th>\n",
       "      <th>#</th>\n",
       "      <th>index</th>\n",
       "      <th>tconst</th>\n",
       "      <th>titleType</th>\n",
       "      <th>originalTitle</th>\n",
       "      <th>isAdult</th>\n",
       "      <th>startYear</th>\n",
       "      <th>runtimeMinutes</th>\n",
       "      <th>averageRating</th>\n",
       "      <th>numVotes</th>\n",
       "      <th>ordering</th>\n",
       "      <th>region</th>\n",
       "      <th>language</th>\n",
       "      <th>types</th>\n",
       "      <th>attributes</th>\n",
       "      <th>isOriginalTitle</th>\n",
       "      <th>main_genre</th>\n",
       "      <th>secondary_genre</th>\n",
       "    </tr>\n",
       "  </thead>\n",
       "  <tbody>\n",
       "    <tr>\n",
       "      <th>0</th>\n",
       "      <td>1</td>\n",
       "      <td>1</td>\n",
       "      <td>tt0103064</td>\n",
       "      <td>movie</td>\n",
       "      <td>Terminator 2: Judgment Day</td>\n",
       "      <td>0.0</td>\n",
       "      <td>1991.0</td>\n",
       "      <td>137</td>\n",
       "      <td>8.6</td>\n",
       "      <td>1128166.0</td>\n",
       "      <td>17.0</td>\n",
       "      <td>US</td>\n",
       "      <td>en</td>\n",
       "      <td>dvd</td>\n",
       "      <td>\\N</td>\n",
       "      <td>0.0</td>\n",
       "      <td>Action</td>\n",
       "      <td>Sci-Fi</td>\n",
       "    </tr>\n",
       "    <tr>\n",
       "      <th>1</th>\n",
       "      <td>10</td>\n",
       "      <td>17</td>\n",
       "      <td>tt0231050</td>\n",
       "      <td>tvSeries</td>\n",
       "      <td>ToransufÃ´mÃ¢: KÃ¢robotto</td>\n",
       "      <td>0.0</td>\n",
       "      <td>2000.0</td>\n",
       "      <td>22</td>\n",
       "      <td>6.6</td>\n",
       "      <td>577.0</td>\n",
       "      <td>16.0</td>\n",
       "      <td>US</td>\n",
       "      <td>en</td>\n",
       "      <td>alternative</td>\n",
       "      <td>\\N</td>\n",
       "      <td>0.0</td>\n",
       "      <td>Action</td>\n",
       "      <td>Adventure</td>\n",
       "    </tr>\n",
       "    <tr>\n",
       "      <th>2</th>\n",
       "      <td>13</td>\n",
       "      <td>23</td>\n",
       "      <td>tt0253474</td>\n",
       "      <td>movie</td>\n",
       "      <td>The Pianist</td>\n",
       "      <td>0.0</td>\n",
       "      <td>2002.0</td>\n",
       "      <td>150</td>\n",
       "      <td>8.5</td>\n",
       "      <td>860569.0</td>\n",
       "      <td>7.0</td>\n",
       "      <td>US</td>\n",
       "      <td>en</td>\n",
       "      <td>imdbDisplay</td>\n",
       "      <td>\\N</td>\n",
       "      <td>0.0</td>\n",
       "      <td>Biography</td>\n",
       "      <td>Drama</td>\n",
       "    </tr>\n",
       "    <tr>\n",
       "      <th>3</th>\n",
       "      <td>21</td>\n",
       "      <td>55</td>\n",
       "      <td>tt0369339</td>\n",
       "      <td>movie</td>\n",
       "      <td>Collateral</td>\n",
       "      <td>0.0</td>\n",
       "      <td>2004.0</td>\n",
       "      <td>120</td>\n",
       "      <td>7.5</td>\n",
       "      <td>417391.0</td>\n",
       "      <td>6.0</td>\n",
       "      <td>US</td>\n",
       "      <td>en</td>\n",
       "      <td>imdbDisplay</td>\n",
       "      <td>\\N</td>\n",
       "      <td>0.0</td>\n",
       "      <td>Action</td>\n",
       "      <td>Crime</td>\n",
       "    </tr>\n",
       "    <tr>\n",
       "      <th>4</th>\n",
       "      <td>28</td>\n",
       "      <td>87</td>\n",
       "      <td>tt0439547</td>\n",
       "      <td>movie</td>\n",
       "      <td>2 Filhos de Francisco: A HistÃ³ria de ZezÃ© di...</td>\n",
       "      <td>0.0</td>\n",
       "      <td>2005.0</td>\n",
       "      <td>132</td>\n",
       "      <td>6.9</td>\n",
       "      <td>5946.0</td>\n",
       "      <td>5.0</td>\n",
       "      <td>US</td>\n",
       "      <td>en</td>\n",
       "      <td>imdbDisplay</td>\n",
       "      <td>\\N</td>\n",
       "      <td>0.0</td>\n",
       "      <td>Biography</td>\n",
       "      <td>Drama</td>\n",
       "    </tr>\n",
       "  </tbody>\n",
       "</table>\n",
       "</div>"
      ],
      "text/plain": [
       "    #  index     tconst titleType  \\\n",
       "0   1      1  tt0103064     movie   \n",
       "1  10     17  tt0231050  tvSeries   \n",
       "2  13     23  tt0253474     movie   \n",
       "3  21     55  tt0369339     movie   \n",
       "4  28     87  tt0439547     movie   \n",
       "\n",
       "                                       originalTitle  isAdult  startYear  \\\n",
       "0                         Terminator 2: Judgment Day      0.0     1991.0   \n",
       "1                          ToransufÃ´mÃ¢: KÃ¢robotto      0.0     2000.0   \n",
       "2                                        The Pianist      0.0     2002.0   \n",
       "3                                         Collateral      0.0     2004.0   \n",
       "4  2 Filhos de Francisco: A HistÃ³ria de ZezÃ© di...      0.0     2005.0   \n",
       "\n",
       "  runtimeMinutes  averageRating   numVotes  ordering region language  \\\n",
       "0            137            8.6  1128166.0      17.0     US       en   \n",
       "1             22            6.6      577.0      16.0     US       en   \n",
       "2            150            8.5   860569.0       7.0     US       en   \n",
       "3            120            7.5   417391.0       6.0     US       en   \n",
       "4            132            6.9     5946.0       5.0     US       en   \n",
       "\n",
       "         types attributes  isOriginalTitle main_genre secondary_genre  \n",
       "0          dvd         \\N              0.0     Action          Sci-Fi  \n",
       "1  alternative         \\N              0.0     Action       Adventure  \n",
       "2  imdbDisplay         \\N              0.0  Biography           Drama  \n",
       "3  imdbDisplay         \\N              0.0     Action           Crime  \n",
       "4  imdbDisplay         \\N              0.0  Biography           Drama  "
      ]
     },
     "execution_count": 879,
     "metadata": {},
     "output_type": "execute_result"
    }
   ],
   "source": [
    "df_movies.head()"
   ]
  },
  {
   "cell_type": "code",
   "execution_count": 880,
   "metadata": {},
   "outputs": [
    {
     "name": "stdout",
     "output_type": "stream",
     "text": [
      "<class 'pandas.core.frame.DataFrame'>\n",
      "RangeIndex: 7471 entries, 0 to 7470\n",
      "Data columns (total 18 columns):\n",
      " #   Column           Non-Null Count  Dtype  \n",
      "---  ------           --------------  -----  \n",
      " 0   #                7471 non-null   int64  \n",
      " 1   index            7471 non-null   int64  \n",
      " 2   tconst           7471 non-null   object \n",
      " 3   titleType        7471 non-null   object \n",
      " 4   originalTitle    7471 non-null   object \n",
      " 5   isAdult          7470 non-null   float64\n",
      " 6   startYear        7470 non-null   float64\n",
      " 7   runtimeMinutes   7470 non-null   object \n",
      " 8   averageRating    7470 non-null   float64\n",
      " 9   numVotes         7470 non-null   float64\n",
      " 10  ordering         7470 non-null   float64\n",
      " 11  region           7470 non-null   object \n",
      " 12  language         7470 non-null   object \n",
      " 13  types            7470 non-null   object \n",
      " 14  attributes       7470 non-null   object \n",
      " 15  isOriginalTitle  7470 non-null   float64\n",
      " 16  main_genre       7470 non-null   object \n",
      " 17  secondary_genre  7470 non-null   object \n",
      "dtypes: float64(6), int64(2), object(10)\n",
      "memory usage: 1.0+ MB\n"
     ]
    }
   ],
   "source": [
    "# Revisar las características de los datos: completitud y tipo de dat\n",
    "df_movies.info()"
   ]
  },
  {
   "cell_type": "code",
   "execution_count": 881,
   "metadata": {},
   "outputs": [
    {
     "data": {
      "text/html": [
       "<div>\n",
       "<style scoped>\n",
       "    .dataframe tbody tr th:only-of-type {\n",
       "        vertical-align: middle;\n",
       "    }\n",
       "\n",
       "    .dataframe tbody tr th {\n",
       "        vertical-align: top;\n",
       "    }\n",
       "\n",
       "    .dataframe thead th {\n",
       "        text-align: right;\n",
       "    }\n",
       "</style>\n",
       "<table border=\"1\" class=\"dataframe\">\n",
       "  <thead>\n",
       "    <tr style=\"text-align: right;\">\n",
       "      <th></th>\n",
       "      <th>#</th>\n",
       "      <th>index</th>\n",
       "      <th>isAdult</th>\n",
       "      <th>startYear</th>\n",
       "      <th>averageRating</th>\n",
       "      <th>numVotes</th>\n",
       "      <th>ordering</th>\n",
       "      <th>isOriginalTitle</th>\n",
       "    </tr>\n",
       "  </thead>\n",
       "  <tbody>\n",
       "    <tr>\n",
       "      <th>count</th>\n",
       "      <td>7471.000000</td>\n",
       "      <td>7471.000000</td>\n",
       "      <td>7470.0</td>\n",
       "      <td>7470.000000</td>\n",
       "      <td>7470.000000</td>\n",
       "      <td>7.470000e+03</td>\n",
       "      <td>7470.000000</td>\n",
       "      <td>7470.0</td>\n",
       "    </tr>\n",
       "    <tr>\n",
       "      <th>mean</th>\n",
       "      <td>4043.482666</td>\n",
       "      <td>5440.458439</td>\n",
       "      <td>0.0</td>\n",
       "      <td>2013.157296</td>\n",
       "      <td>7.475676</td>\n",
       "      <td>7.282830e+04</td>\n",
       "      <td>16.567604</td>\n",
       "      <td>0.0</td>\n",
       "    </tr>\n",
       "    <tr>\n",
       "      <th>std</th>\n",
       "      <td>2192.753689</td>\n",
       "      <td>2752.820924</td>\n",
       "      <td>0.0</td>\n",
       "      <td>6.979151</td>\n",
       "      <td>2.771444</td>\n",
       "      <td>1.640233e+05</td>\n",
       "      <td>12.761147</td>\n",
       "      <td>0.0</td>\n",
       "    </tr>\n",
       "    <tr>\n",
       "      <th>min</th>\n",
       "      <td>1.000000</td>\n",
       "      <td>1.000000</td>\n",
       "      <td>0.0</td>\n",
       "      <td>1990.000000</td>\n",
       "      <td>6.500000</td>\n",
       "      <td>1.000000e+01</td>\n",
       "      <td>1.000000</td>\n",
       "      <td>0.0</td>\n",
       "    </tr>\n",
       "    <tr>\n",
       "      <th>25%</th>\n",
       "      <td>2152.500000</td>\n",
       "      <td>3073.500000</td>\n",
       "      <td>0.0</td>\n",
       "      <td>2008.000000</td>\n",
       "      <td>6.900000</td>\n",
       "      <td>6.265250e+03</td>\n",
       "      <td>6.000000</td>\n",
       "      <td>0.0</td>\n",
       "    </tr>\n",
       "    <tr>\n",
       "      <th>50%</th>\n",
       "      <td>4033.000000</td>\n",
       "      <td>5421.000000</td>\n",
       "      <td>0.0</td>\n",
       "      <td>2015.000000</td>\n",
       "      <td>7.300000</td>\n",
       "      <td>1.527900e+04</td>\n",
       "      <td>14.000000</td>\n",
       "      <td>0.0</td>\n",
       "    </tr>\n",
       "    <tr>\n",
       "      <th>75%</th>\n",
       "      <td>5914.500000</td>\n",
       "      <td>7641.500000</td>\n",
       "      <td>0.0</td>\n",
       "      <td>2019.000000</td>\n",
       "      <td>7.800000</td>\n",
       "      <td>5.641975e+04</td>\n",
       "      <td>24.000000</td>\n",
       "      <td>0.0</td>\n",
       "    </tr>\n",
       "    <tr>\n",
       "      <th>max</th>\n",
       "      <td>7849.000000</td>\n",
       "      <td>10274.000000</td>\n",
       "      <td>0.0</td>\n",
       "      <td>2023.000000</td>\n",
       "      <td>92.000000</td>\n",
       "      <td>2.197234e+06</td>\n",
       "      <td>119.000000</td>\n",
       "      <td>0.0</td>\n",
       "    </tr>\n",
       "  </tbody>\n",
       "</table>\n",
       "</div>"
      ],
      "text/plain": [
       "                 #         index  isAdult    startYear  averageRating  \\\n",
       "count  7471.000000   7471.000000   7470.0  7470.000000    7470.000000   \n",
       "mean   4043.482666   5440.458439      0.0  2013.157296       7.475676   \n",
       "std    2192.753689   2752.820924      0.0     6.979151       2.771444   \n",
       "min       1.000000      1.000000      0.0  1990.000000       6.500000   \n",
       "25%    2152.500000   3073.500000      0.0  2008.000000       6.900000   \n",
       "50%    4033.000000   5421.000000      0.0  2015.000000       7.300000   \n",
       "75%    5914.500000   7641.500000      0.0  2019.000000       7.800000   \n",
       "max    7849.000000  10274.000000      0.0  2023.000000      92.000000   \n",
       "\n",
       "           numVotes     ordering  isOriginalTitle  \n",
       "count  7.470000e+03  7470.000000           7470.0  \n",
       "mean   7.282830e+04    16.567604              0.0  \n",
       "std    1.640233e+05    12.761147              0.0  \n",
       "min    1.000000e+01     1.000000              0.0  \n",
       "25%    6.265250e+03     6.000000              0.0  \n",
       "50%    1.527900e+04    14.000000              0.0  \n",
       "75%    5.641975e+04    24.000000              0.0  \n",
       "max    2.197234e+06   119.000000              0.0  "
      ]
     },
     "execution_count": 881,
     "metadata": {},
     "output_type": "execute_result"
    }
   ],
   "source": [
    "# Resumen de los estadisticos de las variables numéricas\n",
    "df_movies.describe()"
   ]
  },
  {
   "cell_type": "code",
   "execution_count": 882,
   "metadata": {},
   "outputs": [
    {
     "data": {
      "image/png": "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",
      "text/plain": [
       "<Figure size 1440x576 with 1 Axes>"
      ]
     },
     "metadata": {},
     "output_type": "display_data"
    }
   ],
   "source": [
    "#Visualización de todas las variables numéricas\n",
    "fig=plt.figure(figsize=(20,8))\n",
    "ax = sns.boxplot(data=df_movies, orient=\"v\")"
   ]
  },
  {
   "cell_type": "code",
   "execution_count": 883,
   "metadata": {},
   "outputs": [
    {
     "name": "stdout",
     "output_type": "stream",
     "text": [
      "Columnas con tipo de dato 'float': Index(['isAdult', 'startYear', 'averageRating', 'numVotes', 'ordering',\n",
      "       'isOriginalTitle'],\n",
      "      dtype='object')\n",
      "Columnas con tipo de dato 'int64': Index(['#', 'index'], dtype='object')\n"
     ]
    }
   ],
   "source": [
    "#Separación de las variables float de las int\n",
    "name_cols_float = df_movies.select_dtypes(include = ['float']).columns\n",
    "print(\"Columnas con tipo de dato 'float':\", name_cols_float)\n",
    "\n",
    "name_cols_int = df_movies.select_dtypes(include = ['int64']).columns\n",
    "print(\"Columnas con tipo de dato 'int64':\", name_cols_int)\n"
   ]
  },
  {
   "cell_type": "code",
   "execution_count": 884,
   "metadata": {},
   "outputs": [
    {
     "data": {
      "image/png": "iVBORw0KGgoAAAANSUhEUgAABIMAAAHfCAYAAADDfxjcAAAAOXRFWHRTb2Z0d2FyZQBNYXRwbG90bGliIHZlcnNpb24zLjMuMiwgaHR0cHM6Ly9tYXRwbG90bGliLm9yZy8vihELAAAACXBIWXMAAAsTAAALEwEAmpwYAAA3GklEQVR4nO3de5xVZaE38N+eGQETbRBB8pJdPJpHs8hURMBrXsEx4HhNLcvO6eOlfE+UKamRmqmnegszrfd4rLCjnwBHy7uIQmNipiaGacejJSYgMioI0sze7x8c5jjIVQf2Ztb3+48+s9be85thzZ61f/Os9ZQqlUolAAAAABRCXbUDAAAAALDhKIMAAAAACkQZBAAAAFAgyiAAAACAAlEGAQAAABSIMggAAACgQGqmDFq4cGGGDx+e559/frX7PfPMMznppJNy1FFH5bOf/WxeeeWVDZQQAAAAYONXE2XQY489luOPPz7PPvvsaverVCr5whe+kNNOOy0333xzdtlll1xzzTUbJiQAAABAN9BQ7QBJcuONN+aCCy7IV77ylY6P3XTTTbnuuutSLpez66675oILLsjTTz+dd73rXRk2bFiS5F/+5V/y6quvVis2AAAAwEanVKlUKtUOsdyBBx6Yn/70p1m8eHEuuOCCXHvttenZs2f+7d/+LZtuumne9773ZfLkyenXr19mzZqVD3zgA/n617+exsbGakcHAAAA2CjUxGViK3rwwQfz3HPP5ZhjjklTU1PuueeePPPMM2lra8uMGTNy/PHHZ/Lkydl+++1z6aWXVjsuAAAAwEajJi4TW1F7e3sOP/zwjB07NkmyaNGitLe354knnsgOO+yQD3/4w0mS4cOH56yzzqpmVAAAAICNSk3ODNp7771z1113Zf78+alUKrnwwgtz3XXXZeDAgXn55Zfz5JNPJkmmTJmSXXfdtcppAQAAADYeNTkz6EMf+lDOOOOMnHLKKSmXy9lll13y+c9/Pj179syVV16ZsWPHZvHixRkwYEAuu+yyascFAAAA2GjU1A2kAQAAAFi/avIyMQAAAADWD2UQAAAAQIHUxD2DFixYlHLZ1WoAAAAA71RdXSl9+my2yu01UQaVyxVlEAAAAMAG4DIxAAAAgAJRBgEAAAAUiDIIAAAAoECUQQAAAAAFogwCAAAAKBBlEAAAAECBKIMAAAAACkQZBAAAAFAgyiAAAACAAlEGAQAAABSIMggAAACgQJRBAAAAAAWiDAIAAAAoEGUQAAA1qbV1QS655MK0trZWOwoAdCvKIAAAalJz88Q89dSTaW6eWO0oANCtKIMAAKg5ra0LMm3a1FQqlUybNtXsIADoQsogAABqTnPzxFQqlSRJpVI2OwgAupAyCACAmtPSMj1tbW1Jkra2trS0TKtyIgDoPpRBAADUnMGDh6RUKiVJSqVSBg8eWuVEANB9KIMAAKg5++9/8JsuE6vkgAMOrnIiAOg+lEEAANScqVPv7jQz6N57765yIgDoPpRBAADUnJaW6Z1mBrlnEAB0HWUQAAA1Z/DgIamvr0+S1NfXu2cQAHQhZRAAADWnqWlUp5lBTU2jqpwIALoPZRAAADXpf8ugKgcBgG5GGQQAQM1pbp6Yurplp6p1daU0N0+sciIA6D6UQQAA1JyWlulpb29PkrS3t7uBNAB0IWUQAAA1Z/DgIWloaEiSNDQ0uIE0AHQhZRAAADWnqWlUSqVSkqRUqnMDaQDoQsogAABqTmNjnwwdun9KpVKGDt0/jY2N1Y4EAN1GQ7UDAADAyjQ1jcrs2c+bFQQAXaxUqVR/sc758xemXK56DAAAAICNXl1dKX379l719g2YBQAAAIAqUwYBAAAAFIgyCAAAAKBAlEEAAAAABaIMAgAAACgQZRAAAABAgSiDAAAAAApEGQQAAABQIMogAAAAgAJRBgEAAAAUiDIIAAAAoECUQQAAAAAFogwCAAAAKBBlEAAAAECBKIMAAAAACkQZBAAAAFAgyiAAAACAAlmrMmj8+PE58sgjc+SRR+ayyy57y/ZZs2Zl5MiROfTQQ3Peeeelra2ty4MCAAAA8M6tsQxqaWnJ9OnTM3ny5Nx000154oknctddd3XaZ8yYMTn//PNzxx13pFKp5MYbb1xvgQEAKIbW1gW55JIL09raWu0oANCtrLEM6tevX84555z06NEjm2yyST74wQ/mhRde6Ng+e/bsLFmyJB/96EeTJCNHjsztt9++3gIDAFAMzc0T89RTT6a5eWK1owBAt7LGMugf/uEfOoqeZ599Nrfddlv222+/ju1z585Nv379Osb9+vXLnDlzuj4pAACF0dq6INOmTU2lUsm0aVPNDgKALtSwtjs+/fTT+ed//ud85Stfyfve976Oj5fL5ZRKpY5xpVLpNF4bffv2Xqf9AQDo3m644bpUKpUkSaVSzp133pzTTz+9yqkAoHtYqzLo4YcfzllnnZVzzz03Rx55ZKdtAwYMyLx58zrGL730Uvr3779OIebPX5hyubJOjwEAoPuaMuXejkVJ2tracs89U3LMMSdXORUAbBzq6kqrnXizxsvE/va3v+X000/PFVdc8ZYiKEm23Xbb9OzZMw8//HCSpLm5OcOGDXsHkQEAKLrBg4ekvr4+SVJfX5/Bg4dWOREAdB9rnBn0//7f/8sbb7yRSy+9tONjxx13XKZMmZKzzjorH/7wh3PFFVdk7NixWbhwYXbdddecfLK/2gAA8PY1NY3K1Kn3JFl2G4KmplFVTgQA3Uepsvxi7CpymRgAAG/W2rogX/rSF/7nfpR1+d73rkpjY2O1YwHARuEdXyYGAAAbWnPzxNTVLTtVrasrWV4eALqQMggAgJrT0jI97e3tSZL29va0tEyrciIA6D6UQQAA1JzBg4ekoWHZ7S0bGhrcQBoAupAyCACAmtPUNCqlUilJUirVuYE0AHQhZRAAADWnsbFP9tprnyTJXnvt4+bRANCFlEEAAAAABaIMAgCg5rS2LsiMGQ8kSWbMeCCtra3VDQQA3YgyCACAmtPcPDGVSiVJUqmULS0PAF1IGQQAQM1paZmetra2JElbW5ul5QGgCymDAACoOZaWB4D1RxkEAEDN6byUfMnS8gDQhZRBAADUnMbGPunff0CSZOutt7a0PAB0IWUQAAA1p7V1QebNm5MkmTt3jtXEAKALKYMAAKg5nVcTq1hNDAC6kDIIAICaYzUxAFh/lEEAANQcq4kBwPqjDAIAoOY0NY1KqVRKkpRKdVYTA4AupAwCAKDmNDb2ydCh+6dUKmXo0P2tJgYAXaih2gEAAGBlmppGZfbs580KAoAuVqosX6ahiubPX5hyueoxAAAAADZ6dXWl9O3be9XbN2AWAAAAAKpMGQQAAABQIMogAAAAgAJRBgEAAAAUiDIIAAAAoECUQQAAAAAFogwCAAAAKBBlEAAAAECBKIMAAAAACkQZBAAAAFAgyiAAAACAAlEGAQAAABSIMggAAACgQJRBAAAAAAWiDAIAAAAoEGUQAAAAQIEogwAAqEmtrQtyySUXprW1tdpRAKBbUQYBAFCTmpsn5qmnnkxz88RqRwGAbkUZBABAzWltXZBp06amUqlk2rSpZgcBQBdSBgEAUHOamyemUqkkSSqVstlBANCFlEEAANSclpbpaWtrS5K0tbWlpWValRMBQPehDAIAoOYMHjwkDQ0NSZKGhoYMHjy0yokAoPtQBgEAUHOamkalVColSUqlujQ1japyIgDoPpRBAADUnMbGPtlrr32SJHvttU8aGxurGwgAuhFlEAAAAECBKIMAAKg5ra0LMmPGA0mSGTMesLQ8AHQhZRAAADXH0vIAsP4ogwAAqDmWlgeA9UcZBABAzbG0PACsP8ogAABqjqXlAWD9UQYBAFBzGhv7ZOjQ/VMqlTJ06P6WlgeALtRQ7QAAALAyTU2jMnv282YFAUAXK1WWL9NQRfPnL0y5XPUYAAAAABu9urpS+vbtvertGzALAAAAAFWmDAIAAAAoEGUQAAAAQIEogwAAAAAKRBkEAAAAUCDKIAAAAIACUQYBAAAAFIgyCAAAAKBAlEEAANSk1tYFueSSC9Pa2lrtKADQrSiDAACoSc3NE/PUU0+muXlitaMAQLeiDAIAoOa0ti7ItGlTU6lUMm3aVLODAKALKYMAAKg5zc0TU6lUkiSVStnsIADoQsogAABqTkvL9LS1tSVJ2tra0tIyrcqJAKD7UAYBAFBzBg8ekoaGhiRJQ0NDBg8eWuVEANB9KIMAAKg5TU2jUiqVkiSlUl2amkZVOREAdB/KIAAAak5jY58MHbp/SqVShg7dP42NjdWOBADdRkO1AwAAwMo0NY3K7NnPmxUEAF2sVFm+TEMVzZ+/MOVy1WMAAAAAbPTq6krp27f3qrdvwCwAAAAAVJkyCAAAAKBAlEEAAAAABaIMAgAAACgQZRAAAABAgSiDAAAAAApEGQQAAABQIMogAAAAgAJRBgEAUJNaWxfkkksuTGtra7WjAEC3ogwCAKAmNTdPzFNPPZnm5onVjgIA3cpalUELFy7M8OHD8/zzz79l2/jx43PAAQekqakpTU1NmTBhQpeHBACgWFpbF2TatKmpVCqZNu1es4MAoAs1rGmHxx57LGPHjs2zzz670u0zZ87Md77znQwcOLCrswEAUFDNzRPT1taWJGlra0tz88Sccspnq5wKALqHNc4MuvHGG3PBBRekf//+K90+c+bMXH311RkxYkTGjRuXN954o8tDAgBQLC0t01KpVJIklUolLS33VzkRAHQfayyDLr744nz84x9f6bZFixZll112yZgxYzJ58uS8+uqr+eEPf9jlIQEAKJYtt9yq07hv361WsScAsK7WeJnY6my22Wb58Y9/3DE+9dRTc+655+bss89ep+fp27f3O4kBAEA3s2DB/E7jl1+en379Nq9SGgDoXt5RGfTCCy+kpaUlo0ePTrJsCm9Dw7o/5fz5C1MuV95JFAAAupF99hmSKVPuetN4aObNe62KiQBg41FXV1rtxJt3tLR8r169cvnll+evf/1rKpVKJkyYkE984hPv5CkBACBNTaNSKpWSJKVSKU1No6qcCAC6j7dVBp122ml5/PHHs+WWW2bcuHH5whe+kMMOOyyVSiWf+cxnujojAAAF9OYyCADoOqXK8mUaqshlYgAAvNl11/0k9903Je3t7amvr89++x1kaXkAWEvr9TIxAABYH1papqe9vT1J0t7enpaWaVVOBADdhzIIAICaM3jwkI6FSRoaGjJ48NAqJwKA7kMZBABAzel8A+k6N5AGgC6kDAIAoOY0NvbJXnvtkyTZa6990tjYWN1AANCNKIMAAAAACkQZBABAzWltXZAZMx5IksyY8UBaW1urGwgAuhFlEAAANae5eWIqlUqSpFIpp7l5YpUTAUD3oQwCAKDmtLRMT1tbW5Kkra3N0vIA0IWUQQAA1BxLywPA+qMMAgCg5lhaHgDWH2UQAAA1x9LyALD+KIMAAAAACkQZBABAzbG0PACsP8ogAABqjqXlAWD9UQYBAFBzLC0PAOuPMggAgJozePCQ1NfXJ0nq6+stLQ8AXUgZBABAzWlqGpVyuZwkKZcrlpYHgC6kDAIAoCaVSqX/+W+VgwBAN6MMAgCg5jQ3T3xTGVRyA2kA6ELKIAAAak5Ly/S0t7cnSdrb291AGgC6kDIIAICas8cee64w3qtKSQCg+1EGAQBQc5YufWOF8dIqJQGA7kcZBABAzfn973+3wnhGlZIAQPejDAIAAAAoEGUQAAA1Z9CgfVcYD6lSEgDofpRBAADUnGOOOeFNS8vX5ZhjTqhyIgDoPpRBAADUnMbGPhk8eGiSZPDgoWlsbKxuIADoRhqqHQAAAFbmmGNOyEsvzTMrCAC6WKlSqVSqHWL+/IUpl6seAwAAAGCjV1dXSt++vVe9fQNmAQAAAKDKlEEAAAAABaIMAgAAACgQZRAAADWptXVBLrnkwrS2tlY7CgB0K8ogAABqUnPzxDz11JNpbp5Y7SgA0K0ogwAAqDmtrQsybdrUVCqVTJs21ewgAOhCyiAAAGpOc/PElMvlJEm53G52EAB0IWUQAAA1p6Vletrb25Mk7e3taWmZVuVEANB9KIMAAKg5e+yx5wrjvaqUBAC6H2UQAAAAQIEogwAAqDkPP/zQCuMZVUoCAN2PMggAgJozePCQ1NfXJ0nq6+szePDQKicCgO5DGQQAQM1pahqVSqWSJKlUKmlqGlXlRADQfSiDAACoSf9bBlU5CAB0M8ogAABqTnPzxNTVLTtVrasrpbl5YpUTAUD3oQwCAKDmtLRMT3t7e5Kkvb09LS3TqpwIALoPZRAAADXHDaQBYP1RBgEAUHPcQBoA1h9lEAAANckNpAFg/VAGAQBQc9xAGgDWH2UQAAA1xw2kAWD9UQYBAFBzBg8eklKplCQplUpuIA0AXUgZBABAzdl//4M73UD6gAMOrnIiAOg+lEEAANScqVPv7jS+9967V7EnALCulEEAANSclpbpK4zdMwgAuooyCACAmrPHHnuuMN6rSkkAoPtRBgEAAAAUiDIIAICa89BDv11h/ECVkgBA96MMAgCg5rS3t692DAC8fcogAABqjjIIANYfZRAAAABAgSiDAACoOVtu2bfTuG/fraqUBAC6H2UQAAA1Z9GiRZ3GCxcurFISAOh+lEEAANScffcdusJ4WJWSAED3owwCAKDmNDWNSkNDQ5KkoWGTNDWNqnIiAOg+lEEAANScxsY+GTbsgJRKpQwbdkAaGxurHQkAug1lEAAANWn//Q9Or169csABB1c7CgB0K8ogAABq0tSpd2fJkiW59967qx0FALoVZRAAADWntXVB7r//3lQqldx//71pbW2tdiQA6DaUQQAA1Jzm5olpa2tLkrS1/T3NzROrnAgAug9lEAAANec3v5m2wvj+KiUBgO5HGQQAQM3p06fPCuMtq5QEALofZRAAADVn3ry5K4znVCkJAHQ/yiAAAACAAlEGAQBQc7baqn+ncb9+/VexJwCwrpRBAADUnNbWlzuNFyx4eRV7AgDrShkEAEDN6du3X6fxVlv1W8WeAMC6UgYBAFBzVryB9Ny5c1exJwCwrpRBAADUnIaGhtWOAYC3TxkEAEDNWbz49dWOAYC3TxkEAAAAUCDKIAAAAIACWasyaOHChRk+fHief/75t2ybNWtWRo4cmUMPPTTnnXde2traujwkAAAAAF1jjWXQY489luOPPz7PPvvsSrePGTMm559/fu64445UKpXceOONXZ0RAAAAgC6yxjLoxhtvzAUXXJD+/fu/Zdvs2bOzZMmSfPSjH02SjBw5MrfffnuXhwQAAACga6xxjc6LL754ldvmzp2bfv36dYz79euXOXPmdE0yAAAKa+ut35M5c/7WMR4w4D1VTAMA3csay6DVKZfLKZVKHeNKpdJpvLb69u39TmIAANDNjB17bs4888w3jc9Lv36bVzERAHQf76gMGjBgQObNm9cxfumll1Z6OdmazJ+/MOVy5Z1EAQCgG9lii/4ds4MGDHhPNt+8X+bNe63asQBgo1BXV1rtxJt3tLT8tttum549e+bhhx9OkjQ3N2fYsGHv5CkBACBJcvrpX8qmm26a008/u9pRAKBbeVtl0GmnnZbHH388SXLFFVfkW9/6Vg477LC8/vrrOfnkk7s0IAAAxbTDDu/Lj370H3nve3eodhQA6FZKlUql6tdnuUwMAIAVzZz5h1xxxSUZM2Zsdt11t2rHAYCNxnq9TAwAANaX8eO/k0qlkh/84IpqRwGAbkUZBABAzZk58w9ZvHhxkmTx4sV54omZVU4EAN2HMggAgJozfvx3Oo3NDgKArqMMAgCg5iyfFbSqMQDw9imDAAAAAApEGQQAQM3p27fvCuOtqpQEALofZRAAADVn4cJFK4wXVikJAHQ/yiAAAGrOvvsOXWE8rEpJAKD7UQYBAFBz9t//4E7jAw44eBV7AgDrShkEAEDNmTr17k7je++9exV7AgDrShkEAEDNaWmZtsL4/iolAYDuRxkEAEDN2XLLzquHWU0MALqOMggAgJrz0kvzOo3nzZu3ij0BgHWlDAIAoOZsueWWK4z7VikJAHQ/yiAAAGrO3LlzVhi/WKUkAND9KIMAAKg55XJ5tWMA4O1TBgEAAAAUiDIIAAAAoECUQQAAAAAFogwCAAAAKBBlEAAAAECBKIMAAAAACkQZBAAAAFAgyiAAAACAAlEGAQAAABSIMggAAACgQJRBAADUnLq6utWOAYC3z29VAABqTrlcXu0YAHj7lEEAAAAABaIMAgAAACgQZRAAAABAgSiDAAAAAApEGQQAAABQIMogAAAAgAJRBgEAAAAUiDIIAAAAoECUQQAAAAAFogwCAKDmlEp1qx0DAG+f36oAANScrbfeeoXxgColAYDuRxkEAEDNmT//pRXG86qUBAC6H2UQAAA1p1yudBpXKpVV7AkArCtlEAAANae9va3TuK2tbRV7AgDrShkEAAAAUCDKIAAAAIACUQYBAAAAFIgyCAAAAKBAlEEAAAAABaIMAgAAACgQZRAAAABAgSiDAAAAAApEGQQAAABQIMogAAAAgAJRBgEAAAAUiDIIAAAAoECUQQAAAAAFogwCAAAAKBBlEAAAAECBKIMAAAAACkQZBAAAAFAgyiAAAACAAlEGAQAAABSIMggAAACgQJRBAAAAAAWiDAIAAAAoEGUQAAAAQIEogwAAAAAKRBkEAAAAUCDKIAAAAIACUQYBAAAAFIgyCAAAAKBAlEEAAAAABaIMAgAAACgQZRAAAABAgSiDAAAAAApEGQQAAABQIMogAAAAgAJRBgEAAAAUiDIIAAAAoECUQQAAAAAFogwCAAAAKBBlEAAAAECBrFUZdMstt+SII47IIYcckgkTJrxl+/jx43PAAQekqakpTU1NK90HAAAAgOprWNMOc+bMyXe/+91MmjQpPXr0yHHHHZe99947O+64Y8c+M2fOzHe+850MHDhwvYYFAAAA4J1Z48yglpaWDBo0KI2NjXnXu96VQw89NLfffnunfWbOnJmrr746I0aMyLhx4/LGG2+st8AAAAAAvH1rLIPmzp2bfv36dYz79++fOXPmdIwXLVqUXXbZJWPGjMnkyZPz6quv5oc//OH6SQsAAADAO7LGy8TK5XJKpVLHuFKpdBpvttlm+fGPf9wxPvXUU3Puuefm7LPPXusQffv2Xut9AQAopn79Nq92BADoFtZYBg0YMCC/+93vOsbz5s1L//79O8YvvPBCWlpaMnr06CTLyqKGhjU+bSfz5y9MuVxZp8cAAFAs8+a9Vu0IALBRqKsrrXbizRovExs8eHAeeOCBvPzyy1m8eHHuvPPODBs2rGN7r169cvnll+evf/1rKpVKJkyYkE984hNdkx4AAACALrXGMmjrrbfO2WefnZNPPjlHH310hg8fnt133z2nnXZaHn/88Wy55ZYZN25cvvCFL+Swww5LpVLJZz7zmQ2RHQAAAIB1VKpUKlW/PstlYgAAvNkppxz7lo9dd90NVUgCABufd3yZGAAAAADdhzIIAAAAoECUQQAAAAAFogwCAAAAKBBlEAAAAECBKIMAAAAACkQZBAAAAFAgyiAAAACAAlEGAQAAABSIMggAAACgQJRBAAAAAAWiDAIAAAAoEGUQAAAAQIEogwAAAAAKRBkEAAAAUCDKIAAAAIACUQYBAAAAFIgyCAAAAKBAlEEAAAAABaIMAgAAACgQZRAAAABAgSiDAAAAAApEGQQAAABQIMogAAAAgAJRBgEAAAAUiDIIAAAAoECUQQAAAAAFogwCAAAAKBBlEAAAAECBKIMAAAAACkQZBAAAAFAgyiAAAACAAlEGAQAAABSIMggAAACgQJRBAAAAAAWiDAIAAAAoEGUQAAAAQIEogwAAAAAKRBkEAAAAUCDKIAAAAIACUQYBAAAAFIgyCAAAAKBAlEEAAAAABaIMAgAAACgQZRAAAABAgSiDAAAAAApEGQQAAABQIMogAAAAgAJRBgEAAAAUiDIIAAAAoECUQQAAAAAFogwCAAAAKBBlEAAAAECBKIMAAAAACkQZBAAAAFAgyiAAAACAAlEGAQAAABSIMggAAACgQJRBAAAAAAWiDAIAAAAokFKlUqlUO8T8+QtTLlc9BgBAYU2ffl+mTZta5RT/68kn//iWj33oQ/9YhSRvNXTo/hkyZL9qxwCAVaqrK6Vv396r3r4BswAAAABQZWYGAQBQc0455di3fOy6626oQhIA2PiYGQQAwEZnp5126TT+0Id2rVISAOh+zAwCAKAmvXl2kFlBALD2zAwCAGCj1LNnryRmBQFAV2uodgAAAFiZ97//A0mSr33t/ConAYDuxcwgAAAAgAJRBgEAAAAUiDIIAAAAoECUQQAAAAAFogwCAAAAKBBlEAAAAECBlCqVSqXaIebPX5hyueoxAAA2iAkT/iN/+ctz1Y5R85577tkkyQ47vK+qOTYG733vDjnxxE9XOwYANaKurpS+fXuvcnvDBswCAECSv/zluTzzp1nZqt6p2Or0LJeTJK/++ekqJ6ltL7W3VTsCABsZZyAAAFWwVX1DRjZuWe0YdAOTWl+udgQANjLuGQQAAABQIMogAAAAgAJRBgEAAAAUiDIIAAAAoEDcQBrodj7zmeNTLpdTV1efa6+9vtpxYL047bSTsnTp0vTo0TM//vFPqx0HgLfplFOO7fj/6667oYpJgCJZqzLolltuyVVXXZW2traccsopOfHEEzttnzVrVs4777wsWrQoH//4x/ONb3wjDQ16JqA6yv+zFHG53F7lJLD+LF269H/++0aVk/B2vPJKa+a3tVkFii7xUltbKq+0VjsGABuRUqVSqaxuhzlz5uT444/PpEmT0qNHjxx33HH5zne+kx133LFjn+HDh+eiiy7KRz/60Zx77rnZbbfdcsIJJ6x1iPnzF6ZcXm0MgLWyfFbQcmYH0R0tnxW0nNlBG59zzjk7L/7thWySUrWj1LT2LDs/rPd9Wq2/p5IB79kml1763WpHYR29eVbQcmYHAV2hrq6Uvn17r3L7GqfvtLS0ZNCgQWlsbEySHHroobn99ttzxhlnJElmz56dJUuW5KMf/WiSZOTIkfn+97+/TmVQV5g+/b78/Of/sUE/55osXfpG2tvNTFgb9fX16dGjZ7VjdPKpT306Q4bsV+0YnTjO11253L7SE61qcJyvHcf5ulu69A3H+WrU4nH+4Q9/JO9+d2O1Y3TyyiutaW1trXaMTtreWJIkqe/Zq8pJOmtsbKy5f7/3vneHakd4C6/nb4/X81Wrxddzx/nGrcjH+RrLoLlz56Zfv34d4/79++cPf/jDKrf369cvc+bMWacQq2ur1tYWW2yaurra+qtRqVRbeWpZqVSquX+/LbbYNP36bV7tGJ04zjdujvO14zjfuDnO186XvnRmtSO8xT333JM777yz2jE6WbBgQZKkT58+VU7S2SGHHJKDDjqo2jFqntfzjZvX87XjON+4Ffk4X2MZVC6XOx1MlUql03hN29dGV1wmtvvue+WHP9zrHT0HrGjevNeqHaETx/mamW697hznGx/H+bqrteO8Fu2++17ZfXc/e2vLMbVmXs/XzOv5uqu1nz3HOetDVxzna7pMbI1Lyw8YMCDz5s17U6h56d+//yq3v/TSS522A2xIdXV1K4zrq5QE1p8ePXqsMK6t6c0AANS2NZZBgwcPzgMPPJCXX345ixcvzp133plhw4Z1bN92223Ts2fPPPzww0mS5ubmTtsBNqRrr/3FCmM3j6b7+fGPf7bC2M2jATZGK84CMisI2FDWWAZtvfXWOfvss3PyySfn6KOPzvDhw7P77rvntNNOy+OPP54kueKKK/Ktb30rhx12WF5//fWcfPLJ6z04wKosnx1kVhDd2fLZQWYFAQCwrta4tPyGYGl5AAAAgK7xju8ZBAAAAED3oQwCAAAAKBBlEAAAAECBKIMAAAAACkQZBAAAAFAgyiAAAACAAlEGAQAAABSIMggAAACgQJRBAAAAAAWiDAIAAAAoEGUQAAAAQIEogwAAAAAKRBkEAAAAUCAN1Q6QJHV1pWpHAAAAAOgW1tSzlCqVSmUDZQEAAACgylwmBgAAAFAgyiAAAACAAlEGAQAAABSIMggAAACgQJRBAAAAAAWiDAIAAAAoEGUQAAAAQIEogwAAAAAKRBkEAAAAUCDKIAAAAIACUQZthB5//PGcd955q91nypQp2XnnnTNz5sxV7jNp0qScc845q32ek046KQ8++GBee+21nH766W8rL6yr73//+/nd7373th7z/PPPZ88998ysWbM6tlUqlRx//PH5+c9/3tVRoaY8+OCDGThwYJqamtLU1JQRI0bkwAMPzC9+8YvVPu7Nr/Fz5szJaaedtiHiwkq1tLTksMMOe8vHx48fn29961urfNzb+d0BG9Ly8+q1dc899+T//t//ux4TUTRreh/50ksv5ctf/nIOPvjgjBgxIp/97Gfzxz/+caX7rs35wi9+8Ys1noOsyvKfl2984xtpamrKEUcckd12263jHGfixIk57bTTMmfOnPz1r3/Nueeem2TZudBJJ530tj5n0TRUOwDr7sMf/nA+/OEPr3afSZMm5bDDDssNN9yQ3Xbb7R1/zldeeaXTm2tYnx566KHsvffeb+sx2223Xb74xS9m7NixufHGG1NfX5/rr78+PXr0yIknnrieEkPt2G233fKzn/2sYzxr1qyMHj06I0aMSO/evVf6mDe/xm+99db58Y9/vEGywsrss88+Wbp0aWbOnNnpHObmm2/O+PHjV/m4t/O7A2rZQQcdlIMOOqjaMehGVvc+csmSJTn55JMzatSoXH755SmVSvnNb36TU089Nddff30+8IEPdNp/bc4Xjj/++Hec+YILLkiSPP/88zn55JPT3NzcsW3UqFFJlhVAf/3rX9/x5yoaZdBG6MEHH8z48eNz4IEHZvLkyamrq8vuu++ecePGJUlefvnl/Pa3v81NN92Uo48+Ol/96lc73gDcdNNNueqqq9K7d+9su+22ede73pUkOfDAA/PTn/402223Xcfzv/nNxEUXXZS5c+fm9NNPz5VXXrnhv2i6rRdffDFf/vKX8/rrr6euri77779/Zs6cmbFjx2b8+PF55ZVX8t3vfjdLlizJq6++mq997Ws5+OCDc84556S1tTXPPfdcPv/5z3d6zIknnpjbb789EyZMyKGHHpprrrkmv/jFL1Iul3PZZZdlxowZaW9vz8iRI/PpT386bW1tufDCC/P000/npZdeys4775zvfOc7eemll/K5z30uffr0Sa9evXLttddW+9tFDVjZ8bLddttlwIABOfXUU5MkZ555Zo466qgMHDgw559/fl588cWUSqX867/+awYPHpwf/OAHefTRR/O3v/0tn/rUp7Ljjjuu9Dhf/vPxyiuvZKeddspDDz2U+++/P4sWLcq4cePy9NNPp729PaeddlqGDx++0ryzZ8/Opptumh49emThwoU599xzM2fOnMydOzf77LNPLr744k6v8V/72tdy8sknZ8qUKTnnnHPSu3fvPPHEE5kzZ05OP/30jBo1Kq+99lq+8pWv5C9/+Uu23377vPjiixk/fny22267DflPQY148MEHc/XVV6dXr175r//6r+y88845++yz89nPfjZTpkxJkvzgBz9IsuxnY999981BBx2UP/zhD9lqq60yatSo/OxnP8uLL76YSy+9NHvttVeOPvro/OpXv+oog37/+9/n3e9+d3baaafce++9+d73vpdyuZztt98+48aNy/Tp0zv9HujVq1cuvPDCtLa2plevXvn617+ef/zHf8wtt9ySn/zkJ6mvr892222Xyy+/PD179qza946N249+9KPcfPPNqa+vz7777psTTjghn//85zvOG66++uqcd955mTlzZrbddtssWLCg47HXXHNNbrvttrS3t2fIkCEZM2ZMZs+e3em8Y8SIEZkxY0YuvfTSHHjggTnqqKMyffr0LF68ON/+9rez22675amnnso555yT9vb2fPzjH8/999+fu+66q4rfFWrZ6t5H3nrrrenbt28++9nPduy/7777ZuTIkfnJT36SSy65JAceeGB23333zJo1K5dffnm+9KUvZcqUKas8X3nza/+QIUNy6KGH5uGHH059fX2+973vZfvtt89tt92Wa6+9NkuWLMnSpUtzySWX5GMf+9hafT3L38NedNFFef755/ONb3yj08zS5557bqW/C1jGZWIbqfb29lx99dWZOHFiJk2alL///e+ZM2dOkmV/Odt3332z3XbbZbfddsvNN9+cZNlUviuuuCITJkzIDTfckEWLFq315xs7dmz69++vCKLL/fKXv8z++++fSZMm5ayzzsqmm26a3XbbLRdddFF23nnn/PznP89FF12UyZMn56KLLuo0XbqxsTG33XZbPvnJT3Z6TKlUysUXX5xrrrkmX//613PWWWdlm222yY033pgkmTx5cn75y1/mnnvuye9+97s88sgj2WSTTXLDDTfkrrvuymuvvZb77rsvSfLf//3fufzyyxVBdFjZ8TJgwID86le/SpIsXLgwjzzySPbbb79cfPHFGTVqVCZNmpSrrroq559/fhYuXJgkWbp0aW699daccMIJqzzOL7744hx++OG55ZZbcthhh3W8zl911VXZddddM2nSpEyYMCE/+tGPOv4iNnPmzDQ1NeWQQw7J3nvvnZtvvjn//u//nh49emTq1KnZZZddcsMNN+SOO+7IQw89lCeeeGK1r/Evvvhirr/++lx11VW57LLLkiRXXnll3v/+9+fXv/51Tj/99Dz11FPr/ftObXvkkUdy/vnn57bbbssLL7yQ6dOnr3Lfl156KcOGDctNN92UN954I3fffXeuv/76nHnmmbnuuuuSJCNHjsxtt92WcrmcZNkfs0aPHp358+fn/PPPz5VXXplbbrklH/vYxzJu3LgcffTRnX4PfPWrX82YMWMyefLkfPOb38zZZ5+dJPne976Xf//3f8+kSZOy7bbb5plnnln/3xy6pfvuuy9TpkzJxIkTM3ny5Dz33HOZNm1ap/OG5X9Yve222zJ27Nj85S9/SZLcf//9mTlzZn75y1/mpptuypw5czrO11d33tHY2Jhf/vKXOe6443L11VcnSc4555x88YtfTHNzc7bffvu0t7dvoO8AG6tVvY98/PHHVzpraM8998zjjz/eMR42bFjuuOOObLnllh0fW9X5ypvNmzcv++yzT2666absueeemTBhQsrlcv7zP/+zo1j93Oc+l2uuuWadv6axY8dmt91265hFtNyqfhewjJlBG6n6+voMHDgwo0ePzkEHHZTPfOYz2XrrrZMse6N7xhlnJEmOOOKI/PznP88JJ5yQRx55JAMHDsxWW22VJBkxYkR++9vfVu1rgGTZ5QBnnnlmZs2alf322y+f+tSnMnXq1I7tl19+ee69997cfvvteeyxxzqVmLvvvvsqn3eHHXbIcccdlwcffLBjCukDDzyQWbNmdRz3r7/+ev70pz/lxBNPTGNjYyZMmJBnnnkmzz77bF5//fUkSd++fc12oJM999zzLcdLnz59snTp0jz33HN55JFHcuCBB6ZHjx5paWnJM888k+9///tJls0qWl7avPn4XdVx/pvf/KbjHimf+MQnssUWWyRZdk+VJUuWZOLEiUmWHctPP/10Nttss47LxJYuXZoxY8akd+/eHZ9r+PDh+cMf/pD/+I//yDPPPJPW1ta8/vrraWxsXOXXu++++6ZUKmWnnXZKa2trR64rrrgiybIp5zvttFMXfXfZWP3DP/xDBgwYkCT54Ac/mFdeeWW1+w8bNixJsu2222aPPfZIkmyzzTZ59dVXkyTbbbdddthhh8yYMSMf+9jHMnXq1HzlK1/JQw89lN13373jdfnYY499yxuHRYsWZebMmfna177W8bHXX389CxYsyAEHHJDjjz8+Bx98cA499NDssssuXfMNoHB++9vf5sgjj8ymm26aZNnlKjfddFOn84YZM2bk2GOPTZK8733vy8CBA5MsOx/5wx/+kJEjRyZZdnnONttskz322GO15x1Dhw5Nsuzn7c4770xra2tmz56d/fbbryPDT3/60/X3RdMtrOp9ZKlUWmmZ+Pe//z2lUqlj/JGPfOQt+6zqfGVFbz6Gf/e736Wuri5XXnllpkyZkv/+7//OjBkzUlfXNfNVVve7oE+fPl3yOTZ2yqCN2A9/+MM8+uijuf/++/O5z30uV1xxRTbbbLM89dRTufjii/Otb30r7e3tmTt3bh599NGUSqVUKpWOxzc0dP7nX76tra1tg34dFNsee+yRX//615k6dWpuvfXWTJ48udP2E044IXvvvXf23nvv7LPPPvnyl7/csa1Xr16rfe5tttkm2267bce4vb09Y8aMySGHHJJk2SWVm222We655558//vfz8knn5yRI0dmwYIFHT8Pa/ocFM+qjpejjjoqt956ax555JF8/vOfT5KUy+Vcd911HWXL3Llz07dv39x9992djq1VHef19fWdXreXK5fLufzyy7PrrrsmWTbT4t3vfnd+//vfd+zTo0ePXHTRRTn00ENz66235ogjjsjPfvaz3HHHHTnmmGMyePDgPPXUUyt9/jdbfgnNm08EV5WL4nrzpVbLj5U3HyNtbW2dzjt69OjR8f/19fUrfc5Ro0blV7/6VV599dXss88+6d27d8dMoeUqlcpbzlvK5XJ69OjR6b4SL774YhobGzN27Ng8+eSTue+++zJmzJicccYZaWpqehtfMUW34rGYLDvO3/zavqpz7/b29pxyyin5zGc+kyR59dVXU19fnwULFqz2vGPF12OvxbxdK3sfufvuu6/0Zs+PPPJIp/u3rezS2rU9Ft98DFcqlSxatCijR4/OUUcdlT333DM777xzJkyY8A6+sv+1ut8FLOMysY3Uyy+/nCOOOCI77bRTvvjFL2bffffNn/70p0yaNCnHHHNMpk6dmilTpuS+++5LU1NT/vM//zN77LFHHn300cyZMyflcjm33nprx/P16dMnf/7zn5Mse6OzooaGBiUR68Vll12Wm2++OZ/85Cdz/vnn549//GPq6+vT3t6e1tbWPPvss/niF7+YYcOG5Z577lnl9Oflj1mdQYMG5cYbb8zf//73LFq0KCeccEIeffTRPPDAAzn88MMzatSobLHFFnnwwQdNs2aVVnW8jBgxIrfeemuee+65jpkOgwYNyvXXX58k+fOf/5wRI0Zk8eLFnZ5vdcf5Pvvsk1tuuSXJsksSls+aGDRoUMcJ29y5c3PUUUflb3/721uybr755jnzzDNz2WWXZcmSJfnNb36TY489NkcddVTeeOONPPnkkymXy+v8Gv/mXH/605/y9NNPdyqLYPPNN09ra2tefvnlLF26NNOmTVvn5zj00EPz29/+Nr/61a86Znh+5CMfyWOPPZbnn38+SXLDDTd03DR6+e+BzTffPO973/s63gD85je/yYknnpi2trYccsgh6dOnT/75n/85TU1NFsfgbRs0aFB+/etfZ8mSJWlra8vEiRMzaNCgTvssf60sl8uZPXt2R2E/aNCgNDc3Z9GiRWlra8vpp5+eO+64Y50zbL755tl+++07Lm1f/roMq7Oq95FHHHFEFi9enKuvvrqj2Jk+fXomTZrU6T5CK7Oq85U1efbZZ1MqlfIv//Iv2XvvvXPXXXe9rXPw+vr6t5zHrOp3Af/LzKCN1JZbbpmDDjooo0ePzqabbpr3v//9Ofroo3PwwQe/ZXropz/96Rx77LH52te+lrFjx+bTn/50Nt100+y4444d+5x11ln55je/mfHjx2fIkCFv+Xx9+/bNNttsk5NOOqnTjaXhnTrppJPyr//6r5k0aVLq6+vz7W9/O//1X/+VCy64IN/+9rczevToHHnkkWloaMigQYOyZMmSjku43mzo0KEdj1nVTeeOO+64PPfcc/nkJz+Ztra2jBw5MnvvvXcaGxvz5S9/Ob/+9a+zySab5GMf+1jHGw1Y0T/90z+t9Hh5z3vekz59+mTgwIEdxcjYsWNz/vnnZ8SIEUmWlZ8rrujV2Ni4yuP8vPPOy1e/+tXceOON+dCHPtQx7fqMM87IhRdemOHDh3fMeHvve9+70kLon/7pn/Kzn/0s1157bU455ZRceOGFueaaa9K7d+8MHDgwzz//fD7+8Y93vMavbunu5ZbfaHrEiBF573vfm6222sosOjrZfPPN87nPfS6jR4/OgAED1rgK6sr06tUrgwcPzoMPPpg999wzSbLVVltl3LhxOeOMM/L3v/8922yzTS6++OIknX8PXH755bnwwgvzk5/8JJtsskm++93vZpNNNslZZ52VU089NT179kzfvn1z6aWXdunXTXEccMABmTVrVkaNGpW2trYMGTIkBxxwQKfz8BNOOCFPP/10Dj/88Gy77bYdl9QeeOCBefLJJ3PMMcekvb09Q4cOzSc/+cnMnj17nXNcdtllOffcc/O9730vO++8s9di1mhl7yNHjRqVHj165Lrrrstll12Www47LKVSKdtss02uvfbafPCDH1ztc67qfGVNPvShD2WXXXbJ4YcfnlKplCFDhuThhx9e56/pgx/8YF577bWMGTMmo0eP7vj4yn4X+OPV/ypVzC0EgJr005/+NIMHD86OO+6YJ554Il//+tczadKkasdKc3Nztttuu+yxxx554YUX8qlPfSp33313l13nD8DaGT9+fI455pj0798/d955Z2655ZaOFZxgQ6nV8xVWz8wgAKhRO+ywQ/7P//k/qaurS8+ePfPNb36z2pGSJB/4wAdywQUXpFwup66uLuPGjVMEAVTBNttsk1NPPTUNDQ3ZYostOmbKwYZUq+crrJ6ZQQAAAAAF4s94AAAAAAWiDAIAAAAoEGUQAAAAQIEogwAAAAAKRBkEAAAAUCD/H6IVZIeSrtqeAAAAAElFTkSuQmCC",
      "text/plain": [
       "<Figure size 1440x576 with 1 Axes>"
      ]
     },
     "metadata": {},
     "output_type": "display_data"
    }
   ],
   "source": [
    "#Visualización de todas las variables numéricas de tipo Float\n",
    "fig=plt.figure(figsize=(20,8))\n",
    "ax = sns.boxplot(data=df_movies[name_cols_float], orient=\"v\")"
   ]
  },
  {
   "cell_type": "code",
   "execution_count": 885,
   "metadata": {},
   "outputs": [
    {
     "data": {
      "image/png": "iVBORw0KGgoAAAANSUhEUgAABJIAAAHUCAYAAABh1ALJAAAAOXRFWHRTb2Z0d2FyZQBNYXRwbG90bGliIHZlcnNpb24zLjMuMiwgaHR0cHM6Ly9tYXRwbG90bGliLm9yZy8vihELAAAACXBIWXMAAAsTAAALEwEAmpwYAAAhh0lEQVR4nO3dfWxW93338Y+xXZLUaTKoXRCjVNuiRiIUtlGtJJnpHoSdgpPJy6QWJKZu3Vq20SpSGQwIiKZRQ4ugkzozTYsijaVbWZdCilzTqdnoUqqVMG2MhXapBIRCakx4CIaY2w/X/Ufu+A7JkvxiHi4cv17/WNfP50LfI2R8/OZ3jmsqlUolAAAAAPAmxlV7AAAAAABGByEJAAAAgCJCEgAAAABFhCQAAAAAighJAAAAABQRkgAAAAAoUlftAS7VqVPnMjRUqfYYAAAAAKPeuHE1+Zmfeefrfn7Uh6ShoYqQBAAAAHAVuLUNAAAAgCJCEgAAAABFhCQAAAAAighJAAAAABQRkgAAAAAoIiQBAAAAUERIAgAAAKCIkAQAAABAESEJAAAAgCJCEgAAAABFhCQAAAAAighJAAAAABQRkgAAAAAoIiQBAAAAUERIAgAAAKCIkAQAAABAkbpqDwAAAFTP97733Tz55K5qj8EInDlzOkly0003V3UORu7OO+fmjjuaqz0GvCV2JAEAAIxCZ86cyZkzZ6o9BjDG1FQqlUq1h7gUzz/fm6GhUX0KAAAAb9n69Q8kSZYvv7/KkwBvJ+PG1WTixIbX//xVnAUAAACAUUxIAgAAAKCIkAQAAABAESEJAAAAgCJCEgAAAABFhCQAAAAAihSFpN7e3ixYsCA/+clPkiS7d+9OW1tb5s2bl02bNg0fd+DAgbS3t6elpSWrVq3KwMBAkuTYsWNZtGhRWltbs2TJkpw7dy5J8sILL+QP//APc9ddd2XRokXp6em53OcHAAAAwGXypiHpP//zP/Oxj30shw4dSpL09fVl5cqV6ejoSGdnZ/bv359du3YlSZYtW5Y1a9Zk586dqVQq2bp1a5Jk3bp1WbhwYbq6unLbbbelo6MjSfLlL385s2fPzre+9a38zu/8Th588MErdJoAAAAAXKo3DUlbt27N2rVr09TUlCTZt29fpk2blqlTp6auri5tbW3p6urK0aNH09fXl1mzZiVJ2tvb09XVlf7+/uzZsyctLS0XrSfJv/zLv6StrS1JsmDBgnz3u99Nf3//lThPAAAAAC5R3Zsd8OpdQsePH09jY+Pw66ampnR3d79mvbGxMd3d3Tl16lQaGhpSV1d30fqr/6y6uro0NDTk5MmTec973lN8AhMnNhQfCwAA8HZRX1+bJGlsvLHKkwBjyZuGpFcbGhpKTU3N8OtKpZKamprXXX/54yu9+vUr3zNu3Ft7/vfzz/dmaKjylt4DAAAw2vX3DyZJenrOVnkS4O1k3LiaN9y085Z/a9ukSZMueih2T09PmpqaXrN+4sSJNDU1ZcKECTl79mwGBwcvOj55aTfTiRMnkiQDAwM5d+5cbr755rc6EgAAAABXwVsOSTNnzszBgwdz+PDhDA4OZseOHWlubs6UKVMyfvz47N27N0myffv2NDc3p76+PrNnz05nZ2eSZNu2bWlubk6SzJ07N9u2bUuSdHZ2Zvbs2amvr79MpwYAAADA5fSWb20bP358HnrooSxdujQXLlzI3Llz09ramiTZsGFDVq9end7e3kyfPj2LFy9OkqxduzYrVqzI5s2bM3ny5GzcuDFJ8pnPfCYrVqzI/Pnzc+ONN2bDhg2X8dQAAAAAuJxqKpXKqH7AkGckAQAAY9H69Q8kSZYvv7/KkwBvJ5f9GUkAAAAAjE1CEgAAAABFhCQAAAAAighJAAAAABQRkgAAAAAoIiQBAAAAUERIAgAAAKCIkAQAAABAESEJAAAAgCJCEgAAAABFhCQAAAAAighJAAAAABQRkgAAAAAoIiQBAAAAUERIAgAAAKCIkAQAAABAESEJAAAAgCJCEgAAAABFhCQAAAAAighJAAAAABQRkgAAAAAoIiQBAAAAUERIAgAAAKCIkAQAAABAESEJAAAAgCJCEgAAAABFhCQAAAAAighJAAAAABQRkgAAAAAoIiQBAAAAUERIAgAAAKCIkAQAAABAESEJAAAAgCJCEgAAAABFhCQAAAAAighJAAAAABQRkgAAAAAoIiQBAAAAUERIAgAAAKCIkAQAAABAESEJAAAAgCJCEgAAAABFhCQAAAAAighJAAAAABQRkgAAAAAoIiQBAAAAUERIAgAAAKCIkAQAAABAESEJAAAAgCJCEgAAAABFhCQAAAAAighJAAAAABQRkgAAAAAoIiQBAAAAUERIAgAAAKCIkAQAAABAESEJAAAAgCJCEgAAAABFhCQAAAAAighJAAAAABQRkgAAAAAoIiQBAAAAUERIAgAAAKCIkAQAAABAESEJAAAAgCJCEgAAAABFhCQAAAAAilxSSNq+fXvmz5+f+fPnZ/369UmS3bt3p62tLfPmzcumTZuGjz1w4EDa29vT0tKSVatWZWBgIEly7NixLFq0KK2trVmyZEnOnTt3KSMBAAAAcIWMOCS9+OKLefDBB7Nly5Zs3749Tz31VJ544omsXLkyHR0d6ezszP79+7Nr164kybJly7JmzZrs3LkzlUolW7duTZKsW7cuCxcuTFdXV2677bZ0dHRcnjMDAAAA4LIacUgaHBzM0NBQXnzxxQwMDGRgYCANDQ2ZNm1apk6dmrq6urS1taWrqytHjx5NX19fZs2alSRpb29PV1dX+vv7s2fPnrS0tFy0DgAAAMC1p26kb2xoaMhnPvOZ3HXXXbn++uvzwQ9+MMePH09jY+PwMU1NTenu7n7NemNjY7q7u3Pq1Kk0NDSkrq7uonUAAAAArj0jDkk//OEP84//+I/553/+59x444357Gc/m0OHDqWmpmb4mEqlkpqamgwNDf2v6y9/fKVXv34zEyc2jPQUAAAARq36+tokSWPjjVWeBBhLRhySnnzyycyZMycTJ05M8tJtaQ8//HBqa2uHj+np6UlTU1MmTZqUnp6e4fUTJ06kqakpEyZMyNmzZzM4OJja2trh49+K55/vzdBQZaSnAQAAMCr19w8mSXp6zlZ5EuDtZNy4mjfctDPiZyTdeuut2b17d86fP59KpZInnngiM2fOzMGDB3P48OEMDg5mx44daW5uzpQpUzJ+/Pjs3bs3yUu/7a25uTn19fWZPXt2Ojs7kyTbtm1Lc3PzSEcCAAAA4Aoa8Y6kO++8M08//XTa29tTX1+fGTNmZOnSpbnjjjuydOnSXLhwIXPnzk1ra2uSZMOGDVm9enV6e3szffr0LF68OEmydu3arFixIps3b87kyZOzcePGy3NmAAAAAFxWNZVKZVTfF+bWNgAAYCxav/6BJMny5fdXeRLg7eTNbm0b8Y4k4PV973vfzZNP7qr2GIzAmTOnkyQ33XRzVedg5O68c27uuMNt0gAAcCWM+BlJAG9HZ86cyZkzZ6o9BgAAwDXJjiS4Au64o9mOiFHKFnEAAIDXZ0cSAAAAAEWEJAAAAACKCEkAAAAAFBGSAAAAACjiYdsAAFySr371b3LkyOFqjwFjzrPPvvR19/IvCwGurqlTp2XhwsXVHuOqE5IAALgkR44czqEf/zCTGlxawtV0Q4aSJH0//XGVJ4Gx56e9A9UeoWp8twcA4JJNaqjLxz8wodpjAMBV8ci+k9UeoWo8IwkAAACAIkISAAAAAEWEJAAAAACKCEkAAAAAFBGSAAAAACgiJAEAAABQREgCAAAAoIiQBAAAAEARIQkAAACAIkISAAAAAEWEJAAAAACKCEkAAAAAFBGSAAAAACgiJAEAAABQREgCAAAAoIiQBAAAAEARIQkAAACAIkISAAAAAEWEJAAAAACKCEkAAAAAFBGSAAAAACgiJAEAAABQREgCAAAAoIiQBAAAAEARIQkAAACAIkISAAAAAEWEJAAAAACKCEkAAAAAFBGSAAAAACgiJAEAAABQREgCAAAAoIiQBAAAAEARIQkAAACAIkISAAAAAEWEJAAAAACKCEkAAAAAFBGSAAAAACgiJAEAAABQREgCAAAAoIiQBAAAAEARIQkAAACAIkISAAAAAEWEJAAAAACKCEkAAAAAFBGSAAAAACgiJAEAAABQREgCAAAAoIiQBAAAAEARIQkAAACAIkISAAAAAEWEJAAAAACKCEkAAAAAFBGSAAAAACgiJAEAAABQREgCAAAAoIiQBAAAAEARIQkAAACAIkISAAAAAEUuKSQ98cQTaW9vz1133ZXPf/7zSZLdu3enra0t8+bNy6ZNm4aPPXDgQNrb29PS0pJVq1ZlYGAgSXLs2LEsWrQora2tWbJkSc6dO3cpIwEAAABwhYw4JB05ciRr165NR0dHHn/88Tz99NPZtWtXVq5cmY6OjnR2dmb//v3ZtWtXkmTZsmVZs2ZNdu7cmUqlkq1btyZJ1q1bl4ULF6arqyu33XZbOjo6Ls+ZAQAAAHBZjTgk/dM//VM+8pGPZNKkSamvr8+mTZty/fXXZ9q0aZk6dWrq6urS1taWrq6uHD16NH19fZk1a1aSpL29PV1dXenv78+ePXvS0tJy0ToAAAAA1566kb7x8OHDqa+vz6c+9ak899xz+fCHP5xbbrkljY2Nw8c0NTWlu7s7x48fv2i9sbEx3d3dOXXqVBoaGlJXV3fROgAAAADXnhGHpMHBwTz11FPZsmVLbrjhhixZsiTXXXddampqho+pVCqpqanJ0NDQ/7r+8sdXevXrNzNxYsNITwHgNerra5MkjY03VnkSgNGjvr42fdUeAgCusvr62jH5c8OIQ9K73/3uzJkzJxMmTEiS/OZv/ma6urpSW1s7fExPT0+ampoyadKk9PT0DK+fOHEiTU1NmTBhQs6ePZvBwcHU1tYOH/9WPP98b4aGKiM9DYCL9PcPJkl6es5WeRKA0ePlfzsBYCzp7x98W/7cMG5czRtu2hlxSPq1X/u1LF++PC+88ELe+c535l//9V/T2tqav/qrv8rhw4fzsz/7s9mxY0d++7d/O1OmTMn48eOzd+/e/PIv/3K2b9+e5ubm1NfXZ/bs2ens7ExbW1u2bduW5ubmkY70tvLVr/5Njhw5XO0xYMx59tmXvu7Wr3+gypPA2DR16rQsXLi42mMAAPA6RhySZs6cmU984hNZuHBh+vv7c8cdd+RjH/tYfu7nfi5Lly7NhQsXMnfu3LS2tiZJNmzYkNWrV6e3tzfTp0/P4sUvXSSuXbs2K1asyObNmzN58uRs3Ljx8pzZKHfkyOH86Jkfp/a6m6s9CowpQ4Mv7ar88ZETVZ4Exp7BvtPVHgEAgDcx4pCUJPfee2/uvffei9bmzJmTxx9//DXH3nrrrfn617/+mvUpU6Zky5YtlzLG21btdTfnhmm/Ue0xAOCqOH/4O9UeAQCANzGu2gMAAAAAMDoISQAAAAAUEZIAAAAAKCIkAQAAAFBESAIAAACgiJAEAAAAQBEhCQAAAIAiQhIAAAAARYQkAAAAAIoISQAAAAAUEZIAAAAAKCIkAQAAAFBESAIAAACgiJAEAAAAQBEhCQAAAIAiQhIAAAAAReqqPQAAAKPbmTOnc6p3II/sO1ntUQDgqvhp70B+5szpao9RFXYkAQAAAFDEjiQAAC7JTTfdnPEvnsjHPzCh2qMAwFXxyL6Tue6mm6s9RlXYkQQAAABAESEJAAAAgCJCEgAAAABFhCQAAAAAighJAAAAABQRkgAAAAAoIiQBAAAAUERIAgAAAKCIkAQAAABAESEJAAAAgCJCEgAAAABFhCQAAAAAighJAAAAABQRkgAAAAAoIiQBAAAAUERIAgAAAKCIkAQAAABAESEJAAAAgCJCEgAAAABFhCQAAAAAighJAAAAABQRkgAAAAAoIiQBAAAAUERIAgAAAKCIkAQAAABAESEJAAAAgCJCEgAAAABFhCQAAAAAighJAAAAABQRkgAAAAAoIiQBAAAAUERIAgAAAKCIkAQAAABAESEJAAAAgCJCEgAAAABFhCQAAAAAighJAAAAABQRkgAAAAAoIiQBAAAAUERIAgAAAKCIkAQAAABAESEJAAAAgCJCEgAAAABFhCQAAAAAighJAAAAABQRkgAAAAAoIiQBAAAAUERIAgAAAKCIkAQAAABAkcsSktavX58VK1YkSXbv3p22trbMmzcvmzZtGj7mwIEDaW9vT0tLS1atWpWBgYEkybFjx7Jo0aK0trZmyZIlOXfu3OUYCQAAAIDLrO5S/4Dvf//7+cY3vpEPf/jD6evry8qVK7Nly5ZMnjw5n/zkJ7Nr167MnTs3y5Yty+c///nMmjUrK1euzNatW7Nw4cKsW7cuCxcuzPz58/MXf/EX6ejoyLJlyy7HuY1qZ86czmDf6Zw//J1qjwIAV8Vg3+mcOXPJlyYAAFxBl7Qj6fTp09m0aVM+9alPJUn27duXadOmZerUqamrq0tbW1u6urpy9OjR9PX1ZdasWUmS9vb2dHV1pb+/P3v27ElLS8tF6wAAAABcey7pv/3WrFmT++67L88991yS5Pjx42lsbBz+fFNTU7q7u1+z3tjYmO7u7pw6dSoNDQ2pq6u7aJ3kpptuTs8LA7lh2m9UexQAuCrOH/5Obrrp5mqPAQDAGxhxSPqHf/iHTJ48OXPmzMljjz2WJBkaGkpNTc3wMZVKJTU1Na+7/vLHV3r16zczcWLDSE/hmlZfX1vtEQDgqquvr01j443VHoO3qL6+Nn3VHgIArrKxet0y4pDU2dmZnp6e3HPPPTlz5kzOnz+fo0ePprb2/weQnp6eNDU1ZdKkSenp6RleP3HiRJqamjJhwoScPXs2g4ODqa2tHT7+rXj++d4MDVVGehrXrP7+wWqPAABXXX//YHp6zlZ7DN4i1y0AjEVv1+uWceNq3nDTzoifkfTII49kx44d2b59ez796U/n13/91/PXf/3XOXjwYA4fPpzBwcHs2LEjzc3NmTJlSsaPH5+9e/cmSbZv357m5ubU19dn9uzZ6ezsTJJs27Ytzc3NIx0JAAAAgCvosv5qlPHjx+ehhx7K0qVLc+HChcydOzetra1Jkg0bNmT16tXp7e3N9OnTs3jx4iTJ2rVrs2LFimzevDmTJ0/Oxo0bL+dIAAAAAFwmlyUktbe3p729PUkyZ86cPP7446855tZbb83Xv/7116xPmTIlW7ZsuRxjAAAAAHAFjfjWNgAAAADGFiEJAAAAgCJCEgAAAABFhCQAAAAAighJAAAAABQRkgAAAAAoIiQBAAAAUERIAgAAAKCIkAQAAABAESEJAAAAgCJCEgAAAABFhCQAAAAAighJAAAAABQRkgAAAAAoIiQBAAAAUERIAgAAAKCIkAQAAABAESEJAAAAgCJCEgAAAABFhCQAAAAAighJAAAAABQRkgAAAAAoIiQBAAAAUERIAgAAAKCIkAQAAABAESEJAAAAgCJCEgAAAABFhCQAAAAAighJAAAAABSpq/YAAACMfj/tHcgj+05WewwYU3r/z1CSpOEd9gfA1fbT3oG8r9pDVImQBADAJZk6dVq1R4Ax6fizh5Mk757kaxCutvdl7H7/E5IAALgkCxcurvYIMCatX/9AkmT58vurPAkwltgDCQAAAEARIQkAAACAIkISAAAAAEWEJAAAAACKCEkAAAAAFBGSAAAAACgiJAEAAABQREgCAAAAoIiQBAAAAEARIQkAAACAIkISAAAAAEWEJAAAAACKCEkAAAAAFBGSAAAAACgiJAEAAABQREgCAAAAoIiQBAAAAEARIQkAAACAIkISAAAAAEWEJAAAAACKCEkAAAAAFBGSAAAAACgiJAEAAABQREgCAAAAoIiQBAAAAEARIQkAAACAIkISAAAAAEWEJAAAAACKCEkAAAAAFBGSAAAAACgiJAEAAABQREgCAAAAoIiQBAAAAECRumoPwOsb7Dud84e/U+0xYEwZGuhLkoyru67Kk8DYM9h3Osm7qz0GAABvQEi6Rk2dOq3aI8CY9Oyzh5Mk753qh1m4+t7t+x8AwDVOSLpGLVy4uNojwJi0fv0DSZLly++v8iQAAADXnkt6RtJXvvKVzJ8/P/Pnz88Xv/jFJMnu3bvT1taWefPmZdOmTcPHHjhwIO3t7WlpacmqVasyMDCQJDl27FgWLVqU1tbWLFmyJOfOnbuUkQAAAAC4QkYcknbv3p0nn3wy3/jGN7Jt27b893//d3bs2JGVK1emo6MjnZ2d2b9/f3bt2pUkWbZsWdasWZOdO3emUqlk69atSZJ169Zl4cKF6erqym233ZaOjo7Lc2YAAAAAXFYjDkmNjY1ZsWJF3vGOd6S+vj4///M/n0OHDmXatGmZOnVq6urq0tbWlq6urhw9ejR9fX2ZNWtWkqS9vT1dXV3p7+/Pnj170tLSctE6AAAAANeeEYekW265ZTgMHTp0KN/61rdSU1OTxsbG4WOamprS3d2d48ePX7Te2NiY7u7unDp1Kg0NDamrq7toHQAAAIBrzyU/bPuZZ57JJz/5yfzpn/5pamtrc+jQoeHPVSqV1NTUZGhoKDU1Na9Zf/njK7369ZuZOLHhkuYHeKX6+tokSWPjjVWeBADgjbluAarhkkLS3r178+lPfzorV67M/Pnz84Mf/CA9PT3Dn+/p6UlTU1MmTZp00fqJEyfS1NSUCRMm5OzZsxkcHExtbe3w8W/F88/3ZmiocimnATCsv38wSdLTc7bKkwAAvDHXLcCVMG5czRtu2hnxrW3PPfdc/viP/zgbNmzI/PnzkyQzZ87MwYMHc/jw4QwODmbHjh1pbm7OlClTMn78+OzduzdJsn379jQ3N6e+vj6zZ89OZ2dnkmTbtm1pbm4e6UgAAAAAXEEj3pH08MMP58KFC3nooYeG1z760Y/moYceytKlS3PhwoXMnTs3ra2tSZINGzZk9erV6e3tzfTp07N48eIkydq1a7NixYps3rw5kydPzsaNGy/xlAAAAAC4Emoqlcqovi/MrW3A5bR+/QNJkuXL76/yJAAAb8x1C3AlXLFb2wAAAAAYW4QkAAAAAIoISQAAAAAUEZIAAAAAKCIkAQAAAFBESAIAAACgiJAEAAAAQBEhCQAAAIAiQhIAAAAARYQkAAAAAIoISQAAAAAUEZIAAAAAKCIkAQAAAFBESAIAAACgiJAEAAAAQBEhCQAAAIAiQhIAAAAARYQkAAAAAIoISQAAAAAUEZIAAAAAKCIkAQAAAFBESAIAAACgiJAEAAAAQBEhCQAAAIAiQhIAAAAARYQkAAAAAIoISQAAAAAUEZIAAAAAKCIkAQAAAFBESAIAAACgiJAEAAAAQBEhCQAAAIAiQhIAAAAARYQkAAAAAIoISQAAAAAUEZIAAAAAKCIkAQAAAFBESAIAAACgiJAEAAAAQBEhCQAAAIAiQhIAAAAARYQkAAAAAIoISQAAAAAUEZIAAAAAKCIkAQAAAFBESAIAAACgiJAEAAAAQBEhCQAAAIAiQhIAAAAARYQkAAAAAIoISQAAAAAUEZIAAAAAKCIkAQAAAFBESAIAAACgiJAEAAAAQBEhCQAAAIAiQhIAAAAARYQkAAAAAIoISQAAAAAUEZIAAAAAKCIkAQAAAFBESAIAAACgiJAEAAAAQBEhCQAAAIAiQhIAAAAARYQkAAAAAIoISQAAAAAUEZIAAAAAKHJNhKRvfvOb+chHPpJ58+bl0UcfrfY4AAAAAPwv6qo9QHd3dzZt2pTHHnss73jHO/LRj340v/Irv5Jf+IVfqPZoAAAAALxC1Xck7d69Ox/60Idy880354YbbkhLS0u6urqqPRYAAAAAr1L1HUnHjx9PY2Pj8Oumpqbs27evihPBpfve976bJ5/cVe0xGIFnnz2cJFm//oEqT8JI3Xnn3NxxR3O1xwAYNVy3jF6uW0Y/1y2MRlUPSUNDQ6mpqRl+XalULnr9ZiZObLgSY8Elede7rk99fW21x2AEJk6ckCT+/kaxd73r+jQ23ljtMQBGDdcto5frltHPdQujUdVD0qRJk/LUU08Nv+7p6UlTU1Px+59/vjdDQ5UrMRqM2IwZH8yMGR+s9hgwZvX0nK32CACjhusWqC7XLVxrxo2recNNO1V/RtLtt9+e73//+zl58mRefPHFfPvb305zs619AAAAANeaqu9Ies973pP77rsvixcvTn9/f+6999584AMfqPZYAAAAALxKTaVSGdX3hbm1DQAAAODyuOZvbQMAAABgdBCSAAAAACgiJAEAAABQREgCAAAAoIiQBAAAAEARIQkAAACAIkISAAAAAEWEJAAAAACKCEkAAAAAFBGSAAAAACgiJAEAAABQREgCAAAAoIiQBAAAAECRumoPcKnGjaup9ggAAAAAbwtv1llqKpVK5SrNAgAAAMAo5tY2AAAAAIoISQAAAAAUEZIAAAAAKCIkAQAAAFBESAIAAACgiJAEAAAAQBEhCQAAAIAiQhIAAAAARYQkAAAAAIoISQAAAAAUEZIAXuG3fuu3kiSPPvpotm7dWt1hAIAx57/+67+yatWq4uPf//73X8FpAF6rrtoDAFwrDh48mPe9731Jkn//93/PH/3RH1V3IABgzJkxY0ZmzJhR7TEAXpeQBJDk93//9/M///M/qauryz333JODBw/m4MGDeeyxx6o9GgAwhvzbv/1bvvKVryR5KSrt3bs3J0+ezOrVqzN37tz85Cc/ybJly3L+/PnMnDlz+H3nzp3L5z73uTzzzDMZHBzMH/zBH2TBggX5whe+kJMnT+ZLX/pSvvnNb+Zv//Zv89WvfjW1tbXVOkVglHNrG0CShx9+OAsWLMiDDz6YRx99NDNmzBCRAICq6u/vz9e+9rX82Z/9Wf78z/88SfLAAw+kvb0927dvzy/90i8NH7t58+ZMnz49jz32WB599NH85V/+ZY4cOZL77rsv+/fvz44dO7Jx48Z88YtfFJGASyIkAfw/P/7xj/P+978/zzzzTG655ZZqjwMAjHG/+qu/miS55ZZbcvr06STJD37wg9x1111Jkrvvvjv19fVJkt27d+fv//7vc88992TRokU5f/58nnnmmVx33XX5whe+kM9+9rP5xCc+kWnTplXlXIC3D7e2AeSlW9ueeuqp/N7v/d7whdq+ffvsSgIAqmb8+PFJkpqamovWK5XK8Pq4cS/tDRgaGsqXvvSlTJ8+PUly4sSJ3HTTTUleeg7khAkTsn///qs1OvA2ZkcSQF7aJn777bdn+/btuf3227N582YRCQC45tx+++15/PHHkyTf/va3c+HChSTJhz70ofzd3/1dkuT48eO5++6789xzz6W7uztf/vKX87WvfS1PP/10du3aVbXZgbcHIQkgyX/8x3/kF3/xF5MkP/rRj/wqXQDgmrRmzZrs3Lkzd999d3bt2pV3vvOdSZI/+ZM/SV9fXxYsWJDf/d3fzbJly/Le9743999/fz7+8Y9n6tSp+dznPpe1a9fmhRdeqPJZAKNZTeXlfZEAAAAA8AbsSAIAAACgiJAEAAAAQBEhCQAAAIAiQhIAAAAARYQkAAAAAIoISQAAAAAUEZIAAAAAKPJ/AUGgL0thR46EAAAAAElFTkSuQmCC",
      "text/plain": [
       "<Figure size 1440x576 with 1 Axes>"
      ]
     },
     "metadata": {},
     "output_type": "display_data"
    }
   ],
   "source": [
    "#Visualización de todas las variables numéricas de tipo int\n",
    "fig=plt.figure(figsize=(20,8))\n",
    "ax = sns.boxplot(data=df_movies[name_cols_int], orient=\"v\")"
   ]
  },
  {
   "cell_type": "code",
   "execution_count": 886,
   "metadata": {},
   "outputs": [
    {
     "name": "stdout",
     "output_type": "stream",
     "text": [
      "Columnas con tipo de dato 'object' (generalmente textuales): Index(['tconst', 'titleType', 'originalTitle', 'runtimeMinutes', 'region',\n",
      "       'language', 'types', 'attributes', 'main_genre', 'secondary_genre'],\n",
      "      dtype='object')\n"
     ]
    }
   ],
   "source": [
    "# Explorar las variables que no son numéricas\n",
    "name_cols_non_number = df_movies.select_dtypes(include = ['object']).columns\n",
    "print(\"Columnas con tipo de dato 'object' (generalmente textuales):\", name_cols_non_number)"
   ]
  },
  {
   "cell_type": "code",
   "execution_count": 887,
   "metadata": {},
   "outputs": [
    {
     "data": {
      "text/html": [
       "<div>\n",
       "<style scoped>\n",
       "    .dataframe tbody tr th:only-of-type {\n",
       "        vertical-align: middle;\n",
       "    }\n",
       "\n",
       "    .dataframe tbody tr th {\n",
       "        vertical-align: top;\n",
       "    }\n",
       "\n",
       "    .dataframe thead th {\n",
       "        text-align: right;\n",
       "    }\n",
       "</style>\n",
       "<table border=\"1\" class=\"dataframe\">\n",
       "  <thead>\n",
       "    <tr style=\"text-align: right;\">\n",
       "      <th></th>\n",
       "      <th>tconst</th>\n",
       "      <th>titleType</th>\n",
       "      <th>originalTitle</th>\n",
       "      <th>runtimeMinutes</th>\n",
       "      <th>region</th>\n",
       "      <th>language</th>\n",
       "      <th>types</th>\n",
       "      <th>attributes</th>\n",
       "      <th>main_genre</th>\n",
       "      <th>secondary_genre</th>\n",
       "    </tr>\n",
       "  </thead>\n",
       "  <tbody>\n",
       "    <tr>\n",
       "      <th>count</th>\n",
       "      <td>7471</td>\n",
       "      <td>7471</td>\n",
       "      <td>7471</td>\n",
       "      <td>7470</td>\n",
       "      <td>7470</td>\n",
       "      <td>7470</td>\n",
       "      <td>7470</td>\n",
       "      <td>7470</td>\n",
       "      <td>7470</td>\n",
       "      <td>7470</td>\n",
       "    </tr>\n",
       "    <tr>\n",
       "      <th>unique</th>\n",
       "      <td>7466</td>\n",
       "      <td>7</td>\n",
       "      <td>7290</td>\n",
       "      <td>362</td>\n",
       "      <td>4</td>\n",
       "      <td>1</td>\n",
       "      <td>5</td>\n",
       "      <td>1</td>\n",
       "      <td>22</td>\n",
       "      <td>26</td>\n",
       "    </tr>\n",
       "    <tr>\n",
       "      <th>top</th>\n",
       "      <td>tt0386741</td>\n",
       "      <td>movie</td>\n",
       "      <td>Candy</td>\n",
       "      <td>60</td>\n",
       "      <td>IN</td>\n",
       "      <td>en</td>\n",
       "      <td>imdbDisplay</td>\n",
       "      <td>\\N</td>\n",
       "      <td>Drama</td>\n",
       "      <td>Drama</td>\n",
       "    </tr>\n",
       "    <tr>\n",
       "      <th>freq</th>\n",
       "      <td>2</td>\n",
       "      <td>4673</td>\n",
       "      <td>3</td>\n",
       "      <td>534</td>\n",
       "      <td>5590</td>\n",
       "      <td>7470</td>\n",
       "      <td>7395</td>\n",
       "      <td>7470</td>\n",
       "      <td>1767</td>\n",
       "      <td>2428</td>\n",
       "    </tr>\n",
       "  </tbody>\n",
       "</table>\n",
       "</div>"
      ],
      "text/plain": [
       "           tconst titleType originalTitle runtimeMinutes region language  \\\n",
       "count        7471      7471          7471           7470   7470     7470   \n",
       "unique       7466         7          7290            362      4        1   \n",
       "top     tt0386741     movie         Candy             60     IN       en   \n",
       "freq            2      4673             3            534   5590     7470   \n",
       "\n",
       "              types attributes main_genre secondary_genre  \n",
       "count          7470       7470       7470            7470  \n",
       "unique            5          1         22              26  \n",
       "top     imdbDisplay         \\N      Drama           Drama  \n",
       "freq           7395       7470       1767            2428  "
      ]
     },
     "execution_count": 887,
     "metadata": {},
     "output_type": "execute_result"
    }
   ],
   "source": [
    "#Revisar el contenido de las variables que no son numéricas, en este caso son categóricas\n",
    "df_movies[name_cols_non_number].describe()"
   ]
  },
  {
   "cell_type": "code",
   "execution_count": 888,
   "metadata": {},
   "outputs": [
    {
     "name": "stdout",
     "output_type": "stream",
     "text": [
      "Distribución de valores para 'tconst':\n",
      "tt0386741     2\n",
      "tt0395843     2\n",
      "tt12443930    2\n",
      "tt1535109     2\n",
      "tt0390538     2\n",
      "Name: tconst, dtype: int64\n",
      "\n",
      "\n",
      "Distribución de valores para 'titleType':\n",
      "movie           4673\n",
      "tvSeries        2340\n",
      "tvMiniSeries     379\n",
      "tvMovie           70\n",
      "MOVIE              5\n",
      "Name: titleType, dtype: int64\n"
     ]
    },
    {
     "data": {
      "image/png": "iVBORw0KGgoAAAANSUhEUgAAAY0AAAE7CAYAAAAhNN25AAAAOXRFWHRTb2Z0d2FyZQBNYXRwbG90bGliIHZlcnNpb24zLjMuMiwgaHR0cHM6Ly9tYXRwbG90bGliLm9yZy8vihELAAAACXBIWXMAAAsTAAALEwEAmpwYAAAxeklEQVR4nO3de1gU9eI/8Pey3DTsq9IiRta3TA+FJ0hNpQyTOnKRBSRT825l6vFSZigI6lfzfkhFPVCaaWlamoqKuKRy1A6iBy0VFM1T4gUMUBQBuSy78/ujh/2BCjtL7c5MvF/P0xP72WX2jei8Z+azM6MSBEEAERGRCHZSByAiIuVgaRARkWgsDSIiEo2lQUREorE0iIhINJYGERGJxtIgm7t27RqeeeYZhIWFISwsDFqtFkOGDEFKSorpNfHx8UhKSmp0OatXr8aBAwce+Fzd7//LX/6C4uLiPyT7g3IlJiZi2LBhMBqNv2vZ69atQ1RUlEXf4+/vjx07dgAA3nrrLdPPOXbsWPz3v/+9b9zf3x9ZWVmNLnPIkCEICwtDcHBwvd/TtGnTLP2RGjVixAisWrXqD10mWZ+91AGoeXJ2dsauXbtMj/Py8jB69Gio1WoEBATgvffeM7uM48eP4+mnn37gc2K+vyketNwff/wRS5YsgZ2d7bfBnJ2d0aJFCwBAenq6aXzt2rWmr+uOi/H1118D+K3ctVptvd/TH6ludlIOlgbJgoeHB6ZMmYJ169YhICAAUVFR6NSpE95++22sXLkS+/fvh4ODA9q0aYNFixZh//79yM7OxtKlS6FWq3Hw4EHcvn0bV69exSuvvIKbN2+avh8AVqxYgaysLBiNRrz//vvo27cvduzYgdTUVHz66acAUO9xeXk55s+fjx9++AFqtRqvvfYapk6diujoaNNyT5w4gaVLl6KiogJTpkzB+++/Dz8/P+zYsQP79++HnZ0dLl++DGdnZyxZsgQdO3as9zPr9XrMnz8fR48ehaurK1xdXdGqVSsAQGlpKRYsWICffvoJer0evr6+mD59Ouzt6/+TfeGFF/Dss88iOjoaADBq1CisWbMGw4YNQ3x8PDZv3lxvvK60tDQkJiZCr9fD2dkZM2bMwPPPP9/g7+jkyZOYNm0a0tLSYGdnh4qKCvj7+2Pv3r0YOHAg+vfvj/T0dJSWlmLMmDEYOnRoo+/TtWtX/PWvf23qXxmSikBkY1evXhV8fHzuG//pp58Eb29vQRAEYcaMGcJnn30m5OfnC127dhWqqqoEQRCEdevWCfv37xcEQRCGDx8u7Nu3z/T6UaNGmZZV+/2CIAidO3cWPv30U0EQBOHChQtCjx49hJs3bwrbt28X3n33XdP31H28cOFCYerUqUJNTY1QVVUlDBs2TDh27JhpucXFxYKvr69w6tQpU/YePXoIV65cEbZv3y5069ZNuH79uiAIgjBv3jxh+vTp9/28GzZsEEaOHClUVVUJ5eXlwoABA4QZM2YIgiAIUVFRwpdffikIgiDU1NQIH374obBmzZpG/1w7d+4s3Lx5UxAEQejbt69w5syZBscvXbokhISECMXFxab8L730klBeXt7o7yk0NFQ4dOiQIAiCsG3bNmHq1Kmm5c6aNUswGo3C9evXhZ49ewrnz58X9T6kLNzTINlQqVRwdnauN9auXTt4enpiwIAB8PPzg5+fH3x9fR/4/d26dWtw2W+++SYAoHPnzujYsSN+/PHHRrMcPXoU0dHRUKvVUKvV2LRpEwBg586dAIAzZ87g8ccfh7e3NwCgU6dO6Nq1K/7zn/9ApVLBy8sL7u7uAIBnn30W+/fvv+89MjIyEBISAkdHRzg6OkKr1eLChQsAgEOHDiErKwvffvstAKCysrLRvJZKT09HYWEhRo8ebRpTqVS4cuUKPD09G/y+YcOGYevWrejTpw+++eYbTJ8+3fTc0KFDoVKp4O7ujpdffhnp6elwcnJq0vuQfLE0SDaysrLQuXPnemN2dnbYtGkTsrKykJGRgYULF+Lll1+ut7Kq1bJlywaXXXe+wWg0wt7eHiqVCkKdS6/p9XrT17XP17p+/Xq9QjMYDPWeBwBBEFBTUwMHB4d6r733fRqiVqvrZYyPjzcd0rpz58597/d7GI1G+Pr6YsWKFaax69evw83NrdHv02q1WLZsGY4dO4a7d+/ihRdeMD1X99CZ0WiEnZ1dk9+H5IufniJZuHTpEhISEvDWW2/VGz9//jxCQkLQsWNHjBs3DqNHjzZ9+ketVqOmpkbU8mv3EM6ePYsrV67A29sbbdu2xcWLF1FVVQW9Xo/U1FTT6319fbFz504YjUZUV1djypQpyMzMND3v4+ODX375BWfOnAEAXLx4EZmZmejRo4fon/nll19GUlISqqqqUFVVVe/TY71798aGDRsgCAKqq6sxYcIE095OQxr683jQuK+vL9LT0/Hzzz8DAA4fPozQ0FCzezQtWrRAaGgoZs6ciSFDhtR7rvZTZfn5+UhPTzftFTblfUi+uKdBkqisrERYWBiA3/YCnJyc8MEHH+CVV16p9zpPT08EBQXh9ddfR8uWLeHs7IzY2FgAv318dNmyZfX2EBpy9epVhIeHQ6VSYdmyZWjdujVeeuklvPDCCwgKCoJGo0HPnj1Nh4cmTZqEBQsWICwsDAaDAcHBwejXrx/S0tIAAG3btkV8fDw++ugjVFZWQqVSYdGiRXjyySfNHvqqNWTIEFy5cgUhISFo3bo1nnjiCdNzMTExWLBgAbRaLfR6PV588UW88847jS4vMDDwgR9jfdD4008/jXnz5uGDDz6AIAiwt7dHYmIiHnroIbO5IyIisHXrVoSHh9cbv3btGiIiIlBZWYnY2Fg89dRTANDk9yF5Ugli9puJiPDbIbi1a9ciLy8Pc+fONY37+/sjPj6en4ZqBrinQUSivfrqq3Bzc0NCQoLUUUgi3NMgIiLROBFORESisTSIiEg0lgYREYnG0iAiItH+9J+eunWrHEajdeb6XV1dcPNmmVWWbQvMLy0l51dydoD5G2Nnp0KbNg2fR/OnLw2jUbBaadQuX8mYX1pKzq/k7ADzNxUPTxERkWgsDSIiEo2lQUREorE0iIhINJYGERGJxtIgIiLRWBpERCTan/48DUu0ergFnJ0s+yPRaFqJfm1lVQ1K71RYGouISDZYGnU4O9lDO22X1Za/5+MwlFpt6URE1sfDU0REJBpLg4iIRGNpEBGRaCwNIiISjaVBRESisTSIiEg0lgYREYnG0iAiItFYGkREJBpLg4iIRGNpEBGRaCwNIiISjaVBRESisTSIiEg0lgYREYnG0iAiItFYGkREJBpLg4iIRGNpEBGRaCwNIiISjaVBRESisTSIiEg0lgYREYnG0iAiItGsXhpLlixBVFQUAODo0aPQarXo168fli9fbnpNTk4OIiIiEBAQgJiYGNTU1AAA8vPzMWzYMAQGBmLChAkoLy+3dlwiImqEVUsjIyMDO3fuBABUVlZi5syZSEhIQEpKCrKzs3H48GEAQGRkJGbPno3U1FQIgoCtW7cCAObOnYuhQ4dCp9OhS5cuSEhIsGZcIiIyw2qlcfv2bSxfvhzjx48HAJw5cwZPPPEEOnToAHt7e2i1Wuh0OuTl5aGyshI+Pj4AgIiICOh0Ouj1emRmZiIgIKDeOBERScdqpTF79mxMnToVDz/8MACgsLAQGo3G9LybmxsKCgruG9doNCgoKMCtW7fg4uICe3v7euNERCQde2ssdNu2bWjfvj18fX2xY8cOAIDRaIRKpTK9RhAEqFSqBsdr/1/XvY/FcHV1aeJPYR0aTSupI9QjtzyWYn7pKDk7wPxNZZXSSElJQVFREcLCwlBSUoK7d+8iLy8ParXa9JqioiK4ubnB3d0dRUVFpvEbN27Azc0Nbdu2RWlpKQwGA9Rqten1lrp5swxGoyDqtbb4JRQVlVr9PcTSaFrJKo+lmF86Ss4OMH9j7OxUjW5sW+Xw1Pr165GcnIxdu3ZhypQp8Pf3x2effYZLly7h8uXLMBgMSE5Ohp+fHzw8PODk5ISTJ08CAHbt2gU/Pz84ODige/fuSElJAQAkJSXBz8/PGnGJiEgkq+xpPIiTkxMWL16MyZMno6qqCn369EFgYCAAIC4uDrGxsSgrK4OXlxdGjhwJAJgzZw6ioqKQmJiI9u3bY9myZbaKS0RED6ASBEHcsRuFsvTwlHbaLqtl2fNxmKx2ibmLLi0l51dydoD5GyPJ4SkiIvpzYmkQEZFoLA0iIhKNpUFERKKxNIiISDSWBhERicbSICIi0VgaREQkGkuDiIhEY2kQEZFoZkvjxo0bOHjwIADgH//4B0aNGoXz589bPRgREcmP2dKIiorC1atXkZGRge+//x5hYWGYP3++LbIREZHMmC2N27dvY/To0Thy5AhCQkIQERGBiooKW2QjIiKZMVsaer0eer0e33//PV588UVUVFTg7t27tshGREQyY7Y0Xn31Vfj6+qJNmzbo0qUL3njjDYSEhNgiGxERyYzZmzBNmTIFgwYNQrt27QD8dsMkT09PqwcjIiL5MVsa1dXVyMrKwrFjxwAABoMB+/btw9SpU60ejoiI5MVsaUydOhVXr15FUVERnn32WZw+fRo9evSwRTYiIpIZs3MaOTk52LFjB1599VXMnDkTW7ZsQUlJiS2yERGRzJgtDTc3N9jb2+N///d/8dNPP6FTp04oLVXuvXWJiKjpzJZGy5YtsWfPHnh6emLfvn24cOECP3JLRNRMmS2NWbNmIScnBy+99BLs7OwwfPhwvPXWW7bIRkREMmN2IvzJJ5/E9OnTAQArVqywdh4iIpKxBktDq9U2+o179uz5w8MQEZG8NVgas2bNsmUOIiJSgAZLo/ZcjNu3b9sqCxERyZzZOY1evXpBpVJBEASoVCoAgEajwZEjR6wejoiI5MVsadS94VJ1dTWSk5Nx6dIlq4YiIiJ5suh2r46OjoiIiEB6erq18hARkYyZ3dOoO6chCAKys7Nx584da2YiIiKZEjWnUZerqytiYmKsFoiIiORL1JxG7SS4wWCA0WiEg4ODLbIREZHMmJ3TOH78OMLCwgAAv/zyC1555RX8+OOPVg9GRETyY7Y0lixZgkWLFgEAOnXqhDVr1pgeExFR82K2NPR6Pby8vEyPvby8UF1dbdVQREQkT2ZLo0WLFvVO5MvIyEDLli2tGoqIiOTJ7ER4TEwMJk6cCHt7e6hUKqhUKqxatUrUwuPj45GamgqVSoWBAwdizJgxOHr0KBYtWoSqqioEBQWZ7jWek5ODmJgYlJeXo3v37pg7dy7s7e2Rn5+PyMhI3Lx5E08++STi4uLw0EMP/b6fmoiImqTBPQ1BEAAA3t7eOHToEBISEvDJJ59Ap9PVO1zVkP/85z84duwYdu/eje3bt2Pjxo04f/48Zs6ciYSEBKSkpCA7OxuHDx8GAERGRmL27NlITU2FIAjYunUrAGDu3LkYOnQodDodunTpgoSEhD/i5yYioiZosDSGDh2KvLw83L59G2VlZXj00UfRrl073L17V9RFDHv06IEvv/wS9vb2uHnzJgwGA+7cuYMnnngCHTp0gL29PbRaLXQ6HfLy8lBZWQkfHx8AQEREBHQ6HfR6PTIzMxEQEFBvnIiIpNHg4am+ffti3rx5pj2BulQqFXJycswu3MHBAStXrsTnn3+OwMBAFBYWQqPRmJ53c3NDQUHBfeMajQYFBQW4desWXFxcYG9vX2/cEq6uLha93to0mlZSR6hHbnksxfzSUXJ2gPmbqsHSePfdd/+QN5gyZQrGjh2L8ePHIzc313SlXACmkwaNRuMDx+teWbfWvY/NuXmzDEajIOq1tvglFBWVWv09xNJoWskqj6WYXzpKzg4wf2Ps7FSNbmw3WBrmDkG1bt260ed//vlnVFdX45lnnkGLFi3Qr18/6HQ6qNVq02uKiorg5uYGd3d3FBUVmcZv3LgBNzc3tG3bFqWlpTAYDFCr1abXExGRNBosjbr30biXmMNT165dw8qVK7FlyxYAwMGDBzFkyBAsXboUly9fxmOPPYbk5GS8/vrr8PDwgJOTE06ePIlu3bph165d8PPzg4ODA7p3746UlBRotVokJSXBz8/vd/7IRETUVA2WRt37aDRFnz59cObMGYSHh0OtVqNfv37o378/2rZti8mTJ6Oqqgp9+vRBYGAgACAuLg6xsbEoKyuDl5cXRo4cCQCYM2cOoqKikJiYiPbt22PZsmW/KxcRETWdSnjQrkQdRqMR69evx8WLFxEbG4uvvvoK77zzTr3DTHJm6ZyGdtouq2XZ83GYrI6j8riutJScX8nZAeZvjLk5DbNnhC9duhQXLlzA6dOnIQgCvv/+e157ioiomTJbGhkZGVi8eDGcnJzQqlUrfP7557xzHxFRM2W2NOzt7WFn9/9f5ujoaDpvgoiImheza//OnTvjq6++gsFgwC+//IINGzbA09PTFtmIiEhmzO5pxMTE4OzZs7h58ybefPNNlJeXY+bMmbbIRkREMmN2T8PFxQULFy60RRYiIpI5s3saRUVFeO+999CtWzf06NEDUVFRKCkpsUU2IiKSGbOlERUVhccffxxJSUnYunUr2rRpg1mzZtkiGxERyYzZw1O//vor1q1bZ3o8Y8YMBAcHWzUUERHJk9k9jUcffRRXrlwxPS4sLORFA4mImimzexp2dnYIDw9H7969oVarkZGRAXd3d4wfPx4A8Mknn1g9JBERyYPZ0ggMDDRdVBAArzJLRNSMmS2NAQMG2CIHEREpgNk5DSIiolosDSIiEo2lQUREook6I/zdd99FQEAAbty4gbfffhuFhYW2yEZERDJjtjTmzp2L1157DU5OTvif//kfeHp6IjY21hbZiIhIZsyWRl5eHgYNGgQ7Ozs4ODggMjIS169ft0U2IiKSGbOloVKpYDQaTY/LysrqPSYioubD7Hka/fr1w4cffojS0lJ8/fXX2LZtG4KCgmyRjYiIZMZsaYwfPx5JSUkwGo04evQoBg8ejDfeeMMW2YiISGZE3ew7PDwc4eHhVo5CRERy12Bp+Pv7Q6VSNfiNBw8etEogarpWD7eAs5Oo7QATjaaV6NdWVtWg9E6FpbGI6E+kwTXMypUrAQCbN2+Gg4MDBg8eDLVajR07dkCv19ssIInn7GQP7bRdVlv+no/DUGq1pROREjRYGl26dAEAXLx4Edu2bTONR0dHY+DAgdZPRkREsmP2I7d37txBcXGx6XFBQQHKysqsGoqIiOTJ7AHwUaNGQavVonfv3hAEAenp6YiMjLRFNiIikhmzpTF06FB07doVGRkZAIB33nkHnTt3tnowIiKSH1EftfH09ISnp6e1sxARkczx0uhERCQaS4OIiEQTdXiqvLwcZ8+eRU1NDZ577jm4uLhYOxcREcmQ2dI4c+YM/v73v8PV1RVGoxEFBQX45JNP0LVrV1vkIyIiGTFbGkuWLEFcXBx69eoFAMjIyMDixYuxdetWq4cjIiJ5MTunUV5ebioMAPD19UVFhbjrD61evRr9+/dH//79sXTpUgDA0aNHodVq0a9fPyxfvtz02pycHERERCAgIAAxMTGoqakBAOTn52PYsGEIDAzEhAkTUF5ebtEPSEREfxxRN2HKy8szPb527RrUarXZBR89ehT//ve/sXPnTiQlJeHs2bNITk7GzJkzkZCQgJSUFGRnZ+Pw4cMAgMjISMyePRupqakQBMG0JzN37lwMHToUOp0OXbp0QUJCQlN/ViIi+p3MlsbEiRMxePBgREZGYvr06Rg0aBAmTJhgdsEajQZRUVFwdHSEg4MDOnbsiNzcXDzxxBPo0KED7O3todVqodPpkJeXh8rKSvj4+AAAIiIioNPpoNfrkZmZiYCAgHrjREQkDbNzGj4+Pvjyyy9x7NgxGI1GjBs3Dh07djS74E6dOpm+zs3Nxb59+zB8+HBoNBrTuJubGwoKClBYWFhvXKPRoKCgALdu3YKLiwvs7e3rjVvC1VVen/Sy5FLkciS3/HLLYykl51dydoD5m8psaQwfPhw6nQ5PPfVUk97g4sWLGDduHKZPnw61Wo3c3FzTc4IgmO5BXvfeHbXjtf+vq7F7fDzIzZtlMBoFUa+1xS+hqMh6FxdXen5LaTStZJXHUkrOr+TsAPM3xs5O1ejGttnDUx4eHvjhhx9gNBotfvOTJ09i9OjRmDZtGgYMGAB3d3cUFRWZni8qKoKbm9t94zdu3ICbmxvatm2L0tJSGAyGeq8nIiJpmC2Nn3/+GUOHDsVzzz2Hrl274vnnnxd1jsb169cxceJExMXFoX///gAAb29vXLp0CZcvX4bBYEBycjL8/Pzg4eEBJycnnDx5EgCwa9cu+Pn5wcHBAd27d0dKSgoAICkpCX5+fr/n5yUiot/B7OGpr776qkkLXrduHaqqqrB48WLT2JAhQ7B48WJMnjwZVVVV6NOnDwIDAwEAcXFxiI2NRVlZGby8vDBy5EgAwJw5cxAVFYXExES0b98ey5Yta1IeIiL6/cyWhoeHB3Q6HXJycjB+/HgcPHgQISEhZhccGxuL2NjYBz63e/fu+8Y8PT3x7bffPvD9N27caPb9iIjI+swenlqzZg22bNkCnU6HyspKrF69Gv/85z9tkY2IiGTGbGns3bsXa9euRYsWLdCmTRts3boVycnJtshGREQyY7Y07O3t4ejoaHr88MMPm86bICKi5sXs2r99+/Y4dOgQVCoVqqursW7dOnh4eNgiGxERyYzZ0pg1axamT5+OCxcuwMfHB97e3oiLi7NFNiIikhmzpdGuXTt88cUXqKiogMFg4A2YiIiaMbOlUVRUhJ07d+L27dv1xqdPn26tTEREJFNmJ8InTJiAM2fOQBCEev8REVHzY3ZPQ6/XY/Xq1bbIQkREMmd2T8PLyws//fSTLbIQEZHMmd3T6Nq1K8LDw6HRaOqdn3Hw4EGrBiMiIvkxWxrr1q1DXFwcHn/8cVvkISIiGTNbGg8//DCCg4NtkYWIiGTObGn06tULS5YsQb9+/epdTsTLy8uqwYiISH7MlsaePXsAAKmpqaYxlUrFOQ0iombIbGmkpaXZIgcRESmA2dJYv379A8fHjBnzh4chIiJ5a7A0rl69ig4dOtQ7R6O6uhqZmZnw9fW1STgiIpKXBksjPDwcs2bNwqJFi+qNFxQUICYmxurBiIhIfho8I3zbtm0oLi6+b7xdu3bIy8uzaigiIpKnBvc0nnrqKTz11FP15jQEQUB2djZcXV1tEo6IiOTF7ET4vdedat++PS+LTkTUTJktjXvnNIiIqPlqsDSio6Mb/CaVSoWFCxdaJRAREclXg6XRqVOn+8Zu3bqFL774Ah4eHlYNRURE8tRgabz11lv1Hh89ehQzZsyAVqtFbGys1YMREZH8mJ3TqKmpwccff4ydO3di7ty5CAgIsEUuIiKSoUZLIzc3Fx988AEeeughJCUlwd3d3Va5iIhIhho8uW/79u0YNGgQ/va3v2Hjxo0sDCIianhPIyYmBnZ2dlizZg3Wrl1rGhcEASqVCj/88INNAhIRkXw0WBq8XwYREd2rwdLgx2qJiOheDc5pEBER3YulQUREorE0iIhINKuWRllZGUJCQnDt2jUAv51VrtVq0a9fPyxfvtz0upycHERERCAgIAAxMTGoqakBAOTn52PYsGEIDAzEhAkTUF5ebs24RERkhtVK4/Tp03jzzTeRm5sLAKisrMTMmTORkJCAlJQUZGdn4/DhwwCAyMhIzJ49G6mpqRAEAVu3bgUAzJ07F0OHDoVOp0OXLl2QkJBgrbhERCSC1Upj69atmDNnDtzc3AAAZ86cwRNPPIEOHTrA3t4eWq0WOp0OeXl5qKyshI+PDwAgIiICOp0Oer0emZmZpsuW1I4TEZF0zF57qqkWLFhQ73FhYSE0Go3psZubGwoKCu4b12g0KCgowK1bt+Di4gJ7e/t640REJB2rlca9jEYjVCqV6XHtmeUNjdf+v657H4vh6urS9NBWoNG0kjrC7yK3/HLLYykl51dydoD5m8pmpeHu7o6ioiLT46KiIri5ud03fuPGDbi5uaFt27YoLS2FwWCAWq02vd5SN2+WwWgURL3WFr+EoqJSqy1b6fktpdG0klUeSyk5v5KzA8zfGDs7VaMb2zb7yK23tzcuXbqEy5cvw2AwIDk5GX5+fvDw8ICTkxNOnjwJANi1axf8/Pzg4OCA7t27IyUlBQCQlJQEPz8/W8UlIqIHsNmehpOTExYvXozJkyejqqoKffr0QWBgIAAgLi4OsbGxKCsrg5eXF0aOHAkAmDNnDqKiopCYmIj27dtj2bJltopLREQPYPXSSEtLM33t6+uL3bt33/caT09PfPvtt/eNe3h4YOPGjVbNR0RE4vGMcCIiEo2lQUREorE0iIhINJYGERGJxtIgIiLRWBpERCQaS4OIiERjaRARkWgsDSIiEo2lQUREorE0iIhINJYGERGJxtIgIiLRWBpERCQaS4OIiERjaRARkWgsDSIiEo2lQUREorE0iIhINJYGERGJxtIgIiLRWBpERCSavdQBiGq1ergFnJ0s+yup0bQS/drKqhqU3qmwNBYR1cHSINlwdrKHdtouqy1/z8dhKLXa0omaBx6eIiIi0VgaREQkGkuDiIhEY2kQEZFoLA0iIhKNpUFERKKxNIiISDSWBhERicbSICIi0VgaREQkGkuDiIhEY2kQEZFoirhg4Z49e5CYmIiamhqMGjUKw4YNkzoS0X14lV5qDmRfGgUFBVi+fDl27NgBR0dHDBkyBD179sTTTz8tdTSieniVXmoOZF8aR48eRa9evdC6dWsAQEBAAHQ6HSZNmiTq++3sVBa9n1ubFpZGtIileSzF/I1j/j+OnLI0BfM3bbkqQRAEq7zzH+TTTz/F3bt3MXXqVADAtm3bcObMGXz00UcSJyMian5kPxFuNBqhUv3/5hMEod5jIiKyHdmXhru7O4qKikyPi4qK4ObmJmEiIqLmS/al8eKLLyIjIwPFxcWoqKjAd999Bz8/P6ljERE1S7KfCG/Xrh2mTp2KkSNHQq/XY+DAgXjuueekjkVE1CzJfiKciIjkQ/aHp4iISD5YGkREJBpLg4iIRGNpEBGRaCwNIiISjaVBRESisTSamcLCQgDAiRMn8NVXX6GyslLiROJduXIFu3fvhiAImDVrFl5//XVkZWVJHcsie/bswfLly1FRUYGkpCSp4zQ7165dw6FDh2AwGHD16lWp4ygSS8NCeXl5GDNmDPr164fCwkKMHDkS165dkzqWKHPmzMGKFSvw3//+F9OmTcPZs2cRGxsrdSzRoqOjYTQacfDgQeTm5iI6OhoLFiyQOpZocXFxOHz4ML777jsYDAZs374dixcvljqWWStWrDB9nZ6eXu+59957z8Zpmi4lJQUTJkzA/Pnzcfv2bQwZMgS7dlnvUvZ/NLmse1gaFpo9ezbefvttPPTQQ9BoNAgJCcGMGTOkjiVKVlYWFixYgH379mHgwIFYuHAhLl26JHUs0aqqqhAeHo5//etf0Gq16N69O6qrq6WOJdq///1v/OMf/4CTkxNcXFywfv16HDlyROpYZh0+fNj0dVxcXL3nLl++bOs4TbZ27Vps2bIFLi4ucHV1xc6dO7FmzRqpY4kml3UPS8NCt27dQu/evU1X2x00aBDKysqkjiWKwWAwban7+fmhoqICFRXKuROcWq1GamoqDh06hFdeeQUHDhyAnZ1y/grXZq29SnN1dbUi8te9aMS9F5BQ0hWn7ezs4OLiYnrs5uamiD//WnJZ98j+2lNy4+zsjF9//dX0j+XEiRNwdHSUOJU44eHh6N27N7p27Qpvb28EBwdj8ODBUscSbd68ediwYQPmzJkDNzc37N27F/Pnz5c6lmiBgYF4//33UVJSgg0bNmD37t0ICQmROpZFlFQS9+rUqRM2bdqEmpoa5OTkYPPmzfD09JQ6lmhyWffw2lMWOnPmDGbNmoUrV67g8ccfR0lJCVasWAEfHx+po4liNBpNW1fFxcVo27atxIksc/XqVfz88894+eWXkZ+fjw4dOkgdySLff/89jh49CqPRiF69eqFv375SRzJrwIAB2Llz531fP+ixnN29exeJiYn1/vwnTpxYb+9DzuSy7mFpNIFer0dubi4MBgOeeuopxexp5OXlITY2Fnl5edi0aRM+/PBDLFy4EI899pjU0URJSUlBYmIiKisr8fXXXyM0NBTTp09HWFiY1NEadfbsWXh5eSEzM/OBz7/wwgs2TmQZT09P09Zt3Zug1X6dk5MjZbxmRQ7rHpaGSKtWrcLkyZMRHR39wOcXLVpk40SWe/vttzFmzBjExcVh586d2LZtG3bt2oWvvvpK6miiDBgwABs3bsTw4cORlJSEwsJCjBkzBnv37pU6WqNmzZqFjz76CCNGjLjvOZVKhS+//FKCVM1H7d5Q3fIDlFN6clv3cE5DJC8vLwBAjx49JE7SdLUTaXFxcaaJNKUUBqDcicza+9nHxMQo6hh6rfz8/Eaff/TRR22UpGlqD59lZ2fD3l55qzy5rXuU9ycoEX9/fwBATk4OQkND0aVLF4kTWU4uE2lNpfSJzJkzZ0Kv10Or1UKr1aJ9+/ZSRxJl+PDhDT6nUqlw8OBBG6Zpur59+yIgIAChoaGKupGb3NY9PDxloU2bNmHv3r0oKSkx/eNXypyAXCbSmkrpE5kAkJubi71790Kn06F169YICwvDwIEDpY7VLJSUlOC7775DcnIyCgoKEBISgtDQUDz++ONSRxNFLuselkYTXb9+HSkpKdi9ezceeughbN68WepIoshhIq25u3v3Lg4ePIj169ejrKwM3333ndSRGhUREYE33ngDWq1WUQXdmKysLMyZMwfnz5/HuXPnpI5jEanXPTw81QSlpaVIT09Heno6DAYDXnrpJakjNUpuE2mWUvpEZq39+/djz549OH36NPr27YvY2Fh07dpV6lhmRUdHIykpCatXr4avry9ef/11+Pr6Sh3LYsXFxdi3bx9SUlJQUlKCkJAQrF69WupYFpHDuod7GhYaP348zp49i7/97W8ICwuDt7e31JHMSktLg7+/f4Ofpx8wYICNEzXN+fPnFTWHca/JkycjLCwMffr0gYODg9RxLFZdXY0DBw5g165dyM3NRWhoKCIiIhQzN/Pyyy8jKCgIWq0Wf/3rX6WOYzG5rHtYGhZKS0uDn5+fIj+F8fbbb2PdunVSx2iyoKAg7Nu3T+oYv8vhw4dx7Ngx1NTUoGfPnnjttdekjtQkN2/eRHx8PHbs2IHs7Gyp44hSVlaGq1evQqVS4cknn4STk5PUkSwil3WP8tZ8EvP29saHH36IjIwMGAwG9OzZE3PnzsUjjzwidTSzKisrcf36dcVsGd7r6aefxurVq+Ht7Q1nZ2fTuNxPjqv12WefITU1FVqtFoIg4JNPPsHFixcxYcIEqaOJlpubi+TkZKSkpMDd3R1LliyROpIoCQkJWLduHRwdHaHX6yEIAsaOHYvx48dLHU00uax7uKdhoUmTJuH555/H4MGDYTQa8c033+DEiRP49NNPpY5mVlBQEHJzc+Hq6gonJyfTnIBSPjKp9JPjtFottm3bZiq8iooKREREyH7vqbCw0DTxWlZWhvDwcAwYMEAxGx+bN2/Gnj17MH/+fHTs2BEAcPHiRcyaNQthYWF48803JU4ojmzWPQJZJDQ09L6xkJAQCZJY7tq1aw/8j2yjf//+9R4bDAZF/N15/vnnhRkzZgjHjh2TOkqThIeHC8XFxfeN37hxQ9BqtRIkahq5rHvkfzqtzKhUKly/ft30OD8/X/JjjGJ5eHjghx9+wNatW9G2bVtkZmbCw8ND6lii1b0JTVFRkaJugAUAvXr1wuTJk5GWloa0tDS8//776Nmzp9SxzDpy5AgWL14MHx8f5OTk4Pz586iqqpI6lmg1NTVo06bNfeOurq73XepdzuSy7lHG2k5G3nvvPQwePNj0yYVTp06ZLhMhd3Fxcfj1119x9uxZjB07Ftu3b8f58+cRFRUldTRRam9CExcXh0ceecR0ExqlXAolJiYGmzdvRlJSEgRBQK9evRRxaXoXFxckJiZi7dq1cHR0RE1NjaLmBAwGwwOv6FxcXKyoS72///77pnWPIAg4ffq0JOse7mlYyNvbG4MGDUJ+fj7y8vLw6quvKubTI0q9c1yt2mtnAVDcDbCA3zIPGzYMK1euxKpVqzBs2DBF7KVu3rwZR44cwbZt23Ds2DGcOHECX3/9NQ4dOoQtW7ZIHc+sQYMG4YMPPqi3lZ6bm4vJkydj6NChEiYTJykpCUlJSbh9+zZGjhyJXr16oWfPnhg5ciRu375t8zzy/xsrM2PHjsVf/vIXRdwH4V5KvXNcLaVeO+vekxJrCQo5OXHbtm34/PPP6x3i6dSpE/75z39izJgxsp9IHj16NEpLSxEcHIyWLVuipqYGNTU1GD9+PIYMGSJ1PLOioqLg6uoKX1/f+87v+eWXXxAeHm7TPCyNJli4cKHUEZpE6XeOi46Oxrhx43DlyhWEhYWhpKQE8fHxUscya8SIEThx4gR8fHwQHByM7t27K+qwiNLnBJKSktChQwdERkaioqICKpUKzs7OaNmyJZKSkmy+0rXUzp07kZKSgvT0dHh6eiI4OBgvvviiZBt8/MithRITE/HII4+gV69eUKvVpnG5Xx66lhLvHFeXkq+ddeLECaSkpODUqVPo3r07+vfvr4grCgQHB2PTpk0PnBMYPXo0du/eLVEycTw9PRvcUgfkfxmdurKyspCSkoLjx4+jS5cu6N+/v80/TMHSsNDHH3+MTZs21dvyUsK5DgaDAQaDAY6OjigrK0N6ejo6d+6MJ598UupoovzrX//C008/jQ4dOuDAgQP49ttv8eyzz2LChAmKuySH0WjE8ePHER8fj8LCQqSlpUkdqVEbNmzAoUOHsGjRItO5Gbm5uYiJiYFWq5X9IZ6cnBxZban/EU6cOIG4uDhcuHABP/74o03fm6VhoZCQEHz77bf1zkiWu6ysLPz973/HokWL4OPjg/DwcGg0GhQXFyMyMlL2l7JYt24dUlJSsGTJEtTU1GDIkCGIiYlBTk4O1Go1YmJipI4oWnZ2NlJTU3HgwAE8+uijCAoKUsSl0VetWoXPP//8vjmBsWPHSh3NInLYUm8KQRCQmZkJnU6HI0eO4JlnnkFgYCD69u2Lli1b2jQLS8NC48aNw7x589CuXTupo4g2YsQITJ06FV27dsXGjRuRlJSE7du3o6ioCOPGjcOOHTukjtio0NBQfPPNN2jRogXi4uKQn5+PZcuWQRAEBAcHy/6M6tOnT0On0yEtLQ2PPfYYgoKC8Nprr6F169ZSRxMlKSkJwG+XdL93TgCA7OcEHkTKLXVLzZkzB99//z2effZZBAUFwd/fHy1atJAsDyfCLaTX69G/f3906tSp3mEROV/KoqSkxHQJ7oyMDAQEBAAANBoN9Hq9lNFEUalUpn8kx48fN31MUimTyYMHD0b79u3h7++PNm3a4Ndff8WmTZtMz0+aNEnCdOY19ukdQBml8aAt9REjRihiTu+bb75B69atce7cOZw7dw7Lli2r97ytD42zNCykhJOZ7lW7M6nX65GZmWm6QJ5er0d5ebmU0URRq9W4c+cO7t69i5ycHNM9BPLy8hRxnsPEiRMVU3APIrdP71jq3i31yMhISbfULSW3+VIenmoG5s2bB0EQoNfrcerUKdPtLhMTE2E0GjFv3jypIzZKp9Nh6dKlqKmpgb+/P/7v//4PKSkpWL58OSZOnKiILV0AOHDgAF555RVFFF1DlDgn4OnpidatW5sOp91b4HJbKcsdS6MZqK6uxhdffIEbN25g5MiR8PDwwPLly1FQUIDZs2fbfCKtKQoKCnDr1i3TTZgOHz4MZ2dn2a+w6poyZQpOnTqFvn37IjQ0FN26dZM6UpMpaU4gLy+v0eeVdP01OWBpNCNK3dI9e/YsvLy8kJmZ+cDnlXI/DeC3GwEdOHAA+/btw5UrVxAYGIj33ntP6lhmyenTOyQtZa096HfZvXs35s2bp7gt3S1btmD+/PlYuXLlfc8p6X4awG8X/+vWrRt+/fVXXL9+XfZb6YDy5wToj8U9jWZGqVu6fwbr169HcnIyqqurERoaCq1WC3d3d6ljmcU5AaqLexrNjBK3dGudO3cOn3zyCUpKSupd80gpexo//PADFixYYJqXAYBRo0bhiy++kDCVeSwFqoul0Yzcu6W7Zs0aRWzp1poxYwYGDx6MTp06KeojrJMmTUJOTg4KCwtx7tw507jBYFDEnz8niqkulkYzotQt3VrOzs4YPny41DEstnjxYty+fRsLFixAbGysadze3h6urq4SJiOyHOc0moG6W7pubm6m8dot3a+//lrCdOLFx8ejbdu26N27N5ycnEzjSrnCMNGfAUujGSgrK2t0S1cpH8H19/e/b0wJVxgm+jNhaRARkWjK2MSkZm3VqlWYPHkyoqOjH/i8km6iQ6R0LA2SPS8vLwBAjx49JE5CRDw8RUREonFPg2TP09Oz3nkZgiBApVKZ/p+TkyNhOqLmhaVBsjdixAicOHECPj4+CA4ORvfu3RV1ch/RnwkPT5FinDhxAikpKTh16hS6d++O/v37w9vbW+pYRM0KS4MUx2g04vjx44iPj0dhYSHS0tKkjkTUbPDwFClKdnY2UlNTceDAATz66KP4+9//LnUkomaFexoke6dPn4ZOp0NaWhoee+wxBAUF4bXXXkPr1q2ljkbU7LA0SPY8PT3Rvn17+Pv7o02bNvc9P2nSJAlSETVPPDxFsjdx4kR+WopIJrinQYqh1HucE/2Z2EkdgEis3bt3w9/fH3PmzMHJkyeljkPULHFPgxSF9zgnkhb380lRlHyPc6I/A+5pkGLce49zrVariHtsE/2ZcE+DFEPp9zgn+jNgaZDs1b3H+blz50zjtfc4JyLb4eEpkr0/yz3Oif4MWBpERCQaz9MgIiLRWBpERCQaS4OIiERjaRARkWgsDSIiEu3/ATV8Li13rUwAAAAAAElFTkSuQmCC",
      "text/plain": [
       "<Figure size 432x288 with 1 Axes>"
      ]
     },
     "metadata": {},
     "output_type": "display_data"
    },
    {
     "name": "stdout",
     "output_type": "stream",
     "text": [
      "\n",
      "\n",
      "Distribución de valores para 'originalTitle':\n",
      "Candy        3\n",
      "Life         3\n",
      "Monster      3\n",
      "Limitless    3\n",
      "Taken        3\n",
      "Name: originalTitle, dtype: int64\n",
      "\n",
      "\n",
      "Distribución de valores para 'runtimeMinutes':\n",
      "60    534\n",
      "30    340\n",
      "45    184\n",
      "22    138\n",
      "43    114\n",
      "Name: runtimeMinutes, dtype: int64\n",
      "\n",
      "\n",
      "Distribución de valores para 'region':\n",
      "IN    5590\n",
      "CA    1782\n",
      "US      94\n",
      "GB       4\n",
      "Name: region, dtype: int64\n"
     ]
    },
    {
     "data": {
      "image/png": "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",
      "text/plain": [
       "<Figure size 432x288 with 1 Axes>"
      ]
     },
     "metadata": {},
     "output_type": "display_data"
    },
    {
     "name": "stdout",
     "output_type": "stream",
     "text": [
      "\n",
      "\n",
      "Distribución de valores para 'language':\n",
      "en    7470\n",
      "Name: language, dtype: int64\n"
     ]
    },
    {
     "data": {
      "image/png": "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",
      "text/plain": [
       "<Figure size 432x288 with 1 Axes>"
      ]
     },
     "metadata": {},
     "output_type": "display_data"
    },
    {
     "name": "stdout",
     "output_type": "stream",
     "text": [
      "\n",
      "\n",
      "Distribución de valores para 'types':\n",
      "imdbDisplay    7395\n",
      "working          38\n",
      "alternative      24\n",
      "festival         11\n",
      "dvd               2\n",
      "Name: types, dtype: int64\n"
     ]
    },
    {
     "data": {
      "image/png": "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",
      "text/plain": [
       "<Figure size 432x288 with 1 Axes>"
      ]
     },
     "metadata": {},
     "output_type": "display_data"
    },
    {
     "name": "stdout",
     "output_type": "stream",
     "text": [
      "\n",
      "\n",
      "Distribución de valores para 'attributes':\n",
      "\\N    7470\n",
      "Name: attributes, dtype: int64\n"
     ]
    },
    {
     "data": {
      "image/png": "iVBORw0KGgoAAAANSUhEUgAAAY0AAAEKCAYAAADuEgmxAAAAOXRFWHRTb2Z0d2FyZQBNYXRwbG90bGliIHZlcnNpb24zLjMuMiwgaHR0cHM6Ly9tYXRwbG90bGliLm9yZy8vihELAAAACXBIWXMAAAsTAAALEwEAmpwYAAAniklEQVR4nO3de1zUdb7H8dfAAGpYCWdGiMy0LDZ4JBm1kjWUtYKXWY1uimXWqVOeytYKF4FkaVW0ZXXzGO7asct2Oa1uCEk01tZmpVRkPVQ6pO2mROiOI1kCyW1mzh89nCMpzs9iYIz38/Hwgb/v7zKf3+jwnt/3+7uYvF6vFxEREQNCersAERE5eSg0RETEMIWGiIgYptAQERHDFBoiImKYQkNERAxTaEiP+PLLL/nZz37G5MmTmTx5Mna7nalTp1JRUeFb5rHHHqO0tPS421mxYgV/+9vfjjnvyPXPP/98vvrqq26p/Vh1rVy5kunTp+PxeH7UtlevXk12dvYJrTN27FhKSkqOu8y2bduYP3++b/r222/v8v248847+cc//sH777/PpEmTTqgWgLVr1/L888+f8HqHnX/++bz//vs/eH3pWebeLkD6jn79+lFWVuabrq+vZ+bMmYSGhpKWlsb999/vdxvvv/8+55577jHnGVn/hzjWdj/++GOWLFlCSEjPf+/q168f/fv3P+4y//jHP3A6nb7pTZs2dbnsE088AUBDQ8MPqmfLli2MGDHiB60LxvZHgodCQ3pNXFwcs2fPZvXq1aSlpZGdnc2IESP493//d5YvX87rr79OWFgYgwYNorCwkNdff53q6moeffRRQkNDeeONN/j666+pq6vjyiuvpKGhwbc+wB/+8Ae2b9+Ox+PhV7/6FVdddRUlJSVs2LCBP/3pTwCdppubm1mwYAEfffQRoaGhXHPNNcyZM4d58+b5tvvhhx/y6KOPcujQIWbPns2vfvUrbDYbJSUlvP7664SEhFBbW0u/fv1YsmQJ55xzTqd9bm9vZ8GCBWzevJno6Giio6MZOHAgAI2NjSxcuJCdO3fS3t5OSkoKc+fOxWzu/DG95JJLuOCCC/B4PCxatIitW7fS3NyM1+tlwYIFnHHGGSxfvpzGxkbmzZvnW+/WW29l1apVTJ8+nQsvvJAdO3bwwAMPUFhYyGOPPQbAt99+y+zZs6mtreXUU0/lkUceYdiwYZ3+bQDf9FlnncWbb77Jpk2b6NevH9OnT2flypW89tpreDwe4uLiyM/PZ/Dgwbz22musXLkSk8lEaGgoc+fO5ZJLLuGyyy7jvPPOC8x/Mul26p6SXhUfH8/OnTs7te3du5dnnnmGl156iZKSEsaMGcO2bduYPn06iYmJzJ07l1/84hcAtLS08Morr5CVlXXUts8880zWrVvH7373O7Kzs/12Vy1fvpzW1lYqKiooLS3lo48+4oMPPvDNP3DgALNnzyY3N5f169ezZMkSsrKyqKurA6CqqoqHH36Y8vJyRo4cyapVq456jRdeeIHdu3fzyiuv8OSTT7J3717fvEWLFpGQkEBJSQmlpaUcOHCAp5566qhtFBQUMHToULZu3cq+ffv4y1/+QkVFBddeey1PPPEEsbGxzJ49m+TkZAoLCyksLATgmWeeITY2FoARI0bw6quv+t7HI9/7mTNnUlZWxqRJk5g7d+5x37Nf/OIXjB07lpkzZzJ9+nRKS0vZuXMna9eupaysjNTUVPLy8gB49NFHyc/Pp6SkhPvvv9/XJbVy5Ur69et33NeR4KEjDelVJpPpqF8YgwcPJj4+nmuvvRabzYbNZiMlJeWY61988cVdbnvatGkAnHfeeZxzzjl8/PHHx61l8+bNzJs3j9DQUEJDQ3nuuecAWLduHfDdOMFZZ53FyJEjge9+8Y4aNYoPPvgAk8lEQkICMTExAFxwwQW8/vrrR71GZWUlkyZNIjw8nPDwcOx2Ozt27ADgrbfeYvv27fz1r38FvgvE47nooos47bTTePHFF6mrq+P999/nlFNOOe46hyUnJx+z/fzzz2fUqFEAXHvttfzmN7+hsbHR0DYB/v73v7N9+3auu+46ADweD4cOHQJg4sSJ3HvvvaSmpjJmzBjuvPNOw9uV4KHQkF61ffv2o7omQkJCeO6559i+fTuVlZUsWrSIK6644pjfegcMGNDlto8cb/B4PJjNZkwmE0febq29vd3398PzD9u7d2+nQHO73Z3mA3i9Xjo6OggLC+u07PdfpyuhoaGdanzsscd8XVoHDx486vWO9NZbb7Fw4UJuu+02rr76aoYPH87LL7/s9zWh6/ft+2M0JpPJ7/t2JI/Hwx133EFmZiYAbW1tfPPNNwDMmTOH6667jk2bNlFSUsKTTz7pC0g5eah7SnrNrl27KC4u5vbbb+/U/umnnzJp0iTOOecc7rrrLmbOnMn27duB737JdnR0GNr+4SOETz75hC+++IKRI0cSFRXFZ599RmtrK+3t7WzYsMG3fEpKCuvWrcPj8dDW1sbs2bOpqqryzU9KSuLzzz9n27ZtAHz22WdUVVVx6aWXGt7nK664gtLSUlpbW31dYYddfvnlPP3003i9Xtra2pg1a5bvaOdYNm3axFVXXUVmZiaJiYn87W9/w+12H/N9Mvq+7dixg5qaGgD+8pe/cPHFF9O/f38GDRpEdXU1AE6ns1O33ZHbvvzyy/nrX/9KU1MT8N2ZZ3PnzqWjo4OxY8dy6NAhpk2bRn5+Pjt27KCtrc3oWydBQkca0mNaWlqYPHky8N032oiICB544AGuvPLKTsvFx8czfvx4rrvuOgYMGEC/fv18/eJjx45l6dKlXX7TPVJdXR1TpkzBZDKxdOlSTj/9dMaMGcMll1zC+PHjsVgs/PznP/d1D917770sXLiQyZMn43a7mTBhAuPGjePNN98EICoqiscee4zf/va3tLS0YDKZKCwsZNiwYX67vg6bOnUqX3zxBZMmTeL0009n6NChvnm5ubksXLgQu91Oe3s7l112GXfcccdxt/Xggw9it9vp6OhgzJgxvgHopKQkHn/8ce69915WrFhBeno6t9xyC//1X/913PqGDx/OihUrqKurIzo6msWLFwNwyy238NBDD5GWlsaZZ57J6NGjfevYbDbfcnfeeSdOp5Mbb7wRk8lEbGwsixcvxmw2k5OTw0MPPeQ7clm0aBHh4eGG3jcJHibdGl1ERIxS95SIiBim0BAREcMUGiIiYphCQ0REDFNoiIiIYQoNEREx7Cd/ncaBA814PDqrWIJPdHQkDQ1NvV2GSCchISYGDer6djQ/+dDweLwKDQla+r8pJxt1T4mIiGEKDRERMUyhISIihik0RETEMIWGiIgYptAQERHDFBoiImLYT/46Dek+A0/tT78I/ZfpThbLwN4u4SehpbWDxoOHeruMPkG/AcSwfhFm7A+W9XYZIkdZ//vJNPZ2EX2EuqdERMQwhYaIiBim0BAREcMUGiIiYphCQ0REDFNoiIiIYQoNERExTKEhIiKGBezivrVr1/Lcc8/5pr/88ksmT57MNddcQ2FhIa2trYwfP545c+YAUFNTQ25uLs3NzSQnJ1NQUIDZbGbPnj1kZWXR0NDAsGHDKCoq4pRTun4UoYiIBE7AjjRuuOEGysrKKCsro6ioiOjoaO68805ycnIoLi6moqKC6upqNm7cCEBWVhbz589nw4YNeL1e1qxZA0BBQQGZmZk4HA4SExMpLi4OVMkiIuJHj3RP/eY3v2HOnDnU1dUxdOhQhgwZgtlsxm6343A4qK+vp6WlhaSkJAAyMjJwOBy0t7dTVVVFWlpap3YREekdAb/31ObNm2lpaWH8+PGUl5djsVh886xWK06nk3379nVqt1gsOJ1ODhw4QGRkJGazuVP7iYiOjuyeHRGRoKabP/aMgIfGiy++yG233QaAx+PBZDL55nm9XkwmU5fth38e6fvT/jQ0NOHxeH/EHshh+lBKMHO5dMvC7hASYjrul+2Adk+1tbVRVVXF2LFjAYiJicHlcvnmu1wurFbrUe379+/HarUSFRVFY2Mjbre70/IiItI7AhoaO3bs4Oyzz2bAgAEAjBw5kl27dlFbW4vb7aa8vBybzUZcXBwRERFs2bIFgLKyMmw2G2FhYSQnJ1NRUQFAaWkpNpstkCWLiMhxBLR7qq6ujpiYGN90REQEixcv5r777qO1tZXU1FTS09MBKCoqIi8vj6amJhISEpgxYwYA+fn5ZGdns3LlSmJjY1m6dGkgSxYRkeMweb3en3SHv8Y0uo/FMlAPYZKgtP73kzWm0U16dUxDRER+WhQaIiJimEJDREQMU2iIiIhhCg0RETFMoSEiIoYpNERExDCFhoiIGKbQEBERwxQaIiJimEJDREQMU2iIiIhhCg0RETFMoSEiIoYpNERExDCFhoiIGKbQEBERwxQaIiJiWEBD48033yQjI4Px48ezYMECADZv3ozdbmfcuHEsW7bMt2xNTQ0ZGRmkpaWRm5tLR0cHAHv27GH69Omkp6cza9YsmpubA1myiIgcR8BCo66ujvz8fIqLi3n55Zf53//9XzZu3EhOTg7FxcVUVFRQXV3Nxo0bAcjKymL+/Pls2LABr9fLmjVrACgoKCAzMxOHw0FiYiLFxcWBKllERPwIWGi8/vrrTJgwgZiYGMLCwli2bBn9+/dn6NChDBkyBLPZjN1ux+FwUF9fT0tLC0lJSQBkZGTgcDhob2+nqqqKtLS0Tu0iItI7zIHacG1tLWFhYdx9993s3buXK6+8khEjRmCxWHzLWK1WnE4n+/bt69RusVhwOp0cOHCAyMhIzGZzp3YREekdAQsNt9vNhx9+yLPPPsuAAQOYNWsW/fr1w2Qy+Zbxer2YTCY8Hs8x2w//PNL3p/2Jjo78cTsiIicFi2Vgb5fQJwQsNP7t3/6NlJQUoqKiALjmmmtwOByEhob6lnG5XFitVmJiYnC5XL72/fv3Y7VaiYqKorGxEbfbTWhoqG/5E9HQ0ITH4+2enerj9KGUYOZyNfZ2CT8JISGm437ZDtiYxlVXXcW7777LwYMHcbvdvPPOO6Snp7Nr1y5qa2txu92Ul5djs9mIi4sjIiKCLVu2AFBWVobNZiMsLIzk5GQqKioAKC0txWazBapkERHxI2BHGiNHjuSOO+4gMzOT9vZ2xowZw7Rp0xg+fDj33Xcfra2tpKamkp6eDkBRURF5eXk0NTWRkJDAjBkzAMjPzyc7O5uVK1cSGxvL0qVLA1WyiIj4YfJ6vcftu9m/fz9bt27l6quv5ne/+x3V1dXMmzeP+Pj4nqrxR1H3VPexWAZif7Cst8sQOcr6309W91Q3+dHdU9nZ2dTV1VFZWck777zD5MmTfRfqiYhI3+I3NL7++mtmzpzJ22+/zaRJk8jIyODQoUM9UZuIiAQZv6HR3t5Oe3s777zzDpdddhmHDh3i22+/7YnaREQkyPgNjauvvpqUlBQGDRpEYmIiN9xwA5MmTeqJ2kREJMj4PXtq9uzZ3HjjjQwePBj47iynk2UQXEREupff0Ghra2P79u289957wHdXer/66qvMmTMn4MWJiEhw8Rsac+bMoa6uDpfLxQUXXMDWrVu59NJLe6I2EREJMn7HNGpqaigpKeHqq68mJyeH//mf/+Gbb77pidpERCTI+A0Nq9WK2Wzm7LPPZufOnYwYMYLGRl1EIyLSF/kNjQEDBrB+/Xri4+N59dVX2bFjh065FRHpo/yGxsMPP0xNTQ1jxowhJCSEm2++mdtvv70nahMRkSDj995TJzvde6r76N5TEqx076nu4+/eU12ePWW324+74fXr1//wqkRE5KTUZWg8/PDDPVmHiIicBLoMjcPXYnz99dc9VYuIiAQ5vxf3jR49+qjndVssFt5+++2AFyciIsHFb2h8+umnvr+3tbVRXl7Orl27AlqUiIgEpxN6Rnh4eDgZGRls2rQpUPWIiEgQ83ukceSYhtfrpbq6moMHDwayJhERCVKGxjSOFB0dTW5urqGN33LLLXz11VeYzd+9zCOPPEJzczOFhYW0trYyfvx4391ya2pqyM3Npbm5meTkZAoKCjCbzezZs4esrCwaGhoYNmwYRUVFnHLKKSe6nyIi0g0MjWkcHgR3u914PB7CwsL8btjr9bJ7927+/ve/+0KjpaWF9PR0nn32WWJjY7nrrrvYuHEjqampZGVlsWDBApKSksjJyWHNmjVkZmZSUFBAZmYmEydO5PHHH6e4uJisrKwfv+ciInLC/I5pvP/++0yePBmAzz//nCuvvJKPP/7Y74Y///xzAG6//XZ++ctf8txzz7Ft2zaGDh3KkCFDMJvN2O12HA4H9fX1tLS0kJSUBEBGRgYOh4P29naqqqpIS0vr1C4iIr3Db2gsWbKEwsJCAEaMGMGqVat808dz8OBBUlJSePzxx3n66ad58cUX2bNnDxaLxbeM1WrF6XSyb9++Tu0WiwWn08mBAweIjIz0HakcbhcRkd7ht3uqvb2dhIQE33RCQgJtbW1+N3zRRRdx0UUX+aavv/56li9fzsUXX+xrO9zt5fF4fNeAHNl+5LUhh31/2p/j3UNFRH46LJaBvV1Cn+A3NPr378/bb7+NzWYDoLKykgEDBvjd8Icffkh7ezspKSnAd0EQFxeHy+XyLeNyubBarcTExHRq379/P1arlaioKBobG3G73YSGhvqWPxG6YWH30YdSgpluWNg9/N2w0G/3VG5uLjk5OVx55ZVcddVV5ObmGjp7qrGxkUcffZTW1laamppYt24dDzzwALt27aK2tha32015eTk2m424uDgiIiLYsmULAGVlZdhsNsLCwkhOTqaiogKA0tJSX3iJiEjP6/LW6Ed2DXV0dLBz505CQ0MZNmwY4eHhhjb+hz/8gQ0bNuDxeMjMzOTWW2+lsrLSd8ptamoq8+bNw2Qy8emnn5KXl0dTUxMJCQkUFhYSHh5OfX092dnZNDQ0EBsby9KlSznttNMM76CONLqPbo0uwUq3Ru8+/o40ugyNadOmHfeaiNNPP71bCgw0hUb3UWhIsFJodJ8f/DyNq666ikceeYSNGzceNc9kMlFTU9M9FYqIyEmjy9D4j//4j56sQ0RETgJdhoa/52icLN1TIiLSfboMjSOfo/F96p4SEembugyNI5+jISIiAgau0/B4PKxevZrs7Gyampr405/+hNvt7onaREQkyPgNjUcffZQdO3awdetWvF4v77zzjqF7T4mIyE+P39CorKxk8eLFREREMHDgQJ588kk9uU9EpI/yGxpms5mQkP9fLDw83HfXWRER6Vv8/vY/77zzeP7553G73Xz++ec8/fTTxMfH90RtIiISZAzdsPCTTz6hoaGBadOm0dzcTE5OTk/UJiIiQcbvkUZkZCSLFi3qiVpERCTI+T3ScLlc3H///Vx88cVceumlZGdn88033/REbSIiEmT8hkZ2djZnnXUWpaWlrFmzhkGDBvHwww/3RG0iIhJk/HZP/etf/2L16tW+6V//+tdMmDAhoEWJiEhw8nukccYZZ/DFF1/4pvft23fCj1wVEZGfBr9HGiEhIUyZMoXLL7+c0NBQKisriYmJ4e677wbgj3/8Y8CLFBGR4OA3NNLT00lPT/dN6xndIiJ9l9/QuPbaa3uiDhEROQn4HdP4sZYsWUJ2djYAmzdvxm63M27cOJYtW+ZbpqamhoyMDNLS0sjNzaWjowOAPXv2MH36dNLT05k1axbNzc2BLldERI4joKFRWVnJunXrAGhpaSEnJ4fi4mIqKiqorq72PX88KyuL+fPns2HDBrxeL2vWrAGgoKCAzMxMHA4HiYmJFBcXB7JcERHxI2Ch8fXXX7Ns2TLfgPm2bdsYOnQoQ4YMwWw2Y7fbcTgc1NfX09LSQlJSEgAZGRk4HA7a29upqqoiLS2tU7uIiPQev2MaLpeL3Nxcamtref755/n1r39NYWGh39Nu58+fz5w5c9i7dy/w3am6FovFN99qteJ0Oo9qt1gsOJ1ODhw4QGRkpO+OuofbT1R0dOQJryMiJx+LZWBvl9An+A2NgoICrrnmGp577jlOO+004uPjycvLY9WqVV2us3btWmJjY0lJSaGkpAT47gmAJpPJt4zX68VkMnXZfvjnkb4/bURDQxMez9HPOZcTpw+lBDOXq7G3S/hJCAkxHffLtt/QqK+v58Ybb+SFF14gLCyMrKws7Hb7cdepqKjA5XIxefJkvvnmG7799lvq6+sJDQ31LeNyubBarcTExOByuXzt+/fvx2q1EhUVRWNjI263m9DQUN/yIiLSe/yOaRw+Gjisqamp0/SxPPXUU5SXl1NWVsbs2bMZO3Ys//3f/82uXbuora3F7XZTXl6OzWYjLi6OiIgItmzZAkBZWRk2m42wsDCSk5OpqKgAoLS0VNeIiIj0Mr9HGuPGjeOhhx6isbGRF198kbVr1zJ+/PgTfqGIiAgWL17MfffdR2trK6mpqb6LBouKisjLy6OpqYmEhARmzJgBQH5+PtnZ2axcuZLY2FiWLl16wq8rIiLdx+T1ev12+JeWlvLWW2/h8Xi4/PLLueGGG37Q+EJv0JhG97FYBmJ/sKy3yxA5yvrfT9aYRjf50WMaAFOmTGHKlCndVZOIiJykugyNsWPHHvdo4o033ghIQSIiEry6DI3ly5cD+M6auummmwgNDaWkpIT29vYeK1BERIJHl6GRmJgIwGeffcbatWt97fPmzeP6668PfGUiIhJ0/J5ye/DgQb766ivftNPppKmpKaBFiYhIcPI7EH7rrbdit9u5/PLL8Xq9bNq0iaysrJ6oTUREgozf0MjMzGTUqFFUVlYCcMcdd3DeeecFvDAREQk+hk65jY+PJz4+PtC1iIhIkAv4Q5hEROSnQ6EhIiKGGeqeam5u5pNPPqGjo4MLL7yQyEg9o0JEpC/yGxrbtm3jP//zP4mOjsbj8eB0OvnjH//IqFGjeqI+EREJIn5DY8mSJRQVFTF69Gjgu+d+L1682PccbxER6Tv8jmk0Nzf7AgMgJSWFQ4cOBbQoEREJToYewlRfX++b/vLLLzs9gU9ERPoOv91T99xzDzfddBMpKSmYTCbeffdd8vPze6I2EREJMn5DIykpiT//+c+89957eDwe7rrrLs4555yeqE1ERIKM39C4+eabcTgcDB8+vCfqERGRIOZ3TCMuLo6PPvoIj8dzwht/7LHHmDBhAhMnTuSpp54CYPPmzdjtdsaNG8eyZct8y9bU1JCRkUFaWhq5ubl0dHQAsGfPHqZPn056ejqzZs2iubn5hOsQEZHu4Tc0/vnPf5KZmcmFF17IqFGjuOiiiwxdo/HBBx/w3nvv8fLLL/PSSy/x7LPP8umnn5KTk0NxcTEVFRVUV1ezceNGALKyspg/fz4bNmzA6/X6TuktKCggMzMTh8NBYmIixcXFP3KXRUTkh/LbPfX888//oA1feuml/PnPf8ZsNuN0OnG73Rw8eJChQ4cyZMgQAOx2Ow6Hg3PPPZeWlhaSkpIAyMjIYPny5dxwww1UVVXx+OOP+9pvvvlm3ZpdRKSXGOqe2r59O2vWrCEqKoqPP/6YuLg4QxsPCwtj+fLlTJw4kZSUFPbt24fFYvHNt1qtOJ3Oo9otFgtOp5MDBw4QGRmJ2Wzu1C4iIr3D75HGqlWr2LRpE//617+YOXMmK1asoLa2lnvuucfQC8yePZs777yTu+++m927d2MymXzzvF4vJpMJj8dzzPbDP4/0/Wl/oqN1nyyRvsBiGdjbJfQJfkPjlVdeYe3atdx4440MGjSINWvWcNNNN/kNjX/+85+0tbXxs5/9jP79+zNu3DgcDkenCwNdLhdWq5WYmBhcLpevff/+/VitVqKiomhsbMTtdhMaGupb/kQ0NDTh8XhPaB05Nn0oJZi5XI29XcJPQkiI6bhftv12T5nNZsLDw33Tp556qq+76Hi+/PJL8vLyaGtro62tjTfeeIOpU6eya9cuamtrcbvdlJeXY7PZiIuLIyIigi1btgBQVlaGzWYjLCyM5ORkKioqACgtLcVms/l9bRERCQy/v/1jY2N56623MJlMtLW1sXr1akNjGqmpqWzbto0pU6YQGhrKuHHjmDhxIlFRUdx33320traSmppKeno6AEVFReTl5dHU1ERCQgIzZswAID8/n+zsbFauXElsbCxLly79kbssIiI/lMnr9R6378bpdDJ37lyqqqoAGDlyJEVFRYYHw3ubuqe6j8UyEPuDZb1dhshR1v9+srqnuom/7im/RxqDBw/mmWee4dChQ7jdbj2ASUSkD/MbGi6Xi3Xr1vH11193ap87d26gahIRkSDldyB81qxZbNu2Da/X2+mPiIj0PX6PNNrb21mxYkVP1CIiIkHO75FGQkICO3fu7IlaREQkyPk90hg1ahRTpkzBYrF0uj7jjTfeCGhhIiISfPyGxurVqykqKuKss87qiXpERCSI+Q2NU089lQkTJvRELSIiEuT8hsbo0aNZsmQJ48aN63Q7kYSEhIAWJiIiwcdvaKxfvx6ADRs2+NpMJpPGNERE+iC/ofHmm2/2RB0iInIS8Bsah5/t/X233XZbtxcjIiLBrcvQqKurY8iQIZ2u0Whra6OqqoqUlJQeKU5ERIJLl6ExZcoUHn74YQoLCzu1O51OcnNzA16YiIgEny6vCF+7di1fffXVUe2DBw+mvr4+oEWJiEhw6vJIY/jw4QwfPrzTmIbX66W6upro6OgeKU5ERIKL34Hw7993KjY2VrdFFxHpo/yGxvfHNEREpO/qMjTmzZvX5Uomk4lFixYFpCAREQleXYbGiBEjjmo7cOAAzzzzjOHng69YsYJXX30VgNTUVObOncvmzZspLCyktbWV8ePHM2fOHABqamrIzc2lubmZ5ORkCgoKMJvN7Nmzh6ysLBoaGhg2bBhFRUWccsopP2RfRUTkR+ry7Knbb7+905/4+HhKS0ux2+2UlJT43fDmzZt59913WbduHaWlpXzyySeUl5eTk5NDcXExFRUVVFdXs3HjRgCysrKYP38+GzZswOv1smbNGgAKCgrIzMzE4XCQmJhIcXFxN+26iIicKL8PYero6GDJkiU88MAD5OXlsXDhQvr37+93wxaLhezsbMLDwwkLC+Occ85h9+7dDB06lCFDhmA2m7Hb7TgcDurr62lpaSEpKQmAjIwMHA4H7e3tVFVVkZaW1qldRER6x3EHwnfv3s0DDzzAKaecQmlpKTExMYY3fGT31u7du3n11Ve5+eabsVgsvnar1YrT6WTfvn2d2i0WC06nkwMHDhAZGel7+NPhdhER6R1dhsZLL73EkiVLuO2225g1a9YPfoHPPvuMu+66i7lz5xIaGsru3bt987xeLyaTCY/Hg8lkOqr98M8jfX/an+joyB9cu4icPCyWgb1dQp/QZWjk5uYSEhLCqlWreOKJJ3zth3+Rf/TRR343vmXLFmbPnk1OTg4TJ07kgw8+wOVy+ea7XC6sVisxMTGd2vfv34/VaiUqKorGxkbcbjehoaG+5U9EQ0MTHo/3hNaRY9OHUoKZy9XY2yX8JISEmI77ZbvL0Pixz8vYu3cv99xzD8uWLfPd4HDkyJHs2rWL2tpazjzzTMrLy7nuuuuIi4sjIiKCLVu2cPHFF1NWVobNZiMsLIzk5GQqKiqw2+2UlpZis9l+VF0iIvLDmbxeb0C+hi9YsICXXnqp07PFp06dytlnn+075TY1NZV58+ZhMpn49NNPycvLo6mpiYSEBAoLCwkPD6e+vp7s7GwaGhqIjY1l6dKlnHbaaYbr0JFG97FYBmJ/sKy3yxA5yvrfT9aRRjfxd6QRsNAIFgqN7qPQkGCl0Og+/kLD7ym3IiIihyk0RETEMIWGiIgYptAQERHDFBoiImKYQkNERAxTaIiIiGEKDRERMUyhISIihik0RETEMIWGiIgYptAQERHDFBoiImKYQkNERAxTaIiIiGEKDRERMUyhISIihik0RETEMIWGiIgYFtDQaGpqYtKkSXz55ZcAbN68Gbvdzrhx41i2bJlvuZqaGjIyMkhLSyM3N5eOjg4A9uzZw/Tp00lPT2fWrFk0NzcHslwREfEjYKGxdetWpk2bxu7duwFoaWkhJyeH4uJiKioqqK6uZuPGjQBkZWUxf/58NmzYgNfrZc2aNQAUFBSQmZmJw+EgMTGR4uLiQJUrIiIGBCw01qxZQ35+PlarFYBt27YxdOhQhgwZgtlsxm6343A4qK+vp6WlhaSkJAAyMjJwOBy0t7dTVVVFWlpap3YREek95kBteOHChZ2m9+3bh8Vi8U1brVacTudR7RaLBafTyYEDB4iMjMRsNndqFxGR3hOw0Pg+j8eDyWTyTXu9XkwmU5fth38e6fvTRkRHR/7wokXkpGGxDOztEvqEHguNmJgYXC6Xb9rlcmG1Wo9q379/P1arlaioKBobG3G73YSGhvqWP1ENDU14PN5u2Ye+Th9KCWYuV2Nvl/CTEBJiOu6X7R475XbkyJHs2rWL2tpa3G435eXl2Gw24uLiiIiIYMuWLQCUlZVhs9kICwsjOTmZiooKAEpLS7HZbD1VroiIHEOPHWlERESwePFi7rvvPlpbW0lNTSU9PR2AoqIi8vLyaGpqIiEhgRkzZgCQn59PdnY2K1euJDY2lqVLl/ZUuSIicgwmr9f7k+67UfdU97FYBmJ/sKy3yxA5yvrfT1b3VDcJmu4pERE5+Sk0RETEMIWGiIgYptAQERHDFBoiImKYQkNERAxTaIiIiGEKDRERMUyhISIihik0RETEMIWGiIgYptAQERHDFBoiImKYQkNERAxTaIiIiGEKDRERMUyhISIihik0RETEMIWGiIgYdlKExvr165kwYQLjxo3j+eef7+1yRET6LHNvF+CP0+lk2bJllJSUEB4eztSpU/n5z3/Oueee29uliYj0OUEfGps3b2b06NGcfvrpAKSlpeFwOLj33nsNrR8SYgpgdX2PdVD/3i5B5Jj0We8e/t7HoA+Nffv2YbFYfNNWq5Vt27YZXn/QoFMCUVaftTpvXG+XIHJM0dGRvV1CnxD0YxoejweT6f+Tz+v1dpoWEZGeE/ShERMTg8vl8k27XC6sVmsvViQi0ncFfWhcdtllVFZW8tVXX3Ho0CFee+01bDZbb5clItInBf2YxuDBg5kzZw4zZsygvb2d66+/ngsvvLC3yxIR6ZNMXq/X29tFiIjIySHou6dERCR4KDRERMQwhYaIiBim0BAREcMUGiIiYljQn3IrcrLbs2fPceefccYZPVSJyI+nU25FAmzs2LGYTCaO/KiZTCZcLhft7e3U1NT0YnUiJ0ahIdLDmpubWbJkCe+++y6//e1vGTNmTG+XJGKYxjREelBlZSW//OUvAXj55ZcVGHLS0ZiGSA/49ttvWbx4sY4u5KSnIw2RAKusrMRutwPfPbpYgSEnM41piARYfHw8ZrMZq9V6zGfDvPHGG71YnciJUWiIBFh9fX2X87xeL2eeeWYPViPy4yg0RHrYwYMHeffdd3n77bf54osveOGFF3q7JBHDFBoiPeCTTz5h48aNfPDBB/Tr148xY8ZwxRVXcPbZZ/d2aSInRKEhEmBTp04lMTGRK664gtGjRxMREdHbJYn8YAoNERExTKfcioiIYQoNERExTKEhIiKGKTRERMQwhYaIiBj2f8aE1d0evt/+AAAAAElFTkSuQmCC",
      "text/plain": [
       "<Figure size 432x288 with 1 Axes>"
      ]
     },
     "metadata": {},
     "output_type": "display_data"
    },
    {
     "name": "stdout",
     "output_type": "stream",
     "text": [
      "\n",
      "\n",
      "Distribución de valores para 'main_genre':\n",
      "Drama        1767\n",
      "Comedy       1615\n",
      "Action       1571\n",
      "Crime         867\n",
      "Biography     597\n",
      "Name: main_genre, dtype: int64\n"
     ]
    },
    {
     "data": {
      "image/png": "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",
      "text/plain": [
       "<Figure size 432x288 with 1 Axes>"
      ]
     },
     "metadata": {},
     "output_type": "display_data"
    },
    {
     "name": "stdout",
     "output_type": "stream",
     "text": [
      "\n",
      "\n",
      "Distribución de valores para 'secondary_genre':\n",
      "Drama        2428\n",
      "No tiene     1052\n",
      "Crime         634\n",
      "Adventure     574\n",
      "Romance       453\n",
      "Name: secondary_genre, dtype: int64\n"
     ]
    },
    {
     "data": {
      "image/png": "iVBORw0KGgoAAAANSUhEUgAAAY0AAAFBCAYAAACLjfMeAAAAOXRFWHRTb2Z0d2FyZQBNYXRwbG90bGliIHZlcnNpb24zLjMuMiwgaHR0cHM6Ly9tYXRwbG90bGliLm9yZy8vihELAAAACXBIWXMAAAsTAAALEwEAmpwYAABejElEQVR4nO3deVxN+f8H8NdtUYghuqjBWCd7GUsl2SmVFnspy8yEsYwMlRSD7NmXxDBmQtYWhcguLZKdyr6FiohK6z2/P/re82u5955zL9U1vZ+PxzzGPfd87vmc073nfT67gGEYBoQQQggPKlWdAUIIId8OChqEEEJ4o6BBCCGENwoahBBCeKOgQQghhDcKGoQQQnijoEHKefnyJdq1awcbGxvY2NjA2toaY8aMwfHjx9l9NmzYgJCQEJmfs3nzZpw+fVrieyXT//jjj8jIyPgqeZeULz8/Pzg6OkIkEn3RZ+/cuRMeHh5ypenfvz+CgoK+6LgVISIiAk5OTlWdjQqlrNf+W6dW1RkgyklTUxOhoaHs65SUFEyYMAGqqqoYMmQIfv/9d87PiIuLQ+vWrSW+xye9IiR97vXr17Fy5UqoqFT+M5KmpiZq1qxZ6ccldO0rCgUNwouenh5mzpyJnTt3YsiQIfDw8ECbNm3w888/Y+PGjYiMjIS6ujrq16+P5cuXIzIyEnfu3MGqVaugqqqKM2fO4MOHD3jx4gX69u2Ld+/esekBYP369bh9+zZEIhFmzZqFfv36ISgoCCdPnoS/vz8AlHqdnZ0NHx8fXLt2Daqqqhg4cCBcXV0xb9489nOvXr2KVatW4fPnz5g5cyZmzZoFMzMzBAUFITIyEioqKnj27Bk0NTWxcuVKtGrVqtQ5FxQUwMfHB9HR0WjQoAEaNGiAOnXqAAA+ffqEpUuX4v79+ygoKICxsTHc3Nygplb6J9W9e3e0b98e2dnZmDdvHp49ewYVFRV06NABixcvhoqKCs6ePQs/Pz8UFBRAU1MT7u7uMDQ0RGFhIVavXo3z589DVVUVhoaGWLhwIQQCAVasWIGYmBioqqqic+fOmDdvHrS0tNC/f3/Y2dkhJiYGr1+/ho2NDWbNmgWguBQWFhaGevXqoXnz5mwenzx5gsWLFyM7Oxvp6enQ19fH+vXroaGhgY4dO2LAgAFISkqCtbU1oqKisH//fgDAq1evMGrUKJw9exY1atSQ+L0pKirCqlWrcPbsWdSpUwedO3fGo0ePEBAQIPMadurUCS4uLrh8+TLS0tLwyy+/wMHBAUFBQTh8+DA+f/4MLS0tBAQE4NChQwgMDIRIJEK9evXg7e2NVq1asdeefGUMIWW8ePGCMTAwKLf9/v37TJcuXRiGYRh3d3fmr7/+Yl69esV07dqVycvLYxiGYXbu3MlERkYyDMMw48aNY06cOMHuP378ePazxOkZhmHatm3L+Pv7MwzDMMnJyUyPHj2Yd+/eMUeOHGFcXFzYNCVfL1u2jHF1dWUKCwuZvLw8xtHRkYmNjWU/NyMjgzE2NmZu3LjB5r1Hjx7M8+fPmSNHjjA//fQT8/r1a4ZhGGbx4sWMm5tbufPdvXs34+zszOTl5THZ2dmMnZ0d4+7uzjAMw3h4eDD//vsvwzAMU1hYyMyZM4fZvn271GsaHBzMTJo0id1//vz5zNOnT5knT54wVlZWTEZGBpvPXr16MdnZ2cw///zDODo6Mp8/f2aKioqY33//nQkODmY2bNjATJ8+ncnPz2eKiooYDw8Pxtvbm2EYhunXrx+zYsUKhmEY5s2bN0ynTp2Y58+fM5GRkczQoUOZT58+MQUFBYyLiwszbtw4hmEYZsWKFUxISAjDMAyTn5/PWFlZMREREezfJjg4mGEYhsnLy2OMjY2Z+/fvMwzDMOvXr2d8fX2lnjPDMExgYCDj6OjI5ObmMnl5ecykSZPY48q6hm3btmUCAgIYhmGY27dvMx07dmRyc3OZI0eOMN27d2c+ffrEMAzDxMXFMQ4ODkxOTg7DMAxz6dIlxtzcXGaeyJehkgbhTSAQQFNTs9S2Ro0aQV9fH3Z2djAzM4OZmRmMjY0lpv/pp5+kfvbYsWMBAG3btkWrVq1w/fp1mXmJjo7GvHnzoKqqClVVVezZswcAEBwcDAC4desWmjVrhi5dugAA2rRpg65du+LKlSsQCATo0KEDGjduDABo3749IiMjyx0jJiYGVlZWqFGjBmrUqAFra2skJycDAM6fP4/bt2/j8OHDAIDc3FyZ+f3pp5+wbt06ODk5wcTEBOPHj0fz5s2xd+9epKWlYcKECey+AoEAz58/R3R0NGxsbNhrvn79egDAiBEj4OrqCnV1dQCAk5MTpk2bxqYfMGAAgOK/TYMGDZCZmYmYmBgMGjQIWlpaAIDhw4cjICAAADB37lxcvnwZO3bswNOnT5GWloacnBz287p16wYAqFGjBkaOHIlDhw7B3d0dwcHB7GdIc+HCBdjY2EBDQwMAMHr0aDYN1zUUn0eHDh2Qn5/P5unHH39kz+P8+fN49uwZxowZw6b7+PEjPnz4gHr16snMG1EMBQ3C2+3bt9G2bdtS21RUVLBnzx7cvn0bMTExWLZsGXr37g03N7dy6WvVqiX1s0u2N4hEIqipqUEgEIApMTVaQUEB+2/x+2KvX78uFdCKiopKvQ8ADMOgsLAQ6urqpfYtexxpVFVVS+Vxw4YNbJXWx48fyx2vpKZNmyIyMhJxcXGIjY3FxIkTsXjxYohEIhgbG7MBQXwuQqGwXFXX27dvIRKJIBKJSh1LJBKVujbiG3TZcyt5jiXPZfbs2SgqKoKFhQX69u2L169fl9q35N9tzJgxGDFiBHr06IE2bdqgadOm0i8YUO4cyv6dZV1D8XmIt4nzVDI/IpEINjY2mDt3Lvs6LS0N3333ncx8EcVR7ynCy5MnT7B161ZMmjSp1PakpCRYWVmhVatWmDx5MiZMmIDbt28DKL4xFRYW8vp8cQnh7t27eP78Obp06QJtbW08ePAAeXl5KCgowMmTJ9n9jY2NERwcDJFIhPz8fMycORPx8fHs+wYGBnj8+DFu3boFAHjw4AHi4+PRo0cP3ufcu3dvhISEIC8vD3l5eaV6j5mammL37t1gGAb5+fmYOnUqW9qRZN++fZg3bx5MTU0xd+5cmJqa4t69ezA2Nsbly5fx6NEjAMVP5sOGDUNubi6MjY0RHh6O/Px8iEQi/Pnnnzh27Bh69+6NwMBAFBQUQCQSYe/evejVq5fMczEzM0NERAQ+fvwIkUhUqpNDVFQUpk2bhqFDhwIAbt68iaKiIomf06RJExgYGGDZsmVs6VCWPn364OjRo8jPz0dhYSH7d1bkGkpiamqKY8eOIS0tDQAQGBiI8ePHy/UZRD5U0iAS5ebmwsbGBkDx06GGhgZmz56Nvn37ltpPX18fFhYWGD58OGrVqgVNTU14eXkBKO7yuHbt2lJPwdK8ePECtra2EAgEWLt2LerVq4devXqhe/fusLCwgI6ODnr27MlWD02fPh1Lly6FjY0NioqKMHToUAwePBhnz54FAGhra2PDhg1YsmQJcnNzIRAIsHz5crRo0YKz6ktszJgxeP78OaysrMo1Hs+fPx9Lly6FtbU1CgoKYGJigl9++UXqZ9na2uLKlSsYOnQoatasiSZNmsDJyQnfffcdFi9ejNmzZ4NhGKipqcHPzw+1a9fGmDFjkJKSAnt7ezAMgx49esDJyQmFhYVYuXIlbG1tUVhYiM6dO8Pb21vmufTp0wfJyckYPnw46tatC319fbx//x4A4OrqimnTpqFWrVrQ0tJC9+7d8fz5c6mfZW9vjyVLlqBPnz6c19De3h5PnjyBra0tatWqhe+//57t0STvNZTE1NQUv/76KyZNmgSBQAAtLS1s3rxZZqmPfBkBw6dcTgghKK7+Wbx4MXR1deHi4sK5f1RUFN69e8c+gPj4+EBDQ4OtTiLfHgoahBBesrKy0K9fP3Tt2hUbNmxg24UcHByQnZ0tMc3WrVvh5eXFtsfo6+vjzz//ZLsuk28PBQ1CCCG8UUM4IYQQ3ihoEEII4Y2CBiGEEN4qtMvt5s2bceLECQDFXf7c3Nwwb948JCQksN3upk+fjkGDBiExMRHz589HdnY2unXrhkWLFkFNTQ2vXr3C3Llz8e7dO7Ro0QK+vr6oXbt2RWabEEKIFBXWEB4dHY2NGzfi33//hUAgwC+//IJx48Zh48aN2LlzJ4RCYan9rays4OPjAwMDA3h6eqJjx45wcHDA5MmTMWzYMFhaWmLLli3IycmRq7ve+/fZEInKn2KDBlp49y5LrnOSN01lHIPSKJZGWfNFaZQ3X9UljYqKAPXrS38wr7CSho6ODjw8PNjZL1u1aoVXr17h1atX8PT0RGpqKgYNGoTp06fj9evXyM3NhYGBAYDiAUEbN27EyJEjER8fjy1btrDbx40bJ1fQEIkYiUFD/J685E1TGcegNIqlUdZ8URrlzRelqcCg0aZNG/bfT58+xYkTJ7B3715cuXIFCxcuRJ06dTB58mQcPnwYbdq0gY6ODru/jo4OUlNT8f79e2hpabHz14i3E0IIqRoVPo3IgwcPMHnyZLi5uaFly5ZsqQEonp0zJCQErVq1KjXsn2EYdqK1stMByDs9QIMGWlLf09GRf4CRvGkq4xiURrE0ypovSqO8+aI0FRw0EhISMHPmTHh6esLS0hLJycl4+vQphgwZAgDsXDuNGzdGeno6m+7t27cQCoXQ1tbGp0+fUFRUBFVVVaSnp5drC+Hy7l2WxOKXjk4dpKd/kuuz5E1TGcegNIqlUdZ8URrlzVd1SaOiIpD5sF1hXW5fv36NadOmwdfXF5aWlgCKg8SyZcuQmZmJgoICHDhwAIMGDYKenh40NDSQkJAAAAgNDYWZmRnU1dXRrVs3dnbRkJAQmJmZVVSWCSGEcKiwksbOnTuRl5eHFStWsNvGjBkDFxcXjB07FoWFhRg8eDCsrKwAAL6+vvDy8kJWVhY6dOgAZ2dnAMDChQvh4eEBPz8/NGnSBGvXrq2oLBNCCOFQYUHDy8uLnSK7LEdHx3Lb9PX12RW8StLT0+NcHYwQQkjloBHhhBBCeKs2izDVqVsTmhqlT1fcayA3rxCfPn6uimwRQsg3pdoEDU0NNVj/ESrxvbA1NpCvzwEhhFRPVD1FCCGENwoahBBCeKOgQQghhDcKGoQQQnijoEEIIYQ3ChqEEEJ4o6BBCCGENwoahBBCeKOgQQghhDcKGoQQQnijoEEIIYQ3ChqEEEJ4o6BBCCGENwoahBBCeKOgQQghhDcKGoQQQnijoEEIIYQ3ChqEEEJ4o6BBCCGENwoahBBCeKOgQQghhDcKGoQQQnijoEEIIYQ3ChqEEEJ4o6BBCCGENwoahBBCeKOgQQghhDcKGoQQQnijoEEIIYQ3ChqEEEJ4o6BBCCGEtwoNGps3b4alpSUsLS2xatUqAEB0dDSsra0xePBgrFu3jt03MTER9vb2GDJkCObPn4/CwkIAwKtXr+Do6Ahzc3NMnToV2dnZFZllQgghMlRY0IiOjkZUVBSCg4MREhKCu3fvIjw8HJ6enti6dSuOHz+OO3fu4MKFCwCAuXPnYsGCBTh58iQYhsHBgwcBAIsWLYKDgwMiIiLQsWNHbN26taKyTAghhEOFBQ0dHR14eHigRo0aUFdXR6tWrfD06VM0b94cTZs2hZqaGqytrREREYGUlBTk5ubCwMAAAGBvb4+IiAgUFBQgPj4eQ4YMKbWdEEJI1aiwoNGmTRs2CDx9+hQnTpyAQCCAjo4Ou49QKERqairS0tJKbdfR0UFqairev38PLS0tqKmpldpOCCGkaqhV9AEePHiAyZMnw83NDaqqqnj69Cn7HsMwEAgEEIlEEAgE5baL/19S2ddcGjTQ4rWfjk6dr7qfovtTmspLo6z5ojTKmy9KU8FBIyEhATNnzoSnpycsLS1x5coVpKens++np6dDKBSicePGpba/ffsWQqEQ2tra+PTpE4qKiqCqqsruL49377IgEjGcFyY9/RPnZ+no1OG1n6L7U5rKS6Os+aI0ypuv6pJGRUUg82G7wqqnXr9+jWnTpsHX1xeWlpYAgC5duuDJkyd49uwZioqKEB4eDjMzM+jp6UFDQwMJCQkAgNDQUJiZmUFdXR3dunXD8ePHAQAhISEwMzOrqCwTQgjhUGEljZ07dyIvLw8rVqxgt40ZMwYrVqzAjBkzkJeXhz59+sDc3BwA4OvrCy8vL2RlZaFDhw5wdnYGACxcuBAeHh7w8/NDkyZNsHbt2orKMiGEEA4VFjS8vLzg5eUl8b2jR4+W26avr4/Dhw+X266np4eAgICvnj9CCCHyoxHhhBBCeKOgQQghhDcKGoQQQnjjDBpv377FmTNnAACrV6/G+PHjkZSUVOEZI4QQonw4g4aHhwdevHiBmJgYXLp0CTY2NvDx8amMvBFCCFEynEHjw4cPmDBhAi5evAgrKyvY29vj8+fPlZE3QgghSoYzaBQUFKCgoACXLl2CiYkJPn/+jJycnMrIGyGEECXDGTQGDBgAY2Nj1K9fHx07dsTIkSNhZWVVGXkjhBCiZDgH982cOROjRo1Co0aNABSP3NbX16/wjBFCCFE+nEEjPz8ft2/fRmxsLACgqKgIJ06cgKura4VnjhBCiHLhDBqurq548eIF0tPT0b59e9y8eRM9evSojLwRQghRMpxtGomJiQgKCsKAAQPg6emJwMBAZGZmVkbeCCGEKBnOoCEUCqGmpoYffvgB9+/fR5s2bfDpk3xzthNCCPlv4AwatWrVQlhYGPT19XHixAkkJydTl1tCCKmmOIOGt7c3EhMT0atXL6ioqGDcuHGYNGlSZeSNEEKIkuFsCG/RogXc3NwAAOvXr6/o/BBCCFFiUoOGtbW1zIRhYWFfPTOEEEKUm9Sg4e3tXZn5IIQQ8g2QGjTEYzE+fPhQWXkhhBCi5DjbNIyMjCAQCMAwDAQCAQBAR0cHFy9erPDMEUIIUS6cQaPkgkv5+fkIDw/HkydPKjRThBBClJNcy73WqFED9vb2uHz5ckXlhxBCiBLjLGmUbNNgGAZ37tzBx48fKzJPhBBClBSvNo2SGjRogPnz51dYhgghhCgvXm0a4kbwoqIiiEQiqKurV0beCCGEKBnONo24uDjY2NgAAB4/foy+ffvi+vXrFZ4xQgghyoczaKxcuRLLly8HALRp0wbbt29nXxNCCKleOINGQUEBOnTowL7u0KED8vPzKzRThBBClBNn0KhZs2apgXwxMTGoVatWhWaKEEKIcuJsCJ8/fz6mTZsGNTU1CAQCCAQCbNq0qTLyRgghRMlIDRriHlNdunTB+fPncf/+faiqqqJFixaoUaNGZeaREEKIkpBaPeXg4ICUlBR8+PABWVlZ0NXVRaNGjZCTk0OTGBJCSDUltaTRr18/LF68GBcuXCj3nkAgQGJiYoVmjBBCiPKRGjRcXFwqMx+EEEK+AVKrpz58+CDzPz6ysrJgZWWFly9fAgDmzZuHwYMHw8bGBjY2NoiMjAQAJCYmwt7eHkOGDMH8+fNRWFgIAHj16hUcHR1hbm6OqVOnIjs7+wtPlxBCyJeQWtIouY5GWXyqp27evAkvLy88ffqU3Xbnzh3s2bMHQqGw1L5z586Fj48PDAwM4OnpiYMHD8LBwQGLFi2Cg4MDLC0tsWXLFmzduhVz586V8xQJIYR8LVJLGklJSUhMTERSUlK5//i0Zxw8eBALFy5kA8Tnz5/x6tUreHp6wtraGhs3boRIJEJKSgpyc3NhYGAAALC3t0dERAQKCgoQHx+PIUOGlNpOCCGk6nAO7hOJRNi5cyc8PDyQlZUFf39/FBUVcX7w0qVL0a1bN/b127dvYWRkhGXLluHgwYO4evUqDh8+jLS0NOjo6LD76ejoIDU1Fe/fv4eWlhbU1NRKbSeEEFJ1OAf3rVq1ChkZGbh9+zYYhsGlS5eQnp4OLy8vuQ7UtGlTbNmyhX3t5OSEkJAQtGrVil1GFvj/8SEll5cVK/uajwYNtHjtp6NT56vup+j+lKby0ihrviiN8uaL0vAIGjExMQgODoa9vT3q1KmDXbt2sbPeyiM5ORlPnz5lq5sYhoGamhoaN26M9PR0dr+3b99CKBRCW1sbnz59QlFREVRVVZGenl6uLYSPd++yIBIxnBcmPf0T52fp6NThtZ+i+1OaykujrPmiNMqbr+qSRkVFIPNhm7N6Sk1NDSoq/79bjRo12CojeTAMg2XLliEzMxMFBQU4cOAABg0aBD09PWhoaCAhIQEAEBoaCjMzM6irq6Nbt244fvw4ACAkJARmZmZyH5cQQsjXw3n3b9u2Lfbu3YuioiI8fvwYu3fvhr6+vtwH0tfXh4uLC8aOHYvCwkIMHjwYVlZWAABfX194eXkhKysLHTp0gLOzMwBg4cKF8PDwgJ+fH5o0aYK1a9fKfVxCCCFfD68JC5ctW4Z3795h7NixMDU1las94+zZs+y/HR0d4ejoWG4ffX19HD58uNx2PT09BAQE8D4WIYSQisUZNLS0tLBs2bLKyAshhBAlx9mmkZ6ejt9//x0//fQTevToAQ8PD2RmZlZG3gghhCgZzqDh4eGBZs2aISQkBAcPHkT9+vXh7e1dGXkjhBCiZDirp968eYOdO3eyr93d3TF06NAKzRQhhBDlxFnS0NXVxfPnz9nXaWlpCo2XIIQQ8u3jLGmoqKjA1tYWpqamUFVVRUxMDBo3bowpU6YAALZt21bhmSSEEKIcOIOGubk5zM3N2dc0wI4QQqovzqBhZ2dXGfkghBDyDeBs0yCEEELEKGgQQgjhjYIGIYQQ3niNCHdxccGQIUPw9u1b/Pzzz0hLS6uMvBFCCFEynEFj0aJFGDhwIDQ0NPDdd99BX19f7gWYCCGE/DdwBo2UlBSMGjUKKioqUFdXx9y5c/H69evKyBshhBAlwxk0BAIBRCIR+zorK6vUa0IIIdUH5ziNwYMHY86cOfj06RP279+PQ4cOwcLCojLyRgghRMlwBo0pU6YgJCQEIpEI0dHRGD16NEaOHFkZeSOEEKJkeC32bWtrC1tb2wrOCiGEEGUnNWj0798fAoFAasIzZ85USIYIIYQoL6lBY+PGjQCAffv2QV1dHaNHj4aqqiqCgoJQUFBQaRkkhBCiPKQGjY4dOwIAHjx4gEOHDrHb582bhxEjRlR8zgghhCgdzi63Hz9+REZGBvs6NTUVWVlZFZopQgghyomzIXz8+PGwtraGqakpGIbB5cuXMXfu3MrIGyGEECXDGTQcHBzQtWtXxMTEAAB++eUXtG3btsIzRgghRPnw6nKrr68PfX39is4LIYQQJUdToxNCCOGNggYhhBDeeFVPZWdn4+7duygsLETnzp2hpaVV0fkihBCihDiDxq1bt/Dbb7+hQYMGEIlESE1NxbZt29C1a9fKyB8hhBAlwhk0Vq5cCV9fXxgZGQEAYmJisGLFChw8eLDCM0cIIUS5cLZpZGdnswEDAIyNjfH58+cKzRQhhBDlxGsRppSUFPb1y5cvoaqqWqGZIoQQopw4q6emTZuG0aNHw9jYGAKBAFFRUVi4cGFl5I0QQoiS4SxpGBgY4N9//4WhoSE6d+6MgIAADBkyhNeHZ2VlwcrKCi9fvgQAREdHw9raGoMHD8a6devY/RITE2Fvb48hQ4Zg/vz5KCwsBAC8evUKjo6OMDc3x9SpU5Gdna3IOSqsTt2a0NGpw/4HgP13nbo1KzUvhBCiDDhLGuPGjUNERARatmwp1wffvHkTXl5eePr0KQAgNzcXnp6eCAgIQJMmTTB58mRcuHABffr0wdy5c+Hj4wMDAwN4enri4MGDcHBwwKJFi+Dg4ABLS0ts2bIFW7durdR5rzQ11GD9R6jE98LW2OBTpeWEEEKUA2dJQ09PD9euXYNIJJLrgw8ePIiFCxdCKBQCKO6627x5czRt2hRqamqwtrZGREQEUlJSkJubCwMDAwCAvb09IiIiUFBQgPj4eLZUI95OCCGk6nCWNB49egQHBweoqamhRo0aYBgGAoEA165dk5lu6dKlpV6npaVBR0eHfS0UCpGamlpuu46ODlJTU/H+/XtoaWlBTU2t1HZCCCFVhzNo7N2796scSCQSlVo+Vhx8pG0X/78kWcvPStOgAb/R6+I2C3nwSVNRn0tpvjyNsuaL0ihvvigNj6Chp6eHiIgIJCYmYsqUKThz5gysrKzkzljjxo2Rnp7Ovk5PT4dQKCy3/e3btxAKhdDW1sanT59QVFQEVVVVdn95vXuXBZGI4bww6enlWygUSVM2Pdc+lKZq0ihrviiN8uaruqRRURHIfNjmbNPYvn07AgMDERERgdzcXGzevBlbtmyRK2MA0KVLFzx58gTPnj1DUVERwsPDYWZmBj09PWhoaCAhIQEAEBoaCjMzM6irq6Nbt244fvw4ACAkJARmZmZyH5cQQsjXwxk0jh07hh07dqBmzZqoX78+Dh48iPDwcLkPpKGhgRUrVmDGjBkYOnQoWrZsCXNzcwCAr68vli9fDnNzc+Tk5MDZ2RkAsHDhQhw8eBBDhw7F1atXMWvWLLmPSwgh5OvhrJ4SN4CL1a1bl22c5uPs2bPsv42NjXH06NFy++jr6+Pw4cPltuvp6SEgIID3sQghhFQszrt/kyZNcP78eQgEAuTn52Pnzp3Q09OrjLwRQghRMpxBw9vbG25ubkhOToaBgQG6dOkCX1/fysgbIYQQJcMZNBo1aoR//vkHnz9/RlFRES3ARAgh1Rhn0EhPT0dwcDA+fPhQarubm1tF5YkQQoiS4uw9NXXqVNy6dQsMw5T6jxBCSPXDWdIoKCjA5s2bKyMvhBBClBxnSaNDhw64f/9+ZeSFEEKIkuMsaXTt2hW2trbQ0dEpNT7jzJkzFZoxQgghyoczaOzcuRO+vr5o1qxZZeSHEEKIEuMMGnXr1sXQoUMrIy+EEEKUHGfQMDIywsqVKzF48OBS04l06NChQjNGCCFE+XAGjbCwMADAyZMn2W0CgYDaNAghpBriDBolJxwkhBBSvXEGjb///lvi9okTJ371zBBCCFFuUoPGixcv0LRp01JjNPLz8xEfHw9jY+NKyRwhhBDlIjVo2NrawtvbG8uXLy+1PTU1FfPnz6/wjBFCCFE+UkeEHzp0CBkZGeW2N2rUCCkpKRWaKUIIIcpJakmjZcuWaNmyZak2DYZhcOfOHTRo0KBSMkcIIUS5cDaEl513qkmTJjQtOiGEVFOcQaNsmwYhhJDqS2rQmDdvntREAoEAy5Ytq5AMEUIIUV5Sg0abNm3KbXv//j3++ecf6OnpVWimCCGEKCepQWPSpEmlXkdHR8Pd3R3W1tbw8vKq8IwRQghRPpxtGoWFhVizZg2Cg4OxaNEiDBkypDLyRQghRAnJDBpPnz7F7NmzUbt2bYSEhKBx48aVlS9CCCFKSOrgviNHjmDUqFEYNGgQAgICKGAQQgiRXtKYP38+VFRUsH37duzYsYPdzjAMBAIBrl27VikZ/NbUqVsTmhr/f1l1dOqw/87NK8Snj5+rIluEEPJVSA0atF6GYjQ11GD9R6jE98LW2OBTJeeHEEK+JqlBg7rVEkIIKUtqmwYhhBBSFgUNQgghvFHQIIQQwhvn4D5S8aT1uKLeVoQQZUNBQwlI63FFva0IIcqmSoKGk5MTMjIyoKZWfPjFixcjOzsby5cvR15eHiwsLODq6goASExMxPz585GdnY1u3bph0aJFbDpCCCGVq9LvvgzD4OnTpzh37hx788/NzYW5uTkCAgLQpEkTTJ48GRcuXECfPn0wd+5c+Pj4wMDAAJ6enjh48CAcHBwqO9uEEEJQBQ3hjx8/BlA8i+6wYcOwZ88e3Lp1C82bN0fTpk2hpqYGa2trREREICUlBbm5uTAwMAAA2NvbIyIiorKzTAgh5H8qPWh8/PgRxsbG2LJlC3bv3o39+/fj1atX0NHRYfcRCoVITU1FWlpaqe06OjpITU2t7CwTQgj5n0qvnjI0NIShoSH7esSIEdi4cSN++ukndpt4fiuRSASBQFBuuzwaNNDitV/JOaL4qow0fPdX1vwrcxplzRelUd58UZoqCBpXr15FQUEBjI2NARQHAj09PaSnp7P7pKenQygUonHjxqW2v337FkKhUK7jvXuXBZGI4bww6enl+ykpQxpJ+0tKz2c/SqP8+aI0ypuv6pJGRUUg82G70qunPn36hFWrViEvLw9ZWVkIDg7G7Nmz8eTJEzx79gxFRUUIDw+HmZkZ9PT0oKGhgYSEBABAaGgozMzMKjvLhBBC/qfSSxr9+vXDzZs3YWtrC5FIBAcHBxgaGmLFihWYMWMG8vLy0KdPH5ibmwMAfH194eXlhaysLHTo0AHOzs6VnWVCCCH/UyUDHmbNmoVZs2aV2mZsbIyjR4+W21dfXx+HDx+upJx9O2gUOSGkKtAouW8UjSInhFQFmrCQEEIIbxQ0CCGE8EZBgxBCCG8UNAghhPBGDeHVCPW4IoR8KQoa1Qj1uCKEfCmqniKEEMIbBQ1CCCG8UdAghBDCGwUNQgghvFHQIIQQwhsFDUIIIbxR0CCEEMIbBQ1CCCG80eA+IhONIieElERBg8hEo8gJISVR9RQhhBDeqKRBvjqq0iLkv4uCBvnqqEqLkP8uChqkypUtmQDcpRNF0hBCvhwFDVLlpJVMAOmlE0XSEEK+HAUNUm1Ia2sBqHRCCF8UNEi1oUjphAINIaVR0CBEBqoGI6Q0ChqEfGXU5Zj8l1HQIOQroy7H5L+MRoQTQgjhjYIGIYQQ3qh6ihAloEg7CLWdkKpAQYMQJaBIOwi1nZCqQEGDkGqESifkS1HQIKQakbd0QvOCkbIoaBBCpKqsecFo5P2345sIGmFhYfDz80NhYSHGjx8PR0fHqs4SIeQropH33w6lDxqpqalYt24dgoKCUKNGDYwZMwY9e/ZE69atqzprhJAqRKWTqqH0QSM6OhpGRkaoV68eAGDIkCGIiIjA9OnTqzZjhJAq9TWrwb521+b/cocDpQ8aaWlp0NHRYV8LhULcunWLd3oVFcH/p61fk9d+JVV1Gmn7/9fSVPV1rqw0VX2dFUlT1dfsa6bR1FDDzz6nym3f6TUY2VKOUVlptLQ0oSEh0OTlFSIrK5dz/6+VRtZ3BwAEDMMwMveoYn5+fsjLy8OsWbMAAAcPHsSdO3ewePHiqs0YIYRUQ0o/jUjjxo2Rnp7Ovk5PT4dQKKzCHBFCSPWl9EHDxMQEMTExyMjIwOfPn3Hq1CmYmZlVdbYIIaRaUvo2jUaNGsHV1RXOzs4oKCjAiBEj0Llz56rOFiGEVEtK36ZBCCFEeSh99RQhhBDlQUGDEEIIbxQ0CCGE8EZBgxBCCG8UNAghhPCm9F1uq1pYWBgePnyIKVOm4OTJk7C1ta3qLCm1jx8/IiwsDB8+fEDJjnmy5gorKiqCqqpqZWRPbvn5+ahRo0ZVZ4MQpVGtShoZGRnYvXs3tmzZgs2bN2Pjxo1wc3OTur+vry8uXLiAU6dOoaioCEeOHMGKFSt4HSszM5P3fl5eXnB2dsaHDx8wb948Xmnz8/Ph5+cHNzc3ZGVlYfPmzcjPz5eZxtLSEn/99VepEfZcTpw4wfm5Jf3++++Ii4uDSCTinWbEiBG89xWT9zwA4Ndff5X7fAYPHoxFixbJNd/Z+fPn5coXUBw4z5w5A6D4e3r48GFw9Ybnm6cDBw4AADZv3izxP1kUuc4PHjwot+3GjRsy0/z888+8P3/Pnj28f19fw507dyrtWCVlZWXJfF+R6zx58mTs378fb968UThf1aqkMWvWLDRp0gQ3btzAwIEDcf78eXTq1Enq/lFRUQgODoadnR20tLTw999/Y9iwYfDw8JCaJjExEa6ursjNzcWBAwcwbtw4rF+/Hh06dJC4v7e3N3r16oVbt26hVq1aEAqFmDt3LrZv3y7zXBYvXgxtbW3cu3cPqqqqeP78OTw9PeHr6ys1zfbt2xESEgJnZ2c0bdoU9vb2GDBgANTV1aWmuXjxIlavXo0+ffrAzs6Oc2Dl27dv8ffff8vcp6yGDRvi6tWr6Ny5M++n+tzcXDg5OaFZs2aws7PDwIEDZZ4HUBw0QkJC5DqfEydO4OTJk1i7di3evXsHW1tbDBs2rNQkmmWtXr0affv25XUeYl5eXhCJRBgwYAAAIC4uDrdu3ZI5x9rq1avx4cMH2NjYwMbGRmqevmQoljzXOSEhASKRCF5eXli6dCl73MLCQvz55584efKk1ON8/vwZr1+/RpMmTTjzdPfuXWzduhVGRkYYMWIETExMeJ1LUFAQVq5ciY8fPwIovi4CgQCJiYky061btw7Pnj2DkZER+vbti169eqFmTckTJc6bN0/mZy1fvlzqe+fOncPVq1fx22+/YcSIEcjIyIC7uzvs7e1L7fcl13nq1Km4dOkSZsyYgaKiIpiZmaF///5yDZiuVoP7zM3NERERgZUrV8Lc3BzNmjXD+PHjcfToUYn729vb48iRI7C3t0dwcDBycnIwatQohIeHSz2Go6MjFi9ejD/++AMhISG4fPky1q1bh8OHD0s9RlBQEGxtbRESEgIAGDZsmNQ8idnZ2SE4OJhNxzAMrK2tZeatpMjISPj4+CA3NxfDhg3Db7/9hvr160vcNzc3FydPnkR4eDjevXsHS0tL2NraokGDBuX2dXNzw6RJk6Cvr88rHwBgZGSEDx8+AAAEAgHvHzMAXL16FeHh4bhy5QqMjIwwcuRItGvXTmaa3NxcREREYP369dDS0sKIESPg4ODAGbDE1+zjx48wNjaGu7s7mjdvXm6/KVOmoH79+ujSpQs0NTXZ7bKqNq2trREWFsa5rayUlBSEhobixIkT0NXVhZ2dXbkHgVu3bn3xLAp8rvOmTZtw5coV3LlzBx07dmS3q6mpoXfv3pg0aZLUz7ewsMDTp0/RoEEDaGhosN8BcemrrNzcXJw+fRohISF49uwZbGxsYG9vD11dXanHGDhwILZu3Yq2bdvKefZAXl4eYmNjcenSJZw7dw4tW7bEjh07yu0XHBws83Ps7Oykvjd8+HAsXboUt2/fxtWrV7FgwQI4OTkhKCio1H5fcp3FMjIyEBERgW3btiEjI0Ou0lS1Kml89913AIAWLVogKSkJXbp0kbm/ubk5Zs2ahczMTOzevRtHjx6FlZWVzDSfP39Gq1at2Ne9evXCypUrpe6vqqqKT58+QSAono746dOnUFHhrjUUCATIz89n071//579tzTZ2dk4efIkQkNDkZqairFjx8LS0hIXL17Ezz//XO7LKaapqQk9PT00adIEz549Q3JyMiZMmIDRo0dj3LhxpfZ98OAB7OzseP/4ASA2NpbzfCXJycnBy5cv8eLFC6ioqOC7777D0qVLYWhoiD/++ENimri4OISGhuLy5cswMzPD0KFDER0djalTp2Lnzp3l9n/27BmOHj2K8PBw6OrqYs6cORg8eDBiY2Px66+/4tSp8tNfi4PvzZs3S22XFTREIhHS0tLYyTjfvXvH63ugp6cHW1tbqKmpYf/+/QgICMC6deswZ84cDBo0CACwcOFC9ma2YsUKmSVlSfhe5xkzZgAAQkJC5G77++uvv+TaX1NTE1ZWVrCyssLbt28RHh6O2bNno3bt2hL/jkDxsgqKBIyMjAxcuXIFV65cwdWrV/Hdd99JXQSuZFD48OEDPn/+DIZhUFRUhJcvX3IeS19fH5s2bcKwYcNQu3ZtFBQUlNvnS67zokWLkJCQAFVVVXTv3h0LFy5Ejx495PqMahU0jIyMMHPmTLi7u2PSpEm4e/duqSfBslxcXHDp0iXo6uri9evXmDFjBvr16yfzGPXq1UNSUhJ7Az969CgbrCSZOXMmnJyc8Pr1a/z222+4ceMGli1bxnkuzs7OmDhxItLT07F06VJERkZyLkw1YMAA9OvXD9OnT0f37t3Z7Q4ODoiOjpaYZt26dQgPD8f333+P4cOHY/78+dDQ0EBWVhYGDBhQLmhw1ZFLkp+fj127duHJkyfw9vbG7t274eLiIvPJf86cOYiNjYWZmRmmTp2Kbt26sZ9lamoqMWj069ePPY8FCxawf/uePXti+PDhEo8zceJE2NvbY9euXdDT02O39+nTB5cvX5aYZvny5SgoKMCTJ09QVFSENm3aQE1N9k9typQpsLOzw08//QSgOODMnz9fZppDhw4hNDQU6enpsLW1xb59+9C4cWOkpqbCzs6ODRolKxPi4uJkfmZZc+bMQUxMDPr06cP7Ou/YsUPum5mOjg4uXLiA7OxsAGBvsr///jtn2ry8POTm5iI/Px9aWlpS9+vQoQNmzpyJXr16QUNDg93OlVcTExM0bNgQzs7OCAgIkPl7Ftu0aRN2796NwsJC1K9fH6mpqejYsSMOHTokNU3Dhg2xZMkS3LlzB6tXr8aKFStklpwUuc4fP34EwzBo0aIFWrVqhZYtW6JOnTrcCUuoVtVTAPD8+XM0a9YMd+/eRXx8PIYOHSpzqvUHDx4gMzOz1A+v5A1X0ue7u7vj9u3b0NTURPPmzbF69Wq0bNlS4v5JSUnswlJFRUXo0qULGjZsyOtcHj58iLi4OBQVFaFnz5748ccfZe6flZUl80clyaJFizBp0iQ0bdq03HuSqj0YhkFgYCBiY2NRWFgIIyMjjBs3TuZTs5eXF7S1tXH27FkcOnQICxYsAMMwMttndu/ejVGjRqFWrVrl3ktPT5dYvy/+24vxuR5ubm5YtWqVzH3KunPnDmbOnIl69epBJBLh7du32LJlC2fJNjU1FTdu3ICamho6derEuQSAm5sbhg8fjp49e5Z77+TJkxgyZAgAlKr6LPlvPg4fPoyhQ4fKdZ0VqZ6bPn06MjMz8fz5c3Tr1g1xcXHo2rUrNm7cKHH/jIwMnDhxAmFhYXj//j3s7Oxga2uLxo0bSz2GtPYGWe0MAPDkyRPExsYiLi4OT548QevWrdGzZ0+MGjVKapr+/fvj6NGjWLp0KaZOnYrHjx9j3759Mtsqs7KycPr0aRgaGqJ58+bYu3cvbGxspH5HFbnOYo8ePUJMTAwCAgKQk5ODS5cucaYRq1Yljfz8fDx8+BDXrl0DUFwqiI6OlnqRFy1ahHPnzpW6YQoEAvz7779Sj9GsWTMEBgYiJycHIpGI86bk6uqKEydOyN1wmpycjG3btmHdunV49OgRFixYgCVLlkgMTv3795dZdcVVdbRw4UKJ70mqJ1+1ahWePXuG4cOHg2EYBAUF4cWLFzKfmu/evYvg4GBcvHgRNWvWxKpVq2BtbS11f6C4R9CECRMkvietQfjRo0c4cOAAZ0Nj2TTZ2dmoXbu2zPyU5OPjg3Xr1rFB4saNG1iyZInEdq0DBw5g9OjR5Upo4vYcSaXH+Ph4AMDIkSNLvRbr3r07GzAAlPrbc1VhljVo0CCEhITg/fv35bpQS7vOilTPJScn49SpU1i6dCmGDx+OWbNmsQuvlfXLL7/g5s2bGDhwIP744w+ZD3ElCYVCuLq68tq3pBYtWqBFixYwNDREdHQ09u/fj9u3b8sMGkKhEFpaWmjTpg2SkpIwePBgrFmzRuZxxo4di759+6Jp06Zo1qwZHB0dZe6vyHV+/PgxYmJiEBMTg6SkJHTu3Bl9+vSReZyyqlXQ+PXXX8EwTKlqBkD6Rb58+TIiIiJkVmGVdfXqVfzzzz/lugRKCzStW7fG5s2byz0tcP0QvL292RtKq1at8Ntvv2H+/PkIDAwst29AQAAYhsGWLVvYXlOqqqoICwvjrGfV19dHSEgIOnfuXCp/0orNly9fRkhICFuy6Nu3L2cAUKR9RpHrtnnzZixduhTHjx9H586d2YZGWUFDRUUF/fr1Q4sWLUpVach6cMjJySlVqjAwMEBeXp7EfRUp6Et7+gYkP9QkJiayjdYMw6Bdu3bscbk6HEybNg3a2tpo06YN74CjSPVcgwYNIBAI0KJFCyQnJ8PW1lZifT5QXJ24YcMGuQI5UNw7adasWXIHTldXV1y7dg0tWrRA3759sW3bNqk1B2JaWloICQlBhw4dsGfPHgiFQuTmll9+taRdu3bh0qVLCAgIwLx582BgYIC+ffti6NChEvdX5Dr//vvv6NevHyZMmABDQ0OFxkdVq6Dx/v17zl5JJTVt2lTuH7WHhwemT58usy6ypA8fPiAuLq5UXTNXaQYobnAvuRhVr169sHr1aon7ioNkcnJyqaL4pEmTZN4wgeKnmLJPMrIatouKilBYWMi2R/AZuFe2feb06dOYNm2azDSKXjc+DY0lzZ07V+b7knz33Xc4ffo0Bg4cCAA4ffo06tWrJ3HfMWPGACh+chcPJHz27BmePHkidbGxgIAAufKTlJQk1/4lZWZmYs+ePXKlkad67tWrV9DV1UWbNm2wZMkSjB07FnPmzEFaWprU397x48fx66+/yn0u9erVg7m5OTp06FDqAYCresrCwgI+Pj5gGAYikQh169blPJb44cTW1hbnzp3DwoULpZacxHR0dGBnZ4c2bdogJiYGe/bsQVRUlNSgoUg1aFhYGC5cuIAzZ87g5MmTMDIyYrt581WtgoaRkRGio6NhZGTEq2fKd999B0tLSxgaGpZqlJX1JWvUqJFcjVPy3gDEtLW1ERgYiGHDhgEo/iFJ6gJbVkxMDIyNjQEAFy5c4Lyhnz17Vq58WVtbw9nZGZaWlgCAY8eOsf+WxtbWFh07dmTbZ/z8/Di77Cpy3eRtaASAHj164MKFC2wbTc+ePdlgIM2SJUswd+5ctkquadOmUgO62JYtW/Do0SPMmTMHjo6OaNOmDS5fviyxWs/b2xtLliyBk5OTxKdmrsBZ8jO4tG3btlzXTi7yVM+NHj0atWrVgqmpKRo0aIAmTZpg5syZiI6O5qzOkZes7q6y6OvrY/z48Xjx4gUYhoGuri7WrVuHFi1aSE3TsGFDtv3MxcUFrVq1knrzF/v111/x+PFj6Ovro0ePHti+fbvM34E811nsr7/+wsmTJ2FtbQ2GYeDn54f79+9j6tSpMvNWUrUKGrq6upg0aRL7Q+MaD9C7d2/07t1brmM4OTlhzpw5MDIyKlVUlBZIFP3hL1++HIsWLcKqVaugrq6O7t27Y+nSpTLT+Pj4wN3dHWlpaQCKSyBcjbyZmZlYvXo1nj9/jo0bN2LlypWYN2+e1KetKVOmoH379oiJiQHDMJgyZYrU9pqyDbLi6oakpCQkJSXJDL43btyAv78/cnJy2CfAV69eyQxya9aswenTp+Hs7IxatWqhadOmbPdFaXbs2IFTp06xP7Jt27bhwYMHMn9ksbGxOHToEO92LaC4XWnfvn34999/MWzYMLi5uUktBY4ePRoAOPMuC1e/fHE7WG5uLo4fP45GjRpBVVWVVxdqearnLl26hOfPn+Pq1auIj4/HiBEjoK2tDRMTE+Tk5EhMk56eLrOXnrRehHZ2dnj58iUePnwIU1NTvH79WmIHj7IWLlyIX375Bebm5gCKH9AWLFgg88Gl7GDNK1eu4Pbt2zIHa7Zr1w45OTn48OED3r17h7dv3yI3N1dq9bg811ksNDQUhw4dYj9z1KhRsLe3p6AhzcGDB3H27FneVUeKfMmOHDmCvLw8JCQklNou7QZY8odfWFiIM2fO8Cr+6urqwt/fn/skSmjfvj3b20QgEEitMilJ0oj1OXPmlOsFcvfuXXTo0AHx8fGoWbMm+vfvz74XHx8vsa2Bq/unrKDh6emJn3/+GcHBwXBycsKpU6fQvn17mZ9Xo0YN1K5dG9evX8f169ehqamJv/76S2a3zqNHj8r9I9uzZw/GjBkjsceRNCKRCJqammy9u0gkwufPnyXuK37q79GjB5KTk9kRzvLgqnZVtAQMyFc9BxR3HmnWrBns7e3x8eNHnDlzBrt27YKfn99XncLj+PHj8PPzQ25uLvbv348xY8bAzc0NNjY2MtO9f/+eDRgAMHToUPj5+clMc+fOHXZgpra2NlavXs3Ztjd79mwAxeOpTp06hcWLF+PVq1dSr4G81xko/ruXDEIaGhqc7SBlVaugoaOjw+tGKabIl+zt27eco0JLKjuwxsTEBCNHjuTsn37p0iWsX7++XHdgWU+AKSkp8PLyQkpKCvbu3QtnZ2csW7YM33//vdQ0L1++xOjRoxEYGIgaNWrA1dWVrRIrKTAwED4+PhIbaaW1NXDVJctSo0YNDB8+HCkpKahbty6vHlezZ8+W2K1TFkV+ZI0bN4azszO6dOlSqu5c1jgaY2NjWFlZQVNTE927d8e4ceM4xwTNnj0bd+/eLdU1l0+7DlBc6pRF3A5WUFCAvXv3IjY2FmpqaujTpw/nXGGSqueklWgLCwuRkJCAS5cuISoqCrm5uTAxMcHvv/8OIyMjiWl0dHQ4xyRJsmPHDgQGBmLcuHFo0KABgoODMXHiRM6gUaNGDfahCCgOCNKmERFTZLDmpUuX2J5NIpEIQ4YMkdmzSZ7rLGZkZIQZM2awVXUhISESu2zLUq2CRr169WBlZYWuXbuWmmZB2s1LkS9Z586dce7cOZiZmfHqmfDq1Sv23wzD4OHDh+yUGrL4+PjAw8NDrl4tCxYswM8//wxfX180bNgQVlZWcHd3x969e6Wm4TtiXXwT8vb2LjfqVtokal/SFVhDQwMfPnxAixYtcPPmTRgbG6OoqEjq/oB83TrFFPmRGRgYyHxfEnd3dzg5OaFx48ZQUVGBt7c353QoiYmJOH78OOf3bNOmTZgxY4ZC4xS8vLyQm5uLUaNGQSQSITQ0FPfv35fZhfqHH37AoUOHkJqaCpFIJHM+qe7du6Nr164YMmQINm/eLPMBRkzRoWUqKiqlqgqFQiGvtk1PT0/MmDED9erVA8MwyMzMxNq1a2WmUWSw5t69e9GvXz84OzvLHG8iJr7O8lSDzp8/H/v27WOnHjIyMmKrO/mqVkGjb9++co2HUORLdubMGXZWUTFZ7Sbjxo0rNd+StrY2vLy8OPNWv359zifRst6/fw9TU1P4+vpCIBBg1KhRMgMGUFx9xmfEuiKTqH1JFciECRPg6uqKTZs2YeTIkQgLC+NsrJWnW6eYpB+ZuMeTNCkpKXKXohS5oXfp0gXPnj3j7P4pfkKWd7oIoPhmFxERwb7u378/51Q6SUlJcHNzQ2pqKhiGQcuWLbFy5UqJ83SNGTMGMTExOHLkCN68eYNevXrB0NBQ5u9s9+7d5baVLAlI06ZNG+zZsweFhYVITEzEvn37eM2RZmBggJMnT+Lp06cQiURo0aIF5zxl1tbW6NGjBztY08vLi3Ow5rZt23D06FEEBgbyWorh1q1b2LVrV7kxNLJKmgKBAHZ2dujfvz+bJi0tjXeVPVDNgoadnZ1c88Eo8iWLioqSK09BQUHlqsxSUlI40/30009Yvnw5evfuXaoKRNY4BU1NTbx584Z9ur969Srnl9/MzAwdO3ZkR6wvXrxYYptLdHQ0rly5grS0NGzYsIHdrqamJvVJ5v79++jXr5/UEcplx9OUZGJiAnNzcwgEAhw5cgRPnz7lnA5Bnm6dYtu3b8fkyZNLDbRau3YtW/8s7bzkHRBY8oYubtviCgZGRkawsrKCUCiU2Ugtbl8aNGgQQkND4ejoiNTUVOzfvx8uLi4yj/H999/j2bNn7A3/7du3aNSokcw0np6ecHV1ZR9qIiMjMW/ePOzbt6/cvu7u7gCKb1xRUVHYu3cvPDw80LZtW5iammLs2LHl0kiqYvby8uKsFl6wYAH8/PygoaEBT09PGBkZ8ZqH68WLF9i/f3+5m7OkgK7IYE0xX19fvHnzBnfv3sUvv/yCI0eOICkpSWoe3d3dMW7cOLRu3Zp3bcPmzZuxc+dO1K9fv9TDqqxSfVnVKmjIOx+MpC+Z+EtelrQvi1jZL8vr16/BMAxcXFywY8cO9stYVFSEX3/9tdTTnSTitRTu3bvHbuOqz543bx4mT56M58+fw8bGBpmZmVi/fr3M44wePRoHDhxgS2gikQg2NjblZl9VZBK127dvo1+/flIbxCV9jrTrVqdOHc7r9ueff+L69eto3bo1ZsyYgZiYGKnVDL6+vnj37h3Onj2Lp0+fstuLiopw8+ZNmUFDkQGBZbuDjhgxQuINsyR/f3/8888/vJ8S58yZw041U7t2bYhEIri5uWHTpk1S0xQWFsLGxgbdunWDqqoqEhISIBQK4ezsLPWcGIYpVQoeNGgQtmzZIjNvQqEQVlZWaN68Oa5du4bQ0FDcvHmT8xqUPCaXkydP4o8//ig1X9bevXs5R17PmDEDxsbG6NatG+fN+UtmZSq5FEOdOnU4l2LQ1NTkzHtZQUFBOHv2rNQZrfmoVkEjODgYFy5cKDcfjDS1atUq9yWTRt4vy8aNGxEXF4e0tLRSf3g1NTVeVWiKVO106tQJhw8fxtOnT1FUVISWLVtKLWk4OzvjypUrAIr7qYufStTU1Er1jCrLwMAAPj4+pbrCvnz5UmI12MyZMwHIN73Dl1y3ZcuWwdvbG0Dx5I0DBgyAu7u7xFmIBw8ejEePHiE2NrZUKUBVVRW//fabzOMoMiCwrEePHrFdo6WpX78+rxuZ2KtXr7Bt2zYAxSOWXV1dORuBy54rn8WSTExMsHXrVowaNQqqqqo4fvw4WrVqxbbflQxyZ86cwbVr15CQkICXL1+iS5cuMDIywrp169CmTRte5wVAZtXk7t27kZWVhf3795cqxRcVFSEsLIzzxsswjNSHxbIUGawpJq6SE/898/PzJVbTia9ju3btsHv3bgwYMKBUu5ashwihUCj3BIVlVaugwXc+GPFaFeKbpZiscR3iLwvf+mzxPtu3b+esIpBEkXEKjx8/xsGDB8tNcSIpv+InSB8fH15tLGKzZ89G3759kZCQADs7O0RGRnL++OWZ3kGR6zZ//ny8ePECd+7cKbXaWVFRkdTuqp07d0bnzp0xcOBAaGholPrxl5z0UBJFBgSW/a7Vr1+f82Hlhx9+wKhRo2BiYlKqY4e0KhCBQIDk5GS2tPHo0SPOnmA9evTAvXv32O+ZuEpXVg+qEydOACjufg78/wOVuP2uZFXI3r17YWRkBE9PT3Ts2JFXw7TYokWL2IW0ZPUG++GHHyR2W61RowavlTgNDQ0RGRmJAQMG8M6fPIM1xfguxVCyHTQ2NrbcA6SkqiZxDUjdunUxevToch115OmNVq2CBt/5YMR1o5KmX+BaKlTe+uzRo0dj7969cq2pDSg2TmH69OkYOnQo52y4JU2bNg3R0dEwMTGBv78/7t69i7lz50odr1JQUICZM2eisLAQ7du3x6hRo6ROOy6myPQO8ly3qVOnIiUlBUuXLi31vqqqaqm1TyT5999/y/34o6KiZAZSeQYEittzJJ0rVxDV1dWVqwFTvCRAo0aNIBAIkJGRwTlS3cvLC1euXEFmZiZatmyJpKQkdO3aVWrQOHfuHHbv3o1mzZohMjIShw8fRvv27fHbb79JXPFv165dvPNfVufOnbFmzRpkZGTIXL1Q3AHGwsKC/XtnZWXh9evXMh9oSpaw9+/fX+o9rjm75BmsKS45WFlZoW7dumAYBgkJCRg+fLjEzi5nz57F2bNn0bp163LXmWuQ3pcuxgVUs6CxdOlSHDt2jJ0PZsGCBTK7XIrr88VEIhGGDx8uczU1eeuzZ82ahTp16sjVdRZQbJxC3bp15e7fPmfOHHY5zYiICIwfPx6enp5Sq8dq1qyJ/Px8/PDDD7h79y67/oIsikzvIM91+/777/H999/j6NGjyMrKwqdPn9hAk5OTI3Psjjw/fjF5BgR6eHigQYMGMDY2lnhT5ZpOvCSGYaR27Dh37hxat26Nc+fO4d9//8XFixfRs2dPzunao6OjcfLkSSxZsgTOzs74/Pmz1KfznTt34vjx41i5ciWSkpLYMQSJiYlYvXo1PD09ZR5LXnZ2drCzs8Pr168RHh6OMWPGoHXr1hg5cqTEkt21a9ewY8cOuLm5wdbWFrVr14aNjQ2mTJki8fO/ZM4ueQZrliw5lHThwgX4+PiUC067du3CsWPHJF5nX19fiddZ0u/+/fv3qFevntwTOFaroLF+/Xr2iU5Wr4mS9fklZwflqs/PzMzEpEmT2DmgGIbBu3fvZK6Pocia2oBi4xTs7Oywbt26clOcyOpxlZmZiZ9//hlLlixh1yyQ1aA7bNgwTJkyBb6+vhg9ejQuXbrE2dvGzs4OOTk55QYqyqLIdfP394e/v3+pIMHVc0SeH7+YPAMCg4ODcfz4cVy+fBn6+voYOnQoTExMeFWDHDhwACtXriyVn++//x6RkZGl9it5M3/8+DE2b97M3mRWrVols8pEKBRCXV0drVq1QnJyMiwtLfHp0yeJ+4aGhuLAgQOoWbMmfH190b9/f4wcORIMw3DOu6SoFy9e4OjRozh27BiaN2+OQYMG4cSJEzh16lS5gW6BgYHYtm0bwsPDMWDAAMyfPx+jRo2SGjSA4rE92tra0NHRwa1btxAaGor27dtzlp7lGaxZtko5OzsbK1euRFRUlMT5wUJCQuS+zhkZGfjzzz/h6OiI7t27Y+bMmYiKikLDhg3h7+/PWeIuqVoFDb5VR4rU59+7dw8uLi5YtmwZ23C6bt06BAUFSVxLWKxdu3ZISkqSa01tQLFxCtevX8e1a9fY9UQA7h5XIpEId+7cwenTp7Fnzx4kJibKDE7jxo2Dra0ttLS0EBAQgNu3b8PU1FRmvhTpBqjIdTt06BBOnz4NbW1t3mkUGalddkBgcHCw1AGB7dq1Q7t27fDHH3/g9u3bOH78ONauXYuOHTvC0tJS5kBCf39/hIaGYv369XB1dcWFCxdK/W3FvuRm3qhRI/j7+8PY2JitypJWRSsQCNiR0nFxcXBwcGC3V4SxY8fi7du3sLW1xV9//cVW1dna2kptdBYKhbhw4QKcnZ2hpqYmc66mkJAQbNy4ERs2bEBubi7Gjx8PZ2dnnD17Fm/evJE5E7MigzWB4glFvby80KtXLxw9elTigD1FrvOSJUvQsWNHdOzYEREREbh37x6ioqLw4MED+Pj4yPUAVq2CRtmqI/HNSdpNU54G4JUrV2LNmjWlfuSurq7o1q0bVqxYIXFAEqDYmtpA8XTNZccpcH0p7969K3FNa1nmzp2LVatWYeLEiWjatClGjRoldSAaUPxEc+zYsVKN7cnJyTKrxRTpBqjIdWvSpAmvpTpLUuTH7+XlhX379iE0NJT3gECguHdbp06dcPXqVfj6+iIsLAzXr1+Xun+DBg3QtGlT/Pjjj7h//z4cHR0lrqfyJTfzpUuX4sKFC+jcuTMGDx6M8PBw/PnnnxL3VVVVxcePH5GTk4PExET06tULQHHnEHnnN+Jj4sSJGDx4cKltKSkp0NPTk7h8cevWrTF58mS8fPkSxsbGmDVrlsw6/n/++QeHDx+GtrY2Nm/ejJ49e8LV1RX5+fmws7OTGTTkHayZk5ODFStWsKUL8bWTRJHr/PDhQ6xbtw4AcPHiRZibm0NLSwuGhoacvfTKqlZBY9iwYWjYsCE0NTWRkZHBa4ZLvj5+/CjxqbB3794yly1VZE1tQL6eUGLiXmPyPJ3fvXsXa9asYRsYDx48KHP/X3/9FW3btpU5MK8sRboBKnLdfvjhBzg4OKBnz56luhpLCmiKTL0hqbcdAJw6dUpi3XTJ/eLj4xEREYGLFy+iXbt2cHJy4izR1KxZE7Gxsfjxxx9x+vRpdOrUSWLHji+5mf/+++/YuXMngOIZmZ2cnKTu6+LiAltbWxQWFmLEiBEQCoU4fvw41q1bx7k+ijzEY3U2btyITp068R7jtGzZMly/fh1t27ZFjRo1MGzYMJndYEUiEVsqjYuLY0tlXANiAfkGa5YsXYSFhXHWhChynUt+L2NjY0v1NuOqbi2rWgSNd+/eYebMmXjw4AF++OEHAMXr/hoYGHDOIcNXYWEhRCJRubpokUgkc6oKPT09hIWF4eHDh7ymDhBTpCfU48ePYWdnBx0dHairq/N6Os/NzYWTkxOaNWsGOzs7DBw4UGKDbUl8p9D4km6Aily3Ro0acbaviJWcSZZv9UrJhlO+a3EvXLgQly5dQvv27WFhYYG5c+dyToaXmpqKRo0awdvbG4cPH4a7uzsOHz4MCwsLidfsS27mnz9/xuvXr2XOHyVmbm4OQ0NDvH//nn0wqV27Nnx8fOSeFE8WRcfqiEQiXL16FYcPH4a3tzfu3bsns+pUvKJkTk4Orl+/zk6f8/79e17thyXJGqw5ceJEqKmpISoqCpcvX2a3S/t9KnKddXV1cfz4cXz+/BmfP39mg1poaKhc42EAQMB8yRDGb4SnpycaNmyIGTNmsDe8/Px8bNq0Cenp6VJ7gzAMg8DAwFL97Z2cnCQ2Ui5evBj16tVjB6yJbd68Gc+fP5c6+2TJqQMOHTqEqVOnokOHDpzTG4wZM6ZcN0Au0qYn4VMquHr1KsLDw3HlyhUYGRlh5MiREqtp/Pz80LBhQxgZGXEOOOrfv7/Mnkh8p1yQ57qVJO5tJKnEWbK7ZdmeLVzdLYH/H+vDRV9fH/Xq1WOnUS8boCQF9JKfvWvXLkyaNInzOKmpqaVuMhcuXICmpibnzdzc3BzPnj2Tu/q0Msg7xsnLywva2to4e/YsDh06hIULF0IkEkmtCdi7dy+7oJGuri62bNmCmJgYrFu3Dubm5ryuu9jDhw/h4uIicRwV17RB8pTapXn9+jUWLFiAd+/eYfbs2TA1NcXy5ctx7tw5bN++nX2Y5qNaBA0LCwt2wFFJDMPAxsZG6hKwK1euxLNnzzB8+HAwDIOgoCDo6elJ7G2SlZUFFxcXvHnzBvr6+tDQ0MC9e/egra0NPz8/qd06bW1t2akDQkJCUFhYiGHDhuH48eMyz+nAgQN49eqVXD2hygZBIyMjjBs3jrOnTk5ODk6dOoWwsDCkpqZi0KBBiI+Ph6GhYbkBaGvWrMGePXtKtU9Iu8nwfRqXRJHrxre30dfIJ980itwwSn423+CkqC950Kgo8k7ZIya+VuLrxzAMrK2tER4eLvVYt27dQnp6OszMzKCuro6QkBCIRCLObtfSBmty9bqqTB8/foSWlpZcAyqBalI9VXK8REkCgUDmBbt8+TJCQkLYffr27St1LISWlha77kBiYiJUVFTg6OjIOU6B79QBZSnSE2rVqlXlguCLFy9kdrmcM2cOYmNjYWZmht9++42d6jk/Px+mpqblgsa5c+cQExMjdbWxkr6kV40i141vb6OvkU++aRS5+UpqN6ko8fHx5bZpamoiOzu73BT4lUXRcxZXN4mvn3gxMlnKNpTn5eXJnEr8SwZrVrbx48cr9MBRLYKGrD+WrPeKiopQWFjINnwVFRXJXLtAIBDA2NiYXYObD75TB5SlSE8oeYKg+MtvZGQEQ0ND1K5dGy9evMCLFy8AFD/tHjt2rFw6PT09ZGZm8goaDx48kLioPZ8qEEWuG9/eRpLyw0fJ9UFSU1PZc6vIKp2KvhGdOXMG9+7dYwfLnT9/HkKhEDk5ObC2tsaECRMq9PiSlJzfiY9Xr15BV1cXzs7OmDhxItLT07F06VKcPn1a7gb6/fv3ywwaXzJYs7IpGnyrRdCQdXNKT0+Xms7a2hrOzs6wtLQEABw7dozXDV0eLi4uuHTpEnR1dfH69WvMmDGD1zoZivSEkicI8vnyS5qyoaCgAJaWlmjTpk2pdJJKQM2bNy+3bCxfilw3vr2NyuJ7Y/6S9UHkUfL7XNHBKT09HcHBwex0+DNmzMCUKVNw4MAB2NvbV0nQKFv1IyZtbrjRo0ejVq1aMDU1Re/evWFhYQGGYeDn5yf3+CiuG+2XDNb8VlSLNo0vaWi6ePEiYmJi2P728izixMe0adMwbNgw9OvXj1dXPjFbW1skJyfL1RNq27ZtOH/+fKkg2LdvX4kjYsWrwsn75RePpC9L0gJAX9KmAUDi+tiS2nTEvY0ePHjA9jb6/fffERMTg+nTp0u88ZUtNYh7XSlDQ3BlNJyKDRkypNTqgAUFBbC3t0dYWBhsbGwQGhr61Y5VkZ4/f46rV68iPj4eN27cgLa2NkxMTGBqaso5lUpJ4mWf+RAP1oyLi+M1WLMyvH//vtx4qLNnz8qc6aKsahE05FVyCVZJ5Jkkjsu5c+dw7NgxXL16Faamphg2bBivFdbkbaDMzMxEUVER7ty5g5iYGMTFxcHZ2ZlXcZnPl1+8cpqkOnBA8s188eLFWLBgAefxJXF1dcW9e/d4rY+tSG+jyrwxK7M1a9bg+vXrsLCwgEgkwqlTp/DTTz/hhx9+QHh4OP76668qy1tGRgaOHj2K7OzsUtPwc62T/fHjR5w5cwa7du3CkydPJM6AW5a4e/fkyZNx6tQpuaqZxIM1k5OTZQ7WrAy2trbYtWsXtLW1kZ6ejiVLluDhw4ecHW9KoqAhgfgps2w3y/T0dBQUFHB2t1REXl4e2/3t/fv3OHfunMz95ekJVXKKE/FgprVr1yI4OBg7duzgXUSX9eX39vbGkiVLJA7+4mqgV4SFhQXCw8N5rcNemb2N/ovOnTuHy5cvQ01NDcbGxujTpw9u3LiBFi1ayD3C/mtydnZGkyZNcOPGDQwcOBDnz59Hp06dynWhLywsREJCAi5duoSoqCjk5ubCxMQEJiYmMDIy4lxbW97u3ZIGa5qbm6Nfv35s1+qqcvLkSfj5+bFTr4wdOxYuLi6cY69KYQinrKwsxtvbm+nXrx8TFRX11T//wYMHzPr16xlzc3Nm4sSJTHBwMGeaFStWMFOnTmVOnz7NREZGMlOnTmV8fHwk7uvs7MzExsaW237x4kVm/PjxUo8hEomYuLg4ZtGiRcyAAQOY6dOnM+Hh4Ux2djbfU6sw7u7uzKNHj3jta2try/7bxsamgnL033X+/Hlm+fLljI+PDxMZGVnV2WENGTKEYZji38KNGzeYjIwMxtrautx+BgYGzKRJk5gDBw4wL168kPs4NjY2jEgkYr87BQUFjIWFhcR9FyxYwPTr14+ZNm0aEx4ezuTk5Mh9vIoWFRXFGBoaSrwn8FEtGsK/BJ8JxL6EtbU1VFVVYW1tjX/++Ydz8XkxeXpCKTLFiSIjlYHiUs22bdvKzVj7tUsafNfHLkvZuj0qO3nWBqls4lJOixYtkJSUJLVtYsyYMYiJicGRI0fw5s0b9OrVC4aGhrwbp+Xp3n3gwAHUq1cP9+7dw71798rNOFFVbWEl2+gYhgHDMJg2bRp7DWmN8K9AngnEvoSvr69cU4GIydMTSpEpThT98ru7u2P06NFyrw8iL3nWx67M3kb/NfKsDVLZjIyMMHPmTHZxqbt370rs6i1eqjUtLQ1RUVHYu3cvPDw80LZtW5iamnKuQy5P925l/S59zZ59FDQkkHcCMUU4OTnJvKlyPZnL0x24e/fu2Lx5c7kpTrZu3Sp1OnVFv/yampoYN26cQmnlIc/62CdPnqzw/PxXMXKsDVLZXF1d8fz5c+jp6WHt2rWIj4+XOe5CKBTCysoKzZs3x7Vr1xAaGoqbN29yBg15uncrawcJaR1UxOTJNzWES6Cvrw81NTUIhUKJa4R/jacJcdfUgwcPQlNTE7a2tlBTU0N4eDjy8vIkLr4i9vjxY9SuXRvJycmIiYkBULwuw9WrV7F48eJy+ys6xYkiNmzYAG1tbZiampYaif81e5wBxfOJPXjwgPf62EQxPj4+SE1NZSfgCwkJgVAolGvZgIrEZ9LKM2fO4Nq1a0hISMDLly/RpUsXGBkZwcjIiPdkfXy7dysrWcsZAPwnGQUoaEhUmd0thw8fjiNHjpTaZm9vj6CgIIn7b9q0iV1XefPmzTAxMcHOnTuxdetWGBoastNYl8X8bxF68RQnHTt25LUUq7xK9vcuWQd86dKlr3oceecdIophSvTSY/43Vmn06NFKUdrg26tp0qRJbJDo2LGj3APt5One/S3Kzc3lNYODGAWNKmZlZYVNmzahRYsWAIqn13Zzc5M6ieKAAQMQGBiItLQ0bNy4ESKRCKmpqXBzc0Pv3r0rM+syFRQUIDIyEoGBgbh9+zZu3LhR1VkickhPT4eOjo7UMUtfu+SoCEUn+5SXPN27ld3Zs2exfv165OTksGNbcnNz2RoLPqr+caGa8/DwgJOTExo1asSuKb5mzRqp+9euXRtCoRBCoRC3bt2Cra0t/P39leYL/eLFCxw8eBBBQUHIzMzElClTsGHDhq9+HElTSYiX8iRfzsvLC/7+/hg3bpzEdiNlaPBVdLJPeXXp0gXPnj2TuojSt2T58uVYsmQJ/v77b0yZMgWnT5+mRZi+Naampjh79iySkpIQHR2NCxcu4Ndff5U6crTkj6J+/fpyrR9RkSIjI7F//37cvXsXgwYNwqpVq+Dt7V1h1UUlFzwqKCjA6dOnqTTzFfn7++PRo0fYv38/hEIhtm/fjmvXrqFDhw745Zdfqjp7AMr3agoNDf3qc8MBinfvVkZ16tSBkZERrl27hk+fPmHu3Lmc68SXRUGjiomfzI8cOYKPHz9iypQp2LJli9T9Sz71yVMPWdFmzJgBCwsLHDhwAM2bNwdQeWMi1NXVYWFhgW3btlXK8aqDgIAA7Ny5E6qqqujRoweePHmCoUOH4sqVK1i4cCHnVB0V7fHjx7CxsUG7du2gq6uLN2/eYMKECUhISPjqx5Kne7eyElfjaWpq4smTJ2jVqhW7oJqslUUloaBRRco+ma9evZrXk7myjjk4evQogoKC4ODgAD09PVhaWnIuifklSk50yDAMHjx4oBSNs/8V+/fvZ5cHHThwIKKiolC7dm04OjpW+fTeZTuDuLu746+//sKiRYtgaGj41Y8nT/duZfXvv//Czs4Os2bNwvr167F69Wps374dBw4ckHthKPqVVRFFn8yVdcxB27Zt4eHhgTlz5uD8+fMICgrC27dv4eLiAkdHR/Tp0+erHi8uLq7U6/r162P9+vVf9RjVmZqaGmrVqoVatWqhadOm7FglVVXVKg/OISEhOHnyJNsZ5O+//0Zqaio2bNhQIZ1BfvjhB4waNeo/0b27R48e7ISoR44cQWZmptzzh1HQqCKKPpkr6+AhMTU1NQwcOBADBw5ERkYGQkJCsGbNmq8eNJYvX4579+6hffv2+PTpE+7cuSNxrW+imJJtZ8rSyUKssjuD6OrqftNVU4D0NYXE5KmhoC63VaywsJB9Mr948SJMTEwq5Mn8v2bNmjW4e/cudu3ahbS0NPzxxx/o0aMHZsyYUdVZ+08wNDREp06dABRPjS/+N8MwuHv3Lq9lcitKyVmLLSwscOLEiUo9PsMwePny5Tf1kGJpaSlzwTN5HkappFHFKuvJ/L/m3Llz7AJAQqEQf//9N+zs7ChofCX+/v5VnQWpKrszyIEDB7By5cpSXVO///57REZGVvixvxZ1dfWvVktBQUOJaGtrY9KkSbwWCaruCgsLkZuby9a1y9sDhMjGZyGwqlLZnUH8/f0RGhqK9evXw9XVFRcuXKjSkpYiunbt+tU+i4IG+SaNGTMG9vb27LQlFy9ehKOjYxXnilSGyu4M0qBBAzRt2hQ//vgj7t+/D0dHRwQGBlZqHr6UoitkSkJBg3yTJkyYgJ9++gnx8fFQV1fH6tWr0b59+6rOFqkEld0ZpGbNmoiNjcWPP/6I06dPo1OnTsjNza3UPCiTrz/mnpBKwDAMbt++jevXryMmJgbx8fEQiURVnS3yH+Tt7Y1z587BzMwMmZmZsLCwqJTp/5UVlTTIN2nVqlV49uwZhg8fDoZhEBQUhBcvXijNlN3kv2Hfvn3Q0dHBvHnzMHLkSLx79w7a2tpS19OoDihokG+SPMvdEqIIf39/xMTEYOHChQCKpxAPCAjA+fPn4e/vj2XLllVxDqsGBQ3yTZJnuVtCFBESEoLDhw+XGg2vp6eH0aNHw9zcvIpzV3UoaJBvkjzL3RKiCFVV1VJLPYvXRVdTU6uQJaC/FRQ0yDepf//+aNy4MQICAqCrq4upU6fSgEjyVYlEImRlZUFLSwsAMGTIEADAp0+fKmTdjm8FBQ3yTXn37h1mzpyJhw8fonnz5lBVVUVsbCxyc3PRtWtX1KlTp6qzSP4jrK2t4e7ujpUrV7KBIzs7G56enhg2bFgV567q0NxT5Jvi6emJhg0bYsaMGeyMowUFBdi4cSPS09OxYsWKKs4h+a8oKirCn3/+ifDwcLRq1QoCgQAPHz6EjY0N/vzzz6rOXpWhoEG+KdImqGMYBjY2NlLXVidEUampqbh16xYAoGPHjmjSpEkV56hqUfUU+aZoaGhI3C4QCKp1PTOpOI0aNcKgQYOqOhtKg35l5Jsia6Gqb3llNUK+FVTSIN8UaYvJMAyD9PT0KsgRIdULtWmQb0pKSorM95V9ZUNCvnUUNAghhPBGbRqEEEJ4o6BBCCGENwoahBBCeKOgQQghhDcKGoQQQnj7P0DeUYvU/OYSAAAAAElFTkSuQmCC",
      "text/plain": [
       "<Figure size 432x288 with 1 Axes>"
      ]
     },
     "metadata": {},
     "output_type": "display_data"
    },
    {
     "name": "stdout",
     "output_type": "stream",
     "text": [
      "\n",
      "\n"
     ]
    }
   ],
   "source": [
    "# Lista de columnas a analizar\n",
    "cols_to_analyze = ['tconst', 'titleType', 'originalTitle', 'runtimeMinutes', 'region', 'language', 'types', 'attributes', 'main_genre', 'secondary_genre']\n",
    "\n",
    "for col in cols_to_analyze:\n",
    "    print(f\"Distribución de valores para '{col}':\")\n",
    "    value_counts = df_movies[col].value_counts()\n",
    "    print(value_counts.head())  # Mostrar los 5 valores más comunes\n",
    "    \n",
    "    # Graficar si la columna tiene menos de 30 valores únicos para mejor visualización\n",
    "    if len(value_counts) < 30:\n",
    "        value_counts.plot(kind='bar')\n",
    "        plt.title(f\"Distribución de '{col}'\")\n",
    "        plt.ylabel('Número de películas')\n",
    "        plt.show()\n",
    "    \n",
    "    print(\"\\n\")  # Separación entre análisis\n"
   ]
  },
  {
   "cell_type": "code",
   "execution_count": 889,
   "metadata": {},
   "outputs": [
    {
     "data": {
      "image/png": "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",
      "text/plain": [
       "<Figure size 1185.35x1080 with 8 Axes>"
      ]
     },
     "metadata": {},
     "output_type": "display_data"
    }
   ],
   "source": [
    "# Reemplaza '\\\\N' por NaN\n",
    "df_movies['runtimeMinutes'].replace('\\\\N', np.nan, inplace=True)\n",
    "\n",
    "# Convierte a float\n",
    "df_movies['runtimeMinutes'] = df_movies['runtimeMinutes'].astype(float)\n",
    "\n",
    "# Contamos cuántas películas hay por cada género\n",
    "genre_counts = df_movies['main_genre'].value_counts()\n",
    "\n",
    "# Filtramos los géneros que tienen, por ejemplo, más de 100 películas\n",
    "selected_genres = genre_counts[genre_counts > 100].index\n",
    "\n",
    "# Filtra el DataFrame para incluir solo los géneros seleccionados\n",
    "filtered_movies = df_movies[df_movies['main_genre'].isin(selected_genres)]\n",
    "\n",
    "# Grafica las distribuciones para estos géneros\n",
    "sns.displot(data=filtered_movies, x=\"runtimeMinutes\", hue=\"main_genre\", col=\"main_genre\", col_wrap=3, bins=30)\n",
    "plt.show()\n"
   ]
  },
  {
   "cell_type": "code",
   "execution_count": 890,
   "metadata": {},
   "outputs": [
    {
     "data": {
      "text/html": [
       "<div>\n",
       "<style scoped>\n",
       "    .dataframe tbody tr th:only-of-type {\n",
       "        vertical-align: middle;\n",
       "    }\n",
       "\n",
       "    .dataframe tbody tr th {\n",
       "        vertical-align: top;\n",
       "    }\n",
       "\n",
       "    .dataframe thead th {\n",
       "        text-align: right;\n",
       "    }\n",
       "</style>\n",
       "<table border=\"1\" class=\"dataframe\">\n",
       "  <thead>\n",
       "    <tr style=\"text-align: right;\">\n",
       "      <th></th>\n",
       "      <th>tconst</th>\n",
       "      <th>titleType</th>\n",
       "      <th>originalTitle</th>\n",
       "      <th>region</th>\n",
       "      <th>language</th>\n",
       "      <th>types</th>\n",
       "      <th>attributes</th>\n",
       "      <th>main_genre</th>\n",
       "      <th>secondary_genre</th>\n",
       "    </tr>\n",
       "  </thead>\n",
       "  <tbody>\n",
       "    <tr>\n",
       "      <th>6996</th>\n",
       "      <td>tt3205376</td>\n",
       "      <td>movie</td>\n",
       "      <td>Slow West</td>\n",
       "      <td>CA</td>\n",
       "      <td>en</td>\n",
       "      <td>imdbDisplay</td>\n",
       "      <td>\\N</td>\n",
       "      <td>Action</td>\n",
       "      <td>Adventure</td>\n",
       "    </tr>\n",
       "    <tr>\n",
       "      <th>7437</th>\n",
       "      <td>tt8800266</td>\n",
       "      <td>movie</td>\n",
       "      <td>Ema</td>\n",
       "      <td>CA</td>\n",
       "      <td>en</td>\n",
       "      <td>imdbDisplay</td>\n",
       "      <td>\\N</td>\n",
       "      <td>Drama</td>\n",
       "      <td>Music</td>\n",
       "    </tr>\n",
       "    <tr>\n",
       "      <th>6335</th>\n",
       "      <td>tt10228230</td>\n",
       "      <td>tvMiniSeries</td>\n",
       "      <td>Quiz</td>\n",
       "      <td>CA</td>\n",
       "      <td>en</td>\n",
       "      <td>imdbDisplay</td>\n",
       "      <td>\\N</td>\n",
       "      <td>Crime</td>\n",
       "      <td>Drama</td>\n",
       "    </tr>\n",
       "    <tr>\n",
       "      <th>1471</th>\n",
       "      <td>tt1045772</td>\n",
       "      <td>movie</td>\n",
       "      <td>I Love You Phillip Morris</td>\n",
       "      <td>IN</td>\n",
       "      <td>en</td>\n",
       "      <td>imdbDisplay</td>\n",
       "      <td>\\N</td>\n",
       "      <td>Biography</td>\n",
       "      <td>Comedy</td>\n",
       "    </tr>\n",
       "    <tr>\n",
       "      <th>1667</th>\n",
       "      <td>tt11233960</td>\n",
       "      <td>movie</td>\n",
       "      <td>The Unforgivable</td>\n",
       "      <td>IN</td>\n",
       "      <td>en</td>\n",
       "      <td>imdbDisplay</td>\n",
       "      <td>\\N</td>\n",
       "      <td>Crime</td>\n",
       "      <td>Drama</td>\n",
       "    </tr>\n",
       "    <tr>\n",
       "      <th>3471</th>\n",
       "      <td>tt2400463</td>\n",
       "      <td>movie</td>\n",
       "      <td>The Invitation</td>\n",
       "      <td>IN</td>\n",
       "      <td>en</td>\n",
       "      <td>imdbDisplay</td>\n",
       "      <td>\\N</td>\n",
       "      <td>Drama</td>\n",
       "      <td>Horror</td>\n",
       "    </tr>\n",
       "    <tr>\n",
       "      <th>5229</th>\n",
       "      <td>tt8115900</td>\n",
       "      <td>movie</td>\n",
       "      <td>The Bad Guys</td>\n",
       "      <td>IN</td>\n",
       "      <td>en</td>\n",
       "      <td>imdbDisplay</td>\n",
       "      <td>\\N</td>\n",
       "      <td>Adventure</td>\n",
       "      <td>Animation</td>\n",
       "    </tr>\n",
       "    <tr>\n",
       "      <th>246</th>\n",
       "      <td>tt0180073</td>\n",
       "      <td>movie</td>\n",
       "      <td>Quills</td>\n",
       "      <td>IN</td>\n",
       "      <td>en</td>\n",
       "      <td>imdbDisplay</td>\n",
       "      <td>\\N</td>\n",
       "      <td>Biography</td>\n",
       "      <td>Drama</td>\n",
       "    </tr>\n",
       "    <tr>\n",
       "      <th>5937</th>\n",
       "      <td>tt0330243</td>\n",
       "      <td>movie</td>\n",
       "      <td>Dzien swira</td>\n",
       "      <td>CA</td>\n",
       "      <td>en</td>\n",
       "      <td>imdbDisplay</td>\n",
       "      <td>\\N</td>\n",
       "      <td>Comedy</td>\n",
       "      <td>Drama</td>\n",
       "    </tr>\n",
       "    <tr>\n",
       "      <th>1126</th>\n",
       "      <td>tt0772145</td>\n",
       "      <td>tvSeries</td>\n",
       "      <td>Wolverine and the X-Men</td>\n",
       "      <td>IN</td>\n",
       "      <td>en</td>\n",
       "      <td>imdbDisplay</td>\n",
       "      <td>\\N</td>\n",
       "      <td>Action</td>\n",
       "      <td>Adventure</td>\n",
       "    </tr>\n",
       "    <tr>\n",
       "      <th>125</th>\n",
       "      <td>tt0106179</td>\n",
       "      <td>tvSeries</td>\n",
       "      <td>The X Files</td>\n",
       "      <td>IN</td>\n",
       "      <td>en</td>\n",
       "      <td>imdbDisplay</td>\n",
       "      <td>\\N</td>\n",
       "      <td>Crime</td>\n",
       "      <td>Drama</td>\n",
       "    </tr>\n",
       "    <tr>\n",
       "      <th>5072</th>\n",
       "      <td>tt7638348</td>\n",
       "      <td>movie</td>\n",
       "      <td>Boss Level</td>\n",
       "      <td>IN</td>\n",
       "      <td>en</td>\n",
       "      <td>imdbDisplay</td>\n",
       "      <td>\\N</td>\n",
       "      <td>Action</td>\n",
       "      <td>Adventure</td>\n",
       "    </tr>\n",
       "    <tr>\n",
       "      <th>4331</th>\n",
       "      <td>tt5028340</td>\n",
       "      <td>movie</td>\n",
       "      <td>Mary Poppins Returns</td>\n",
       "      <td>IN</td>\n",
       "      <td>en</td>\n",
       "      <td>imdbDisplay</td>\n",
       "      <td>\\N</td>\n",
       "      <td>Adventure</td>\n",
       "      <td>Comedy</td>\n",
       "    </tr>\n",
       "    <tr>\n",
       "      <th>1133</th>\n",
       "      <td>tt0780536</td>\n",
       "      <td>movie</td>\n",
       "      <td>In Bruges</td>\n",
       "      <td>IN</td>\n",
       "      <td>en</td>\n",
       "      <td>imdbDisplay</td>\n",
       "      <td>\\N</td>\n",
       "      <td>Comedy</td>\n",
       "      <td>Crime</td>\n",
       "    </tr>\n",
       "    <tr>\n",
       "      <th>2299</th>\n",
       "      <td>tt13918776</td>\n",
       "      <td>tvSeries</td>\n",
       "      <td>The Night Agent</td>\n",
       "      <td>IN</td>\n",
       "      <td>en</td>\n",
       "      <td>imdbDisplay</td>\n",
       "      <td>\\N</td>\n",
       "      <td>Action</td>\n",
       "      <td>Drama</td>\n",
       "    </tr>\n",
       "  </tbody>\n",
       "</table>\n",
       "</div>"
      ],
      "text/plain": [
       "          tconst     titleType              originalTitle region language  \\\n",
       "6996   tt3205376         movie                  Slow West     CA       en   \n",
       "7437   tt8800266         movie                        Ema     CA       en   \n",
       "6335  tt10228230  tvMiniSeries                       Quiz     CA       en   \n",
       "1471   tt1045772         movie  I Love You Phillip Morris     IN       en   \n",
       "1667  tt11233960         movie           The Unforgivable     IN       en   \n",
       "3471   tt2400463         movie             The Invitation     IN       en   \n",
       "5229   tt8115900         movie               The Bad Guys     IN       en   \n",
       "246    tt0180073         movie                     Quills     IN       en   \n",
       "5937   tt0330243         movie                Dzien swira     CA       en   \n",
       "1126   tt0772145      tvSeries    Wolverine and the X-Men     IN       en   \n",
       "125    tt0106179      tvSeries                The X Files     IN       en   \n",
       "5072   tt7638348         movie                 Boss Level     IN       en   \n",
       "4331   tt5028340         movie       Mary Poppins Returns     IN       en   \n",
       "1133   tt0780536         movie                  In Bruges     IN       en   \n",
       "2299  tt13918776      tvSeries            The Night Agent     IN       en   \n",
       "\n",
       "            types attributes main_genre secondary_genre  \n",
       "6996  imdbDisplay         \\N     Action       Adventure  \n",
       "7437  imdbDisplay         \\N      Drama           Music  \n",
       "6335  imdbDisplay         \\N      Crime           Drama  \n",
       "1471  imdbDisplay         \\N  Biography          Comedy  \n",
       "1667  imdbDisplay         \\N      Crime           Drama  \n",
       "3471  imdbDisplay         \\N      Drama          Horror  \n",
       "5229  imdbDisplay         \\N  Adventure       Animation  \n",
       "246   imdbDisplay         \\N  Biography           Drama  \n",
       "5937  imdbDisplay         \\N     Comedy           Drama  \n",
       "1126  imdbDisplay         \\N     Action       Adventure  \n",
       "125   imdbDisplay         \\N      Crime           Drama  \n",
       "5072  imdbDisplay         \\N     Action       Adventure  \n",
       "4331  imdbDisplay         \\N  Adventure          Comedy  \n",
       "1133  imdbDisplay         \\N     Comedy           Crime  \n",
       "2299  imdbDisplay         \\N     Action           Drama  "
      ]
     },
     "execution_count": 890,
     "metadata": {},
     "output_type": "execute_result"
    }
   ],
   "source": [
    "# Selecciona las columnas de tipo 'object'\n",
    "name_cols_object = df_movies.select_dtypes(include=['object']).columns\n",
    "\n",
    "# Consulta una muestra de 15 registros de esas columnas\n",
    "df_movies[name_cols_object].sample(15)\n"
   ]
  },
  {
   "cell_type": "markdown",
   "metadata": {},
   "source": [
    "### 3.2. Análisis de calidad de datos\n"
   ]
  },
  {
   "cell_type": "markdown",
   "metadata": {},
   "source": [
    "### 3.2.1 Completitud - Análisis de valores nulos o vacíos\n"
   ]
  },
  {
   "cell_type": "code",
   "execution_count": 891,
   "metadata": {},
   "outputs": [
    {
     "data": {
      "text/plain": [
       "runtimeMinutes     1.325124\n",
       "secondary_genre    0.013385\n",
       "ordering           0.013385\n",
       "isAdult            0.013385\n",
       "startYear          0.013385\n",
       "main_genre         0.013385\n",
       "numVotes           0.013385\n",
       "averageRating      0.013385\n",
       "region             0.013385\n",
       "language           0.013385\n",
       "types              0.013385\n",
       "attributes         0.013385\n",
       "isOriginalTitle    0.013385\n",
       "originalTitle      0.000000\n",
       "titleType          0.000000\n",
       "tconst             0.000000\n",
       "index              0.000000\n",
       "#                  0.000000\n",
       "dtype: float64"
      ]
     },
     "execution_count": 891,
     "metadata": {},
     "output_type": "execute_result"
    }
   ],
   "source": [
    "# Cálculo de porcentaje de valores nulos por columna en df_movies\n",
    "((df_movies.isnull().sum() / df_movies.shape[0]) * 100).sort_values(ascending=False)\n"
   ]
  },
  {
   "cell_type": "markdown",
   "metadata": {},
   "source": [
    "En el DataFrame df_movies, la columna runtimeMinutes presenta un 1.325124% de valores nulos, lo que sugiere que hay algunas películas o series sin información sobre su duración. Por otro lado, las columnas numVotes, ordering, main_genre, isOriginalTitle, attributes, types, language, region, secondary_genre, averageRating, startYear y isAdult muestran un 0.013385% de valores nulos, indicando que raramente se carece de esta información en estas columnas. Las columnas index, originalTitle, titleType, tconst y # están completamente llenas sin ningún valor faltante. Con esto podemos concluir que en cuanto a completitud los datos tienen una muy buena calidad."
   ]
  },
  {
   "cell_type": "markdown",
   "metadata": {},
   "source": [
    "### 3.2.2 Unicidad"
   ]
  },
  {
   "cell_type": "code",
   "execution_count": 892,
   "metadata": {},
   "outputs": [
    {
     "name": "stdout",
     "output_type": "stream",
     "text": [
      "El número de registros duplicados en df_movies es: 6\n"
     ]
    }
   ],
   "source": [
    "duplicated_movies = df_movies.duplicated(keep=False).sum()\n",
    "print(f\"El número de registros duplicados en df_movies es: {duplicated_movies}\")"
   ]
  },
  {
   "cell_type": "markdown",
   "metadata": {},
   "source": [
    "A comparacion con el tamano total de los datos se puede ver que tienen muy pocos registros duplicados por lo que, aunque es importante eliminarlos para mejorar la calidad de los analisis, se podrian calificar los datos como muy buenos en cuanto a unicidad."
   ]
  },
  {
   "cell_type": "markdown",
   "metadata": {},
   "source": [
    "### 3.2.3 Consistencia\n"
   ]
  },
  {
   "cell_type": "code",
   "execution_count": 893,
   "metadata": {},
   "outputs": [
    {
     "name": "stdout",
     "output_type": "stream",
     "text": [
      "Valores para la columna 'tconst':\n",
      "tt0386741     2\n",
      "tt0395843     2\n",
      "tt12443930    2\n",
      "tt1535109     2\n",
      "tt0390538     2\n",
      "tt14479480    1\n",
      "tt5962210     1\n",
      "tt0835434     1\n",
      "tt2432604     1\n",
      "tt17513352    1\n",
      "Name: tconst, dtype: int64\n",
      "--------------------------------------------------\n"
     ]
    }
   ],
   "source": [
    "# Columna: tconst\n",
    "print(\"Valores para la columna 'tconst':\")\n",
    "print(df_movies['tconst'].value_counts().head(10))\n",
    "print(\"-\" * 50)\n"
   ]
  },
  {
   "cell_type": "code",
   "execution_count": 894,
   "metadata": {},
   "outputs": [
    {
     "name": "stdout",
     "output_type": "stream",
     "text": [
      "Valores para la columna 'titleType':\n",
      "movie           4673\n",
      "tvSeries        2340\n",
      "tvMiniSeries     379\n",
      "tvMovie           70\n",
      "MOVIE              5\n",
      "MOvie              3\n",
      "Movie              1\n",
      "Name: titleType, dtype: int64\n",
      "--------------------------------------------------\n"
     ]
    }
   ],
   "source": [
    "# Columna: titleType\n",
    "print(\"Valores para la columna 'titleType':\")\n",
    "print(df_movies['titleType'].value_counts().head(10))\n",
    "print(\"-\" * 50)"
   ]
  },
  {
   "cell_type": "code",
   "execution_count": 895,
   "metadata": {},
   "outputs": [
    {
     "name": "stdout",
     "output_type": "stream",
     "text": [
      "Valores para la columna 'originalTitle':\n",
      "Candy                   3\n",
      "Life                    3\n",
      "Monster                 3\n",
      "Limitless               3\n",
      "Taken                   3\n",
      "Beauty and the Beast    3\n",
      "Home                    3\n",
      "Wanted                  3\n",
      "In the Dark             2\n",
      "The Missing             2\n",
      "Name: originalTitle, dtype: int64\n",
      "--------------------------------------------------\n"
     ]
    }
   ],
   "source": [
    "# Columna: originalTitle\n",
    "print(\"Valores para la columna 'originalTitle':\")\n",
    "print(df_movies['originalTitle'].value_counts().head(10))\n",
    "print(\"-\" * 50)"
   ]
  },
  {
   "cell_type": "code",
   "execution_count": 896,
   "metadata": {},
   "outputs": [
    {
     "name": "stdout",
     "output_type": "stream",
     "text": [
      "Valores para la columna 'runtimeMinutes':\n",
      "60.0     534\n",
      "30.0     340\n",
      "45.0     184\n",
      "22.0     138\n",
      "43.0     114\n",
      "90.0     112\n",
      "105.0    110\n",
      "42.0     108\n",
      "100.0    100\n",
      "106.0     99\n",
      "Name: runtimeMinutes, dtype: int64\n",
      "--------------------------------------------------\n"
     ]
    }
   ],
   "source": [
    "# Columna: runtimeMinutes\n",
    "print(\"Valores para la columna 'runtimeMinutes':\")\n",
    "print(df_movies['runtimeMinutes'].value_counts().head(10))\n",
    "print(\"-\" * 50)"
   ]
  },
  {
   "cell_type": "code",
   "execution_count": 897,
   "metadata": {},
   "outputs": [
    {
     "name": "stdout",
     "output_type": "stream",
     "text": [
      "Valores para la columna 'region':\n",
      "IN    5590\n",
      "CA    1782\n",
      "US      94\n",
      "GB       4\n",
      "Name: region, dtype: int64\n",
      "--------------------------------------------------\n"
     ]
    }
   ],
   "source": [
    "# Columna: region\n",
    "print(\"Valores para la columna 'region':\")\n",
    "print(df_movies['region'].value_counts().head(10))\n",
    "print(\"-\" * 50)"
   ]
  },
  {
   "cell_type": "code",
   "execution_count": 898,
   "metadata": {},
   "outputs": [
    {
     "name": "stdout",
     "output_type": "stream",
     "text": [
      "Valores para la columna 'language':\n",
      "en    7470\n",
      "Name: language, dtype: int64\n",
      "--------------------------------------------------\n"
     ]
    }
   ],
   "source": [
    "# Columna: language\n",
    "print(\"Valores para la columna 'language':\")\n",
    "print(df_movies['language'].value_counts().head(10))\n",
    "print(\"-\" * 50)"
   ]
  },
  {
   "cell_type": "code",
   "execution_count": 899,
   "metadata": {},
   "outputs": [
    {
     "name": "stdout",
     "output_type": "stream",
     "text": [
      "Valores para la columna 'types':\n",
      "imdbDisplay    7395\n",
      "working          38\n",
      "alternative      24\n",
      "festival         11\n",
      "dvd               2\n",
      "Name: types, dtype: int64\n",
      "--------------------------------------------------\n"
     ]
    }
   ],
   "source": [
    "# Columna: types\n",
    "print(\"Valores para la columna 'types':\")\n",
    "print(df_movies['types'].value_counts().head(10))\n",
    "print(\"-\" * 50)"
   ]
  },
  {
   "cell_type": "code",
   "execution_count": 900,
   "metadata": {},
   "outputs": [
    {
     "name": "stdout",
     "output_type": "stream",
     "text": [
      "Valores para la columna 'attributes':\n",
      "\\N    7470\n",
      "Name: attributes, dtype: int64\n",
      "--------------------------------------------------\n"
     ]
    }
   ],
   "source": [
    "# Columna: attributes\n",
    "print(\"Valores para la columna 'attributes':\")\n",
    "print(df_movies['attributes'].value_counts().head(10))\n",
    "print(\"-\" * 50)"
   ]
  },
  {
   "cell_type": "code",
   "execution_count": 901,
   "metadata": {},
   "outputs": [
    {
     "name": "stdout",
     "output_type": "stream",
     "text": [
      "Valores para la columna 'main_genre':\n",
      "Drama          1767\n",
      "Comedy         1615\n",
      "Action         1571\n",
      "Crime           867\n",
      "Biography       597\n",
      "Adventure       440\n",
      "Documentary     297\n",
      "Animation       144\n",
      "Horror           63\n",
      "Reality-TV       24\n",
      "Name: main_genre, dtype: int64\n",
      "--------------------------------------------------\n"
     ]
    }
   ],
   "source": [
    "# Columna: main_genre\n",
    "print(\"Valores para la columna 'main_genre':\")\n",
    "print(df_movies['main_genre'].value_counts().head(10))\n",
    "print(\"-\" * 50)"
   ]
  },
  {
   "cell_type": "code",
   "execution_count": 902,
   "metadata": {},
   "outputs": [
    {
     "name": "stdout",
     "output_type": "stream",
     "text": [
      "Valores para la columna 'secondary_genre':\n",
      "Drama          2428\n",
      "No tiene       1052\n",
      "Crime           634\n",
      "Adventure       574\n",
      "Romance         453\n",
      "Comedy          383\n",
      "Mystery         259\n",
      "Animation       224\n",
      "Thriller        209\n",
      "Documentary     200\n",
      "Name: secondary_genre, dtype: int64\n",
      "--------------------------------------------------\n"
     ]
    }
   ],
   "source": [
    "# Columna: secondary_genre\n",
    "print(\"Valores para la columna 'secondary_genre':\")\n",
    "print(df_movies['secondary_genre'].value_counts().head(10))\n",
    "print(\"-\" * 50)"
   ]
  },
  {
   "cell_type": "markdown",
   "metadata": {},
   "source": [
    "La columna tconst parece tener muy pocas repeticiones por lo que probablemente sea alguna referencia especial. Ahora bien, referiendonos a los datos podemos ver que la columna titleType sufre de problemas de consistencia con el nombramiento de movie. El resto de columnas parecen tener buena consistencia, sin embargo arreglar la columna de titleType mejorara los resultados de analisis al evitar problemas."
   ]
  },
  {
   "cell_type": "markdown",
   "metadata": {},
   "source": [
    "### 3.2.4 Validez\n"
   ]
  },
  {
   "cell_type": "markdown",
   "metadata": {},
   "source": [
    "Se verifica el valor de cada uno de los atributos del dataset."
   ]
  },
  {
   "cell_type": "code",
   "execution_count": 903,
   "metadata": {},
   "outputs": [
    {
     "data": {
      "text/html": [
       "<div>\n",
       "<style scoped>\n",
       "    .dataframe tbody tr th:only-of-type {\n",
       "        vertical-align: middle;\n",
       "    }\n",
       "\n",
       "    .dataframe tbody tr th {\n",
       "        vertical-align: top;\n",
       "    }\n",
       "\n",
       "    .dataframe thead th {\n",
       "        text-align: right;\n",
       "    }\n",
       "</style>\n",
       "<table border=\"1\" class=\"dataframe\">\n",
       "  <thead>\n",
       "    <tr style=\"text-align: right;\">\n",
       "      <th></th>\n",
       "      <th>#</th>\n",
       "      <th>index</th>\n",
       "      <th>isAdult</th>\n",
       "      <th>startYear</th>\n",
       "      <th>runtimeMinutes</th>\n",
       "      <th>averageRating</th>\n",
       "      <th>numVotes</th>\n",
       "      <th>ordering</th>\n",
       "      <th>isOriginalTitle</th>\n",
       "    </tr>\n",
       "  </thead>\n",
       "  <tbody>\n",
       "    <tr>\n",
       "      <th>count</th>\n",
       "      <td>7471.000000</td>\n",
       "      <td>7471.000000</td>\n",
       "      <td>7470.0</td>\n",
       "      <td>7470.000000</td>\n",
       "      <td>7372.000000</td>\n",
       "      <td>7470.000000</td>\n",
       "      <td>7.470000e+03</td>\n",
       "      <td>7470.000000</td>\n",
       "      <td>7470.0</td>\n",
       "    </tr>\n",
       "    <tr>\n",
       "      <th>mean</th>\n",
       "      <td>4043.482666</td>\n",
       "      <td>5440.458439</td>\n",
       "      <td>0.0</td>\n",
       "      <td>2013.157296</td>\n",
       "      <td>100.777130</td>\n",
       "      <td>7.475676</td>\n",
       "      <td>7.282830e+04</td>\n",
       "      <td>16.567604</td>\n",
       "      <td>0.0</td>\n",
       "    </tr>\n",
       "    <tr>\n",
       "      <th>std</th>\n",
       "      <td>2192.753689</td>\n",
       "      <td>2752.820924</td>\n",
       "      <td>0.0</td>\n",
       "      <td>6.979151</td>\n",
       "      <td>65.016795</td>\n",
       "      <td>2.771444</td>\n",
       "      <td>1.640233e+05</td>\n",
       "      <td>12.761147</td>\n",
       "      <td>0.0</td>\n",
       "    </tr>\n",
       "    <tr>\n",
       "      <th>min</th>\n",
       "      <td>1.000000</td>\n",
       "      <td>1.000000</td>\n",
       "      <td>0.0</td>\n",
       "      <td>1990.000000</td>\n",
       "      <td>3.000000</td>\n",
       "      <td>6.500000</td>\n",
       "      <td>1.000000e+01</td>\n",
       "      <td>1.000000</td>\n",
       "      <td>0.0</td>\n",
       "    </tr>\n",
       "    <tr>\n",
       "      <th>25%</th>\n",
       "      <td>2152.500000</td>\n",
       "      <td>3073.500000</td>\n",
       "      <td>0.0</td>\n",
       "      <td>2008.000000</td>\n",
       "      <td>60.000000</td>\n",
       "      <td>6.900000</td>\n",
       "      <td>6.265250e+03</td>\n",
       "      <td>6.000000</td>\n",
       "      <td>0.0</td>\n",
       "    </tr>\n",
       "    <tr>\n",
       "      <th>50%</th>\n",
       "      <td>4033.000000</td>\n",
       "      <td>5421.000000</td>\n",
       "      <td>0.0</td>\n",
       "      <td>2015.000000</td>\n",
       "      <td>101.000000</td>\n",
       "      <td>7.300000</td>\n",
       "      <td>1.527900e+04</td>\n",
       "      <td>14.000000</td>\n",
       "      <td>0.0</td>\n",
       "    </tr>\n",
       "    <tr>\n",
       "      <th>75%</th>\n",
       "      <td>5914.500000</td>\n",
       "      <td>7641.500000</td>\n",
       "      <td>0.0</td>\n",
       "      <td>2019.000000</td>\n",
       "      <td>122.000000</td>\n",
       "      <td>7.800000</td>\n",
       "      <td>5.641975e+04</td>\n",
       "      <td>24.000000</td>\n",
       "      <td>0.0</td>\n",
       "    </tr>\n",
       "    <tr>\n",
       "      <th>max</th>\n",
       "      <td>7849.000000</td>\n",
       "      <td>10274.000000</td>\n",
       "      <td>0.0</td>\n",
       "      <td>2023.000000</td>\n",
       "      <td>990.000000</td>\n",
       "      <td>92.000000</td>\n",
       "      <td>2.197234e+06</td>\n",
       "      <td>119.000000</td>\n",
       "      <td>0.0</td>\n",
       "    </tr>\n",
       "  </tbody>\n",
       "</table>\n",
       "</div>"
      ],
      "text/plain": [
       "                 #         index  isAdult    startYear  runtimeMinutes  \\\n",
       "count  7471.000000   7471.000000   7470.0  7470.000000     7372.000000   \n",
       "mean   4043.482666   5440.458439      0.0  2013.157296      100.777130   \n",
       "std    2192.753689   2752.820924      0.0     6.979151       65.016795   \n",
       "min       1.000000      1.000000      0.0  1990.000000        3.000000   \n",
       "25%    2152.500000   3073.500000      0.0  2008.000000       60.000000   \n",
       "50%    4033.000000   5421.000000      0.0  2015.000000      101.000000   \n",
       "75%    5914.500000   7641.500000      0.0  2019.000000      122.000000   \n",
       "max    7849.000000  10274.000000      0.0  2023.000000      990.000000   \n",
       "\n",
       "       averageRating      numVotes     ordering  isOriginalTitle  \n",
       "count    7470.000000  7.470000e+03  7470.000000           7470.0  \n",
       "mean        7.475676  7.282830e+04    16.567604              0.0  \n",
       "std         2.771444  1.640233e+05    12.761147              0.0  \n",
       "min         6.500000  1.000000e+01     1.000000              0.0  \n",
       "25%         6.900000  6.265250e+03     6.000000              0.0  \n",
       "50%         7.300000  1.527900e+04    14.000000              0.0  \n",
       "75%         7.800000  5.641975e+04    24.000000              0.0  \n",
       "max        92.000000  2.197234e+06   119.000000              0.0  "
      ]
     },
     "execution_count": 903,
     "metadata": {},
     "output_type": "execute_result"
    }
   ],
   "source": [
    "df_movies.describe()"
   ]
  },
  {
   "cell_type": "code",
   "execution_count": 904,
   "metadata": {},
   "outputs": [
    {
     "data": {
      "text/plain": [
       "<bound method Series.unique of 0       0.0\n",
       "1       0.0\n",
       "2       0.0\n",
       "3       0.0\n",
       "4       0.0\n",
       "       ... \n",
       "7466    0.0\n",
       "7467    0.0\n",
       "7468    0.0\n",
       "7469    0.0\n",
       "7470    0.0\n",
       "Name: isAdult, Length: 7471, dtype: float64>"
      ]
     },
     "execution_count": 904,
     "metadata": {},
     "output_type": "execute_result"
    }
   ],
   "source": [
    "df_movies['isAdult'].unique"
   ]
  },
  {
   "cell_type": "markdown",
   "metadata": {},
   "source": [
    "Se evidencia que la columna isAdult() no posee valores unicos, y todos los registros tienen un valor de 0.0"
   ]
  },
  {
   "cell_type": "code",
   "execution_count": 905,
   "metadata": {},
   "outputs": [
    {
     "data": {
      "text/plain": [
       "0       0.0\n",
       "1       0.0\n",
       "2       0.0\n",
       "3       0.0\n",
       "4       0.0\n",
       "       ... \n",
       "7466    0.0\n",
       "7467    0.0\n",
       "7468    0.0\n",
       "7469    0.0\n",
       "7470    0.0\n",
       "Name: isAdult, Length: 7471, dtype: float64"
      ]
     },
     "execution_count": 905,
     "metadata": {},
     "output_type": "execute_result"
    }
   ],
   "source": [
    "df_movies['isAdult']"
   ]
  },
  {
   "cell_type": "markdown",
   "metadata": {},
   "source": [
    "Verificar que los valores de averageRating se encuentren en el debido rango: [0,10], y contar los valores que no se encuentren en el rango"
   ]
  },
  {
   "cell_type": "code",
   "execution_count": 906,
   "metadata": {},
   "outputs": [
    {
     "data": {
      "text/plain": [
       "14"
      ]
     },
     "execution_count": 906,
     "metadata": {},
     "output_type": "execute_result"
    }
   ],
   "source": [
    "conteo_averageRating = (~((df_movies['averageRating'] >= 0) & (df_movies['averageRating'] <= 10))).sum()\n",
    "conteo_averageRating\n",
    "\n"
   ]
  },
  {
   "cell_type": "markdown",
   "metadata": {},
   "source": [
    "Estudiar valores de atributes."
   ]
  },
  {
   "cell_type": "code",
   "execution_count": 907,
   "metadata": {},
   "outputs": [
    {
     "data": {
      "text/plain": [
       "array(['\\\\N', nan], dtype=object)"
      ]
     },
     "execution_count": 907,
     "metadata": {},
     "output_type": "execute_result"
    }
   ],
   "source": [
    "df_movies['attributes'].unique()"
   ]
  },
  {
   "cell_type": "markdown",
   "metadata": {},
   "source": [
    "Verificar que el language los datos, sea ingles para todos los casos"
   ]
  },
  {
   "cell_type": "code",
   "execution_count": 908,
   "metadata": {},
   "outputs": [
    {
     "data": {
      "text/plain": [
       "0       en\n",
       "1       en\n",
       "2       en\n",
       "3       en\n",
       "4       en\n",
       "        ..\n",
       "7466    en\n",
       "7467    en\n",
       "7468    en\n",
       "7469    en\n",
       "7470    en\n",
       "Name: language, Length: 7471, dtype: object"
      ]
     },
     "execution_count": 908,
     "metadata": {},
     "output_type": "execute_result"
    }
   ],
   "source": [
    "df_movies['language']"
   ]
  },
  {
   "cell_type": "markdown",
   "metadata": {},
   "source": [
    "Verificar que la region se encuentre en las mencionadas"
   ]
  },
  {
   "cell_type": "code",
   "execution_count": 909,
   "metadata": {},
   "outputs": [
    {
     "data": {
      "text/plain": [
       "1"
      ]
     },
     "execution_count": 909,
     "metadata": {},
     "output_type": "execute_result"
    }
   ],
   "source": [
    "regionesInvalidas = (~df_movies['region'].isin(['IN', 'US', 'CA', 'GB'])).sum()\n",
    "regionesInvalidas"
   ]
  },
  {
   "cell_type": "markdown",
   "metadata": {},
   "source": [
    "Contar las filas que no cumplen con el formato enunciado (Movie, tvSeries,tvMiniSeries,tvMovie )"
   ]
  },
  {
   "cell_type": "code",
   "execution_count": 910,
   "metadata": {},
   "outputs": [
    {
     "data": {
      "text/html": [
       "<div>\n",
       "<style scoped>\n",
       "    .dataframe tbody tr th:only-of-type {\n",
       "        vertical-align: middle;\n",
       "    }\n",
       "\n",
       "    .dataframe tbody tr th {\n",
       "        vertical-align: top;\n",
       "    }\n",
       "\n",
       "    .dataframe thead th {\n",
       "        text-align: right;\n",
       "    }\n",
       "</style>\n",
       "<table border=\"1\" class=\"dataframe\">\n",
       "  <thead>\n",
       "    <tr style=\"text-align: right;\">\n",
       "      <th></th>\n",
       "      <th>#</th>\n",
       "      <th>index</th>\n",
       "      <th>tconst</th>\n",
       "      <th>titleType</th>\n",
       "      <th>originalTitle</th>\n",
       "      <th>isAdult</th>\n",
       "      <th>startYear</th>\n",
       "      <th>runtimeMinutes</th>\n",
       "      <th>averageRating</th>\n",
       "      <th>numVotes</th>\n",
       "      <th>ordering</th>\n",
       "      <th>region</th>\n",
       "      <th>language</th>\n",
       "      <th>types</th>\n",
       "      <th>attributes</th>\n",
       "      <th>isOriginalTitle</th>\n",
       "      <th>main_genre</th>\n",
       "      <th>secondary_genre</th>\n",
       "    </tr>\n",
       "  </thead>\n",
       "  <tbody>\n",
       "  </tbody>\n",
       "</table>\n",
       "</div>"
      ],
      "text/plain": [
       "Empty DataFrame\n",
       "Columns: [#, index, tconst, titleType, originalTitle, isAdult, startYear, runtimeMinutes, averageRating, numVotes, ordering, region, language, types, attributes, isOriginalTitle, main_genre, secondary_genre]\n",
       "Index: []"
      ]
     },
     "execution_count": 910,
     "metadata": {},
     "output_type": "execute_result"
    }
   ],
   "source": [
    "#Convertir los valores a minusculas\n",
    "df_movies['titleType'] = df_movies['titleType'].str.lower()\n",
    "\n",
    "invalidoTitleType = df_movies[~df_movies['titleType'].isin(['movie', 'tvseries', 'tvminiseries', 'tvmovie'])]\n",
    "invalidoTitleType\n",
    "#Todos cumplen con ello"
   ]
  },
  {
   "cell_type": "markdown",
   "metadata": {},
   "source": [
    "## 4. Iteración 1. Primer modelo"
   ]
  },
  {
   "cell_type": "markdown",
   "metadata": {},
   "source": [
    "### 4.1 Preparar los datos\n",
    "A nivel de preparación de datos debemos fijarnos en:\n",
    "- A. Correcciones relacionadas con problemas de calidad de dato: nulos, duplicados, inconsistencia, diferencia de formatos, etc.\n",
    "- B. Preparación relacionada con la tarea de aprendizaje\n",
    "    - Selección de columnas a incluir de acuerdo con la tarea de aprendizaje a realizar y el conocimiento del contexto del negocio\n",
    "    - ...\n",
    "- C. Preparación de acuerdo con el algoritmo a utilizar, en este caso K-means\n",
    "    Al revisar k-means vemos que el algoritmo trabaja únicamente con datos numéricos, y no nulos así que si vamos a incluir datos categóricos debemos transformarlos a numéricos y si tenemos datos nulos debemos transformalos y en el peor escenario retirarlos del modelo ya sea la fila que los incluye o toda la columna si el porcentaje de estos valores es alto."
   ]
  },
  {
   "cell_type": "markdown",
   "metadata": {},
   "source": [
    "## 5. Iteración 1. Segundo Modelo (DBScan)"
   ]
  },
  {
   "cell_type": "markdown",
   "metadata": {},
   "source": [
    "### 5.1 Preparar los datos\n",
    "A nivel de preparación de datos debemos fijarnos en:\n",
    "- A. Correcciones relacionadas con problemas de calidad de dato: nulos, duplicados, inconsistencia, diferencia de formatos, etc.\n",
    "- B. Preparación relacionada con la tarea de aprendizaje\n",
    "    - Selección de columnas a incluir de acuerdo con la tarea de aprendizaje a realizar y el conocimiento del contexto del negocio\n",
    "    - ...\n",
    "- C. Preparación de acuerdo con el algoritmo a utilizar, en este caso K-means\n",
    "    Al revisar k-means vemos que el algoritmo trabaja únicamente con datos numéricos, y no nulos así que si vamos a incluir datos categóricos debemos transformarlos a numéricos y si tenemos datos nulos debemos transformalos y en el peor escenario retirarlos del modelo ya sea la fila que los incluye o toda la columna si el porcentaje de estos valores es alto."
   ]
  },
  {
   "cell_type": "markdown",
   "metadata": {},
   "source": [
    "Se eliminan las filas, las cuales se evidencia que poseen un alto nivel de apariciones por alguna variable tales como atributes o isAdult, o language o indices"
   ]
  },
  {
   "cell_type": "code",
   "execution_count": 911,
   "metadata": {},
   "outputs": [
    {
     "name": "stdout",
     "output_type": "stream",
     "text": [
      "     titleType  startYear  runtimeMinutes  averageRating   numVotes region  \\\n",
      "0        movie     1991.0           137.0            8.6  1128166.0     US   \n",
      "1     tvseries     2000.0            22.0            6.6      577.0     US   \n",
      "2        movie     2002.0           150.0            8.5   860569.0     US   \n",
      "3        movie     2004.0           120.0            7.5   417391.0     US   \n",
      "4        movie     2005.0           132.0            6.9     5946.0     US   \n",
      "...        ...        ...             ...            ...        ...    ...   \n",
      "7466     movie     2019.0           108.0            7.3     3779.0     CA   \n",
      "7467  tvseries     2019.0            25.0            7.5     3318.0     CA   \n",
      "7468     movie     2019.0            99.0            7.2     3346.0     CA   \n",
      "7469     movie     2019.0            84.0            6.9     3646.0     CA   \n",
      "7470  tvseries     2019.0            23.0            7.2     3577.0     CA   \n",
      "\n",
      "            types  main_genre secondary_genre  \n",
      "0             dvd      Action          Sci-Fi  \n",
      "1     alternative      Action       Adventure  \n",
      "2     imdbDisplay   Biography           Drama  \n",
      "3     imdbDisplay      Action           Crime  \n",
      "4     imdbDisplay   Biography           Drama  \n",
      "...           ...         ...             ...  \n",
      "7466  imdbDisplay       Drama         Romance  \n",
      "7467  imdbDisplay   Animation          Comedy  \n",
      "7468  imdbDisplay       Drama         Romance  \n",
      "7469  imdbDisplay       Drama        No tiene  \n",
      "7470  imdbDisplay  Reality-TV        No tiene  \n",
      "\n",
      "[7471 rows x 9 columns]\n"
     ]
    }
   ],
   "source": [
    "columnasEliminar = ['#', 'index', 'originalTitle', 'isAdult', 'language', 'attributes', 'isOriginalTitle','tconst','ordering']\n",
    "df_movies2 = df_movies.drop(columns=columnasEliminar)\n",
    "\n",
    "# Mostrar el nuevo DataFrame df_movies2\n",
    "print(df_movies2)\n",
    "\n"
   ]
  },
  {
   "cell_type": "code",
   "execution_count": 912,
   "metadata": {},
   "outputs": [
    {
     "data": {
      "text/html": [
       "<div>\n",
       "<style scoped>\n",
       "    .dataframe tbody tr th:only-of-type {\n",
       "        vertical-align: middle;\n",
       "    }\n",
       "\n",
       "    .dataframe tbody tr th {\n",
       "        vertical-align: top;\n",
       "    }\n",
       "\n",
       "    .dataframe thead th {\n",
       "        text-align: right;\n",
       "    }\n",
       "</style>\n",
       "<table border=\"1\" class=\"dataframe\">\n",
       "  <thead>\n",
       "    <tr style=\"text-align: right;\">\n",
       "      <th></th>\n",
       "      <th>titleType</th>\n",
       "      <th>startYear</th>\n",
       "      <th>runtimeMinutes</th>\n",
       "      <th>averageRating</th>\n",
       "      <th>numVotes</th>\n",
       "      <th>region</th>\n",
       "      <th>types</th>\n",
       "      <th>main_genre</th>\n",
       "      <th>secondary_genre</th>\n",
       "    </tr>\n",
       "  </thead>\n",
       "  <tbody>\n",
       "    <tr>\n",
       "      <th>0</th>\n",
       "      <td>movie</td>\n",
       "      <td>1991.0</td>\n",
       "      <td>137.0</td>\n",
       "      <td>8.6</td>\n",
       "      <td>1128166.0</td>\n",
       "      <td>US</td>\n",
       "      <td>dvd</td>\n",
       "      <td>Action</td>\n",
       "      <td>Sci-Fi</td>\n",
       "    </tr>\n",
       "    <tr>\n",
       "      <th>1</th>\n",
       "      <td>tvseries</td>\n",
       "      <td>2000.0</td>\n",
       "      <td>22.0</td>\n",
       "      <td>6.6</td>\n",
       "      <td>577.0</td>\n",
       "      <td>US</td>\n",
       "      <td>alternative</td>\n",
       "      <td>Action</td>\n",
       "      <td>Adventure</td>\n",
       "    </tr>\n",
       "    <tr>\n",
       "      <th>2</th>\n",
       "      <td>movie</td>\n",
       "      <td>2002.0</td>\n",
       "      <td>150.0</td>\n",
       "      <td>8.5</td>\n",
       "      <td>860569.0</td>\n",
       "      <td>US</td>\n",
       "      <td>imdbDisplay</td>\n",
       "      <td>Biography</td>\n",
       "      <td>Drama</td>\n",
       "    </tr>\n",
       "    <tr>\n",
       "      <th>3</th>\n",
       "      <td>movie</td>\n",
       "      <td>2004.0</td>\n",
       "      <td>120.0</td>\n",
       "      <td>7.5</td>\n",
       "      <td>417391.0</td>\n",
       "      <td>US</td>\n",
       "      <td>imdbDisplay</td>\n",
       "      <td>Action</td>\n",
       "      <td>Crime</td>\n",
       "    </tr>\n",
       "    <tr>\n",
       "      <th>4</th>\n",
       "      <td>movie</td>\n",
       "      <td>2005.0</td>\n",
       "      <td>132.0</td>\n",
       "      <td>6.9</td>\n",
       "      <td>5946.0</td>\n",
       "      <td>US</td>\n",
       "      <td>imdbDisplay</td>\n",
       "      <td>Biography</td>\n",
       "      <td>Drama</td>\n",
       "    </tr>\n",
       "    <tr>\n",
       "      <th>...</th>\n",
       "      <td>...</td>\n",
       "      <td>...</td>\n",
       "      <td>...</td>\n",
       "      <td>...</td>\n",
       "      <td>...</td>\n",
       "      <td>...</td>\n",
       "      <td>...</td>\n",
       "      <td>...</td>\n",
       "      <td>...</td>\n",
       "    </tr>\n",
       "    <tr>\n",
       "      <th>7466</th>\n",
       "      <td>movie</td>\n",
       "      <td>2019.0</td>\n",
       "      <td>108.0</td>\n",
       "      <td>7.3</td>\n",
       "      <td>3779.0</td>\n",
       "      <td>CA</td>\n",
       "      <td>imdbDisplay</td>\n",
       "      <td>Drama</td>\n",
       "      <td>Romance</td>\n",
       "    </tr>\n",
       "    <tr>\n",
       "      <th>7467</th>\n",
       "      <td>tvseries</td>\n",
       "      <td>2019.0</td>\n",
       "      <td>25.0</td>\n",
       "      <td>7.5</td>\n",
       "      <td>3318.0</td>\n",
       "      <td>CA</td>\n",
       "      <td>imdbDisplay</td>\n",
       "      <td>Animation</td>\n",
       "      <td>Comedy</td>\n",
       "    </tr>\n",
       "    <tr>\n",
       "      <th>7468</th>\n",
       "      <td>movie</td>\n",
       "      <td>2019.0</td>\n",
       "      <td>99.0</td>\n",
       "      <td>7.2</td>\n",
       "      <td>3346.0</td>\n",
       "      <td>CA</td>\n",
       "      <td>imdbDisplay</td>\n",
       "      <td>Drama</td>\n",
       "      <td>Romance</td>\n",
       "    </tr>\n",
       "    <tr>\n",
       "      <th>7469</th>\n",
       "      <td>movie</td>\n",
       "      <td>2019.0</td>\n",
       "      <td>84.0</td>\n",
       "      <td>6.9</td>\n",
       "      <td>3646.0</td>\n",
       "      <td>CA</td>\n",
       "      <td>imdbDisplay</td>\n",
       "      <td>Drama</td>\n",
       "      <td>No tiene</td>\n",
       "    </tr>\n",
       "    <tr>\n",
       "      <th>7470</th>\n",
       "      <td>tvseries</td>\n",
       "      <td>2019.0</td>\n",
       "      <td>23.0</td>\n",
       "      <td>7.2</td>\n",
       "      <td>3577.0</td>\n",
       "      <td>CA</td>\n",
       "      <td>imdbDisplay</td>\n",
       "      <td>Reality-TV</td>\n",
       "      <td>No tiene</td>\n",
       "    </tr>\n",
       "  </tbody>\n",
       "</table>\n",
       "<p>7471 rows × 9 columns</p>\n",
       "</div>"
      ],
      "text/plain": [
       "     titleType  startYear  runtimeMinutes  averageRating   numVotes region  \\\n",
       "0        movie     1991.0           137.0            8.6  1128166.0     US   \n",
       "1     tvseries     2000.0            22.0            6.6      577.0     US   \n",
       "2        movie     2002.0           150.0            8.5   860569.0     US   \n",
       "3        movie     2004.0           120.0            7.5   417391.0     US   \n",
       "4        movie     2005.0           132.0            6.9     5946.0     US   \n",
       "...        ...        ...             ...            ...        ...    ...   \n",
       "7466     movie     2019.0           108.0            7.3     3779.0     CA   \n",
       "7467  tvseries     2019.0            25.0            7.5     3318.0     CA   \n",
       "7468     movie     2019.0            99.0            7.2     3346.0     CA   \n",
       "7469     movie     2019.0            84.0            6.9     3646.0     CA   \n",
       "7470  tvseries     2019.0            23.0            7.2     3577.0     CA   \n",
       "\n",
       "            types  main_genre secondary_genre  \n",
       "0             dvd      Action          Sci-Fi  \n",
       "1     alternative      Action       Adventure  \n",
       "2     imdbDisplay   Biography           Drama  \n",
       "3     imdbDisplay      Action           Crime  \n",
       "4     imdbDisplay   Biography           Drama  \n",
       "...           ...         ...             ...  \n",
       "7466  imdbDisplay       Drama         Romance  \n",
       "7467  imdbDisplay   Animation          Comedy  \n",
       "7468  imdbDisplay       Drama         Romance  \n",
       "7469  imdbDisplay       Drama        No tiene  \n",
       "7470  imdbDisplay  Reality-TV        No tiene  \n",
       "\n",
       "[7471 rows x 9 columns]"
      ]
     },
     "execution_count": 912,
     "metadata": {},
     "output_type": "execute_result"
    }
   ],
   "source": [
    "df_movies2"
   ]
  },
  {
   "cell_type": "markdown",
   "metadata": {},
   "source": [
    "Convertir columna titleType a minuscula"
   ]
  },
  {
   "cell_type": "code",
   "execution_count": 913,
   "metadata": {},
   "outputs": [],
   "source": [
    "df_movies2['titleType'] = df_movies2['titleType'].str.lower()\n"
   ]
  },
  {
   "cell_type": "markdown",
   "metadata": {},
   "source": [
    "Convertir a minusculas las columnas main y secondaryGenre y types"
   ]
  },
  {
   "cell_type": "code",
   "execution_count": 914,
   "metadata": {},
   "outputs": [],
   "source": [
    "df_movies2['main_genre'] = df_movies2['main_genre'].str.lower()\n",
    "df_movies2['types'] = df_movies2['types'].str.lower()\n",
    "\n"
   ]
  },
  {
   "cell_type": "markdown",
   "metadata": {},
   "source": [
    "Eliminar valores nulos"
   ]
  },
  {
   "cell_type": "code",
   "execution_count": 915,
   "metadata": {},
   "outputs": [],
   "source": [
    "df_movies2.dropna(inplace=True)\n"
   ]
  },
  {
   "cell_type": "markdown",
   "metadata": {},
   "source": [
    "Cumplir con la metrica propuesta de averageRating, valor entre 0 y 10"
   ]
  },
  {
   "cell_type": "code",
   "execution_count": 916,
   "metadata": {},
   "outputs": [],
   "source": [
    "df_movies2 = df_movies2.drop(df_movies2[(df_movies2['averageRating'] < 0) | (df_movies2['averageRating'] > 10)].index)\n"
   ]
  },
  {
   "cell_type": "markdown",
   "metadata": {},
   "source": [
    "Creacion de los distintos grupos para comparar la densidad"
   ]
  },
  {
   "cell_type": "code",
   "execution_count": 917,
   "metadata": {},
   "outputs": [
    {
     "name": "stdout",
     "output_type": "stream",
     "text": [
      "      averageRating        types\n",
      "0               8.6          dvd\n",
      "1               6.6  alternative\n",
      "2               8.5  imdbdisplay\n",
      "3               7.5  imdbdisplay\n",
      "4               6.9  imdbdisplay\n",
      "...             ...          ...\n",
      "7466            7.3  imdbdisplay\n",
      "7467            7.5  imdbdisplay\n",
      "7468            7.2  imdbdisplay\n",
      "7469            6.9  imdbdisplay\n",
      "7470            7.2  imdbdisplay\n",
      "\n",
      "[7359 rows x 2 columns]\n"
     ]
    }
   ],
   "source": [
    "df_moviesType_rating=df_movies2[['averageRating', 'types']]\n",
    "print(df_moviesType_rating)"
   ]
  },
  {
   "cell_type": "code",
   "execution_count": 918,
   "metadata": {},
   "outputs": [
    {
     "name": "stdout",
     "output_type": "stream",
     "text": [
      "Mapeo de nombres: {'alternative': 0, 'dvd': 1, 'festival': 2, 'imdbdisplay': 3, 'working': 4}\n"
     ]
    }
   ],
   "source": [
    "le = LabelEncoder()\n",
    "\n",
    "# Ajusta el LabelEncoder usando la columna 'types' del DataFrame df_moviesType_rating\n",
    "le.fit(df_moviesType_rating['types'])\n",
    "\n",
    "# Crea un diccionario que mapea las clases originales a las etiquetas numéricas\n",
    "le_name_mapping = dict(zip(le.classes_, le.transform(le.classes_)))\n",
    "\n",
    "# Imprime el mapeo\n",
    "print(\"Mapeo de nombres:\", le_name_mapping)\n",
    "\n"
   ]
  },
  {
   "cell_type": "code",
   "execution_count": 919,
   "metadata": {},
   "outputs": [
    {
     "name": "stdout",
     "output_type": "stream",
     "text": [
      "      averageRating  types\n",
      "0               8.6      1\n",
      "1               6.6      0\n",
      "2               8.5      3\n",
      "3               7.5      3\n",
      "4               6.9      3\n",
      "...             ...    ...\n",
      "7466            7.3      3\n",
      "7467            7.5      3\n",
      "7468            7.2      3\n",
      "7469            6.9      3\n",
      "7470            7.2      3\n",
      "\n",
      "[7359 rows x 2 columns]\n"
     ]
    }
   ],
   "source": [
    "df_moviesType_rating = df_moviesType_rating.copy()\n",
    "df_moviesType_rating['types'] = labelencoder.fit_transform(df_moviesType_rating['types'])\n",
    "\n",
    "print(df_moviesType_rating)"
   ]
  },
  {
   "cell_type": "markdown",
   "metadata": {},
   "source": [
    "Convertir variables categoricas en numericas"
   ]
  },
  {
   "cell_type": "markdown",
   "metadata": {},
   "source": [
    "Aplicacion del algoritmo de DBS"
   ]
  },
  {
   "cell_type": "code",
   "execution_count": 1156,
   "metadata": {},
   "outputs": [
    {
     "name": "stdout",
     "output_type": "stream",
     "text": [
      "      averageRating  types\n",
      "0               8.6      1\n",
      "1               6.6      0\n",
      "2               8.5      3\n",
      "3               7.5      3\n",
      "4               6.9      3\n",
      "...             ...    ...\n",
      "7466            7.3      3\n",
      "7467            7.5      3\n",
      "7468            7.2      3\n",
      "7469            6.9      3\n",
      "7470            7.2      3\n",
      "\n",
      "[7359 rows x 2 columns]\n",
      "Numero de cluster creado: 2\n",
      "Puntos atipicos: 1\n"
     ]
    }
   ],
   "source": [
    "print(df_moviesType_rating)\n",
    "dbscan = DBSCAN(eps=1, min_samples=10)\n",
    "dbscan.fit(df_moviesType_rating)\n",
    "\n",
    "labels = dbscan.labels_\n",
    "\n",
    "# Number of clusters in labels, ignoring noise if present.\n",
    "n_clusters_ = len(set(labels)) - (1 if -1 in labels else 0)\n",
    "n_noise_ = list(labels).count(-1)\n",
    "\n",
    "print(\"Numero de cluster creado: %d\" % n_clusters_)\n",
    "print(\"Puntos atipicos: %d\" % n_noise_)"
   ]
  },
  {
   "cell_type": "markdown",
   "metadata": {},
   "source": [
    "Medicion del coeficiente silueta"
   ]
  },
  {
   "cell_type": "code",
   "execution_count": 1157,
   "metadata": {},
   "outputs": [
    {
     "name": "stdout",
     "output_type": "stream",
     "text": [
      "0.7071736123116645\n"
     ]
    }
   ],
   "source": [
    "coeficienteSilueta = silhouette_score(df_moviesType_rating, labels)\n",
    "print(coeficienteSilueta)"
   ]
  },
  {
   "cell_type": "code",
   "execution_count": 1158,
   "metadata": {},
   "outputs": [
    {
     "data": {
      "image/png": "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",
      "text/plain": [
       "<Figure size 432x288 with 1 Axes>"
      ]
     },
     "metadata": {},
     "output_type": "display_data"
    }
   ],
   "source": [
    "# Graficar los resultados\n",
    "unique_labels = set(labels)\n",
    "colors = [plt.cm.Spectral(each)\n",
    "          for each in np.linspace(0, 1, len(unique_labels))]\n",
    "\n",
    "for k, col in zip(unique_labels, colors):\n",
    "    if k == -1:\n",
    "        # Negro para valores atipicos.\n",
    "        col = [0, 0, 0, 1]\n",
    "\n",
    "    class_member_mask = (labels == k)\n",
    "\n",
    "    # Filtrar los puntos en df_moviesType_rating que pertenecen al cluster k\n",
    "    xy = df_moviesType_rating[class_member_mask]\n",
    "\n",
    "    # Graficar los puntos de datos que son \"núcleo\"\n",
    "    plt.plot(xy['averageRating'], xy['types'], 'o', \n",
    "             markerfacecolor=tuple(col), markeredgecolor='k', markersize=6)\n",
    "\n",
    "plt.title('Número estimado de clusters: %d' % len(unique_labels))\n",
    "plt.xlabel('averageRating')\n",
    "plt.ylabel('titleType')\n",
    "plt.show()"
   ]
  },
  {
   "cell_type": "markdown",
   "metadata": {},
   "source": [
    "Se evidencia claramente, que el tipo de la pelicula,influye en el averageRating de la misma, se puede evidenciar que el valor numero 3.0, es decir  que corresponde a imdbdisplay es quien obtiene los mejores resultados en este analisis de densidad"
   ]
  },
  {
   "cell_type": "markdown",
   "metadata": {},
   "source": [
    "Analisis por medio del atributo runTimeMinutes"
   ]
  },
  {
   "cell_type": "code",
   "execution_count": 1159,
   "metadata": {},
   "outputs": [
    {
     "name": "stdout",
     "output_type": "stream",
     "text": [
      "      averageRating  runtimeMinutes\n",
      "0          2.058393        0.556864\n",
      "1         -1.269568       -1.211062\n",
      "2          1.891995        0.756716\n",
      "3          0.228014        0.295518\n",
      "4         -0.770374        0.479997\n",
      "...             ...             ...\n",
      "7466      -0.104782        0.111039\n",
      "7467       0.228014       -1.164942\n",
      "7468      -0.271180       -0.027321\n",
      "7469      -0.770374       -0.257920\n",
      "7470      -0.271180       -1.195689\n",
      "\n",
      "[7359 rows x 2 columns]\n"
     ]
    }
   ],
   "source": [
    "df_runTimeMinutes=df_movies2[['averageRating', 'runtimeMinutes']]\n",
    "print(df_runTimeMinutes)"
   ]
  },
  {
   "cell_type": "markdown",
   "metadata": {},
   "source": [
    "Normalizar"
   ]
  },
  {
   "cell_type": "code",
   "execution_count": 1160,
   "metadata": {},
   "outputs": [
    {
     "name": "stdout",
     "output_type": "stream",
     "text": [
      "      averageRating  runtimeMinutes\n",
      "0          2.058393        0.556864\n",
      "1         -1.269568       -1.211062\n",
      "2          1.891995        0.756716\n",
      "3          0.228014        0.295518\n",
      "4         -0.770374        0.479997\n",
      "...             ...             ...\n",
      "7354      -0.104782        0.111039\n",
      "7355       0.228014       -1.164942\n",
      "7356      -0.271180       -0.027321\n",
      "7357      -0.770374       -0.257920\n",
      "7358      -0.271180       -1.195689\n",
      "\n",
      "[7359 rows x 2 columns]\n"
     ]
    }
   ],
   "source": [
    "scaler = StandardScaler()\n",
    "\n",
    "# Normalizar las columnas y actualizar el sub-DataFrame\n",
    "df_runTimeMinutes = pd.DataFrame(scaler.fit_transform(df_runTimeMinutes), columns=['averageRating', 'runtimeMinutes'])\n",
    "\n",
    "# Mostrar el DataFrame normalizado\n",
    "print(df_runTimeMinutes)"
   ]
  },
  {
   "cell_type": "markdown",
   "metadata": {},
   "source": [
    "Aplicacion algoritmo"
   ]
  },
  {
   "cell_type": "code",
   "execution_count": 1186,
   "metadata": {},
   "outputs": [
    {
     "name": "stdout",
     "output_type": "stream",
     "text": [
      "      averageRating  runtimeMinutes\n",
      "0          2.058393        0.556864\n",
      "1         -1.269568       -1.211062\n",
      "2          1.891995        0.756716\n",
      "3          0.228014        0.295518\n",
      "4         -0.770374        0.479997\n",
      "...             ...             ...\n",
      "7354      -0.104782        0.111039\n",
      "7355       0.228014       -1.164942\n",
      "7356      -0.271180       -0.027321\n",
      "7357      -0.770374       -0.257920\n",
      "7358      -0.271180       -1.195689\n",
      "\n",
      "[7359 rows x 2 columns]\n",
      "Numero de cluster creado: 2\n",
      "Puntos atipicos: 53\n"
     ]
    }
   ],
   "source": [
    "print(df_runTimeMinutes)\n",
    "dbscan = DBSCAN(eps=0.8, min_samples=5)\n",
    "dbscan.fit(df_runTimeMinutes)\n",
    "\n",
    "labels = dbscan.labels_\n",
    "\n",
    "# Number of clusters in labels, ignoring noise if present.\n",
    "n_clusters_ = len(set(labels)) - (1 if -1 in labels else 0)\n",
    "n_noise_ = list(labels).count(-1)\n",
    "\n",
    "print(\"Numero de cluster creado: %d\" % n_clusters_)\n",
    "print(\"Puntos atipicos: %d\" % n_noise_)"
   ]
  },
  {
   "cell_type": "code",
   "execution_count": 1162,
   "metadata": {},
   "outputs": [
    {
     "name": "stdout",
     "output_type": "stream",
     "text": [
      "0.821208719149683\n"
     ]
    }
   ],
   "source": [
    "coeficienteSilueta = silhouette_score(df_runTimeMinutes, labels)\n",
    "print(coeficienteSilueta)"
   ]
  },
  {
   "cell_type": "code",
   "execution_count": 1187,
   "metadata": {},
   "outputs": [
    {
     "data": {
      "image/png": "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",
      "text/plain": [
       "<Figure size 432x288 with 1 Axes>"
      ]
     },
     "metadata": {},
     "output_type": "display_data"
    }
   ],
   "source": [
    "# Graficar los resultados\n",
    "unique_labels = set(labels)\n",
    "colors = [plt.cm.Spectral(each)\n",
    "          for each in np.linspace(0, 1, len(unique_labels))]\n",
    "\n",
    "for k, col in zip(unique_labels, colors):\n",
    "    if k == -1:\n",
    "        # Negro para valores atipicos.\n",
    "        col = [0, 0, 0, 1]\n",
    "\n",
    "    class_member_mask = (labels == k)\n",
    "\n",
    "    # Filtrar los puntos en df_moviesType_rating que pertenecen al cluster k\n",
    "    xy = df_runTimeMinutes[class_member_mask]\n",
    "\n",
    "    # Graficar los puntos de datos que son \"núcleo\"\n",
    "    plt.plot(xy['averageRating'], xy['runtimeMinutes'], 'o', \n",
    "             markerfacecolor=tuple(col), markeredgecolor='k', markersize=6)\n",
    "\n",
    "plt.title('Número estimado de clusters: %d' % len(unique_labels))\n",
    "plt.xlabel('averageRating')\n",
    "plt.ylabel('runTimeMinutes')\n",
    "plt.show()"
   ]
  },
  {
   "cell_type": "markdown",
   "metadata": {},
   "source": [
    "Se evidencia que no hay una relacion significativa entre el rating y los minutos que dura la pelicula"
   ]
  },
  {
   "cell_type": "markdown",
   "metadata": {},
   "source": [
    "Verificacion de tipo de filme (titleType)"
   ]
  },
  {
   "cell_type": "code",
   "execution_count": 1164,
   "metadata": {},
   "outputs": [
    {
     "name": "stdout",
     "output_type": "stream",
     "text": [
      "      averageRating titleType\n",
      "0          2.058393     movie\n",
      "1         -1.269568  tvseries\n",
      "2          1.891995     movie\n",
      "3          0.228014     movie\n",
      "4         -0.770374     movie\n",
      "...             ...       ...\n",
      "7466      -0.104782     movie\n",
      "7467       0.228014  tvseries\n",
      "7468      -0.271180     movie\n",
      "7469      -0.770374     movie\n",
      "7470      -0.271180  tvseries\n",
      "\n",
      "[7359 rows x 2 columns]\n"
     ]
    }
   ],
   "source": [
    "df_titleType=df_movies2[['averageRating', 'titleType']]\n",
    "print(df_titleType)"
   ]
  },
  {
   "cell_type": "code",
   "execution_count": 1165,
   "metadata": {},
   "outputs": [
    {
     "name": "stdout",
     "output_type": "stream",
     "text": [
      "Mapeo de nombres: {'movie': 0, 'tvminiseries': 1, 'tvmovie': 2, 'tvseries': 3}\n"
     ]
    }
   ],
   "source": [
    "le = LabelEncoder()\n",
    "\n",
    "# Ajusta el LabelEncoder usando la columna 'types' del DataFrame df_moviesType_rating\n",
    "le.fit(df_titleType['titleType'])\n",
    "\n",
    "# Crea un diccionario que mapea las clases originales a las etiquetas numéricas\n",
    "le_name_mapping = dict(zip(le.classes_, le.transform(le.classes_)))\n",
    "\n",
    "# Imprime el mapeo\n",
    "print(\"Mapeo de nombres:\", le_name_mapping)\n",
    "\n"
   ]
  },
  {
   "cell_type": "code",
   "execution_count": 1166,
   "metadata": {},
   "outputs": [
    {
     "name": "stdout",
     "output_type": "stream",
     "text": [
      "      averageRating titleType\n",
      "0          2.058393     movie\n",
      "1         -1.269568  tvseries\n",
      "2          1.891995     movie\n",
      "3          0.228014     movie\n",
      "4         -0.770374     movie\n",
      "...             ...       ...\n",
      "7466      -0.104782     movie\n",
      "7467       0.228014  tvseries\n",
      "7468      -0.271180     movie\n",
      "7469      -0.770374     movie\n",
      "7470      -0.271180  tvseries\n",
      "\n",
      "[7359 rows x 2 columns]\n"
     ]
    },
    {
     "name": "stdout",
     "output_type": "stream",
     "text": [
      "Numero de cluster creado: 3\n",
      "Puntos atipicos: 20\n"
     ]
    }
   ],
   "source": [
    "print(df_titleType)\n",
    "dbscan = DBSCAN(eps=0.5, min_samples=10)\n",
    "dbscan.fit(df_moviesType_rating)\n",
    "\n",
    "labels = dbscan.labels_\n",
    "\n",
    "# Number of clusters in labels, ignoring noise if present.\n",
    "n_clusters_ = len(set(labels)) - (1 if -1 in labels else 0)\n",
    "n_noise_ = list(labels).count(-1)\n",
    "\n",
    "print(\"Numero de cluster creado: %d\" % n_clusters_)\n",
    "print(\"Puntos atipicos: %d\" % n_noise_)"
   ]
  },
  {
   "cell_type": "code",
   "execution_count": 1167,
   "metadata": {},
   "outputs": [
    {
     "name": "stdout",
     "output_type": "stream",
     "text": [
      "      averageRating  titleType\n",
      "0          2.058393          0\n",
      "1         -1.269568          3\n",
      "2          1.891995          0\n",
      "3          0.228014          0\n",
      "4         -0.770374          0\n",
      "...             ...        ...\n",
      "7466      -0.104782          0\n",
      "7467       0.228014          3\n",
      "7468      -0.271180          0\n",
      "7469      -0.770374          0\n",
      "7470      -0.271180          3\n",
      "\n",
      "[7359 rows x 2 columns]\n"
     ]
    }
   ],
   "source": [
    "df_titleType.columns\n",
    "\n",
    "df_titleType = df_titleType.copy()\n",
    "df_titleType['titleType'] = labelencoder.fit_transform(df_titleType['titleType'])\n",
    "\n",
    "print(df_titleType)"
   ]
  },
  {
   "cell_type": "markdown",
   "metadata": {},
   "source": [
    "Coeficiente silueta"
   ]
  },
  {
   "cell_type": "code",
   "execution_count": 1168,
   "metadata": {},
   "outputs": [
    {
     "name": "stdout",
     "output_type": "stream",
     "text": [
      "-0.2382998925552403\n"
     ]
    }
   ],
   "source": [
    "coeficienteSilueta = silhouette_score(df_titleType, labels)\n",
    "print(coeficienteSilueta)"
   ]
  },
  {
   "cell_type": "code",
   "execution_count": 1169,
   "metadata": {},
   "outputs": [
    {
     "data": {
      "image/png": "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",
      "text/plain": [
       "<Figure size 432x288 with 1 Axes>"
      ]
     },
     "metadata": {},
     "output_type": "display_data"
    }
   ],
   "source": [
    "# Graficar los resultados\n",
    "unique_labels = set(labels)\n",
    "colors = [plt.cm.Spectral(each)\n",
    "          for each in np.linspace(0, 1, len(unique_labels))]\n",
    "\n",
    "for k, col in zip(unique_labels, colors):\n",
    "    if k == -1:\n",
    "        # Negro para valores atipicos.\n",
    "        col = [0, 0, 0, 1]\n",
    "\n",
    "    class_member_mask = (labels == k)\n",
    "\n",
    "    # Filtrar los puntos en df_moviesType_rating que pertenecen al cluster k\n",
    "    xy = df_titleType[class_member_mask]\n",
    "\n",
    "    # Graficar los puntos de datos que son \"núcleo\"\n",
    "    plt.plot(xy['averageRating'], xy['titleType'], 'o', \n",
    "             markerfacecolor=tuple(col), markeredgecolor='k', markersize=6)\n",
    "\n",
    "plt.title('Número estimado de clusters: %d' % len(unique_labels))\n",
    "plt.xlabel('averageRating')\n",
    "plt.ylabel('titleType')\n",
    "plt.show()"
   ]
  },
  {
   "cell_type": "code",
   "execution_count": 1170,
   "metadata": {},
   "outputs": [
    {
     "data": {
      "text/html": [
       "<div>\n",
       "<style scoped>\n",
       "    .dataframe tbody tr th:only-of-type {\n",
       "        vertical-align: middle;\n",
       "    }\n",
       "\n",
       "    .dataframe tbody tr th {\n",
       "        vertical-align: top;\n",
       "    }\n",
       "\n",
       "    .dataframe thead th {\n",
       "        text-align: right;\n",
       "    }\n",
       "</style>\n",
       "<table border=\"1\" class=\"dataframe\">\n",
       "  <thead>\n",
       "    <tr style=\"text-align: right;\">\n",
       "      <th></th>\n",
       "      <th>titleType</th>\n",
       "      <th>startYear</th>\n",
       "      <th>runtimeMinutes</th>\n",
       "      <th>averageRating</th>\n",
       "      <th>numVotes</th>\n",
       "      <th>region</th>\n",
       "      <th>types</th>\n",
       "      <th>main_genre</th>\n",
       "      <th>secondary_genre</th>\n",
       "    </tr>\n",
       "  </thead>\n",
       "  <tbody>\n",
       "    <tr>\n",
       "      <th>0</th>\n",
       "      <td>movie</td>\n",
       "      <td>1991.0</td>\n",
       "      <td>0.556864</td>\n",
       "      <td>2.058393</td>\n",
       "      <td>1128166.0</td>\n",
       "      <td>US</td>\n",
       "      <td>dvd</td>\n",
       "      <td>action</td>\n",
       "      <td>Sci-Fi</td>\n",
       "    </tr>\n",
       "    <tr>\n",
       "      <th>1</th>\n",
       "      <td>tvseries</td>\n",
       "      <td>2000.0</td>\n",
       "      <td>-1.211062</td>\n",
       "      <td>-1.269568</td>\n",
       "      <td>577.0</td>\n",
       "      <td>US</td>\n",
       "      <td>alternative</td>\n",
       "      <td>action</td>\n",
       "      <td>Adventure</td>\n",
       "    </tr>\n",
       "    <tr>\n",
       "      <th>2</th>\n",
       "      <td>movie</td>\n",
       "      <td>2002.0</td>\n",
       "      <td>0.756716</td>\n",
       "      <td>1.891995</td>\n",
       "      <td>860569.0</td>\n",
       "      <td>US</td>\n",
       "      <td>imdbdisplay</td>\n",
       "      <td>biography</td>\n",
       "      <td>Drama</td>\n",
       "    </tr>\n",
       "    <tr>\n",
       "      <th>3</th>\n",
       "      <td>movie</td>\n",
       "      <td>2004.0</td>\n",
       "      <td>0.295518</td>\n",
       "      <td>0.228014</td>\n",
       "      <td>417391.0</td>\n",
       "      <td>US</td>\n",
       "      <td>imdbdisplay</td>\n",
       "      <td>action</td>\n",
       "      <td>Crime</td>\n",
       "    </tr>\n",
       "    <tr>\n",
       "      <th>4</th>\n",
       "      <td>movie</td>\n",
       "      <td>2005.0</td>\n",
       "      <td>0.479997</td>\n",
       "      <td>-0.770374</td>\n",
       "      <td>5946.0</td>\n",
       "      <td>US</td>\n",
       "      <td>imdbdisplay</td>\n",
       "      <td>biography</td>\n",
       "      <td>Drama</td>\n",
       "    </tr>\n",
       "    <tr>\n",
       "      <th>...</th>\n",
       "      <td>...</td>\n",
       "      <td>...</td>\n",
       "      <td>...</td>\n",
       "      <td>...</td>\n",
       "      <td>...</td>\n",
       "      <td>...</td>\n",
       "      <td>...</td>\n",
       "      <td>...</td>\n",
       "      <td>...</td>\n",
       "    </tr>\n",
       "    <tr>\n",
       "      <th>7466</th>\n",
       "      <td>movie</td>\n",
       "      <td>2019.0</td>\n",
       "      <td>0.111039</td>\n",
       "      <td>-0.104782</td>\n",
       "      <td>3779.0</td>\n",
       "      <td>CA</td>\n",
       "      <td>imdbdisplay</td>\n",
       "      <td>drama</td>\n",
       "      <td>Romance</td>\n",
       "    </tr>\n",
       "    <tr>\n",
       "      <th>7467</th>\n",
       "      <td>tvseries</td>\n",
       "      <td>2019.0</td>\n",
       "      <td>-1.164942</td>\n",
       "      <td>0.228014</td>\n",
       "      <td>3318.0</td>\n",
       "      <td>CA</td>\n",
       "      <td>imdbdisplay</td>\n",
       "      <td>animation</td>\n",
       "      <td>Comedy</td>\n",
       "    </tr>\n",
       "    <tr>\n",
       "      <th>7468</th>\n",
       "      <td>movie</td>\n",
       "      <td>2019.0</td>\n",
       "      <td>-0.027321</td>\n",
       "      <td>-0.271180</td>\n",
       "      <td>3346.0</td>\n",
       "      <td>CA</td>\n",
       "      <td>imdbdisplay</td>\n",
       "      <td>drama</td>\n",
       "      <td>Romance</td>\n",
       "    </tr>\n",
       "    <tr>\n",
       "      <th>7469</th>\n",
       "      <td>movie</td>\n",
       "      <td>2019.0</td>\n",
       "      <td>-0.257920</td>\n",
       "      <td>-0.770374</td>\n",
       "      <td>3646.0</td>\n",
       "      <td>CA</td>\n",
       "      <td>imdbdisplay</td>\n",
       "      <td>drama</td>\n",
       "      <td>No tiene</td>\n",
       "    </tr>\n",
       "    <tr>\n",
       "      <th>7470</th>\n",
       "      <td>tvseries</td>\n",
       "      <td>2019.0</td>\n",
       "      <td>-1.195689</td>\n",
       "      <td>-0.271180</td>\n",
       "      <td>3577.0</td>\n",
       "      <td>CA</td>\n",
       "      <td>imdbdisplay</td>\n",
       "      <td>reality-tv</td>\n",
       "      <td>No tiene</td>\n",
       "    </tr>\n",
       "  </tbody>\n",
       "</table>\n",
       "<p>7359 rows × 9 columns</p>\n",
       "</div>"
      ],
      "text/plain": [
       "     titleType  startYear  runtimeMinutes  averageRating   numVotes region  \\\n",
       "0        movie     1991.0        0.556864       2.058393  1128166.0     US   \n",
       "1     tvseries     2000.0       -1.211062      -1.269568      577.0     US   \n",
       "2        movie     2002.0        0.756716       1.891995   860569.0     US   \n",
       "3        movie     2004.0        0.295518       0.228014   417391.0     US   \n",
       "4        movie     2005.0        0.479997      -0.770374     5946.0     US   \n",
       "...        ...        ...             ...            ...        ...    ...   \n",
       "7466     movie     2019.0        0.111039      -0.104782     3779.0     CA   \n",
       "7467  tvseries     2019.0       -1.164942       0.228014     3318.0     CA   \n",
       "7468     movie     2019.0       -0.027321      -0.271180     3346.0     CA   \n",
       "7469     movie     2019.0       -0.257920      -0.770374     3646.0     CA   \n",
       "7470  tvseries     2019.0       -1.195689      -0.271180     3577.0     CA   \n",
       "\n",
       "            types  main_genre secondary_genre  \n",
       "0             dvd      action          Sci-Fi  \n",
       "1     alternative      action       Adventure  \n",
       "2     imdbdisplay   biography           Drama  \n",
       "3     imdbdisplay      action           Crime  \n",
       "4     imdbdisplay   biography           Drama  \n",
       "...           ...         ...             ...  \n",
       "7466  imdbdisplay       drama         Romance  \n",
       "7467  imdbdisplay   animation          Comedy  \n",
       "7468  imdbdisplay       drama         Romance  \n",
       "7469  imdbdisplay       drama        No tiene  \n",
       "7470  imdbdisplay  reality-tv        No tiene  \n",
       "\n",
       "[7359 rows x 9 columns]"
      ]
     },
     "execution_count": 1170,
     "metadata": {},
     "output_type": "execute_result"
    }
   ],
   "source": [
    "df_movies2"
   ]
  },
  {
   "cell_type": "markdown",
   "metadata": {},
   "source": [
    "El algoritmo, no obtuvo su mejor rendimiento, dado que los datos se encuentran bastantes dispersos, sin embnargo, evidenciamos que los titleType con mayor rating promedio son aquellos que corresponden a 1.0 y 3.0 que respectivamente son tvminiseries y tvseries"
   ]
  },
  {
   "cell_type": "markdown",
   "metadata": {},
   "source": [
    "Verificacion de la importancia del genero principal en el average rating"
   ]
  },
  {
   "cell_type": "code",
   "execution_count": 1171,
   "metadata": {},
   "outputs": [
    {
     "name": "stdout",
     "output_type": "stream",
     "text": [
      "      averageRating  main_genre\n",
      "0          2.058393      action\n",
      "1         -1.269568      action\n",
      "2          1.891995   biography\n",
      "3          0.228014      action\n",
      "4         -0.770374   biography\n",
      "...             ...         ...\n",
      "7466      -0.104782       drama\n",
      "7467       0.228014   animation\n",
      "7468      -0.271180       drama\n",
      "7469      -0.770374       drama\n",
      "7470      -0.271180  reality-tv\n",
      "\n",
      "[7359 rows x 2 columns]\n"
     ]
    }
   ],
   "source": [
    "df_maingenre=df_movies2[['averageRating', 'main_genre']]\n",
    "print(df_maingenre)"
   ]
  },
  {
   "cell_type": "markdown",
   "metadata": {},
   "source": [
    "Mapeo de nombres"
   ]
  },
  {
   "cell_type": "code",
   "execution_count": 1172,
   "metadata": {},
   "outputs": [
    {
     "name": "stdout",
     "output_type": "stream",
     "text": [
      "Mapeo de nombres: {'action': 0, 'adventure': 1, 'animation': 2, 'biography': 3, 'comedy': 4, 'crime': 5, 'documentary': 6, 'drama': 7, 'family': 8, 'fantasy': 9, 'game-show': 10, 'history': 11, 'horror': 12, 'music': 13, 'musical': 14, 'mystery': 15, 'reality-tv': 16, 'romance': 17, 'sci-fi': 18, 'sport': 19, 'talk-show': 20, 'thriller': 21}\n"
     ]
    }
   ],
   "source": [
    "le = LabelEncoder()\n",
    "\n",
    "# Ajusta el LabelEncoder usando la columna 'types' del DataFrame df_moviesType_rating\n",
    "le.fit(df_maingenre['main_genre'])\n",
    "\n",
    "# Crea un diccionario que mapea las clases originales a las etiquetas numéricas\n",
    "le_name_mapping = dict(zip(le.classes_, le.transform(le.classes_)))\n",
    "\n",
    "# Imprime el mapeo\n",
    "print(\"Mapeo de nombres:\", le_name_mapping)"
   ]
  },
  {
   "cell_type": "code",
   "execution_count": 1173,
   "metadata": {},
   "outputs": [
    {
     "name": "stdout",
     "output_type": "stream",
     "text": [
      "      averageRating  main_genre\n",
      "0          2.058393           0\n",
      "1         -1.269568           0\n",
      "2          1.891995           3\n",
      "3          0.228014           0\n",
      "4         -0.770374           3\n",
      "...             ...         ...\n",
      "7466      -0.104782           7\n",
      "7467       0.228014           2\n",
      "7468      -0.271180           7\n",
      "7469      -0.770374           7\n",
      "7470      -0.271180          16\n",
      "\n",
      "[7359 rows x 2 columns]\n"
     ]
    }
   ],
   "source": [
    "df_maingenre = df_maingenre.copy()\n",
    "df_maingenre['main_genre'] = labelencoder.fit_transform(df_maingenre['main_genre'])\n",
    "\n",
    "print(df_maingenre)\n"
   ]
  },
  {
   "cell_type": "code",
   "execution_count": 1174,
   "metadata": {},
   "outputs": [
    {
     "name": "stdout",
     "output_type": "stream",
     "text": [
      "Numero de cluster creado: 3\n",
      "Puntos atipicos: 34\n"
     ]
    }
   ],
   "source": [
    "dbscan = DBSCAN(eps=1, min_samples=10)\n",
    "dbscan.fit(df_maingenre)\n",
    "\n",
    "labels = dbscan.labels_\n",
    "\n",
    "# Number of clusters in labels, ignoring noise if present.\n",
    "n_clusters_ = len(set(labels)) - (1 if -1 in labels else 0)\n",
    "n_noise_ = list(labels).count(-1)\n",
    "\n",
    "print(\"Numero de cluster creado: %d\" % n_clusters_)\n",
    "print(\"Puntos atipicos: %d\" % n_noise_)\n"
   ]
  },
  {
   "cell_type": "markdown",
   "metadata": {},
   "source": [
    "Coeficiente silueta:"
   ]
  },
  {
   "cell_type": "code",
   "execution_count": 1175,
   "metadata": {},
   "outputs": [
    {
     "name": "stdout",
     "output_type": "stream",
     "text": [
      "0.5618649887830144\n"
     ]
    }
   ],
   "source": [
    "coeficienteSilueta = silhouette_score(df_maingenre, labels)\n",
    "print(coeficienteSilueta)"
   ]
  },
  {
   "cell_type": "markdown",
   "metadata": {},
   "source": [
    "Creacion de visualizacion"
   ]
  },
  {
   "cell_type": "code",
   "execution_count": 1176,
   "metadata": {},
   "outputs": [
    {
     "data": {
      "image/png": "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",
      "text/plain": [
       "<Figure size 432x288 with 1 Axes>"
      ]
     },
     "metadata": {},
     "output_type": "display_data"
    }
   ],
   "source": [
    "# Graficar los resultados\n",
    "unique_labels = set(labels)\n",
    "colors = [plt.cm.Spectral(each)\n",
    "          for each in np.linspace(0, 1, len(unique_labels))]\n",
    "\n",
    "for k, col in zip(unique_labels, colors):\n",
    "    if k == -1:\n",
    "        # Negro para valores atipicos.\n",
    "        col = [0, 0, 0, 1]\n",
    "\n",
    "    class_member_mask = (labels == k)\n",
    "\n",
    "    # Filtrar los puntos en df_moviesType_rating que pertenecen al cluster k\n",
    "    xy = df_maingenre[class_member_mask]\n",
    "\n",
    "    # Graficar los puntos de datos que son \"núcleo\"\n",
    "    plt.plot(xy['averageRating'], xy['main_genre'], 'o', \n",
    "             markerfacecolor=tuple(col), markeredgecolor='k', markersize=6)\n",
    "\n",
    "plt.title('Número estimado de clusters: %d' % len(unique_labels))\n",
    "plt.xlabel('averageRating')\n",
    "plt.ylabel('main_genre')\n",
    "plt.show()"
   ]
  },
  {
   "cell_type": "markdown",
   "metadata": {},
   "source": [
    "Se evidencia que los principales generos que mas influyen en el rating son los que se encuentran entre los codigos 0 y 10, lo que quiere decir que son: 'action', 'adventure', 'animation', 'biography', 'comedy', 'crime', 'documentary', 'drama', 'family', 'fantasy', 'game-show' a la hora de evaluar en rating\n"
   ]
  },
  {
   "cell_type": "markdown",
   "metadata": {},
   "source": [
    "Evaluacion de generos secundarios"
   ]
  },
  {
   "cell_type": "code",
   "execution_count": 1177,
   "metadata": {},
   "outputs": [
    {
     "name": "stdout",
     "output_type": "stream",
     "text": [
      "      averageRating secondary_genre\n",
      "0          2.058393          Sci-Fi\n",
      "1         -1.269568       Adventure\n",
      "2          1.891995           Drama\n",
      "3          0.228014           Crime\n",
      "4         -0.770374           Drama\n",
      "...             ...             ...\n",
      "7466      -0.104782         Romance\n",
      "7467       0.228014          Comedy\n",
      "7468      -0.271180         Romance\n",
      "7469      -0.770374        No tiene\n",
      "7470      -0.271180        No tiene\n",
      "\n",
      "[7359 rows x 2 columns]\n"
     ]
    }
   ],
   "source": [
    "df_secondaryGenre=df_movies2[['averageRating', 'secondary_genre']]\n",
    "print(df_secondaryGenre)\n"
   ]
  },
  {
   "cell_type": "code",
   "execution_count": 1178,
   "metadata": {},
   "outputs": [
    {
     "name": "stdout",
     "output_type": "stream",
     "text": [
      "Mapeo de nombres: {'Adventure': 0, 'Animation': 1, 'Biography': 2, 'Comedy': 3, 'Crime': 4, 'Documentary': 5, 'Drama': 6, 'Family': 7, 'Fantasy': 8, 'Game-Show': 9, 'History': 10, 'Horror': 11, 'Music': 12, 'Musical': 13, 'Mystery': 14, 'News': 15, 'No tiene': 16, 'Reality-TV': 17, 'Romance': 18, 'Sci-Fi': 19, 'Short': 20, 'Sport': 21, 'Talk-Show': 22, 'Thriller': 23, 'War': 24, 'Western': 25}\n"
     ]
    }
   ],
   "source": [
    "le = LabelEncoder()\n",
    "\n",
    "# Ajusta el LabelEncoder usando la columna 'types' del DataFrame df_moviesType_rating\n",
    "le.fit(df_secondaryGenre['secondary_genre'])\n",
    "\n",
    "# Crea un diccionario que mapea las clases originales a las etiquetas numéricas\n",
    "le_name_mapping = dict(zip(le.classes_, le.transform(le.classes_)))\n",
    "\n",
    "# Imprime el mapeo\n",
    "print(\"Mapeo de nombres:\", le_name_mapping)\n"
   ]
  },
  {
   "cell_type": "markdown",
   "metadata": {},
   "source": [
    "Transformacion de variable categorica"
   ]
  },
  {
   "cell_type": "code",
   "execution_count": 1179,
   "metadata": {},
   "outputs": [
    {
     "name": "stdout",
     "output_type": "stream",
     "text": [
      "      averageRating  secondary_genre\n",
      "0          2.058393               19\n",
      "1         -1.269568                0\n",
      "2          1.891995                6\n",
      "3          0.228014                4\n",
      "4         -0.770374                6\n",
      "...             ...              ...\n",
      "7466      -0.104782               18\n",
      "7467       0.228014                3\n",
      "7468      -0.271180               18\n",
      "7469      -0.770374               16\n",
      "7470      -0.271180               16\n",
      "\n",
      "[7359 rows x 2 columns]\n"
     ]
    }
   ],
   "source": [
    "df_secondaryGenre = df_secondaryGenre.copy()\n",
    "df_secondaryGenre['secondary_genre'] = labelencoder.fit_transform(df_secondaryGenre['secondary_genre'])\n",
    "\n",
    "print(df_secondaryGenre)\n"
   ]
  },
  {
   "cell_type": "code",
   "execution_count": 1188,
   "metadata": {},
   "outputs": [
    {
     "name": "stdout",
     "output_type": "stream",
     "text": [
      "      averageRating  secondary_genre\n",
      "0          2.058393               19\n",
      "1         -1.269568                0\n",
      "2          1.891995                6\n",
      "3          0.228014                4\n",
      "4         -0.770374                6\n",
      "...             ...              ...\n",
      "7466      -0.104782               18\n",
      "7467       0.228014                3\n",
      "7468      -0.271180               18\n",
      "7469      -0.770374               16\n",
      "7470      -0.271180               16\n",
      "\n",
      "[7359 rows x 2 columns]\n",
      "Numero de cluster creado: 22\n",
      "Puntos atipicos: 61\n"
     ]
    }
   ],
   "source": [
    "print(df_secondaryGenre)\n",
    "dbscan = DBSCAN(eps=0.8, min_samples=10)\n",
    "dbscan.fit(df_secondaryGenre)\n",
    "\n",
    "labels = dbscan.labels_\n",
    "\n",
    "# Number of clusters in labels, ignoring noise if present.\n",
    "n_clusters_ = len(set(labels)) - (1 if -1 in labels else 0)\n",
    "n_noise_ = list(labels).count(-1)\n",
    "\n",
    "print(\"Numero de cluster creado: %d\" % n_clusters_)\n",
    "print(\"Puntos atipicos: %d\" % n_noise_)\n",
    "\n"
   ]
  },
  {
   "cell_type": "markdown",
   "metadata": {},
   "source": [
    "Coeficiente silueta"
   ]
  },
  {
   "cell_type": "code",
   "execution_count": 1189,
   "metadata": {},
   "outputs": [
    {
     "name": "stdout",
     "output_type": "stream",
     "text": [
      "0.26592207936432394\n"
     ]
    }
   ],
   "source": [
    "coeficienteSilueta = silhouette_score(df_secondaryGenre, labels)\n",
    "print(coeficienteSilueta)\n"
   ]
  },
  {
   "cell_type": "markdown",
   "metadata": {},
   "source": [
    "Graficar los resultados"
   ]
  },
  {
   "cell_type": "code",
   "execution_count": 1190,
   "metadata": {},
   "outputs": [
    {
     "data": {
      "image/png": "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",
      "text/plain": [
       "<Figure size 432x288 with 1 Axes>"
      ]
     },
     "metadata": {},
     "output_type": "display_data"
    }
   ],
   "source": [
    "# Graficar los resultados\n",
    "unique_labels = set(labels)\n",
    "colors = [plt.cm.Spectral(each)\n",
    "          for each in np.linspace(0, 1, len(unique_labels))]\n",
    "\n",
    "for k, col in zip(unique_labels, colors):\n",
    "    if k == -1:\n",
    "        # Negro para valores atipicos.\n",
    "        col = [0, 0, 0, 1]\n",
    "\n",
    "    class_member_mask = (labels == k)\n",
    "\n",
    "    # Filtrar los puntos en df_moviesType_rating que pertenecen al cluster k\n",
    "    xy = df_secondaryGenre[class_member_mask]\n",
    "\n",
    "    # Graficar los puntos de datos que son \"núcleo\"\n",
    "    plt.plot(xy['averageRating'], xy['secondary_genre'], 'o', \n",
    "             markerfacecolor=tuple(col), markeredgecolor='k', markersize=6)\n",
    "\n",
    "plt.title('Número estimado de clusters: %d' % len(unique_labels))\n",
    "plt.xlabel('averageRating')\n",
    "plt.ylabel('secondary_genre')\n",
    "plt.show()"
   ]
  },
  {
   "cell_type": "markdown",
   "metadata": {},
   "source": [
    "Se evidencia quie no hay una tendencia clara a la hora de evaluar el genero secundario del title"
   ]
  },
  {
   "cell_type": "markdown",
   "metadata": {},
   "source": [
    "Estudio de la relacion entre el numero de votos y el averageRating "
   ]
  },
  {
   "cell_type": "code",
   "execution_count": 1191,
   "metadata": {},
   "outputs": [
    {
     "name": "stdout",
     "output_type": "stream",
     "text": [
      "      averageRating   numVotes\n",
      "0          2.058393  1128166.0\n",
      "1         -1.269568      577.0\n",
      "2          1.891995   860569.0\n",
      "3          0.228014   417391.0\n",
      "4         -0.770374     5946.0\n",
      "...             ...        ...\n",
      "7466      -0.104782     3779.0\n",
      "7467       0.228014     3318.0\n",
      "7468      -0.271180     3346.0\n",
      "7469      -0.770374     3646.0\n",
      "7470      -0.271180     3577.0\n",
      "\n",
      "[7359 rows x 2 columns]\n"
     ]
    }
   ],
   "source": [
    "df_numVotes=df_movies2[['averageRating', 'numVotes']]\n",
    "print(df_numVotes)\n"
   ]
  },
  {
   "cell_type": "markdown",
   "metadata": {},
   "source": [
    "Estandarizar"
   ]
  },
  {
   "cell_type": "code",
   "execution_count": 1192,
   "metadata": {},
   "outputs": [
    {
     "name": "stdout",
     "output_type": "stream",
     "text": [
      "      averageRating   numVotes\n",
      "0          2.058393  1128166.0\n",
      "1         -1.269568      577.0\n",
      "2          1.891995   860569.0\n",
      "3          0.228014   417391.0\n",
      "4         -0.770374     5946.0\n",
      "...             ...        ...\n",
      "7466      -0.104782     3779.0\n",
      "7467       0.228014     3318.0\n",
      "7468      -0.271180     3346.0\n",
      "7469      -0.770374     3646.0\n",
      "7470      -0.271180     3577.0\n",
      "\n",
      "[7359 rows x 2 columns]\n"
     ]
    }
   ],
   "source": [
    "columnas = df_movies2[['averageRating', 'numVotes']]\n",
    "scaler = StandardScaler()\n",
    "normalized_columns = scaler.fit_transform(columnas)\n",
    "\n",
    "print(columnas)\n",
    "\n",
    "df_numVotes = normalized_columns"
   ]
  },
  {
   "cell_type": "markdown",
   "metadata": {},
   "source": [
    "Implementacion del algoritmo"
   ]
  },
  {
   "cell_type": "code",
   "execution_count": 1193,
   "metadata": {},
   "outputs": [
    {
     "name": "stdout",
     "output_type": "stream",
     "text": [
      "Numero de cluster creado: 16\n",
      "Puntos atipicos: 0\n"
     ]
    }
   ],
   "source": [
    "dbscan = DBSCAN(eps=0.5, min_samples=1)\n",
    "dbscan.fit(df_numVotes)\n",
    "\n",
    "labels = dbscan.labels_\n",
    "\n",
    "# Number of clusters in labels, ignoring noise if present.\n",
    "n_clusters_ = len(set(labels)) - (1 if -1 in labels else 0)\n",
    "n_noise_ = list(labels).count(-1)\n",
    "\n",
    "print(\"Numero de cluster creado: %d\" % n_clusters_)\n",
    "print(\"Puntos atipicos: %d\" % n_noise_)"
   ]
  },
  {
   "cell_type": "markdown",
   "metadata": {},
   "source": [
    "Coeficiente silueta"
   ]
  },
  {
   "cell_type": "code",
   "execution_count": 1194,
   "metadata": {},
   "outputs": [
    {
     "name": "stdout",
     "output_type": "stream",
     "text": [
      "0.7157767540327521\n"
     ]
    }
   ],
   "source": [
    "coeficienteSilueta = silhouette_score(df_numVotes, labels)\n",
    "print(coeficienteSilueta)\n"
   ]
  },
  {
   "cell_type": "code",
   "execution_count": 1195,
   "metadata": {},
   "outputs": [
    {
     "ename": "IndexError",
     "evalue": "only integers, slices (`:`), ellipsis (`...`), numpy.newaxis (`None`) and integer or boolean arrays are valid indices",
     "output_type": "error",
     "traceback": [
      "\u001b[1;31m---------------------------------------------------------------------------\u001b[0m",
      "\u001b[1;31mIndexError\u001b[0m                                Traceback (most recent call last)",
      "\u001b[1;32m<ipython-input-1195-2260d3d73811>\u001b[0m in \u001b[0;36m<module>\u001b[1;34m\u001b[0m\n\u001b[0;32m     15\u001b[0m \u001b[1;33m\u001b[0m\u001b[0m\n\u001b[0;32m     16\u001b[0m     \u001b[1;31m# Graficar los puntos de datos que son \"núcleo\"\u001b[0m\u001b[1;33m\u001b[0m\u001b[1;33m\u001b[0m\u001b[1;33m\u001b[0m\u001b[0m\n\u001b[1;32m---> 17\u001b[1;33m     plt.plot(xy['averageRating'], xy['numVotes'], 'o', \n\u001b[0m\u001b[0;32m     18\u001b[0m              markerfacecolor=tuple(col), markeredgecolor='k', markersize=6)\n\u001b[0;32m     19\u001b[0m \u001b[1;33m\u001b[0m\u001b[0m\n",
      "\u001b[1;31mIndexError\u001b[0m: only integers, slices (`:`), ellipsis (`...`), numpy.newaxis (`None`) and integer or boolean arrays are valid indices"
     ]
    }
   ],
   "source": [
    "# Graficar los resultados\n",
    "unique_labels = set(labels)\n",
    "colors = [plt.cm.Spectral(each)\n",
    "          for each in np.linspace(0, 1, len(unique_labels))]\n",
    "\n",
    "for k, col in zip(unique_labels, colors):\n",
    "    if k == -1:\n",
    "        # Negro para valores atipicos.\n",
    "        col = [0, 0, 0, 1]\n",
    "\n",
    "    class_member_mask = (labels == k)\n",
    "\n",
    "    # Filtrar los puntos en df_moviesType_rating que pertenecen al cluster k\n",
    "    xy = df_numVotes[class_member_mask]\n",
    "\n",
    "    # Graficar los puntos de datos que son \"núcleo\"\n",
    "    plt.plot(xy['averageRating'], xy['numVotes'], 'o', \n",
    "             markerfacecolor=tuple(col), markeredgecolor='k', markersize=6)\n",
    "\n",
    "plt.title('Número estimado de clusters: %d' % len(unique_labels))\n",
    "plt.xlabel('averageRating')\n",
    "plt.ylabel('titleType')\n",
    "plt.show()\n"
   ]
  },
  {
   "cell_type": "code",
   "execution_count": null,
   "metadata": {},
   "outputs": [
    {
     "name": "stdout",
     "output_type": "stream",
     "text": [
      "[[ 2.05839325  6.46510874]\n",
      " [-1.26956824 -0.4455855 ]\n",
      " [ 1.89199517  4.82507763]\n",
      " ...\n",
      " [-0.27117979 -0.42861503]\n",
      " [-0.77037402 -0.42677641]\n",
      " [-0.27117979 -0.42719929]]\n"
     ]
    }
   ],
   "source": [
    "columnas = df_movies2[['averageRating', 'numVotes']]\n",
    "scaler = StandardScaler()\n",
    "normalized_columns = scaler.fit_transform(columnas)\n",
    "\n",
    "print(normalized_columns)\n",
    "\n",
    "df_numVotes = columnas"
   ]
  },
  {
   "cell_type": "code",
   "execution_count": null,
   "metadata": {},
   "outputs": [
    {
     "data": {
      "image/png": "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",
      "text/plain": [
       "<Figure size 432x288 with 1 Axes>"
      ]
     },
     "metadata": {},
     "output_type": "display_data"
    }
   ],
   "source": [
    "# Graficar los resultados\n",
    "unique_labels = set(labels)\n",
    "colors = [plt.cm.Spectral(each)\n",
    "          for each in np.linspace(0, 1, len(unique_labels))]\n",
    "\n",
    "for k, col in zip(unique_labels, colors):\n",
    "    if k == -1:\n",
    "        # Negro para valores atipicos.\n",
    "        col = [0, 0, 0, 1]\n",
    "\n",
    "    class_member_mask = (labels == k)\n",
    "\n",
    "    # Filtrar los puntos en df_moviesType_rating que pertenecen al cluster k\n",
    "    xy = df_numVotes[class_member_mask]\n",
    "\n",
    "    # Graficar los puntos de datos que son \"núcleo\"\n",
    "    plt.plot(xy['averageRating'], xy['numVotes'], 'o', \n",
    "             markerfacecolor=tuple(col), markeredgecolor='k', markersize=6)\n",
    "\n",
    "plt.title('Número estimado de clusters: %d' % len(unique_labels))\n",
    "plt.xlabel('Rating')\n",
    "plt.ylabel('numVotes')\n",
    "plt.show()\n"
   ]
  },
  {
   "cell_type": "markdown",
   "metadata": {},
   "source": [
    "Graficar"
   ]
  },
  {
   "cell_type": "markdown",
   "metadata": {},
   "source": [
    "### 6.1 Preparar los datos\n",
    "A nivel de preparación de datos debemos fijarnos en:\n",
    "- A. Correcciones relacionadas con problemas de calidad de dato: nulos, duplicados, inconsistencia, diferencia de formatos, etc.\n",
    "- B. Preparación relacionada con la tarea de aprendizaje\n",
    "    - Selección de columnas a incluir de acuerdo con la tarea de aprendizaje a realizar y el conocimiento del contexto del negocio\n",
    "    - ...\n",
    "- C. Preparación de acuerdo con el algoritmo a utilizar, en este caso K-means\n",
    "    Al revisar k-means vemos que el algoritmo trabaja únicamente con datos numéricos, y no nulos así que si vamos a incluir datos categóricos debemos transformarlos a numéricos y si tenemos datos nulos debemos transformalos y en el peor escenario retirarlos del modelo ya sea la fila que los incluye o toda la columna si el porcentaje de estos valores es alto."
   ]
  },
 {
   "cell_type": "markdown",
   "metadata": {},
   "source": [
    "### 6.1 Preparar los datos\n",
    "A nivel de preparación de datos debemos fijarnos en:\n",
    "- A. Correcciones relacionadas con problemas de calidad de dato: nulos, duplicados, inconsistencia, diferencia de formatos, etc.\n",
    "- B. Preparación relacionada con la tarea de aprendizaje\n",
    "    - Selección de columnas a incluir de acuerdo con la tarea de aprendizaje a realizar y el conocimiento del contexto del negocio\n",
    "    - ...\n",
    "- C. Preparación de acuerdo con el algoritmo a utilizar, en este caso Jerarquico\n",
    "   Limpieza de datos:\n
        Asegúrate de que tus datos estén limpios y libres de valores atípicos o faltantes. Esto es fundamental para obtener resultados confiables en la agrupación.\n
        \n
        Selección de variables:\n
        Decide qué variables o características de tus datos deseas utilizar para la agrupación. Es posible que tengas muchas variables, pero no todas pueden ser relevantes. Selecciona las que sean más significativas para tu problema.\n
        Escalamiento de variables:\n
        Si tienes variables con diferentes escalas, es recomendable que las estandarices o normalices antes de aplicar la agrupación jerárquica. Esto es especialmente importante si estás utilizando medidas de distancia que son sensibles a las escalas, como la distancia euclidiana.\n"
   ]
  },
  {
   "cell_type": "markdown",
   "metadata": {},
   "source": [
    "### 7 Analizar y concluir"
   ]
  }
 ],
 "metadata": {
  "kernelspec": {
   "display_name": "base",
   "language": "python",
   "name": "python3"
  },
  "language_info": {
   "codemirror_mode": {
    "name": "ipython",
    "version": 3
   },
   "file_extension": ".py",
   "mimetype": "text/x-python",
   "name": "python",
   "nbconvert_exporter": "python",
   "pygments_lexer": "ipython3",
   "version": "3.8.5"
  },
  "orig_nbformat": 4
 },
 "nbformat": 4,
 "nbformat_minor": 2
}
